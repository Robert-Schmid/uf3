{
 "cells": [
  {
   "cell_type": "code",
   "execution_count": 1,
   "metadata": {
    "ExecuteTime": {
     "end_time": "2021-09-27T14:59:21.445819Z",
     "start_time": "2021-09-27T14:59:21.434186Z"
    },
    "pycharm": {
     "name": "#%%\n"
    }
   },
   "outputs": [],
   "source": [
    "import os\n",
    "from concurrent.futures import ProcessPoolExecutor"
   ]
  },
  {
   "cell_type": "code",
   "execution_count": 2,
   "metadata": {
    "ExecuteTime": {
     "end_time": "2021-09-27T14:59:21.820112Z",
     "start_time": "2021-09-27T14:59:21.447766Z"
    },
    "pycharm": {
     "name": "#%%\n"
    }
   },
   "outputs": [],
   "source": [
    "import numpy as np\n",
    "import matplotlib.pyplot as plt"
   ]
  },
  {
   "cell_type": "code",
   "execution_count": 3,
   "metadata": {
    "ExecuteTime": {
     "end_time": "2021-09-27T14:59:23.154227Z",
     "start_time": "2021-09-27T14:59:21.821572Z"
    },
    "pycharm": {
     "name": "#%%\n"
    }
   },
   "outputs": [
    {
     "name": "stderr",
     "output_type": "stream",
     "text": [
      "<frozen importlib._bootstrap>:228: RuntimeWarning: scipy._lib.messagestream.MessageStream size changed, may indicate binary incompatibility. Expected 56 from C header, got 64 from PyObject\n"
     ]
    }
   ],
   "source": [
    "from uf3.data import io\n",
    "from uf3.data import geometry\n",
    "from uf3.data import composition\n",
    "from uf3.representation import bspline\n",
    "from uf3.representation import process\n",
    "from uf3.regression import least_squares\n",
    "from uf3.forcefield import calculator\n",
    "from uf3.forcefield import lammps\n",
    "from uf3.util import parallel\n",
    "from uf3.util import plotting"
   ]
  },
  {
   "cell_type": "markdown",
   "metadata": {},
   "source": [
    "# $\\text{UF}_{2,3}$ Demo: Elemental tungsten"
   ]
  },
  {
   "cell_type": "markdown",
   "metadata": {},
   "source": [
    "**Data split**\n",
    "- Training set: 1939 configurations (stratified 20% of the dataset)\n",
    "\n",
    "- Holdout: 7754 configurations (remaining 80%)"
   ]
  },
  {
   "cell_type": "markdown",
   "metadata": {},
   "source": [
    "**Inputs**\n",
    "- ```w-14.xyz``` (30 mb)\n",
    "- ```training_idx.txt``` (10 kb, included for reproducibility purposes)"
   ]
  },
  {
   "cell_type": "markdown",
   "metadata": {},
   "source": [
    "**Outputs**\n",
    "- ```df_features_uf23.h5``` (650 mb)\n",
    "- ```model_uf23.json``` (3 kb)"
   ]
  },
  {
   "cell_type": "code",
   "execution_count": 4,
   "metadata": {
    "ExecuteTime": {
     "end_time": "2021-09-27T14:59:23.168020Z",
     "start_time": "2021-09-27T14:59:23.156491Z"
    }
   },
   "outputs": [
    {
     "data": {
      "text/html": [
       "<style>\n",
       "  table {margin-left: 0 !important;}\n",
       "</style>\n"
      ],
      "text/plain": [
       "<IPython.core.display.HTML object>"
      ]
     },
     "metadata": {},
     "output_type": "display_data"
    }
   ],
   "source": [
    "%%html\n",
    "<style>\n",
    "  table {margin-left: 0 !important;}\n",
    "</style>"
   ]
  },
  {
   "cell_type": "markdown",
   "metadata": {
    "ExecuteTime": {
     "end_time": "2021-09-27T14:23:57.821312Z",
     "start_time": "2021-09-27T14:23:57.818248Z"
    }
   },
   "source": [
    " Step         | Estimated Time \n",
    ":-------------|:--------------\n",
    "Preprocessing | 10 seconds\n",
    "Featurization | 2.5 core-hours (parallelizable)\n",
    "Training      | 4 seconds\n",
    "Prediction    | 3 seconds\n",
    "Plotting      | 10 seconds"
   ]
  },
  {
   "cell_type": "markdown",
   "metadata": {
    "pycharm": {
     "name": "#%% md\n"
    }
   },
   "source": [
    "# User Parameters\n",
    "\n",
    "```element_list (list)```: list of element symbols\n",
    "\n",
    "```degree (int)```: truncation of many-body expansion. A value of 3 yields a two-and-three-body potential."
   ]
  },
  {
   "cell_type": "code",
   "execution_count": 5,
   "metadata": {
    "ExecuteTime": {
     "end_time": "2021-09-27T14:59:23.173322Z",
     "start_time": "2021-09-27T14:59:23.170210Z"
    },
    "pycharm": {
     "name": "#%%\n"
    }
   },
   "outputs": [],
   "source": [
    "element_list = ['W']\n",
    "degree = 3"
   ]
  },
  {
   "cell_type": "markdown",
   "metadata": {},
   "source": [
    "Initialize the ```ChemicalSystem``` and inspect interactions.\n",
    "\n",
    "Elements involved in each interactions are sorted by electronegativity."
   ]
  },
  {
   "cell_type": "code",
   "execution_count": 6,
   "metadata": {
    "ExecuteTime": {
     "end_time": "2021-09-27T14:59:23.180454Z",
     "start_time": "2021-09-27T14:59:23.175122Z"
    }
   },
   "outputs": [
    {
     "name": "stdout",
     "output_type": "stream",
     "text": [
      "Pairs: [('W', 'W')]\n"
     ]
    }
   ],
   "source": [
    "chemical_system = composition.ChemicalSystem(element_list=element_list,\n",
    "                                             degree=degree)\n",
    "print(\"Pairs:\", chemical_system.interactions_map[2])"
   ]
  },
  {
   "cell_type": "code",
   "execution_count": 7,
   "metadata": {
    "ExecuteTime": {
     "end_time": "2021-09-27T14:59:23.187068Z",
     "start_time": "2021-09-27T14:59:23.182377Z"
    }
   },
   "outputs": [
    {
     "name": "stdout",
     "output_type": "stream",
     "text": [
      "Trios: [('W', 'W', 'W')]\n"
     ]
    }
   ],
   "source": [
    "print(\"Trios:\", chemical_system.interactions_map[3])"
   ]
  },
  {
   "cell_type": "markdown",
   "metadata": {},
   "source": [
    "```r_min_map (dict)```: map of minimum pair distance per interaction (angstroms). \n",
    "    If unspecified, defaults to 1.0 for all interactions.\n",
    "    \n",
    "```r_max_map (dict)```: map of maximum pair distance per interaction (angstroms). \n",
    "    If unspecified, defaults to 6.0 angstroms for all interactions, which probably encompasses at least 2nd-nearest neighbors.\n",
    "    \n",
    "```resolution_map (dict)```: map of resolution (number of knot intervals) per interaction. \n",
    "    For the cubic basis, the number of basis functions equals three more than the number of knot intervals.\n",
    "    This is, in turn, negated by ```trailing_trim```.\n",
    "    If unspecified, defaults to 20 for all two-body interactions and 5 for three-body interactions.\n",
    "    \n",
    "```trailing_trim (int)```: number of trailing basis functions to trim, defaults to 3.\n",
    " - ```= 0```: hard cutoff at ```r_max```\n",
    " - ```= 1```: function goes to zero at ```r_max```\n",
    " - ```= 2```: first derivative goes to zero at ```r_max```\n",
    " - ```= 3```: second derivative goes to zero at ```r_max```"
   ]
  },
  {
   "cell_type": "markdown",
   "metadata": {},
   "source": [
    "**Note: the demo's resolution and cutoffs (3.5-3.5-7.0Å, 5-5-10) are small to reduce runtime and filesize.**\n",
    "\n",
    "**Results in the manuscript use (4.25-4.25-8.5Å, 10-10-20), requiring about 4 core-hours and 6 gb.**"
   ]
  },
  {
   "cell_type": "code",
   "execution_count": 8,
   "metadata": {
    "ExecuteTime": {
     "end_time": "2021-09-27T14:59:23.195726Z",
     "start_time": "2021-09-27T14:59:23.189091Z"
    },
    "pycharm": {
     "name": "#%%\n"
    }
   },
   "outputs": [],
   "source": [
    "r_min_map = {(\"W\", \"W\"): 1.5,\n",
    "             (\"W\", \"W\", \"W\"): [1.5, 1.5, 1.5],\n",
    "            }\n",
    "r_max_map = {(\"W\", \"W\"): 5.5,\n",
    "             (\"W\", \"W\", \"W\"): [3.5, 3.5, 7.0],\n",
    "            }\n",
    "resolution_map = {(\"W\", \"W\"): 25,\n",
    "                  (\"W\", \"W\", \"W\"): [5, 5, 10],\n",
    "                 }\n",
    "trailing_trim = 3"
   ]
  },
  {
   "cell_type": "markdown",
   "metadata": {},
   "source": [
    "# Demo parameters\n",
    "```n_cores```: number of workers to use in parallel for feature generation\n",
    "\n",
    "```data_filename```: filename of reference data including geometries, energies, forces, ...\n",
    "\n",
    "```training_1939```: list of integers corresponding to entries to use for training.\n",
    "\n",
    "```filename```: filename to save features dataframe.\n",
    "\n",
    "```table_template```: format string for table names in feature dataframe."
   ]
  },
  {
   "cell_type": "code",
   "execution_count": 9,
   "metadata": {
    "ExecuteTime": {
     "end_time": "2021-09-27T14:59:23.202346Z",
     "start_time": "2021-09-27T14:59:23.199460Z"
    }
   },
   "outputs": [],
   "source": [
    "n_cores = 4"
   ]
  },
  {
   "cell_type": "code",
   "execution_count": 10,
   "metadata": {
    "ExecuteTime": {
     "end_time": "2021-09-27T14:59:23.208120Z",
     "start_time": "2021-09-27T14:59:23.203985Z"
    }
   },
   "outputs": [],
   "source": [
    "example_directory = os.getcwd()\n",
    "data_filename = os.path.join(example_directory, \"w-14.xyz\")\n",
    "with open(os.path.join(example_directory, \"training_idx.txt\"), \"r\") as f:\n",
    "    training_1939 = [int(idx) for idx in f.read().splitlines()]"
   ]
  },
  {
   "cell_type": "code",
   "execution_count": 11,
   "metadata": {
    "ExecuteTime": {
     "end_time": "2021-09-27T14:59:23.212406Z",
     "start_time": "2021-09-27T14:59:23.209264Z"
    }
   },
   "outputs": [],
   "source": [
    "filename = \"df_features_uf23.h5\"\n",
    "table_template = \"features_{}\""
   ]
  },
  {
   "cell_type": "markdown",
   "metadata": {},
   "source": [
    "# Initialize basis"
   ]
  },
  {
   "cell_type": "code",
   "execution_count": 12,
   "metadata": {
    "ExecuteTime": {
     "end_time": "2021-09-27T14:59:23.221609Z",
     "start_time": "2021-09-27T14:59:23.213603Z"
    }
   },
   "outputs": [],
   "source": [
    "bspline_config = bspline.BSplineBasis(chemical_system,\n",
    "                                      r_min_map=r_min_map,\n",
    "                                      r_max_map=r_max_map,\n",
    "                                      resolution_map=resolution_map,\n",
    "                                      trailing_trim=trailing_trim)"
   ]
  },
  {
   "cell_type": "markdown",
   "metadata": {},
   "source": [
    "```bspline_config.get_interaction_partitions()``` yields the number of coefficients for each n-body interaction (one-body terms, two-body terms, three-body terms, ...) as well as the starting index in the coefficient vector for each interaction."
   ]
  },
  {
   "cell_type": "code",
   "execution_count": 13,
   "metadata": {
    "ExecuteTime": {
     "end_time": "2021-09-27T14:59:23.227089Z",
     "start_time": "2021-09-27T14:59:23.223287Z"
    }
   },
   "outputs": [
    {
     "data": {
      "text/plain": [
       "{'W': 1, ('W', 'W'): 28, ('W', 'W', 'W'): 144}"
      ]
     },
     "execution_count": 13,
     "metadata": {},
     "output_type": "execute_result"
    }
   ],
   "source": [
    "bspline_config.get_interaction_partitions()[0]"
   ]
  },
  {
   "cell_type": "code",
   "execution_count": 14,
   "metadata": {
    "ExecuteTime": {
     "end_time": "2021-09-27T14:59:23.231982Z",
     "start_time": "2021-09-27T14:59:23.228290Z"
    }
   },
   "outputs": [
    {
     "data": {
      "text/plain": [
       "{'W': 0, ('W', 'W'): 1, ('W', 'W', 'W'): 29}"
      ]
     },
     "execution_count": 14,
     "metadata": {},
     "output_type": "execute_result"
    }
   ],
   "source": [
    "bspline_config.get_interaction_partitions()[1]"
   ]
  },
  {
   "cell_type": "markdown",
   "metadata": {
    "pycharm": {
     "name": "#%% md\n"
    }
   },
   "source": [
    "# Load data"
   ]
  },
  {
   "cell_type": "code",
   "execution_count": 15,
   "metadata": {
    "ExecuteTime": {
     "end_time": "2021-09-27T14:59:36.745246Z",
     "start_time": "2021-09-27T14:59:23.233415Z"
    },
    "pycharm": {
     "name": "#%%\n"
    }
   },
   "outputs": [
    {
     "name": "stdout",
     "output_type": "stream",
     "text": [
      "Number of energies: 9693\n",
      "Number of forces: 475578\n"
     ]
    }
   ],
   "source": [
    "data_coordinator = io.DataCoordinator()\n",
    "data_coordinator.dataframe_from_trajectory(data_filename,\n",
    "                                           prefix='dft')\n",
    "df_data = data_coordinator.consolidate()\n",
    "print(\"Number of energies:\", len(df_data))\n",
    "print(\"Number of forces:\", int(np.sum(df_data[\"size\"]) * 3))"
   ]
  },
  {
   "cell_type": "code",
   "execution_count": 16,
   "metadata": {
    "ExecuteTime": {
     "end_time": "2021-09-27T14:59:36.768458Z",
     "start_time": "2021-09-27T14:59:36.747374Z"
    },
    "pycharm": {
     "name": "#%%\n"
    }
   },
   "outputs": [
    {
     "data": {
      "text/html": [
       "<div>\n",
       "<style scoped>\n",
       "    .dataframe tbody tr th:only-of-type {\n",
       "        vertical-align: middle;\n",
       "    }\n",
       "\n",
       "    .dataframe tbody tr th {\n",
       "        vertical-align: top;\n",
       "    }\n",
       "\n",
       "    .dataframe thead th {\n",
       "        text-align: right;\n",
       "    }\n",
       "</style>\n",
       "<table border=\"1\" class=\"dataframe\">\n",
       "  <thead>\n",
       "    <tr style=\"text-align: right;\">\n",
       "      <th></th>\n",
       "      <th>geometry</th>\n",
       "      <th>energy</th>\n",
       "      <th>fx</th>\n",
       "      <th>fy</th>\n",
       "      <th>fz</th>\n",
       "      <th>size</th>\n",
       "    </tr>\n",
       "  </thead>\n",
       "  <tbody>\n",
       "    <tr>\n",
       "      <th>dft_0</th>\n",
       "      <td>(Atom('W', [0.0, 0.0, 0.0], index=0))</td>\n",
       "      <td>-11.194835</td>\n",
       "      <td>[0.0]</td>\n",
       "      <td>[0.0]</td>\n",
       "      <td>[0.0]</td>\n",
       "      <td>1.0</td>\n",
       "    </tr>\n",
       "    <tr>\n",
       "      <th>dft_1</th>\n",
       "      <td>(Atom('W', [0.0, 0.0, 0.0], index=0))</td>\n",
       "      <td>-11.126991</td>\n",
       "      <td>[0.0]</td>\n",
       "      <td>[0.0]</td>\n",
       "      <td>[0.0]</td>\n",
       "      <td>1.0</td>\n",
       "    </tr>\n",
       "    <tr>\n",
       "      <th>dft_2</th>\n",
       "      <td>(Atom('W', [0.0, 0.0, 0.0], index=0))</td>\n",
       "      <td>-11.133282</td>\n",
       "      <td>[0.0]</td>\n",
       "      <td>[0.0]</td>\n",
       "      <td>[0.0]</td>\n",
       "      <td>1.0</td>\n",
       "    </tr>\n",
       "    <tr>\n",
       "      <th>dft_3</th>\n",
       "      <td>(Atom('W', [0.0, 0.0, 0.0], index=0))</td>\n",
       "      <td>-11.139626</td>\n",
       "      <td>[0.0]</td>\n",
       "      <td>[0.0]</td>\n",
       "      <td>[0.0]</td>\n",
       "      <td>1.0</td>\n",
       "    </tr>\n",
       "    <tr>\n",
       "      <th>dft_4</th>\n",
       "      <td>(Atom('W', [0.0, 0.0, 0.0], index=0))</td>\n",
       "      <td>-11.142003</td>\n",
       "      <td>[0.0]</td>\n",
       "      <td>[0.0]</td>\n",
       "      <td>[0.0]</td>\n",
       "      <td>1.0</td>\n",
       "    </tr>\n",
       "  </tbody>\n",
       "</table>\n",
       "</div>"
      ],
      "text/plain": [
       "                                    geometry     energy     fx     fy     fz  \\\n",
       "dft_0  (Atom('W', [0.0, 0.0, 0.0], index=0)) -11.194835  [0.0]  [0.0]  [0.0]   \n",
       "dft_1  (Atom('W', [0.0, 0.0, 0.0], index=0)) -11.126991  [0.0]  [0.0]  [0.0]   \n",
       "dft_2  (Atom('W', [0.0, 0.0, 0.0], index=0)) -11.133282  [0.0]  [0.0]  [0.0]   \n",
       "dft_3  (Atom('W', [0.0, 0.0, 0.0], index=0)) -11.139626  [0.0]  [0.0]  [0.0]   \n",
       "dft_4  (Atom('W', [0.0, 0.0, 0.0], index=0)) -11.142003  [0.0]  [0.0]  [0.0]   \n",
       "\n",
       "       size  \n",
       "dft_0   1.0  \n",
       "dft_1   1.0  \n",
       "dft_2   1.0  \n",
       "dft_3   1.0  \n",
       "dft_4   1.0  "
      ]
     },
     "execution_count": 16,
     "metadata": {},
     "output_type": "execute_result"
    }
   ],
   "source": [
    "df_data.head()"
   ]
  },
  {
   "cell_type": "markdown",
   "metadata": {
    "pycharm": {
     "name": "#%% md\n"
    }
   },
   "source": [
    "# Compute energy and force features\n",
    "\n"
   ]
  },
  {
   "cell_type": "code",
   "execution_count": 18,
   "metadata": {
    "ExecuteTime": {
     "end_time": "2021-09-27T14:59:36.773880Z",
     "start_time": "2021-09-27T14:59:36.770899Z"
    }
   },
   "outputs": [],
   "source": [
    "representation = process.BasisFeaturizer(bspline_config)"
   ]
  },
  {
   "cell_type": "code",
   "execution_count": 19,
   "metadata": {
    "ExecuteTime": {
     "end_time": "2021-09-27T14:59:36.779766Z",
     "start_time": "2021-09-27T14:59:36.775605Z"
    }
   },
   "outputs": [],
   "source": [
    "client = ProcessPoolExecutor(max_workers=n_cores)"
   ]
  },
  {
   "cell_type": "code",
   "execution_count": 20,
   "metadata": {
    "ExecuteTime": {
     "end_time": "2021-09-27T14:59:37.053307Z",
     "start_time": "2021-09-27T14:59:36.781102Z"
    }
   },
   "outputs": [
    {
     "name": "stderr",
     "output_type": "stream",
     "text": [
      "100%|██████████| 194/194 [41:12<00:00, 12.74s/it] \n"
     ]
    }
   ],
   "source": [
    "representation.batched_to_hdf(filename,\n",
    "                              df_data,\n",
    "                              client,\n",
    "                              n_jobs = n_cores,\n",
    "                              batch_size=50,\n",
    "                              progress=\"bar\",\n",
    "                              table_template=table_template)"
   ]
  },
  {
   "cell_type": "markdown",
   "metadata": {
    "ExecuteTime": {
     "start_time": "2021-09-27T03:31:28.871Z"
    }
   },
   "source": [
    "# Fit model"
   ]
  },
  {
   "cell_type": "code",
   "execution_count": 21,
   "metadata": {
    "ExecuteTime": {
     "end_time": "2021-09-27T14:59:37.069059Z",
     "start_time": "2021-09-27T14:59:37.054374Z"
    }
   },
   "outputs": [],
   "source": [
    "regularizer = bspline_config.get_regularization_matrix(ridge_1b=1e-6,\n",
    "                                                       curvature_2b=1e-8)\n",
    "\n",
    "model = least_squares.WeightedLinearModel(bspline_config,\n",
    "                                          regularizer=regularizer)"
   ]
  },
  {
   "cell_type": "markdown",
   "metadata": {},
   "source": [
    "# Fit with energies and force"
   ]
  },
  {
   "cell_type": "markdown",
   "metadata": {},
   "source": [
    "Train with 20% of the dataset (1939 samples)"
   ]
  },
  {
   "cell_type": "code",
   "execution_count": 28,
   "metadata": {
    "ExecuteTime": {
     "end_time": "2021-09-27T14:59:40.865344Z",
     "start_time": "2021-09-27T14:59:37.070884Z"
    }
   },
   "outputs": [
    {
     "name": "stderr",
     "output_type": "stream",
     "text": [
      "100%|██████████| 194/194 [00:06<00:00, 28.77it/s]\n"
     ]
    }
   ],
   "source": [
    "model.fit_from_file(filename, \n",
    "                    # training_1939, \n",
    "                    df_data.index,\n",
    "                    weight=0.5, \n",
    "                    batch_size=2500,\n",
    "                    energy_key=\"energy\", \n",
    "                    progress=\"bar\")"
   ]
  },
  {
   "cell_type": "code",
   "execution_count": 29,
   "metadata": {
    "ExecuteTime": {
     "end_time": "2021-09-27T14:59:40.878924Z",
     "start_time": "2021-09-27T14:59:40.867403Z"
    }
   },
   "outputs": [
    {
     "name": "stdout",
     "output_type": "stream",
     "text": [
      "W : -6.909259932419467\n",
      "('W', 'W') : [ 2.93297225e+01  2.55143795e+01  1.78836962e+01  6.43767510e+00\n",
      "  2.12571514e+00  3.77982908e-01 -1.33071843e-01 -2.97025328e-01\n",
      " -3.22034093e-01 -3.21073654e-01 -3.02947398e-01 -2.42822182e-01\n",
      " -2.19312112e-01 -1.89491274e-01 -1.47353861e-01 -9.55381746e-02\n",
      " -6.36984459e-02 -4.89182831e-02 -4.67807939e-02 -5.74909235e-02\n",
      " -6.66469143e-02 -6.12455261e-02 -3.58659921e-02 -2.06663829e-02\n",
      " -8.46676270e-03  0.00000000e+00  0.00000000e+00  0.00000000e+00]\n",
      "('W', 'W', 'W') : [-1.53070291e+01 -1.38237468e+01 -1.61937573e+01 -6.29792377e+00\n",
      "  4.15732328e+00 -1.06184740e+00 -1.96704313e+01 -1.29166695e+01\n",
      " -2.97025905e+01 -3.04417284e+01  1.47230155e+01 -3.45637820e+00\n",
      "  5.02864423e+00 -1.06877132e+01 -1.85530698e+01  1.01984203e+01\n",
      "  2.33019215e+01  6.79577660e+00  1.14012852e+01 -9.64455511e+00\n",
      "  3.51752365e+01  1.02266826e+01 -1.02238258e+01 -5.76522238e+00\n",
      "  1.51798681e+01  3.10589091e+01 -5.74296985e+00 -9.85931702e+00\n",
      "  4.34066085e+01  1.55484193e+01 -5.53245779e+01  2.41899926e+01\n",
      " -1.15251432e+01  8.16121475e+00 -1.00333883e+01  2.99449115e+01\n",
      " -3.14896901e+01 -3.40760706e+01  2.98691870e+01 -9.59669241e+00\n",
      " -3.70940563e+01  1.78163134e+01 -3.11598725e+01 -4.20666158e+01\n",
      "  7.99767311e+01 -3.00637630e+01 -3.63661939e+01 -6.06551244e+01\n",
      "  9.15222067e+01 -3.61334317e+01 -9.31728859e+01  3.15655791e+01\n",
      "  2.91902373e+01 -2.36122427e+01  1.22028930e+01 -3.61457156e+01\n",
      " -5.37438559e-01  1.21166160e+02 -2.95565909e+01 -1.35114989e+01\n",
      " -9.89658892e+01  1.35661816e+02  5.59374025e+01 -1.71343839e+01\n",
      "  9.94770696e+01 -1.19440351e+01 -5.31378767e+00  3.50631827e+01\n",
      "  9.76970247e-01 -1.64574382e+00 -2.84215158e+00 -1.36971213e+01\n",
      "  8.31299823e+01 -6.51958849e+01  1.28050923e+01 -7.69271083e+01\n",
      " -1.23167212e+02  2.75319892e-01 -2.40060132e+00 -1.11537252e-01\n",
      " -1.64930433e+00  2.37804310e+00 -1.78892854e+01  2.67638748e+02\n",
      "  1.15520852e+02  9.41419797e+01 -6.60540164e+01 -3.84540823e+01\n",
      "  1.05904929e+01 -4.51649180e+00  5.52624814e+00 -4.02190445e+00\n",
      "  2.39203484e+01  1.03708292e+02  7.61178434e+01  4.92129219e+01\n",
      "  1.73523919e+01 -1.63207294e+01  2.07047073e+00  3.88349507e-01\n",
      "  1.01147698e+00  8.47479222e-01 -2.48531050e+00 -4.39165755e+01\n",
      "  8.99226698e-01  1.89905819e+01  8.38104661e+00 -9.61708974e-01\n",
      "  2.70542560e-01  1.31814449e-01 -1.48278126e-01  2.38516912e-01\n",
      "  1.81078854e+00  2.05281290e+00  3.68093223e+01 -1.79952130e+01\n",
      "  3.10412670e+00 -2.22001148e+00  2.69410617e-01  3.60135821e-02\n",
      "  7.13893413e-02  1.03431086e+00 -1.08657547e+00 -3.00691971e+00\n",
      "  2.77589478e+01  2.31832111e+01  3.08623002e+00 -5.93369606e-01\n",
      "  2.82538782e-01  4.76213670e-02 -1.32861365e-01  2.88145232e-01\n",
      "  1.68995753e-01 -5.52371487e-01 -4.61775333e+01 -5.77673213e-01\n",
      "  1.42810016e+00  5.04972049e-02 -6.10432217e-02  1.86809097e-01\n",
      " -1.29924941e-01  9.74586655e-02  7.68412215e-02  2.58717568e-02]\n"
     ]
    }
   ],
   "source": [
    "solutions = least_squares.arrange_coefficients(model.coefficients, \n",
    "                                               bspline_config)\n",
    "\n",
    "for interaction, values in solutions.items():\n",
    "    print(interaction, \":\", values)"
   ]
  },
  {
   "cell_type": "markdown",
   "metadata": {
    "ExecuteTime": {
     "end_time": "2021-09-27T04:15:40.920319Z",
     "start_time": "2021-09-27T04:15:40.917610Z"
    }
   },
   "source": [
    "# Prediction"
   ]
  },
  {
   "cell_type": "code",
   "execution_count": 30,
   "metadata": {
    "ExecuteTime": {
     "end_time": "2021-09-27T14:59:40.910998Z",
     "start_time": "2021-09-27T14:59:40.881305Z"
    }
   },
   "outputs": [],
   "source": [
    "# predict with remaining 80% of dataset\n",
    "training_keys = df_data.index[training_1939]\n",
    "holdout_keys = df_data.index.difference(training_keys)"
   ]
  },
  {
   "cell_type": "code",
   "execution_count": 31,
   "metadata": {
    "ExecuteTime": {
     "end_time": "2021-09-27T14:59:43.932706Z",
     "start_time": "2021-09-27T14:59:40.917376Z"
    }
   },
   "outputs": [
    {
     "name": "stdout",
     "output_type": "stream",
     "text": [
      "RMSE (energy): 0.012\n",
      "RMSE (forces): 0.228\n"
     ]
    }
   ],
   "source": [
    "y_e, p_e, y_f, p_f, rmse_e, rmse_f = model.batched_predict(filename, \n",
    "                                                           keys=holdout_keys)"
   ]
  },
  {
   "cell_type": "code",
   "execution_count": 32,
   "metadata": {
    "ExecuteTime": {
     "end_time": "2021-09-27T14:59:44.318300Z",
     "start_time": "2021-09-27T14:59:43.934332Z"
    }
   },
   "outputs": [
    {
     "data": {
      "image/png": "[encoded data removed]",
      "text/plain": [
       "<Figure size 432x288 with 1 Axes>"
      ]
     },
     "metadata": {
      "needs_background": "light"
     },
     "output_type": "display_data"
    }
   ],
   "source": [
    "plotting.density_scatter(y_e, p_e)\n",
    "plt.tight_layout()"
   ]
  },
  {
   "cell_type": "code",
   "execution_count": 33,
   "metadata": {
    "ExecuteTime": {
     "end_time": "2021-09-27T14:59:54.814009Z",
     "start_time": "2021-09-27T14:59:44.319915Z"
    }
   },
   "outputs": [
    {
     "data": {
      "image/png": "[encoded data removed]",
      "text/plain": [
       "<Figure size 432x288 with 1 Axes>"
      ]
     },
     "metadata": {
      "needs_background": "light"
     },
     "output_type": "display_data"
    }
   ],
   "source": [
    "plotting.density_scatter(y_f, p_f)\n",
    "plt.tight_layout()"
   ]
  },
  {
   "cell_type": "markdown",
   "metadata": {
    "pycharm": {
     "name": "#%% md\n"
    }
   },
   "source": [
    "# Export potential"
   ]
  },
  {
   "cell_type": "code",
   "execution_count": 34,
   "metadata": {
    "ExecuteTime": {
     "end_time": "2021-09-27T14:59:54.818376Z",
     "start_time": "2021-09-27T14:59:54.815226Z"
    }
   },
   "outputs": [],
   "source": [
    "model.save(\"model_uf23.json\")"
   ]
  },
  {
   "cell_type": "markdown",
   "metadata": {},
   "source": [
    "# Compute energy, forces, stress with UFCalculator"
   ]
  },
  {
   "cell_type": "code",
   "execution_count": 36,
   "metadata": {
    "ExecuteTime": {
     "end_time": "2021-09-27T14:59:55.470729Z",
     "start_time": "2021-09-27T14:59:54.819820Z"
    },
    "pycharm": {
     "name": "#%%\n"
    }
   },
   "outputs": [
    {
     "name": "stdout",
     "output_type": "stream",
     "text": [
      "Energy: -125.94634737365047\n",
      "Stresses (numerical): [-0.27284373 -0.21269526 -0.19587426  0.00673861 -0.03251023 -0.06668803]\n",
      "Forces:\n",
      " [[ 0.9247198   7.1954469  -0.51517995]\n",
      " [-3.09391715  0.34519563  0.45007935]\n",
      " [ 3.60074214  1.16019415  0.47379295]\n",
      " [ 4.3535802  -4.65271381  0.62942499]\n",
      " [-1.80424397 -2.67622904 -1.71355421]\n",
      " [-1.70798109  3.64077167  1.33918404]\n",
      " [-2.27916515 -3.19984066  1.08843362]\n",
      " [ 2.23753848  1.25635827 -1.37486839]\n",
      " [ 1.95888195 -0.86112301 -0.01602678]\n",
      " [-1.66730536 -6.8770263   0.13213979]\n",
      " [-4.3160293   3.18834981 -0.11026939]\n",
      " [ 1.79317945  1.48061639 -0.38315601]]\n",
      "Max force: 7.195446900679501\n"
     ]
    }
   ],
   "source": [
    "calc = calculator.UFCalculator(model)\n",
    "\n",
    "geom = df_data.iloc[3000]['geometry'].copy()  # 12-atom cell\n",
    "geom.set_calculator(calc)\n",
    "print(\"Energy:\", geom.get_potential_energy())\n",
    "print(\"Stresses (numerical):\", geom.get_stress())\n",
    "print(\"Forces:\\n\", geom.get_forces())\n",
    "print(\"Max force:\", np.max(np.abs(geom.get_forces())))"
   ]
  },
  {
   "cell_type": "code",
   "execution_count": null,
   "metadata": {},
   "outputs": [],
   "source": []
  }
 ],
 "metadata": {
  "kernelspec": {
   "display_name": "Python 3.9.7 ('uf3')",
   "language": "python",
   "name": "python3"
  },
  "language_info": {
   "codemirror_mode": {
    "name": "ipython",
    "version": 3
   },
   "file_extension": ".py",
   "mimetype": "text/x-python",
   "name": "python",
   "nbconvert_exporter": "python",
   "pygments_lexer": "ipython3",
   "version": "3.9.7"
  },
  "toc": {
   "base_numbering": 1,
   "nav_menu": {},
   "number_sections": true,
   "sideBar": true,
   "skip_h1_title": false,
   "title_cell": "Table of Contents",
   "title_sidebar": "Contents",
   "toc_cell": false,
   "toc_position": {},
   "toc_section_display": true,
   "toc_window_display": false
  },
  "vscode": {
   "interpreter": {
    "hash": "ca6e4c1237d2523077850c33bb85c07df22e41d5dc1f9dffe27e02189376af2b"
   }
  }
 },
 "nbformat": 4,
 "nbformat_minor": 1
}
