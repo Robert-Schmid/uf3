{
 "cells": [
  {
   "cell_type": "code",
   "execution_count": 1,
   "metadata": {},
   "outputs": [
    {
     "name": "stderr",
     "output_type": "stream",
     "text": [
      "<frozen importlib._bootstrap>:228: RuntimeWarning: scipy._lib.messagestream.MessageStream size changed, may indicate binary incompatibility. Expected 56 from C header, got 64 from PyObject\n"
     ]
    }
   ],
   "source": [
    "from uf3.jax.jax_splines import *\n",
    "import jax.numpy as jnp\n",
    "from jax.lax import dynamic_slice\n",
    "import numpy as np\n",
    "import ndsplines\n",
    "\n",
    "from jax import vmap\n",
    "\n",
    "import uf3.jax.potentials as pot\n",
    "from uf3.jax.jax_splines import ndSpline_unsafe\n",
    "\n",
    "from functools import partial\n",
    "\n",
    "import matplotlib.pyplot as plt\n",
    "\n",
    "from jax.config import config\n",
    "config.update(\"jax_enable_x64\", True)\n"
   ]
  },
  {
   "cell_type": "code",
   "execution_count": 2,
   "metadata": {},
   "outputs": [],
   "source": [
    "knots = [0, 0.5, 1.0, 1.5, 1.83333333, 2.16666667, 2.5, 2.83333333, 3.16666667, 3.5, 3.83333333, 4.16666667, 4.5, 4.83333333, 5.16666667, 5.5, 6.5, 7.5, 8.5]\n",
    "\n",
    "coefficients = [ 1.25129255e+01,  5.93366978e+00,  2.64404190e+00,  3.89362649e-01, -1.80794686e-01, -2.84676830e-01, -2.67508086e-01, \\\n",
    "                -9.45645302e-02, 1.47269014e-02, -6.01878769e-03, -8.12415903e-03, 8.67558130e-03, -4.74148052e-03, -7.13338724e-04,  0.00000000e+00]"
   ]
  },
  {
   "cell_type": "code",
   "execution_count": 3,
   "metadata": {},
   "outputs": [],
   "source": [
    "ks = [np.asarray(knots)]\n",
    "cs = np.asarray(coefficients)\n",
    "deg = np.asarray([3])\n",
    "\n",
    "spline = ndsplines.NDSpline(ks, cs, deg, False, False)"
   ]
  },
  {
   "cell_type": "code",
   "execution_count": 4,
   "metadata": {},
   "outputs": [
    {
     "data": {
      "image/png": "[encoded data removed]",
      "text/plain": [
       "<Figure size 432x288 with 1 Axes>"
      ]
     },
     "metadata": {
      "needs_background": "light"
     },
     "output_type": "display_data"
    }
   ],
   "source": [
    "xpoints = np.arange(-2,10,0.1)\n",
    "\n",
    "plt.plot(xpoints, spline(xpoints))\n",
    "plt.show()"
   ]
  },
  {
   "cell_type": "code",
   "execution_count": 5,
   "metadata": {},
   "outputs": [
    {
     "name": "stderr",
     "output_type": "stream",
     "text": [
      "WARNING:absl:No GPU/TPU found, falling back to CPU. (Set TF_CPP_MIN_LOG_LEVEL=0 and rerun for more info.)\n"
     ]
    }
   ],
   "source": [
    "s = ndSpline_unsafe(ks, tuple(deg))"
   ]
  },
  {
   "cell_type": "code",
   "execution_count": 11,
   "metadata": {},
   "outputs": [
    {
     "data": {
      "text/plain": [
       "DeviceArray([[6.]], dtype=float64, weak_type=True)"
      ]
     },
     "execution_count": 11,
     "metadata": {},
     "output_type": "execute_result"
    }
   ],
   "source": [
    "1.0 + jnp.asarray([[5]])"
   ]
  },
  {
   "cell_type": "code",
   "execution_count": 6,
   "metadata": {},
   "outputs": [
    {
     "name": "stdout",
     "output_type": "stream",
     "text": [
      "Traced<ShapedArray(float64[15])>with<DynamicJaxprTrace(level=0/1)>\n"
     ]
    },
    {
     "data": {
      "text/plain": [
       "DeviceArray(-0.10308215, dtype=float64)"
      ]
     },
     "execution_count": 6,
     "metadata": {},
     "output_type": "execute_result"
    }
   ],
   "source": [
    "s([2.5], coefficients=cs)"
   ]
  },
  {
   "cell_type": "code",
   "execution_count": 15,
   "metadata": {},
   "outputs": [
    {
     "data": {
      "text/plain": [
       "(2, 2)"
      ]
     },
     "execution_count": 15,
     "metadata": {},
     "output_type": "execute_result"
    }
   ],
   "source": [
    "test = np.asarray([[2.5,2.5],[4.5,3.5]])\n",
    "test.shape"
   ]
  },
  {
   "cell_type": "code",
   "execution_count": 32,
   "metadata": {},
   "outputs": [],
   "source": [
    "def fn(dr, coefficients=None):\n",
    "    spline = partial(s, coefficients=coefficients)\n",
    "    f = lambda x: vmap(spline)(x[:,None])\n",
    "    return vmap(f)(dr)"
   ]
  },
  {
   "cell_type": "code",
   "execution_count": 34,
   "metadata": {},
   "outputs": [
    {
     "data": {
      "text/plain": [
       "DeviceArray([[-0.10308215, -0.10308215],\n",
       "             [-0.00497331, -0.10517322]], dtype=float64)"
      ]
     },
     "execution_count": 34,
     "metadata": {},
     "output_type": "execute_result"
    }
   ],
   "source": [
    "fn(test, coefficients=cs)"
   ]
  },
  {
   "cell_type": "code",
   "execution_count": 23,
   "metadata": {},
   "outputs": [
    {
     "ename": "AssertionError",
     "evalue": "",
     "output_type": "error",
     "traceback": [
      "\u001b[0;31m---------------------------------------------------------------------------\u001b[0m",
      "\u001b[0;31mValueError\u001b[0m                                Traceback (most recent call last)",
      "File \u001b[0;32m/opt/anaconda/envs/uf3/lib/python3.9/site-packages/jax/_src/api.py:1586\u001b[0m, in \u001b[0;36m_mapped_axis_size\u001b[0;34m(tree, vals, dims, name, kws)\u001b[0m\n\u001b[1;32m   1585\u001b[0m \u001b[39mtry\u001b[39;00m:\n\u001b[0;32m-> 1586\u001b[0m   size, \u001b[39m=\u001b[39m mapped_axis_sizes\n\u001b[1;32m   1587\u001b[0m   \u001b[39mreturn\u001b[39;00m size\n",
      "\u001b[0;31mValueError\u001b[0m: too many values to unpack (expected 1)",
      "\nDuring handling of the above exception, another exception occurred:\n",
      "\u001b[0;31mAssertionError\u001b[0m                            Traceback (most recent call last)",
      "\u001b[1;32m/home/robert/repositories/github.com/Robert-Schmid/uf3/examples/jax-md/OLD/ndsplines.ipynb Cell 10\u001b[0m in \u001b[0;36m<module>\u001b[0;34m\u001b[0m\n\u001b[0;32m----> <a href='vscode-notebook-cell://ssh-remote%2B7b22686f73744e616d65223a224d616e6a61726f227d/home/robert/repositories/github.com/Robert-Schmid/uf3/examples/jax-md/OLD/ndsplines.ipynb#ch0000007vscode-remote?line=0'>1</a>\u001b[0m plt\u001b[39m.\u001b[39mplot(xpoints, vmap(s)(xpoints[:,\u001b[39mNone\u001b[39;49;00m], coefficients\u001b[39m=\u001b[39;49mcs))\n\u001b[1;32m      <a href='vscode-notebook-cell://ssh-remote%2B7b22686f73744e616d65223a224d616e6a61726f227d/home/robert/repositories/github.com/Robert-Schmid/uf3/examples/jax-md/OLD/ndsplines.ipynb#ch0000007vscode-remote?line=1'>2</a>\u001b[0m plt\u001b[39m.\u001b[39mshow()\n",
      "    \u001b[0;31m[... skipping hidden 2 frame]\u001b[0m\n",
      "File \u001b[0;32m/opt/anaconda/envs/uf3/lib/python3.9/site-packages/jax/_src/api.py:1599\u001b[0m, in \u001b[0;36m_mapped_axis_size\u001b[0;34m(tree, vals, dims, name, kws)\u001b[0m\n\u001b[1;32m   1595\u001b[0m \u001b[39mif\u001b[39;00m kws:\n\u001b[1;32m   1596\u001b[0m   \u001b[39m# if keyword arguments are included in the tree, we make adapt the error\u001b[39;00m\n\u001b[1;32m   1597\u001b[0m   \u001b[39m# message only to be about the positional arguments\u001b[39;00m\n\u001b[1;32m   1598\u001b[0m   tree, leaf \u001b[39m=\u001b[39m treedef_children(tree)\n\u001b[0;32m-> 1599\u001b[0m   \u001b[39massert\u001b[39;00m treedef_is_leaf(leaf)\n\u001b[1;32m   1600\u001b[0m \u001b[39m# TODO(mattjj,phawkins): add a way to inspect pytree kind more directly\u001b[39;00m\n\u001b[1;32m   1601\u001b[0m \u001b[39mif\u001b[39;00m tree \u001b[39m==\u001b[39m tree_flatten((\u001b[39m0\u001b[39m,) \u001b[39m*\u001b[39m tree\u001b[39m.\u001b[39mnum_leaves)[\u001b[39m1\u001b[39m]:\n",
      "\u001b[0;31mAssertionError\u001b[0m: "
     ]
    }
   ],
   "source": [
    "plt.plot(xpoints, vmap(s)(xpoints[:,None], coefficients=cs))\n",
    "plt.show()"
   ]
  },
  {
   "cell_type": "code",
   "execution_count": 5,
   "metadata": {},
   "outputs": [],
   "source": [
    "jax_spline = vmap(partial(deBoor_basis_unsafe,3, jnp.asarray(knots)))\n",
    "coe = jnp.asarray(cs)\n",
    "def f(x):\n",
    "    i, res = jax_spline(x)\n",
    "    r = np.zeros_like(x)\n",
    "    for ix in range(len(x)):\n",
    "        id = i[ix]\n",
    "        if id >= 0 and id+4 <= len(coe):\n",
    "            r[ix] = jnp.sum(coe[id:id+4] * res[ix,:])\n",
    "        else:\n",
    "            r[ix] = 0\n",
    "    return r\n",
    "\n"
   ]
  },
  {
   "cell_type": "code",
   "execution_count": 6,
   "metadata": {},
   "outputs": [
    {
     "data": {
      "image/png": "[encoded data removed]",
      "text/plain": [
       "<Figure size 432x288 with 1 Axes>"
      ]
     },
     "metadata": {
      "needs_background": "light"
     },
     "output_type": "display_data"
    }
   ],
   "source": [
    "plt.plot(xpoints, f(xpoints))\n",
    "plt.show()"
   ]
  },
  {
   "cell_type": "markdown",
   "metadata": {},
   "source": [
    "# Simple potentials"
   ]
  },
  {
   "cell_type": "code",
   "execution_count": 9,
   "metadata": {},
   "outputs": [],
   "source": [
    "uf2 = partial(pot.uf2_interaction, coe, jnp.asarray(knots), 8.0)"
   ]
  },
  {
   "cell_type": "code",
   "execution_count": 10,
   "metadata": {},
   "outputs": [
    {
     "data": {
      "image/png": "[encoded data removed]",
      "text/plain": [
       "<Figure size 432x288 with 1 Axes>"
      ]
     },
     "metadata": {
      "needs_background": "light"
     },
     "output_type": "display_data"
    }
   ],
   "source": [
    "plt.plot(xpoints, uf2(xpoints))\n",
    "plt.show()"
   ]
  },
  {
   "cell_type": "markdown",
   "metadata": {},
   "source": [
    "## Einsum Tests\n",
    "\n",
    "### 1-D"
   ]
  },
  {
   "cell_type": "code",
   "execution_count": 7,
   "metadata": {},
   "outputs": [
    {
     "name": "stdout",
     "output_type": "stream",
     "text": [
      "[-0.10517322 -0.00632792]\n"
     ]
    }
   ],
   "source": [
    "x = jnp.asarray([3.5,4.4])\n",
    "c = coe\n",
    "i, A = jax_spline(x)\n",
    "\n",
    "reference = spline(x)\n",
    "print(reference)\n"
   ]
  },
  {
   "cell_type": "code",
   "execution_count": 14,
   "metadata": {},
   "outputs": [],
   "source": [
    "left = np.meshgrid(*[np.arange(degree+1) for degree in (3,)], indexing='ij')\n",
    "right = i\n",
    "\n",
    "id = jnp.add(left[0][None,...],\n",
    "    right[(slice(0,2),) + (None,)*1])"
   ]
  },
  {
   "cell_type": "code",
   "execution_count": 15,
   "metadata": {},
   "outputs": [
    {
     "data": {
      "text/plain": [
       "(2, 4)"
      ]
     },
     "execution_count": 15,
     "metadata": {},
     "output_type": "execute_result"
    }
   ],
   "source": [
    "c[id].shape"
   ]
  },
  {
   "cell_type": "code",
   "execution_count": 16,
   "metadata": {},
   "outputs": [
    {
     "data": {
      "text/plain": [
       "DeviceArray([-0.10517322, -0.00632792], dtype=float64)"
      ]
     },
     "execution_count": 16,
     "metadata": {},
     "output_type": "execute_result"
    }
   ],
   "source": [
    "jnp.einsum(c[id], [0,1], A, [0,1],[0])"
   ]
  },
  {
   "cell_type": "markdown",
   "metadata": {},
   "source": [
    "## Mapping test"
   ]
  },
  {
   "cell_type": "code",
   "execution_count": 22,
   "metadata": {},
   "outputs": [],
   "source": [
    "x = jnp.arange(4.0*3).reshape((4,3))"
   ]
  },
  {
   "cell_type": "code",
   "execution_count": 28,
   "metadata": {},
   "outputs": [
    {
     "data": {
      "text/plain": [
       "DeviceArray([[ 0.,  1.,  2.],\n",
       "             [ 3.,  4.,  5.],\n",
       "             [ 6.,  7.,  8.],\n",
       "             [ 9., 10., 11.]], dtype=float64)"
      ]
     },
     "execution_count": 28,
     "metadata": {},
     "output_type": "execute_result"
    }
   ],
   "source": [
    "x"
   ]
  },
  {
   "cell_type": "code",
   "execution_count": 25,
   "metadata": {},
   "outputs": [],
   "source": [
    "f = lambda x: x + jnp.asarray([0,1,3])"
   ]
  },
  {
   "cell_type": "code",
   "execution_count": 26,
   "metadata": {},
   "outputs": [],
   "source": [
    "from jax.lax import map"
   ]
  },
  {
   "cell_type": "code",
   "execution_count": 30,
   "metadata": {},
   "outputs": [
    {
     "data": {
      "text/plain": [
       "1"
      ]
     },
     "execution_count": 30,
     "metadata": {},
     "output_type": "execute_result"
    }
   ],
   "source": [
    "1"
   ]
  }
 ],
 "metadata": {
  "interpreter": {
   "hash": "ca6e4c1237d2523077850c33bb85c07df22e41d5dc1f9dffe27e02189376af2b"
  },
  "kernelspec": {
   "display_name": "Python 3.9.7 ('uf3')",
   "language": "python",
   "name": "python3"
  },
  "language_info": {
   "codemirror_mode": {
    "name": "ipython",
    "version": 3
   },
   "file_extension": ".py",
   "mimetype": "text/x-python",
   "name": "python",
   "nbconvert_exporter": "python",
   "pygments_lexer": "ipython3",
   "version": "3.9.7"
  },
  "orig_nbformat": 4
 },
 "nbformat": 4,
 "nbformat_minor": 2
}
