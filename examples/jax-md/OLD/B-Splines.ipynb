{
 "cells": [
  {
   "cell_type": "code",
   "execution_count": 1,
   "metadata": {},
   "outputs": [
    {
     "name": "stderr",
     "output_type": "stream",
     "text": [
      "<frozen importlib._bootstrap>:228: RuntimeWarning: scipy._lib.messagestream.MessageStream size changed, may indicate binary incompatibility. Expected 56 from C header, got 64 from PyObject\n"
     ]
    }
   ],
   "source": [
    "from uf3.jax.jax_splines import *\n",
    "from uf3.util.random import random_spline\n",
    "\n",
    "import jax.numpy as jnp\n",
    "from jax import jit, grad, vmap, value_and_grad\n",
    "import jax\n",
    "\n",
    "import numpy as onp\n",
    "\n",
    "import ndsplines\n",
    "\n",
    "import time\n",
    "import timeit\n",
    "\n",
    "import matplotlib.pyplot as plt\n",
    "\n",
    "from jax.config import config\n",
    "config.update(\"jax_enable_x64\", True)"
   ]
  },
  {
   "cell_type": "markdown",
   "metadata": {},
   "source": [
    "# Benchmarks for Splines"
   ]
  },
  {
   "cell_type": "markdown",
   "metadata": {},
   "source": [
    "## The fastest backend for cubic splines\n",
    "- (1D and 3D)\n",
    "- CPU vs GPU"
   ]
  },
  {
   "cell_type": "markdown",
   "metadata": {},
   "source": [
    "### 1D"
   ]
  },
  {
   "cell_type": "code",
   "execution_count": 13,
   "metadata": {},
   "outputs": [],
   "source": [
    "seed = 123\n",
    "dimension = 1\n",
    "resolution = 20\n",
    "degree = 3\n",
    "max_time = 1\n",
    "repeats=4\n",
    "\n",
    "timings = {}\n",
    "\n",
    "settings = {\n",
    "    'cpu_symbolic': (BSplineBackend.Symbolic, 'cpu'),\n",
    "    'cpu_deBoor' : (BSplineBackend.DeBoor, 'cpu'),\n",
    "    # 'gpu_symbolic' : (BSplineBackend.Symbolic, 'gpu'),\n",
    "    # 'gpu_deBoor' : (BSplineBackend.DeBoor, 'gpu')\n",
    "}\n",
    "\n",
    "for key in settings.keys():\n",
    "    timings[key] = None\n",
    "    backend, device = settings[key]\n",
    "\n",
    "    for exponent in range(2,100):\n",
    "        start_time = time.time()\n",
    "\n",
    "        size = 10 ** exponent\n",
    "        res = (resolution,) * dimension\n",
    "        ds = (degree,) * dimension\n",
    "\n",
    "        c, k, x = random_spline(res, sample=size, seed=seed)\n",
    "        s = ndSpline_unsafe(c, k, ds, backend=backend)\n",
    "\n",
    "        x_jax = jax.device_put(x)\n",
    "\n",
    "        fn = jit(vmap(s), backend=device)\n",
    "\n",
    "        sym = lambda : fn(x_jax).block_until_ready()\n",
    "\n",
    "        try:\n",
    "            t = timeit.Timer(sym).repeat(repeat=4, number=1)\n",
    "        except RuntimeError:\n",
    "            break\n",
    "\n",
    "        t_old = timings[key]\n",
    "\n",
    "        t_new = onp.asarray([size] + t)\n",
    "        \n",
    "        # print(f\"{key}: {size} - {t_new}\")\n",
    "\n",
    "        if t_old is None:\n",
    "            timings[key] = t_new\n",
    "        else:\n",
    "            timings[key] = onp.vstack([t_old,t_new])\n",
    "\n",
    "        if time.time() - start_time > max_time * 60:\n",
    "            break\n"
   ]
  },
  {
   "cell_type": "code",
   "execution_count": 14,
   "metadata": {},
   "outputs": [
    {
     "data": {
      "image/png": "[encoded data removed]",
      "text/plain": [
       "<Figure size 648x216 with 2 Axes>"
      ]
     },
     "metadata": {
      "needs_background": "light"
     },
     "output_type": "display_data"
    }
   ],
   "source": [
    "keys = [['cpu_symbolic','cpu_deBoor']] #,['gpu_symbolic','gpu_deBoor']]\n",
    "\n",
    "fig, axs = plt.subplots(1,2, figsize=(9,3), sharex=True, sharey=True)\n",
    "\n",
    "for i, per_device in zip(range(len(keys)),keys):\n",
    "    ax = axs[i]\n",
    "    for k in per_device:\n",
    "        data = timings[k]\n",
    "        x = data[:,0]\n",
    "        y_jit = data[:,1]\n",
    "        y = onp.mean(data[:,2:], 1)\n",
    "\n",
    "        ax.plot(x, y)\n",
    "        ax.set_xscale('log')\n",
    "        ax.scatter(x, y_jit, label=k)\n",
    "        ax.set_yscale('log')\n",
    "        ax.legend()\n",
    "\n",
    "\n",
    "plt.show()\n"
   ]
  },
  {
   "cell_type": "markdown",
   "metadata": {},
   "source": [
    "### 3D"
   ]
  },
  {
   "cell_type": "code",
   "execution_count": 27,
   "metadata": {},
   "outputs": [],
   "source": [
    "seed = 123\n",
    "dimension = 3\n",
    "resolution = 20\n",
    "degree = 3\n",
    "max_time = 1\n",
    "repeats=4\n",
    "\n",
    "timings = {}\n",
    "\n",
    "settings = {\n",
    "    'cpu_symbolic': (BSplineBackend.Symbolic, 'cpu'),\n",
    "    'cpu_deBoor' : (BSplineBackend.DeBoor, 'cpu'),\n",
    "    # 'gpu_symbolic' : (BSplineBackend.Symbolic, 'gpu'),\n",
    "    # 'gpu_deBoor' : (BSplineBackend.DeBoor, 'gpu')\n",
    "}\n",
    "\n",
    "for key in settings.keys():\n",
    "    timings[key] = None\n",
    "    backend, device = settings[key]\n",
    "\n",
    "    for exponent in range(2,100):\n",
    "        start_time = time.time()\n",
    "\n",
    "        size = 10 ** exponent\n",
    "        res = (resolution,) * dimension\n",
    "        ds = (degree,) * dimension\n",
    "\n",
    "        c, k, x = random_spline(res, sample=size, seed=seed)\n",
    "        s = ndSpline_unsafe(c, k, ds, backend=backend)\n",
    "\n",
    "        x_jax = jax.device_put(x)\n",
    "\n",
    "        fn = jit(vmap(s), backend=device)\n",
    "\n",
    "        sym = lambda : fn(x_jax).block_until_ready()\n",
    "\n",
    "        try:\n",
    "            t = timeit.Timer(sym).repeat(repeat=4, number=1)\n",
    "        except RuntimeError:\n",
    "            break\n",
    "\n",
    "        t_old = timings[key]\n",
    "\n",
    "        t_new = onp.asarray([size] + t)\n",
    "        \n",
    "        # print(f\"{key}: {size} - {t_new}\")\n",
    "\n",
    "        if t_old is None:\n",
    "            timings[key] = t_new\n",
    "        else:\n",
    "            timings[key] = onp.vstack([t_old,t_new])\n",
    "\n",
    "        if time.time() - start_time > max_time * 60:\n",
    "            break\n"
   ]
  },
  {
   "cell_type": "code",
   "execution_count": 28,
   "metadata": {},
   "outputs": [
    {
     "data": {
      "image/png": "[encoded data removed]",
      "text/plain": [
       "<Figure size 648x216 with 2 Axes>"
      ]
     },
     "metadata": {
      "needs_background": "light"
     },
     "output_type": "display_data"
    }
   ],
   "source": [
    "keys = [['cpu_symbolic','cpu_deBoor']] #,['gpu_symbolic','gpu_deBoor']]\n",
    "\n",
    "fig, axs = plt.subplots(1,2, figsize=(9,3), sharex=True, sharey=True)\n",
    "\n",
    "for i, per_device in zip(range(len(keys)),keys):\n",
    "    ax = axs[i]\n",
    "    for k in per_device:\n",
    "        data = timings[k]\n",
    "        x = data[:,0]\n",
    "        y_jit = data[:,1]\n",
    "        y = onp.mean(data[:,2:], 1)\n",
    "\n",
    "        ax.plot(x, y)\n",
    "        ax.set_xscale('log')\n",
    "        ax.scatter(x, y_jit, label=k)\n",
    "        ax.set_yscale('log')\n",
    "        ax.legend()\n",
    "\n",
    "\n",
    "plt.show()\n"
   ]
  },
  {
   "cell_type": "markdown",
   "metadata": {},
   "source": [
    "## Comparing to other implementations (1D cubic)\n",
    "\n",
    "- JAX\n",
    "- ndspline\n",
    "- scipy"
   ]
  },
  {
   "cell_type": "code",
   "execution_count": 9,
   "metadata": {},
   "outputs": [],
   "source": [
    "seed = 123\n",
    "dimension = 1\n",
    "resolution = 20\n",
    "degree = 3\n",
    "max_time = 1\n",
    "repeats=4\n",
    "\n",
    "timings = {}\n",
    "\n",
    "settings = {\n",
    "    'JAX' : ('jax', BSplineBackend.DeBoor, 'cpu'),\n",
    "    'ND-Splines' : ('ndspline',None,None),\n",
    "    # 'SciPy' : ('scipy',None,None)\n",
    "}\n",
    "\n",
    "for key in settings.keys():\n",
    "    timings[key] = None\n",
    "    name, backend, device = settings[key]\n",
    "\n",
    "    for exponent in range(2,7):\n",
    "        start_time = time.time()\n",
    "\n",
    "        size = 10 ** exponent\n",
    "        res = (resolution,) * dimension\n",
    "        ds = (degree,) * dimension\n",
    "\n",
    "        c, k, x = random_spline(res, sample=size, seed=seed)\n",
    "\n",
    "        sym = None\n",
    "        if name == 'jax':\n",
    "            s = ndSpline_unsafe(c, k, ds, backend=backend)\n",
    "\n",
    "            x_jax = jax.device_put(x)\n",
    "\n",
    "            fn = jit(vmap(s), backend=device)\n",
    "\n",
    "            sym = lambda : fn(x_jax).block_until_ready()\n",
    "        elif name == 'ndspline':\n",
    "            knots = []\n",
    "            for a in k:\n",
    "                knots.append(onp.asarray(a))\n",
    "            s = ndsplines.NDSpline(knots, onp.asarray(c), ds)\n",
    "            xs = onp.asarray(x)\n",
    "            def fn():\n",
    "                s(xs)\n",
    "            sym = fn\n",
    "        elif name == 'SciPy':\n",
    "            pass\n",
    "\n",
    "        try:\n",
    "            t = timeit.Timer(sym).repeat(repeat=4, number=1)\n",
    "        except RuntimeError:\n",
    "            break\n",
    "\n",
    "        t_old = timings[key]\n",
    "\n",
    "        t_new = onp.asarray([size] + t)\n",
    "        \n",
    "        # print(f\"{key}: {size} - {t_new}\")\n",
    "\n",
    "        if t_old is None:\n",
    "            timings[key] = t_new\n",
    "        else:\n",
    "            timings[key] = onp.vstack([t_old,t_new])\n",
    "\n",
    "        if time.time() - start_time > max_time * 60:\n",
    "            break\n"
   ]
  },
  {
   "cell_type": "code",
   "execution_count": 11,
   "metadata": {},
   "outputs": [
    {
     "data": {
      "image/png": "[encoded data removed]",
      "text/plain": [
       "<Figure size 648x216 with 2 Axes>"
      ]
     },
     "metadata": {
      "needs_background": "light"
     },
     "output_type": "display_data"
    }
   ],
   "source": [
    "keys = [['JAX','ND-Splines']]\n",
    "\n",
    "fig, axs = plt.subplots(1,2, figsize=(9,3), sharex=True, sharey=True)\n",
    "\n",
    "for i, per_device in zip(range(len(keys)),keys):\n",
    "    ax = axs[i]\n",
    "    for k in per_device:\n",
    "        data = timings[k]\n",
    "        x = data[:,0]\n",
    "        y_jit = data[:,1]\n",
    "        y = onp.mean(data[:,2:], 1)\n",
    "\n",
    "        ax.plot(x, y)\n",
    "        ax.set_xscale('log')\n",
    "        ax.scatter(x, y_jit, label=k)\n",
    "        ax.set_yscale('log')\n",
    "        ax.legend()\n",
    "\n",
    "\n",
    "plt.show()\n"
   ]
  },
  {
   "cell_type": "markdown",
   "metadata": {},
   "source": [
    "## Effects of higher degrees (deBoor backend and ndspline)"
   ]
  },
  {
   "cell_type": "code",
   "execution_count": 10,
   "metadata": {},
   "outputs": [],
   "source": [
    "seed = 123\n",
    "dimension = 1\n",
    "resolution = 40\n",
    "degree = 3\n",
    "max_time = 1\n",
    "repeats=4\n",
    "\n",
    "timings = {}\n",
    "\n",
    "settings = {\n",
    "    'JAX' : ('jax', BSplineBackend.DeBoor, 'cpu'),\n",
    "    'ND-Splines' : ('ndspline',None,None),\n",
    "}\n",
    "\n",
    "for key in settings.keys():\n",
    "    timings[key] = None\n",
    "    name, backend, device = settings[key]\n",
    "\n",
    "    exponent = 4\n",
    "    for degree in range(3,10):\n",
    "        start_time = time.time()\n",
    "\n",
    "        size = 10 ** exponent\n",
    "        res = (resolution,) * dimension\n",
    "        ds = (degree,) * dimension\n",
    "\n",
    "        c, k, x = random_spline(res, degrees=ds, sample=size, seed=seed)\n",
    "\n",
    "        sym = None\n",
    "        if name == 'jax':\n",
    "            s = ndSpline_unsafe(c, k, ds, backend=backend)\n",
    "\n",
    "            x_jax = jax.device_put(x)\n",
    "\n",
    "            fn = jit(vmap(s), backend=device)\n",
    "\n",
    "            sym = lambda : fn(x_jax).block_until_ready()\n",
    "        elif name == 'ndspline':\n",
    "            knots = []\n",
    "            for a in k:\n",
    "                knots.append(onp.asarray(a))\n",
    "            s = ndsplines.NDSpline(knots, onp.asarray(c), ds)\n",
    "            xs = onp.asarray(x)\n",
    "            def fn():\n",
    "                s(xs)\n",
    "            sym = fn\n",
    "\n",
    "        try:\n",
    "            t = timeit.Timer(sym).repeat(repeat=4, number=1)\n",
    "        except RuntimeError:\n",
    "            break\n",
    "\n",
    "        t_old = timings[key]\n",
    "\n",
    "        t_new = onp.asarray([degree] + t)\n",
    "        \n",
    "        print(f\"{key}: {degree} - {t_new}\")\n",
    "\n",
    "        if t_old is None:\n",
    "            timings[key] = t_new\n",
    "        else:\n",
    "            timings[key] = onp.vstack([t_old,t_new])\n",
    "\n",
    "        if time.time() - start_time > max_time * 60:\n",
    "            break\n"
   ]
  },
  {
   "cell_type": "code",
   "execution_count": 13,
   "metadata": {},
   "outputs": [
    {
     "data": {
      "image/png": "[encoded data removed]",
      "text/plain": [
       "<Figure size 648x216 with 2 Axes>"
      ]
     },
     "metadata": {
      "needs_background": "light"
     },
     "output_type": "display_data"
    }
   ],
   "source": [
    "keys = [['JAX','ND-Splines']]\n",
    "\n",
    "fig, axs = plt.subplots(1,2, figsize=(9,3), sharex=True, sharey=True)\n",
    "\n",
    "for i, per_device in zip(range(len(keys)),keys):\n",
    "    ax = axs[i]\n",
    "    for k in per_device:\n",
    "        data = timings[k]\n",
    "        x = data[:,0]\n",
    "        y_jit = data[:,1]\n",
    "        y = onp.mean(data[:,2:], 1)\n",
    "\n",
    "        ax.plot(x, y)\n",
    "        # ax.set_xscale('log')\n",
    "        ax.scatter(x, y_jit, label=k)\n",
    "        ax.set_yscale('log')\n",
    "        ax.legend()\n",
    "\n",
    "\n",
    "plt.show()\n"
   ]
  },
  {
   "cell_type": "markdown",
   "metadata": {},
   "source": [
    "## Effects of higher dimensions"
   ]
  },
  {
   "cell_type": "code",
   "execution_count": 7,
   "metadata": {},
   "outputs": [
    {
     "name": "stdout",
     "output_type": "stream",
     "text": [
      "JAX: 1 - [1.         0.37184307 0.00215248 0.00210369 0.00209343]\n",
      "JAX: 2 - [2.         0.59516834 0.00552271 0.00530032 0.00515602]\n",
      "JAX: 3 - [3.         0.88453646 0.01130238 0.0111262  0.01176026]\n",
      "JAX: 4 - [4.         1.20300621 0.01845629 0.02282332 0.02028998]\n",
      "JAX: 5 - [5.         1.56556496 0.09229232 0.08952707 0.08902356]\n",
      "ND-Splines: 1 - [1.         0.00536961 0.00521188 0.005203   0.00520142]\n",
      "ND-Splines: 2 - [2.         0.01278185 0.01280451 0.01266914 0.01269122]\n",
      "ND-Splines: 3 - [3.         0.03717829 0.0347817  0.03455333 0.0353111 ]\n",
      "ND-Splines: 4 - [4.         0.13466179 0.13182836 0.13015798 0.13008498]\n",
      "ND-Splines: 5 - [5.         0.6389279  0.63348008 0.63303493 0.6328341 ]\n"
     ]
    }
   ],
   "source": [
    "seed = 123\n",
    "dimension = 1\n",
    "resolution = 7\n",
    "degree = 3\n",
    "max_time = 1\n",
    "repeats=4\n",
    "\n",
    "timings = {}\n",
    "\n",
    "settings = {\n",
    "    'JAX' : ('jax', BSplineBackend.DeBoor, 'cpu'),\n",
    "    'ND-Splines' : ('ndspline',None,None),\n",
    "}\n",
    "\n",
    "for key in settings.keys():\n",
    "    timings[key] = None\n",
    "    name, backend, device = settings[key]\n",
    "\n",
    "    exponent = 4\n",
    "    for dimension in range(1,6):\n",
    "        start_time = time.time()\n",
    "\n",
    "        size = 10 ** exponent\n",
    "        res = (resolution,) * dimension\n",
    "        ds = (degree,) * dimension\n",
    "\n",
    "        c, k, x = random_spline(res, degrees=ds, sample=size, seed=seed)\n",
    "\n",
    "        sym = None\n",
    "        if name == 'jax':\n",
    "            s = ndSpline_unsafe(c, k, ds, backend=backend)\n",
    "\n",
    "            x_jax = jax.device_put(x)\n",
    "\n",
    "            fn = jit(vmap(s), backend=device)\n",
    "\n",
    "            sym = lambda : fn(x_jax).block_until_ready()\n",
    "        elif name == 'ndspline':\n",
    "            knots = []\n",
    "            for a in k:\n",
    "                knots.append(onp.asarray(a))\n",
    "            s = ndsplines.NDSpline(knots, onp.asarray(c), ds)\n",
    "            xs = onp.asarray(x)\n",
    "            def fn():\n",
    "                s(xs)\n",
    "            sym = fn\n",
    "\n",
    "        try:\n",
    "            t = timeit.Timer(sym).repeat(repeat=4, number=1)\n",
    "        except RuntimeError:\n",
    "            break\n",
    "\n",
    "        t_old = timings[key]\n",
    "\n",
    "        t_new = onp.asarray([dimension] + t)\n",
    "        \n",
    "        print(f\"{key}: {dimension} - {t_new}\")\n",
    "\n",
    "        if t_old is None:\n",
    "            timings[key] = t_new\n",
    "        else:\n",
    "            timings[key] = onp.vstack([t_old,t_new])\n",
    "\n",
    "        if time.time() - start_time > max_time * 60:\n",
    "            break\n"
   ]
  },
  {
   "cell_type": "code",
   "execution_count": 9,
   "metadata": {},
   "outputs": [
    {
     "data": {
      "image/png": "[encoded data removed]",
      "text/plain": [
       "<Figure size 648x216 with 2 Axes>"
      ]
     },
     "metadata": {
      "needs_background": "light"
     },
     "output_type": "display_data"
    }
   ],
   "source": [
    "keys = [['JAX','ND-Splines']]\n",
    "\n",
    "fig, axs = plt.subplots(1,2, figsize=(9,3), sharex=True, sharey=True)\n",
    "\n",
    "for i, per_device in zip(range(len(keys)),keys):\n",
    "    ax = axs[i]\n",
    "    for k in per_device:\n",
    "        data = timings[k]\n",
    "        x = data[:,0]\n",
    "        y_jit = data[:,1]\n",
    "        y = onp.mean(data[:,2:], 1)\n",
    "\n",
    "        ax.plot(x, y)\n",
    "        # ax.set_xscale('log')\n",
    "        ax.scatter(x, y_jit, label=k)\n",
    "        ax.set_yscale('log')\n",
    "        ax.legend()\n",
    "\n",
    "\n",
    "plt.show()\n"
   ]
  },
  {
   "cell_type": "markdown",
   "metadata": {},
   "source": [
    "## Effect of increased knot resolution\n",
    "\n",
    "1D and 3D splines - fastest backend"
   ]
  },
  {
   "cell_type": "code",
   "execution_count": 17,
   "metadata": {},
   "outputs": [],
   "source": []
  },
  {
   "cell_type": "markdown",
   "metadata": {},
   "source": [
    "# Profiling"
   ]
  },
  {
   "cell_type": "code",
   "execution_count": 17,
   "metadata": {},
   "outputs": [],
   "source": [
    "seed = 123\n",
    "size = 1000000\n",
    "dimension = 3\n",
    "resolution = 20\n",
    "degree = 3\n",
    "\n",
    "res = (resolution,) * dimension\n",
    "ds = (degree,) * dimension\n",
    "\n",
    "c, k, x = random_spline(res, sample=size, seed=seed)\n",
    "s = ndSpline_unsafe(c, k, ds, backend=BSplineBackend.DeBoor, naive_search=True)\n",
    "\n",
    "x_jax = jax.device_put(x)\n",
    "fn = jit(vmap(s))\n",
    "a = fn(x_jax).block_until_ready()\n",
    "\n",
    "with jax.profiler.trace(\"/tmp/tensorboard\"):\n",
    "    b = fn(x_jax).block_until_ready()\n"
   ]
  },
  {
   "cell_type": "code",
   "execution_count": 12,
   "metadata": {},
   "outputs": [
    {
     "name": "stdout",
     "output_type": "stream",
     "text": [
      "22\n"
     ]
    }
   ],
   "source": [
    "seed = 123\n",
    "size = 100000\n",
    "dimension = 1\n",
    "resolution = 15\n",
    "degree = 3\n",
    "\n",
    "res = (resolution,) * dimension\n",
    "ds = (degree,) * dimension\n",
    "\n",
    "c, k, x = random_spline(res, sample=size, seed=seed)\n",
    "\n",
    "print(len(k[0]))\n",
    "\n",
    "def search(x):\n",
    "    return jnp.searchsorted(k[0],x,side='right')\n",
    "\n",
    "def find(x):\n",
    "    return jnp.argmax(k[0]>x, 0)\n",
    "\n",
    "x_jax = jax.device_put(x)\n",
    "fn1 = jit(vmap(search))\n",
    "fn2 = jit(vmap(find))\n",
    "a = fn1(x_jax).block_until_ready()\n",
    "b = fn2(x_jax).block_until_ready()\n",
    "\n",
    "# with jax.profiler.trace(\"/tmp/tensorboard\"):\n",
    "#     a = fn1(x_jax).block_until_ready()\n",
    "#     b = fn2(x_jax).block_until_ready()\n",
    "    # (a-b).block_until_ready()\n",
    "    # print(a-b)"
   ]
  },
  {
   "cell_type": "markdown",
   "metadata": {},
   "source": [
    "## Memory usage"
   ]
  },
  {
   "cell_type": "code",
   "execution_count": 18,
   "metadata": {},
   "outputs": [],
   "source": [
    "seed = 123\n",
    "size = 1000000\n",
    "dimension = 3\n",
    "resolution = 20\n",
    "degree = 3\n",
    "\n",
    "res = (resolution,) * dimension\n",
    "ds = (degree,) * dimension\n",
    "\n",
    "c, k, x = random_spline(res, sample=size, seed=seed)\n",
    "s = ndSpline_unsafe(c, k, ds, backend=BSplineBackend.DeBoor, naive_search=False)\n",
    "sd = ndSpline_unsafe(c, k, ds, backend=BSplineBackend.DeBoor, naive_search=False)\n",
    "\n",
    "x_jax = jax.device_put(x)\n",
    "fn = jit(vmap(s))\n",
    "fnd = jit(vmap(sd))\n",
    "a = fn(x_jax)\n",
    "\n",
    "a.block_until_ready()\n",
    "\n",
    "jax.profiler.save_device_memory_profile(\"symbolic-memory.prof\")\n",
    "\n",
    "ad = fnd(x_jax).block_until_ready()\n",
    "\n",
    "ad.block_until_ready()\n",
    "\n",
    "jax.profiler.save_device_memory_profile(\"deBoor-memory.prof\")\n",
    "\n"
   ]
  },
  {
   "cell_type": "code",
   "execution_count": null,
   "metadata": {},
   "outputs": [],
   "source": []
  }
 ],
 "metadata": {
  "kernelspec": {
   "display_name": "Python 3.9.7 ('uf3')",
   "language": "python",
   "name": "python3"
  },
  "language_info": {
   "codemirror_mode": {
    "name": "ipython",
    "version": 3
   },
   "file_extension": ".py",
   "mimetype": "text/x-python",
   "name": "python",
   "nbconvert_exporter": "python",
   "pygments_lexer": "ipython3",
   "version": "3.9.7"
  },
  "vscode": {
   "interpreter": {
    "hash": "ca6e4c1237d2523077850c33bb85c07df22e41d5dc1f9dffe27e02189376af2b"
   }
  }
 },
 "nbformat": 4,
 "nbformat_minor": 4
}
