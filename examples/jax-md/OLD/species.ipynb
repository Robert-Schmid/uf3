{
 "cells": [
  {
   "cell_type": "code",
   "execution_count": 2,
   "metadata": {},
   "outputs": [
    {
     "name": "stderr",
     "output_type": "stream",
     "text": [
      "<frozen importlib._bootstrap>:228: RuntimeWarning: scipy._lib.messagestream.MessageStream size changed, may indicate binary incompatibility. Expected 56 from C header, got 64 from PyObject\n"
     ]
    }
   ],
   "source": [
    "import uf3.jax.jax_splines as jsp\n",
    "from uf3.jax import potentials\n",
    "\n",
    "import jax.numpy as jnp\n",
    "import numpy as onp\n",
    "\n",
    "from jax import jit, vmap, grad\n",
    "from functools import partial"
   ]
  },
  {
   "cell_type": "code",
   "execution_count": 3,
   "metadata": {},
   "outputs": [
    {
     "name": "stdout",
     "output_type": "stream",
     "text": [
      "[ 6.43001175e+00  5.97354269e+00  5.06058788e+00  3.69113111e+00\n",
      "  1.65205860e+00  9.23859119e-01  2.81258196e-01 -5.36413584e-03\n",
      " -1.65669978e-01 -2.39954889e-01 -2.77954251e-01 -2.80998796e-01\n",
      " -2.49653071e-01 -1.77409589e-01 -1.00099854e-01 -6.82599768e-02\n",
      " -2.00034436e-02 -3.28071229e-02 -3.43219452e-02 -3.43618244e-02\n",
      " -2.88400631e-02 -2.12175436e-02 -6.90983492e-04 -9.25139058e-03\n",
      " -8.08694772e-03  0.00000000e+00  0.00000000e+00  0.00000000e+00]\n",
      "[1.5  1.5  1.5  1.5  1.66 1.82 1.98 2.14 2.3  2.46 2.62 2.78 2.94 3.1\n",
      " 3.26 3.42 3.58 3.74 3.9  4.06 4.22 4.38 4.54 4.7  4.86 5.02 5.18 5.34\n",
      " 5.5  5.5  5.5  5.5 ]\n"
     ]
    }
   ],
   "source": [
    "from uf3.representation import bspline\n",
    "from uf3.data import composition\n",
    "from uf3.regression import least_squares\n",
    "\n",
    "element_list = ['W']\n",
    "degree = 2\n",
    "\n",
    "chemical_system = composition.ChemicalSystem(element_list=element_list,\n",
    "                                             degree=degree)\n",
    "\n",
    "r_min_map = {('W', 'W'): 1.5,\n",
    "            }\n",
    "r_max_map = {('W', 'W'): 5.5,\n",
    "            }\n",
    "resolution_map = {('W', 'W'): 25,\n",
    "                 }\n",
    "trailing_trim = 3\n",
    "\n",
    "bspline_config = bspline.BSplineBasis(chemical_system,\n",
    "                                      r_min_map=r_min_map,\n",
    "                                      r_max_map=r_max_map,\n",
    "                                      resolution_map=resolution_map,\n",
    "                                      trailing_trim=trailing_trim)\n",
    "\n",
    "model = least_squares.WeightedLinearModel(bspline_config)\n",
    "\n",
    "model.load(filename=\"../tungsten_extxyz/model_pair.json\")\n",
    "\n",
    "coefficients = jnp.asarray(model.coefficients[1:])\n",
    "knots = jnp.asarray(model.bspline_config.knots_map[('W','W')])\n",
    "\n",
    "print(coefficients)\n",
    "print(knots)"
   ]
  },
  {
   "cell_type": "code",
   "execution_count": 4,
   "metadata": {},
   "outputs": [],
   "source": [
    "def uf2_interaction(\n",
    "    dr,\n",
    "    species,\n",
    "    coefficients = None,\n",
    "    knots: jnp.ndarray = None,\n",
    "    cutoff: float = 5.5,\n",
    "):\n",
    "    k = 3\n",
    "    mint = knots[k]\n",
    "    maxt = knots[-k]\n",
    "    # TODO lower cut_off might have to be modified or knots and coefficients have to be corespondingly set\n",
    "    within_cutoff = (dr > 0) & (dr < cutoff) & (dr >= mint) & (dr < maxt)\n",
    "    dr = jnp.where(within_cutoff, dr, 0.0)\n",
    "    dr0 = jnp.where(species==0, dr, 0.0)\n",
    "    dr1 = jnp.where(species==1, dr, 0.0)\n",
    "    spline = jit(vmap(partial(jsp.deBoor_factor_unsafe, k, knots)))\n",
    "    U = jnp.where(\n",
    "        within_cutoff, jnp.sum(coefficients['(0,0)'] * spline(dr0), 1), 0.0\n",
    "    )  # TODO check performance vs einsum\n",
    "    U = U + jnp.where(\n",
    "        within_cutoff, jnp.sum(coefficients['(1,1)'] * spline(dr1), 1), 0.0\n",
    "    )\n",
    "    return U"
   ]
  },
  {
   "cell_type": "code",
   "execution_count": 5,
   "metadata": {},
   "outputs": [],
   "source": [
    "dr = jnp.asarray([2.0,2])\n",
    "species = jnp.asarray([0,1])"
   ]
  },
  {
   "cell_type": "code",
   "execution_count": 6,
   "metadata": {},
   "outputs": [],
   "source": [
    "test = {}\n",
    "test['(0,0)'] = coefficients\n",
    "test['(1,1)'] = jnp.ones_like(coefficients)"
   ]
  },
  {
   "cell_type": "code",
   "execution_count": 7,
   "metadata": {},
   "outputs": [
    {
     "data": {
      "text/plain": [
       "DeviceArray([1.7074257, 1.7074257], dtype=float32)"
      ]
     },
     "execution_count": 7,
     "metadata": {},
     "output_type": "execute_result"
    }
   ],
   "source": [
    "potentials.uf2_interaction(dr,coefficients, knots)"
   ]
  },
  {
   "cell_type": "code",
   "execution_count": 8,
   "metadata": {},
   "outputs": [
    {
     "data": {
      "text/plain": [
       "DeviceArray([1.7074257 , 0.99999994], dtype=float32)"
      ]
     },
     "execution_count": 8,
     "metadata": {},
     "output_type": "execute_result"
    }
   ],
   "source": [
    "uf2_interaction(dr,species,coefficients=test,knots=knots)"
   ]
  },
  {
   "cell_type": "code",
   "execution_count": 9,
   "metadata": {},
   "outputs": [],
   "source": [
    "f = lambda c: jnp.sum((jnp.ones(2) - uf2_interaction(dr, species, coefficients=c, knots=knots)) ** 2)"
   ]
  },
  {
   "cell_type": "code",
   "execution_count": 10,
   "metadata": {},
   "outputs": [
    {
     "data": {
      "text/plain": [
       "DeviceArray(0.50045115, dtype=float32)"
      ]
     },
     "execution_count": 10,
     "metadata": {},
     "output_type": "execute_result"
    }
   ],
   "source": [
    "f(test)"
   ]
  },
  {
   "cell_type": "code",
   "execution_count": 11,
   "metadata": {},
   "outputs": [
    {
     "data": {
      "text/plain": [
       "{'(0,0)': DeviceArray([0.0000000e+00, 0.0000000e+00, 0.0000000e+00, 1.5797353e-01,\n",
       "              9.2250890e-01, 3.3390841e-01, 4.6056215e-04, 0.0000000e+00,\n",
       "              0.0000000e+00, 0.0000000e+00, 0.0000000e+00, 0.0000000e+00,\n",
       "              0.0000000e+00, 0.0000000e+00, 0.0000000e+00, 0.0000000e+00,\n",
       "              0.0000000e+00, 0.0000000e+00, 0.0000000e+00, 0.0000000e+00,\n",
       "              0.0000000e+00, 0.0000000e+00, 0.0000000e+00, 0.0000000e+00,\n",
       "              0.0000000e+00, 0.0000000e+00, 0.0000000e+00, 0.0000000e+00],            dtype=float32),\n",
       " '(1,1)': DeviceArray([ 0.0000000e+00,  0.0000000e+00,  0.0000000e+00,\n",
       "              -1.3310170e-08, -7.7726625e-08, -2.8133686e-08,\n",
       "              -3.8804984e-11,  0.0000000e+00,  0.0000000e+00,\n",
       "               0.0000000e+00,  0.0000000e+00,  0.0000000e+00,\n",
       "               0.0000000e+00,  0.0000000e+00,  0.0000000e+00,\n",
       "               0.0000000e+00,  0.0000000e+00,  0.0000000e+00,\n",
       "               0.0000000e+00,  0.0000000e+00,  0.0000000e+00,\n",
       "               0.0000000e+00,  0.0000000e+00,  0.0000000e+00,\n",
       "               0.0000000e+00,  0.0000000e+00,  0.0000000e+00,\n",
       "               0.0000000e+00], dtype=float32)}"
      ]
     },
     "execution_count": 11,
     "metadata": {},
     "output_type": "execute_result"
    }
   ],
   "source": [
    "df = grad(f)\n",
    "df(test)"
   ]
  },
  {
   "cell_type": "markdown",
   "metadata": {},
   "source": [
    "Gradients for specific coefficients"
   ]
  },
  {
   "cell_type": "code",
   "execution_count": 12,
   "metadata": {},
   "outputs": [],
   "source": [
    "def f2(c, cs):\n",
    "    cs['(1,1)'] = c\n",
    "    return jnp.sum((jnp.ones(2) - uf2_interaction(dr, species, coefficients=cs, knots=knots)) ** 2)"
   ]
  },
  {
   "cell_type": "code",
   "execution_count": 14,
   "metadata": {},
   "outputs": [
    {
     "data": {
      "text/plain": [
       "DeviceArray(0.50045115, dtype=float32)"
      ]
     },
     "execution_count": 14,
     "metadata": {},
     "output_type": "execute_result"
    }
   ],
   "source": [
    "f2(jnp.ones_like(coefficients), test)"
   ]
  },
  {
   "cell_type": "code",
   "execution_count": 16,
   "metadata": {},
   "outputs": [
    {
     "data": {
      "text/plain": [
       "DeviceArray([0.0000000e+00, 0.0000000e+00, 0.0000000e+00, 1.5797353e-01,\n",
       "             9.2250890e-01, 3.3390841e-01, 4.6056215e-04, 0.0000000e+00,\n",
       "             0.0000000e+00, 0.0000000e+00, 0.0000000e+00, 0.0000000e+00,\n",
       "             0.0000000e+00, 0.0000000e+00, 0.0000000e+00, 0.0000000e+00,\n",
       "             0.0000000e+00, 0.0000000e+00, 0.0000000e+00, 0.0000000e+00,\n",
       "             0.0000000e+00, 0.0000000e+00, 0.0000000e+00, 0.0000000e+00,\n",
       "             0.0000000e+00, 0.0000000e+00, 0.0000000e+00, 0.0000000e+00],            dtype=float32)"
      ]
     },
     "execution_count": 16,
     "metadata": {},
     "output_type": "execute_result"
    }
   ],
   "source": [
    "df2 = grad(f2)\n",
    "df2(coefficients, test)"
   ]
  },
  {
   "cell_type": "code",
   "execution_count": null,
   "metadata": {},
   "outputs": [],
   "source": []
  }
 ],
 "metadata": {
  "interpreter": {
   "hash": "ca6e4c1237d2523077850c33bb85c07df22e41d5dc1f9dffe27e02189376af2b"
  },
  "kernelspec": {
   "display_name": "Python 3.9.7 ('uf3')",
   "language": "python",
   "name": "python3"
  },
  "language_info": {
   "codemirror_mode": {
    "name": "ipython",
    "version": 3
   },
   "file_extension": ".py",
   "mimetype": "text/x-python",
   "name": "python",
   "nbconvert_exporter": "python",
   "pygments_lexer": "ipython3",
   "version": "3.9.7"
  },
  "orig_nbformat": 4
 },
 "nbformat": 4,
 "nbformat_minor": 2
}
