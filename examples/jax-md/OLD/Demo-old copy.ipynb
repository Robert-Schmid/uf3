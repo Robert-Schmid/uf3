{
 "cells": [
  {
   "cell_type": "code",
   "execution_count": 1,
   "id": "07328d05-7c38-48ee-a275-601cf17537e1",
   "metadata": {},
   "outputs": [
    {
     "name": "stderr",
     "output_type": "stream",
     "text": [
      "<frozen importlib._bootstrap>:228: RuntimeWarning: scipy._lib.messagestream.MessageStream size changed, may indicate binary incompatibility. Expected 56 from C header, got 64 from PyObject\n"
     ]
    }
   ],
   "source": [
    "import numpy as np\n",
    "import matplotlib.pyplot as plt\n",
    "import ase\n",
    "\n",
    "import timeit\n",
    "\n",
    "f64 = np.float64\n",
    "f32 = np.float32\n",
    "\n",
    "from uf3.data.composition import ChemicalSystem\n",
    "from uf3.representation.bspline import BSplineBasis\n",
    "from uf3.regression.least_squares import WeightedLinearModel\n",
    "\n",
    "from uf3.forcefield import calculator\n",
    "\n",
    "\n",
    "from jax.config import config\n",
    "config.update(\"jax_enable_x64\", True)\n",
    "\n",
    "from uf3.jax.potentials import uf2_pair, uf2_neighbor, get_stress_fn\n",
    "from uf3.jax import potentialsOld\n",
    "from jax import grad, jit, vmap, lax, hessian\n",
    "import jax.numpy as jnp\n",
    "\n",
    "from jax_md import space, smap, energy, minimize, quantity, simulate, partition, interpolate\n"
   ]
  },
  {
   "cell_type": "code",
   "execution_count": 2,
   "id": "129afdf7-9409-4f79-8849-63c6d29d1dce",
   "metadata": {},
   "outputs": [],
   "source": [
    "element_list = [\"W\"]\n",
    "degree = 2 # include two-body interactions (pair potential)\n",
    "\n",
    "chemical_system = ChemicalSystem(element_list=element_list,\n",
    "                                 degree=degree)\n",
    "\n",
    "r_min_map = {('W', 'W'): 1.5,}  # minimum distance cutoff (angstroms)\n",
    "r_max_map = {('W', 'W'): 5.5,}  # maximum distance cutoff (angstroms)\n",
    "resolution_map = {('W', 'W'): 12}  # number of knot intervals\n",
    "\n",
    "bspline_config = BSplineBasis(chemical_system,\n",
    "                               r_min_map=r_min_map,\n",
    "                               r_max_map=r_max_map,\n",
    "                               resolution_map=resolution_map)\n",
    "\n",
    "model_coefficients = [-7.66691574e+00,  1.25129255e+01,  5.93366978e+00,  2.64404190e+00,\\\n",
    "        3.89362649e-01, -1.80794686e-01, -2.84676830e-01, -2.67508086e-01,\\\n",
    "       -9.45645302e-02,  1.47269014e-02, -6.01878769e-03, -8.12415903e-03,\\\n",
    "        8.67558130e-03, -4.74148052e-03, -7.13338724e-04,  0.00000000e+00]\n",
    "\n",
    "model = WeightedLinearModel(bspline_config)\n",
    "\n",
    "model.coefficients = np.asarray(model_coefficients)"
   ]
  },
  {
   "cell_type": "code",
   "execution_count": 3,
   "id": "65fcc4be-b56e-4651-a8d4-84b8048cca01",
   "metadata": {},
   "outputs": [
    {
     "name": "stdout",
     "output_type": "stream",
     "text": [
      "[ 1.25129255e+01  5.93366978e+00  2.64404190e+00  3.89362649e-01\n",
      " -1.80794686e-01 -2.84676830e-01 -2.67508086e-01 -9.45645302e-02\n",
      "  1.47269014e-02 -6.01878769e-03 -8.12415903e-03  8.67558130e-03\n",
      " -4.74148052e-03 -7.13338724e-04  0.00000000e+00]\n"
     ]
    }
   ],
   "source": [
    "calc = calculator.UFCalculator(model)\n",
    "\n",
    "pairs = calc.bspline_config.chemical_system.interactions_map[2]\n",
    "\n",
    "knots = calc.bspline_config.knots_map[pairs[0]]\n",
    "coefficients = calc.solutions[pairs[0]]\n",
    "\n",
    "print(coefficients)"
   ]
  },
  {
   "cell_type": "markdown",
   "id": "f8a56caa-28db-44c7-b8b2-8f43bc853961",
   "metadata": {},
   "source": [
    "# Code Demo\n",
    "\n",
    "## Setting up Parameters\n",
    "\n",
    "### Coefficients and Knots for Tungsten"
   ]
  },
  {
   "cell_type": "code",
   "execution_count": 4,
   "id": "29fbf6de-f504-4620-b777-7ce6125094b0",
   "metadata": {},
   "outputs": [],
   "source": [
    "knots = [1.5, 1.5, 1.5, 1.5, 1.83333333, 2.16666667, 2.5, 2.83333333, 3.16666667, 3.5, 3.83333333, 4.16666667, 4.5, 4.83333333, 5.16666667, 5.5, 5.5, 5.5, 5.5]\n",
    "\n",
    "coefficients = [ 1.25129255e+01,  5.93366978e+00,  2.64404190e+00,  3.89362649e-01, -1.80794686e-01, -2.84676830e-01, -2.67508086e-01, \\\n",
    "                -9.45645302e-02, 1.47269014e-02, -6.01878769e-03, -8.12415903e-03, 8.67558130e-03, -4.74148052e-03, -7.13338724e-04,  0.00000000e+00]"
   ]
  },
  {
   "cell_type": "markdown",
   "id": "608a1ebd-5a67-46b5-8254-df30cf368b4e",
   "metadata": {},
   "source": [
    "## Create a large Custom Cell"
   ]
  },
  {
   "cell_type": "code",
   "execution_count": 5,
   "id": "6eaa2782-26fc-4e67-88e0-68cc124fc939",
   "metadata": {},
   "outputs": [],
   "source": [
    "from jax_md.quantity import box_size_at_number_density\n",
    "\n",
    "def creat_random_cell(particle_count, density):\n",
    "\n",
    "    dim = 3\n",
    "    box_size = box_size_at_number_density(particle_count    = particle_count, \n",
    "                                          number_density    = density, \n",
    "                                          spatial_dimension = dim)\n",
    "\n",
    "    rng = np.random.default_rng(3)\n",
    "    pos = rng.uniform(0.0, box_size, (particle_count,3))\n",
    "\n",
    "    atoms = ase.Atoms('W'+str(particle_count),\n",
    "                      positions=pos,\n",
    "                      cell=[box_size, box_size, box_size],\n",
    "                      pbc=[1,1,1])\n",
    "    return atoms"
   ]
  },
  {
   "cell_type": "code",
   "execution_count": 6,
   "id": "0f24ee84-be49-47bf-b19c-b87ca3d10df0",
   "metadata": {},
   "outputs": [
    {
     "name": "stderr",
     "output_type": "stream",
     "text": [
      "WARNING:absl:No GPU/TPU found, falling back to CPU. (Set TF_CPP_MIN_LOG_LEVEL=0 and rerun for more info.)\n"
     ]
    },
    {
     "name": "stdout",
     "output_type": "stream",
     "text": [
      "11.447142425533317\n"
     ]
    }
   ],
   "source": [
    "size = 100\n",
    "\n",
    "atoms = creat_random_cell(size, 1/15.0)\n",
    "\n",
    "print(atoms.cell.cellpar()[0]) # Edges have to be at least 11 long for JAX MD to work right\n",
    "   \n",
    "R = atoms.get_positions(wrap=True)"
   ]
  },
  {
   "cell_type": "markdown",
   "id": "2cc003e2-4630-4a95-b98e-3f2573e2a238",
   "metadata": {},
   "source": [
    "## Using the ASE-based UFP Implementation"
   ]
  },
  {
   "cell_type": "code",
   "execution_count": 8,
   "id": "5a286822-d401-40e2-84c0-3a8b08e54faa",
   "metadata": {},
   "outputs": [],
   "source": [
    "calc = calculator.UFCalculator(model)\n",
    "\n",
    "geom = atoms.copy()\n",
    "geom.set_calculator(calc)\n"
   ]
  },
  {
   "cell_type": "code",
   "execution_count": 9,
   "id": "ce7df388-fa09-4e62-9db7-02473d13d1a0",
   "metadata": {},
   "outputs": [],
   "source": [
    "#%%timeit -n1 -r5\n",
    "\n",
    "energy = geom.get_potential_energy(force_consistent=True)\n",
    "forces = geom.get_forces()\n",
    "stress = geom.get_stress()\n"
   ]
  },
  {
   "cell_type": "code",
   "execution_count": 10,
   "id": "9559cfe9-9ff2-4929-b9c1-303668c99569",
   "metadata": {},
   "outputs": [
    {
     "name": "stdout",
     "output_type": "stream",
     "text": [
      "Energy: 571.9160833398482\n",
      "Forces:\n",
      " [[ 52.14344602 -63.39688627  21.10488864]\n",
      " [ 34.9254233    9.70466697 -37.2808141 ]\n",
      " [ 36.39109213  22.41294595  30.4890162 ]\n",
      " [ -8.00302773 -11.41969786   9.6287169 ]\n",
      " [  0.82743839  -7.72977273 -10.00567689]]\n",
      "Max force: 229.68753385959016\n",
      "Stresses (numerical): [-1.11388509 -1.16451295 -1.35145374  0.1701487   0.06297906  0.04704345]\n"
     ]
    }
   ],
   "source": [
    "print(\"Energy:\", energy)\n",
    "print(\"Forces:\\n\", forces[0:5])\n",
    "print(\"Max force:\", np.max(np.abs(forces)))\n",
    "print(\"Stresses (numerical):\", stress)"
   ]
  },
  {
   "cell_type": "markdown",
   "id": "ae92b073-eb4a-4451-a2fa-96d80c23a6b0",
   "metadata": {},
   "source": [
    "## Using the JAX M.D. UFP Implementation"
   ]
  },
  {
   "cell_type": "code",
   "execution_count": 13,
   "id": "30b9984a",
   "metadata": {},
   "outputs": [],
   "source": [
    "knots = jnp.asarray(knots)\n",
    "coefficients = jnp.asarray(coefficients)"
   ]
  },
  {
   "cell_type": "code",
   "execution_count": 14,
   "id": "57614226-9400-4e33-b199-ee516400bb31",
   "metadata": {},
   "outputs": [],
   "source": [
    "# setup displacement\n",
    "box = atoms.get_cell().array\n",
    "\n",
    "# ---Experimenting with different JAX-MD spaces --------\n",
    "displacement, shift = space.periodic_general(box, fractional_coordinates=False)\n",
    "    \n",
    "ufp = uf2_pair(displacement, knots=knots, coefficients=coefficients)"
   ]
  },
  {
   "cell_type": "code",
   "execution_count": 21,
   "id": "48ad4697-ec00-495e-92ec-5688750038a5",
   "metadata": {},
   "outputs": [],
   "source": [
    "#%%timeit -n1 -r5\n",
    "\n",
    "# Use this to calculate the total energy\n",
    "energy = ufp(R)\n",
    "\n",
    "# Use grad to calculate the net force\n",
    "force_fn = grad(ufp)\n",
    "force = -force_fn(R)\n",
    "\n",
    "# Stress\n",
    "stress_fn = get_stress_fn(ufp, box)\n",
    "stress = stress_fn(R)"
   ]
  },
  {
   "cell_type": "code",
   "execution_count": 23,
   "id": "e5469c1b-46d5-401e-8d18-f28736c3bb9d",
   "metadata": {},
   "outputs": [
    {
     "name": "stdout",
     "output_type": "stream",
     "text": [
      "571.9160818159853\n",
      "[[ 52.14344624 -63.39688655  21.10488873]\n",
      " [ 34.92542298   9.70466692 -37.28081374]\n",
      " [ 36.39109195  22.41294583  30.48901608]\n",
      " [ -8.00302773 -11.41969785   9.6287169 ]\n",
      " [  0.82743841  -7.72977272 -10.00567684]]\n",
      "229.68753488472413\n",
      "[[-1.02629656  0.02274775  0.04006818]\n",
      " [ 0.02274775 -1.08964242  0.14115386]\n",
      " [ 0.04006818  0.14115386 -1.28837716]]\n"
     ]
    }
   ],
   "source": [
    "print(energy * 2)\n",
    "print(force[0:5] * 2)\n",
    "print(np.max(np.abs(force * 2)))\n",
    "print(stress * 2)"
   ]
  },
  {
   "cell_type": "code",
   "execution_count": null,
   "id": "92f47898-e478-457f-a32e-bc351c419a25",
   "metadata": {},
   "outputs": [
    {
     "name": "stdout",
     "output_type": "stream",
     "text": [
      "165 ms ± 3.62 ms per loop (mean ± std. dev. of 5 runs, 1 loop each)\n"
     ]
    }
   ],
   "source": [
    "%%timeit -n1 -r5\n",
    "\n",
    "ufpj = jit(ufp)\n",
    "\n",
    "# Use this to calculate the total energy\n",
    "energy = ufpj(R)\n",
    "\n",
    "# Use grad to calculate the net force\n",
    "force_fn = grad(ufpj)\n",
    "force = force_fn(R)\n",
    "\n",
    "# Stress\n",
    "stress_fn = get_stress_fn(ufpj, box)\n",
    "stress = stress_fn(R)"
   ]
  },
  {
   "cell_type": "code",
   "execution_count": null,
   "id": "7085285c-f3fa-4cf7-b4ef-bd94e8bdc4e0",
   "metadata": {},
   "outputs": [
    {
     "name": "stdout",
     "output_type": "stream",
     "text": [
      "[[ 1.31975776e+02 -2.26713103e+02  7.83711339e+01]\n",
      " [ 0.00000000e+00  0.00000000e+00  0.00000000e+00]\n",
      " [ 5.81072503e-02 -1.41280586e-02 -1.22263409e-02]\n",
      " [-1.21300490e-01  8.48324108e-02 -1.56314539e-01]\n",
      " [ 0.00000000e+00  0.00000000e+00  0.00000000e+00]]\n"
     ]
    }
   ],
   "source": [
    "# Hessian of Forces\n",
    "he_fn = hessian(ufp)\n",
    "he = he_fn(R)\n",
    "print(he[0][0][0:5])"
   ]
  },
  {
   "cell_type": "code",
   "execution_count": null,
   "id": "c1bf843a-2781-4342-9e8e-77ce161d8766",
   "metadata": {},
   "outputs": [],
   "source": []
  }
 ],
 "metadata": {
  "kernelspec": {
   "display_name": "Python 3.9.7 ('uf3')",
   "language": "python",
   "name": "python3"
  },
  "language_info": {
   "codemirror_mode": {
    "name": "ipython",
    "version": 3
   },
   "file_extension": ".py",
   "mimetype": "text/x-python",
   "name": "python",
   "nbconvert_exporter": "python",
   "pygments_lexer": "ipython3",
   "version": "3.9.7"
  },
  "vscode": {
   "interpreter": {
    "hash": "ca6e4c1237d2523077850c33bb85c07df22e41d5dc1f9dffe27e02189376af2b"
   }
  }
 },
 "nbformat": 4,
 "nbformat_minor": 5
}
