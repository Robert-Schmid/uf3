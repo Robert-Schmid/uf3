{
 "cells": [
  {
   "cell_type": "markdown",
   "metadata": {},
   "source": [
    "# Training 2 Body UFP in JAX MD"
   ]
  },
  {
   "cell_type": "code",
   "execution_count": 1,
   "metadata": {},
   "outputs": [
    {
     "name": "stderr",
     "output_type": "stream",
     "text": [
      "<frozen importlib._bootstrap>:228: RuntimeWarning: scipy._lib.messagestream.MessageStream size changed, may indicate binary incompatibility. Expected 56 from C header, got 64 from PyObject\n"
     ]
    }
   ],
   "source": [
    "import jax\n",
    "from jax import vmap, grad, value_and_grad\n",
    "import jax.numpy as jnp\n",
    "\n",
    "from jax.config import config\n",
    "config.update(\"jax_enable_x64\", True)\n",
    "\n",
    "from functools import partial\n",
    "\n",
    "from uf3.util.random import random_spline\n",
    "from uf3.jax.jax_splines import ndSpline_unsafe\n",
    "\n",
    "from uf3.jax.training import loss_uf2\n",
    "from uf3.regression.regularize import get_regularizer_matrix"
   ]
  },
  {
   "cell_type": "code",
   "execution_count": 2,
   "metadata": {},
   "outputs": [],
   "source": [
    "def per_atom_f(fn, c):\n",
    "    def f(x, coefficients=c):\n",
    "        s = partial(fn, coefficients=coefficients)\n",
    "        tmp = vmap(s)(x)\n",
    "        return jnp.sum(tmp)\n",
    "    return grad(f)\n"
   ]
  },
  {
   "cell_type": "code",
   "execution_count": 3,
   "metadata": {},
   "outputs": [
    {
     "name": "stderr",
     "output_type": "stream",
     "text": [
      "WARNING:absl:No GPU/TPU found, falling back to CPU. (Set TF_CPP_MIN_LOG_LEVEL=0 and rerun for more info.)\n"
     ]
    }
   ],
   "source": [
    "c, k, x = random_spline([20],0,10,300,(3,),123)\n",
    "# reference = lambda x: jnp.sum(vmap(ndSpline_unsafe(c,k,(3,)))(x))\n",
    "s = ndSpline_unsafe(c,k,(3,))\n",
    "\n",
    "ref_e = vmap(s)\n",
    "ref_f = grad(lambda x :jnp.sum(vmap(s)(x)))\n",
    "ref_ff = per_atom_f(s, c)"
   ]
  },
  {
   "cell_type": "code",
   "execution_count": 4,
   "metadata": {},
   "outputs": [],
   "source": [
    "train_x = x[:100]\n",
    "train_e = ref_e(train_x)\n",
    "train_f = ref_f(train_x)\n",
    "\n",
    "test_x = x[100:]\n",
    "test_e = ref_e(test_x) \n",
    "test_f = ref_f(test_x)"
   ]
  },
  {
   "cell_type": "code",
   "execution_count": 5,
   "metadata": {},
   "outputs": [],
   "source": [
    "coeff = jnp.zeros_like(c)\n",
    "new = lambda c: grad(lambda x :jnp.sum(vmap(ndSpline_unsafe(c,k,(3,)))(x)))"
   ]
  },
  {
   "cell_type": "code",
   "execution_count": 7,
   "metadata": {},
   "outputs": [],
   "source": [
    "# loss_uf2(coeff, train_x, train_e, train_f, new)"
   ]
  },
  {
   "cell_type": "code",
   "execution_count": 14,
   "metadata": {},
   "outputs": [],
   "source": [
    "coefficients = coeff\n",
    "S = train_x\n",
    "E = train_e\n",
    "F = train_f\n",
    "kappa = 0.5\n",
    "lam=1.0\n",
    "\n",
    "sigE = jnp.sum((E - E.mean())**2)\n",
    "sigF = jnp.sum((F - F.mean())**2)\n",
    "dE = 0.0\n",
    "dF = 0.0\n",
    "# for s, e, f in zip(S,E,F):\n",
    "se = partial(s, coefficients=coefficients)\n",
    "v = vmap(se)(S)\n",
    "g = ref_ff(S, coefficients=coefficients)\n",
    "dE += (v - E) ** 2\n",
    "dF += (-g - F) ** 2\n",
    "\n",
    "E_term = (kappa / sigE) * jnp.sum(dE)"
   ]
  },
  {
   "cell_type": "code",
   "execution_count": 20,
   "metadata": {},
   "outputs": [],
   "source": [
    "\n",
    "F_term = ((1-kappa) / sigF) * jnp.sum(dF)\n"
   ]
  },
  {
   "cell_type": "code",
   "execution_count": 23,
   "metadata": {},
   "outputs": [],
   "source": [
    "\n",
    "D = jnp.asarray(get_regularizer_matrix(len(coefficients)))\n",
    "L_term = lam * jnp.sum((D * coefficients)**2)"
   ]
  },
  {
   "cell_type": "code",
   "execution_count": 29,
   "metadata": {},
   "outputs": [
    {
     "data": {
      "text/plain": [
       "DeviceArray(1.12840551, dtype=float64)"
      ]
     },
     "execution_count": 29,
     "metadata": {},
     "output_type": "execute_result"
    }
   ],
   "source": [
    "E_term + F_term + L_term"
   ]
  },
  {
   "cell_type": "code",
   "execution_count": null,
   "metadata": {},
   "outputs": [],
   "source": []
  }
 ],
 "metadata": {
  "kernelspec": {
   "display_name": "Python 3.9.7 ('uf3')",
   "language": "python",
   "name": "python3"
  },
  "language_info": {
   "codemirror_mode": {
    "name": "ipython",
    "version": 3
   },
   "file_extension": ".py",
   "mimetype": "text/x-python",
   "name": "python",
   "nbconvert_exporter": "python",
   "pygments_lexer": "ipython3",
   "version": "3.9.7"
  },
  "orig_nbformat": 4,
  "vscode": {
   "interpreter": {
    "hash": "ca6e4c1237d2523077850c33bb85c07df22e41d5dc1f9dffe27e02189376af2b"
   }
  }
 },
 "nbformat": 4,
 "nbformat_minor": 2
}
