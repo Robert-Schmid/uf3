{
 "cells": [
  {
   "cell_type": "code",
   "execution_count": 1,
   "metadata": {},
   "outputs": [
    {
     "name": "stderr",
     "output_type": "stream",
     "text": [
      "<frozen importlib._bootstrap>:228: RuntimeWarning: scipy._lib.messagestream.MessageStream size changed, may indicate binary incompatibility. Expected 56 from C header, got 64 from PyObject\n"
     ]
    }
   ],
   "source": [
    "import pytest\n",
    "\n",
    "from uf3.jax.potentials import uf3_mapped, uf3_neighbor\n",
    "from uf3.jax.jax_splines import featurization_with_gradients\n",
    "import jax.numpy as jnp\n",
    "from uf3.jax.jax_splines import *\n",
    "from jax import vmap, grad, jacrev\n",
    "from uf3.util.random import random_spline\n",
    "import numpy as onp\n",
    "import ndsplines\n",
    "from numpy.testing import assert_allclose\n",
    "from jax_md import space, energy\n",
    "\n",
    "from jax.config import config\n",
    "config.update(\"jax_enable_x64\", True)\n",
    "# config.update(\"jax_debug_nans\", True)\n",
    "# config.update('jax_disable_jit', True)\n",
    "\n",
    "# from utils import make_random_spline\n",
    "\n",
    "from jax_md import space\n",
    "from uf3.jax.potentials import *\n",
    "import ase\n",
    "from uf3.data import composition\n",
    "from uf3.representation import bspline\n",
    "from uf3.regression import least_squares\n",
    "from uf3.forcefield import calculator"
   ]
  },
  {
   "cell_type": "code",
   "execution_count": 2,
   "metadata": {},
   "outputs": [
    {
     "name": "stderr",
     "output_type": "stream",
     "text": [
      "WARNING:absl:No GPU/TPU found, falling back to CPU. (Set TF_CPP_MIN_LOG_LEVEL=0 and rerun for more info.)\n"
     ]
    },
    {
     "name": "stdout",
     "output_type": "stream",
     "text": [
      "Seed for energy test: 925\n"
     ]
    },
    {
     "name": "stderr",
     "output_type": "stream",
     "text": [
      "/opt/anaconda/envs/uf3/lib/python3.9/site-packages/jax/_src/ops/scatter.py:87: FutureWarning: scatter inputs have incompatible types: cannot safely cast value from dtype=int64 to dtype=int32. In future JAX releases this will result in an error.\n",
      "  warnings.warn(\"scatter inputs have incompatible types: cannot safely cast \"\n"
     ]
    }
   ],
   "source": [
    "N = 50\n",
    "dimension = 3\n",
    "box_size = 12.0\n",
    "rng = onp.random.default_rng()\n",
    "seed = rng.integers(0, 999)\n",
    "print(f\"Seed for energy test: {seed}\")\n",
    "rng = onp.random.default_rng(seed)\n",
    "rng = onp.random.default_rng(848)\n",
    "\n",
    "R = rng.uniform(0.0, box_size, (N, dimension))\n",
    "R = jnp.asarray(R, dtype=jnp.float64)\n",
    "\n",
    "box = jnp.eye(dimension) * box_size\n",
    "displacement, shift = space.periodic_general(box, fractional_coordinates=False)\n",
    "\n",
    "species = onp.concatenate([onp.zeros(N // 2), onp.ones(N - (N // 2))])\n",
    "rng.shuffle(species)\n",
    "species = jnp.asarray(species, dtype=jnp.int16)\n",
    "\n",
    "pos = onp.asarray(R)\n",
    "cell = onp.asarray(box)\n",
    "pbc = onp.asarray([True, True, True])\n",
    "atoms = ase.Atoms(\"W\" + str(len(R)), positions=pos, cell=cell, pbc=pbc)\n",
    "r_min_map = {(\"W\", \"W\"): 1.5,\n",
    "            (\"W\", \"W\", \"W\"): [1.5, 1.5, 1.5],\n",
    "        }\n",
    "r_max_map = {(\"W\", \"W\"): 5.5,\n",
    "            (\"W\", \"W\", \"W\"): [3.5, 3.5, 7.0],\n",
    "        }\n",
    "resolution_map = {(\"W\", \"W\"): 25,\n",
    "                (\"W\", \"W\", \"W\"): [5, 5, 10],\n",
    "                }\n",
    "trailing_trim = 3\n",
    "chemical_system = composition.ChemicalSystem(element_list=[\"W\"], degree=3)\n",
    "bspline_config = bspline.BSplineBasis(chemical_system,\n",
    "                                    r_min_map=r_min_map,\n",
    "                                    r_max_map=r_max_map,\n",
    "                                    resolution_map=resolution_map,\n",
    "                                    trailing_trim=trailing_trim)\n",
    "\n",
    "model = least_squares.WeightedLinearModel(bspline_config)\n",
    "# model.coefficients = onp.ones()\n",
    "\n",
    "model.load(filename=\"../../tungsten_extxyz/model_uf23.json\")\n",
    "\n",
    "calc = calculator.UFCalculator(model)\n",
    "ndspline2 = calc.pair_potentials[('W','W')]\n",
    "ndspline3 = calc.trio_potentials[('W','W','W')]\n",
    "knots2 = [jnp.asarray(ndspline2.knots[0])]\n",
    "knots3 = ndspline3.knots\n",
    "knots3 = [jnp.asarray(i) for i in knots3]\n",
    "\n",
    "coefficients2 = rng.standard_normal(len(knots2[0]) - 7) * 5\n",
    "coefficients2 = onp.pad(coefficients2, (0, 3))\n",
    "coefficients2 = jnp.asarray(coefficients2)\n",
    "\n",
    "\n",
    "c3_shape = (ndspline3.coefficients.shape[0] -3,ndspline3.coefficients.shape[1] -3,ndspline3.coefficients.shape[2] -3)\n",
    "coefficients3 = rng.standard_normal(c3_shape) * 5\n",
    "coefficients3 = onp.pad(coefficients3, ((0, 3),) * 3)\n",
    "coefficients3 = jnp.asarray(coefficients3)\n",
    "\n",
    "coefficients2 = jnp.zeros_like(coefficients2)\n",
    "# coefficients3 = jnp.ones_like(coefficients3)\n",
    "\n",
    "pair = uf3_pair(\n",
    "    displacement, [knots2, knots3], coefficients=[coefficients2, coefficients3]\n",
    ")\n",
    "nf, ef = uf3_neighbor(\n",
    "    displacement,\n",
    "    box_size,\n",
    "    [knots2, knots3],\n",
    "    coefficients=[coefficients2, coefficients3],\n",
    "    cutoff=knots2[0][-1] + 0.5,\n",
    ")\n",
    "\n",
    "coeff_dict2 = {}\n",
    "coeff_dict2[(0, 0)] = coefficients2\n",
    "coeff_dict2[(0, 1)] = coefficients2\n",
    "coeff_dict2[(1, 1)] = coefficients2\n",
    "\n",
    "knot_dict2 = {}\n",
    "knot_dict2[(0, 0)] = knots2\n",
    "knot_dict2[(0, 1)] = knots2\n",
    "knot_dict2[(1, 1)] = knots2\n"
   ]
  },
  {
   "cell_type": "code",
   "execution_count": 13,
   "metadata": {},
   "outputs": [],
   "source": [
    "\n",
    "coeff_dict3 = {}\n",
    "coeff_dict3[(0, 0, 0)] = coefficients3\n",
    "coeff_dict3[(0, 0, 1)] = coefficients3\n",
    "coeff_dict3[(0, 1, 1)] = coefficients3\n",
    "coeff_dict3[(1, 0, 0)] = coefficients3\n",
    "coeff_dict3[(1, 0, 1)] = coefficients3\n",
    "coeff_dict3[(1, 1, 1)] = coefficients3\n",
    "\n",
    "knot_dict3 = {}\n",
    "knot_dict3[(0, 0, 0)] = knots3\n",
    "knot_dict3[(0, 0, 1)] = knots3\n",
    "knot_dict3[(0, 1, 1)] = knots3\n",
    "knot_dict3[(1, 0, 0)] = knots3\n",
    "knot_dict3[(1, 0, 1)] = knots3\n",
    "knot_dict3[(1, 1, 1)] = knots3\n",
    "\n",
    "nfs, efs = uf3_neighbor(\n",
    "    displacement,\n",
    "    box_size,\n",
    "    [knot_dict2, knot_dict3],\n",
    "    species=jnp.ones_like(species),\n",
    "    coefficients=[coeff_dict2, coeff_dict3],\n",
    "    cutoff=knots2[0][-1] + 0.5,\n",
    ")\n"
   ]
  },
  {
   "cell_type": "code",
   "execution_count": 15,
   "metadata": {},
   "outputs": [
    {
     "data": {
      "text/plain": [
       "50"
      ]
     },
     "execution_count": 15,
     "metadata": {},
     "output_type": "execute_result"
    }
   ],
   "source": [
    "len(species)"
   ]
  },
  {
   "cell_type": "code",
   "execution_count": 14,
   "metadata": {},
   "outputs": [
    {
     "data": {
      "text/plain": [
       "DeviceArray(-6.59145981, dtype=float64)"
      ]
     },
     "execution_count": 14,
     "metadata": {},
     "output_type": "execute_result"
    }
   ],
   "source": [
    "nbrs = nfs.allocate(R)\n",
    "efs(R, neighbor=nbrs)"
   ]
  },
  {
   "cell_type": "code",
   "execution_count": null,
   "metadata": {},
   "outputs": [],
   "source": [
    "\n",
    "energy_1 = pair(R)\n",
    "\n",
    "nbrs = nf.allocate(R)\n",
    "energy_2 = ef(R, neighbor=nbrs)\n",
    "\n",
    "nbrs = nfs.allocate(R)\n",
    "energy_3 = efs(R, neighbor=nbrs)\n",
    "\n",
    "# assert jnp.allclose(energy_1, energy_2)\n",
    "# assert jnp.allclose(energy_2, energy_3)\n",
    "\n",
    "ndspline2.coefficients = onp.asarray(coefficients2[:,None])\n",
    "ndspline3.coefficients = onp.asarray(coefficients3[:,:,:,None])\n",
    "calc.pair_potentials[('W','W')] = ndspline2\n",
    "calc.trio_potentials[('W','W','W')] = ndspline3\n",
    "atoms.set_calculator(calc)\n",
    "\n",
    "energy_4 = atoms.get_potential_energy(force_consistent=True)\n",
    "\n",
    "# assert jnp.allclose(energy_2, energy_4)"
   ]
  },
  {
   "cell_type": "code",
   "execution_count": 3,
   "metadata": {},
   "outputs": [
    {
     "data": {
      "text/plain": [
       "DeviceArray(-6.59145981, dtype=float64)"
      ]
     },
     "execution_count": 3,
     "metadata": {},
     "output_type": "execute_result"
    }
   ],
   "source": [
    "energy_1"
   ]
  },
  {
   "cell_type": "code",
   "execution_count": 4,
   "metadata": {},
   "outputs": [
    {
     "data": {
      "text/plain": [
       "DeviceArray(-6.59145981, dtype=float64)"
      ]
     },
     "execution_count": 4,
     "metadata": {},
     "output_type": "execute_result"
    }
   ],
   "source": [
    "energy_2"
   ]
  },
  {
   "cell_type": "code",
   "execution_count": 5,
   "metadata": {},
   "outputs": [
    {
     "data": {
      "text/plain": [
       "DeviceArray(2.32717351, dtype=float64)"
      ]
     },
     "execution_count": 5,
     "metadata": {},
     "output_type": "execute_result"
    }
   ],
   "source": [
    "energy_3"
   ]
  },
  {
   "cell_type": "code",
   "execution_count": 6,
   "metadata": {},
   "outputs": [
    {
     "data": {
      "text/plain": [
       "-24.96473996921558"
      ]
     },
     "execution_count": 6,
     "metadata": {},
     "output_type": "execute_result"
    }
   ],
   "source": [
    "energy_4"
   ]
  },
  {
   "cell_type": "code",
   "execution_count": null,
   "metadata": {},
   "outputs": [],
   "source": []
  }
 ],
 "metadata": {
  "interpreter": {
   "hash": "ca6e4c1237d2523077850c33bb85c07df22e41d5dc1f9dffe27e02189376af2b"
  },
  "kernelspec": {
   "display_name": "Python 3.9.7 ('uf3')",
   "language": "python",
   "name": "python3"
  },
  "language_info": {
   "codemirror_mode": {
    "name": "ipython",
    "version": 3
   },
   "file_extension": ".py",
   "mimetype": "text/x-python",
   "name": "python",
   "nbconvert_exporter": "python",
   "pygments_lexer": "ipython3",
   "version": "3.9.7"
  },
  "orig_nbformat": 4
 },
 "nbformat": 4,
 "nbformat_minor": 2
}
