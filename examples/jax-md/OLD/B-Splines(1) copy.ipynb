{
 "cells": [
  {
   "cell_type": "code",
   "execution_count": 1,
   "metadata": {},
   "outputs": [
    {
     "name": "stderr",
     "output_type": "stream",
     "text": [
      "<frozen importlib._bootstrap>:228: RuntimeWarning: scipy._lib.messagestream.MessageStream size changed, may indicate binary incompatibility. Expected 56 from C header, got 64 from PyObject\n"
     ]
    }
   ],
   "source": [
    "from uf3.jax.jax_splines import *\n",
    "from uf3.util.random import random_spline\n",
    "\n",
    "import jax.numpy as jnp\n",
    "from jax import jit, grad, vmap, value_and_grad\n",
    "import jax\n",
    "\n",
    "import numpy as onp\n",
    "\n",
    "import ndsplines\n",
    "\n",
    "import time\n",
    "import timeit\n",
    "\n",
    "import matplotlib.pyplot as plt\n",
    "import matplotlib\n",
    "\n",
    "from dataclasses import dataclass\n",
    "from typing import Optional, Tuple\n",
    "from pydantic import validate_arguments\n",
    "\n",
    "from jax.config import config\n",
    "config.update(\"jax_enable_x64\", True)"
   ]
  },
  {
   "cell_type": "markdown",
   "metadata": {},
   "source": [
    "# Benchmarks for Splines"
   ]
  },
  {
   "cell_type": "code",
   "execution_count": 2,
   "metadata": {},
   "outputs": [],
   "source": [
    "timings = {}\n",
    "seed = 123"
   ]
  },
  {
   "cell_type": "code",
   "execution_count": 20,
   "metadata": {},
   "outputs": [],
   "source": [
    "@validate_arguments\n",
    "@dataclass(frozen=True)\n",
    "class Setting():\n",
    "    name: str\n",
    "    dimension: Tuple[int,...]\n",
    "    resolution: Tuple[int,...]\n",
    "    degree: Tuple[int,...]\n",
    "    implementation: str\n",
    "    basis: Optional[BSplineBackend]\n",
    "    backend: Optional[str]\n",
    "    size: Tuple[int,...]\n"
   ]
  },
  {
   "cell_type": "markdown",
   "metadata": {},
   "source": [
    "## The fastest backend for cubic splines\n",
    "- (1D and 3D)\n",
    "- CPU vs GPU"
   ]
  },
  {
   "cell_type": "markdown",
   "metadata": {},
   "source": [
    "### 1D"
   ]
  },
  {
   "cell_type": "code",
   "execution_count": 4,
   "metadata": {},
   "outputs": [],
   "source": [
    "A = Setting('Symbolic_CPU', [1], [20], [3], 'jax', BSplineBackend.Symbolic, 'cpu', [10e2,10e3,10e4,10e5,10e6,10e7,10e8])\n",
    "B = Setting('Symbolic_GPU', [1], [20], [3], 'jax', BSplineBackend.Symbolic, 'gpu', [10e2,10e3,10e4,10e5,10e6,10e7])\n",
    "C = Setting('DeBoor_CPU', [1], [20], [3], 'jax', BSplineBackend.DeBoor, 'cpu', [10e2,10e3,10e4,10e5,10e6,10e7,10e8])\n",
    "D = Setting('DeBoor_GPU', [1], [20], [3], 'jax', BSplineBackend.DeBoor, 'gpu', [10e2,10e3,10e4,10e5,10e6,10e7])\n",
    "\n",
    "one_d = [A,B,C,D]"
   ]
  },
  {
   "cell_type": "markdown",
   "metadata": {},
   "source": [
    "### 3D"
   ]
  },
  {
   "cell_type": "code",
   "execution_count": 5,
   "metadata": {},
   "outputs": [],
   "source": [
    "A = Setting('Symbolic_CPU', [3], [20], [3], 'jax', BSplineBackend.Symbolic, 'cpu', [10e2,10e3,10e4,10e5,10e6,10e7,10e8])\n",
    "B = Setting('Symbolic_GPU', [3], [20], [3], 'jax', BSplineBackend.Symbolic, 'gpu', [10e2,10e3,10e4,10e5,10e6,10e7])\n",
    "C = Setting('DeBoor_CPU', [3], [20], [3], 'jax', BSplineBackend.DeBoor, 'cpu', [10e2,10e3,10e4,10e5,10e6,10e7,10e8])\n",
    "D = Setting('DeBoor_GPU', [3], [20], [3], 'jax', BSplineBackend.DeBoor, 'gpu', [10e2,10e3,10e4,10e5,10e6,10e7])\n",
    "\n",
    "three_d = [A,B,C,D]"
   ]
  },
  {
   "cell_type": "markdown",
   "metadata": {},
   "source": [
    "## Comparing to other implementations (1D cubic)\n",
    "\n",
    "- JAX\n",
    "- ndspline\n",
    "- scipy"
   ]
  },
  {
   "cell_type": "code",
   "execution_count": 6,
   "metadata": {},
   "outputs": [],
   "source": [
    "A = Setting('ndsplines', [1], [20], [3], 'ndsplines', None, None, [10e2,10e3,10e4,10e5,10e6,10e7, 10e8])\n",
    "B = Setting('ndsplines', [3], [20], [3], 'ndsplines', None, None, [10e2,10e3,10e4,10e5,10e6,10e7, 10e8])\n",
    "C = Setting('SciPy', [1], [20], [3], 'scipy', None, None, [10e2,10e3,10e4,10e5,10e6,10e7, 10e8])\n",
    "\n",
    "other = [A,B,C]"
   ]
  },
  {
   "cell_type": "markdown",
   "metadata": {},
   "source": [
    "## Effects of higher degrees (deBoor backend and ndspline)"
   ]
  },
  {
   "cell_type": "code",
   "execution_count": 7,
   "metadata": {},
   "outputs": [],
   "source": [
    "A = Setting('DeBoor_CPU', [1], [40], [3,4,5,6,7,8,9,10], 'jax', BSplineBackend.DeBoor, 'cpu', [10e6])\n",
    "B = Setting('DeBoor_GPU', [1], [40], [3,4,5,6,7,8,9,10], 'jax', BSplineBackend.DeBoor, 'gpu', [10e6])\n",
    "C = Setting('ndsplines', [1], [40], [3,4,5,6,7,8,9,10], 'ndsplines', None, None, [10e6])\n",
    "\n",
    "degree = [A,B,C]"
   ]
  },
  {
   "cell_type": "markdown",
   "metadata": {},
   "source": [
    "## Effects of higher dimensions"
   ]
  },
  {
   "cell_type": "code",
   "execution_count": 8,
   "metadata": {},
   "outputs": [],
   "source": [
    "A = Setting('DeBoor_CPU', [1,2,3,4,5], [20], [3], 'jax', BSplineBackend.DeBoor, 'cpu', [10e6])\n",
    "B = Setting('DeBoor_GPU', [1,2,3,4,5], [20], [3], 'jax', BSplineBackend.DeBoor, 'gpu', [10e6])\n",
    "C = Setting('ndsplines', [1,2,3,4,5], [20], [3], 'ndsplines', None, None, [10e6])\n",
    "\n",
    "dimensions = [A,B,C]"
   ]
  },
  {
   "cell_type": "markdown",
   "metadata": {},
   "source": [
    "## Effect of increased knot resolution\n",
    "\n",
    "1D and 3D splines - fastest backend"
   ]
  },
  {
   "cell_type": "code",
   "execution_count": 9,
   "metadata": {},
   "outputs": [],
   "source": [
    "A = Setting('Symbolic_CPU', [1], list(range(10,101,10)), [3], 'jax', BSplineBackend.Symbolic, 'cpu', [10e6])\n",
    "B = Setting('Symbolic_GPU', [1], list(range(10,101,10)), [3], 'jax', BSplineBackend.Symbolic, 'gpu', [10e6])\n",
    "C = Setting('DeBoor_CPU', [1], list(range(10,101,10)), [3], 'jax', BSplineBackend.DeBoor, 'cpu', [10e6])\n",
    "D = Setting('DeBoor_GPU', [1], list(range(10,101,10)), [3], 'jax', BSplineBackend.DeBoor, 'gpu', [10e6])\n",
    "E = Setting('ndsplines', [1], list(range(10,101,10)), [3], 'ndsplines', None, None, [10e6])\n",
    "\n",
    "knots_1D = [A,B,C,D,E]"
   ]
  },
  {
   "cell_type": "code",
   "execution_count": 10,
   "metadata": {},
   "outputs": [],
   "source": [
    "A = Setting('Symbolic_CPU', [3], list(range(10,101,10)), [3], 'jax', BSplineBackend.Symbolic, 'cpu', [10e6])\n",
    "B = Setting('Symbolic_GPU', [3], list(range(10,101,10)), [3], 'jax', BSplineBackend.Symbolic, 'gpu', [10e6])\n",
    "C = Setting('DeBoor_CPU', [3], list(range(10,101,10)), [3], 'jax', BSplineBackend.DeBoor, 'cpu', [10e6])\n",
    "D = Setting('DeBoor_GPU', [3], list(range(10,101,10)), [3], 'jax', BSplineBackend.DeBoor, 'gpu', [10e6])\n",
    "E = Setting('ndsplines', [3], list(range(10,101,10)), [3], 'ndsplines', None, None, [10e6])\n",
    "\n",
    "knots_3D = [A,B,C,D,E]"
   ]
  },
  {
   "cell_type": "code",
   "execution_count": 21,
   "metadata": {},
   "outputs": [],
   "source": [
    "A = Setting('test1', [1], [20,40], [3], 'jax', BSplineBackend.Symbolic, 'cpu', [10e2])\n",
    "B = Setting('test2', [1,3], [20], [3], 'ndsplines', None, None, [10e2])\n",
    "\n",
    "test = [A,B]"
   ]
  },
  {
   "cell_type": "code",
   "execution_count": 12,
   "metadata": {},
   "outputs": [],
   "source": [
    "def run_benchmark(setting: Setting, repeats, max_time, seed=123):\n",
    "    t_old = onp.zeros(1+repeats)\n",
    "\n",
    "    if len(setting.dimension) > 1:\n",
    "        for d in setting.dimension:\n",
    "            new_s = Setting(\n",
    "                setting.name,\n",
    "                [d],\n",
    "                setting.resolution,\n",
    "                setting.degree,\n",
    "                setting.implementation,\n",
    "                setting.basis,\n",
    "                setting.backend,\n",
    "                setting.size,\n",
    "            )\n",
    "            t = run_setting(new_s, repeats, seed=seed)\n",
    "            if t is None:\n",
    "                warnings.warn(f\"No result for {setting.name} at dimension {d}.\")\n",
    "                break\n",
    "            t_new = onp.asarray([d] + t)\n",
    "            t_old = onp.vstack([t_old, t_new])\n",
    "        return t_old[1:,:]\n",
    "\n",
    "    if len(setting.resolution) > 1:\n",
    "        for r in setting.resolution:\n",
    "            new_s = Setting(\n",
    "                setting.name,\n",
    "                setting.dimension,\n",
    "                [r],\n",
    "                setting.degree,\n",
    "                setting.implementation,\n",
    "                setting.basis,\n",
    "                setting.backend,\n",
    "                setting.size,\n",
    "            )\n",
    "            t = run_setting(new_s, repeats, seed=seed)\n",
    "            if t is None:\n",
    "                warnings.warn(f\"No result for {setting.name} at resolution {r}.\")\n",
    "                break\n",
    "            t_new = onp.asarray([r] + t)\n",
    "            t_old = onp.vstack([t_old, t_new])\n",
    "        return t_old[1:,:]\n",
    "\n",
    "    if len(setting.degree) > 1:\n",
    "        for d in setting.degree:\n",
    "            new_s = Setting(\n",
    "                setting.name,\n",
    "                setting.dimension,\n",
    "                setting.resolution,\n",
    "                [d],\n",
    "                setting.implementation,\n",
    "                setting.basis,\n",
    "                setting.backend,\n",
    "                setting.size,\n",
    "            )\n",
    "            t = run_setting(new_s, repeats, seed=seed)\n",
    "            if t is None:\n",
    "                warnings.warn(f\"No result for {setting.name} at degree {d}.\")\n",
    "                break\n",
    "            t_new = onp.asarray([d] + t)\n",
    "            t_old = onp.vstack([t_old, t_new])\n",
    "        return t_old[1:,:]\n",
    "\n",
    "    if len(setting.size) > 1:\n",
    "        for s in setting.size:\n",
    "            new_s = Setting(\n",
    "                setting.name,\n",
    "                setting.dimension,\n",
    "                setting.resolution,\n",
    "                setting.degree,\n",
    "                setting.implementation,\n",
    "                setting.basis,\n",
    "                setting.backend,\n",
    "                [s],\n",
    "            )\n",
    "            t = run_setting(new_s, repeats, seed=seed)\n",
    "            if t is None:\n",
    "                warnings.warn(f\"No result for {setting.name} at size {s}.\")\n",
    "                break\n",
    "            t_new = onp.asarray([s] + t)\n",
    "            t_old = onp.vstack([t_old, t_new])\n",
    "        return t_old[1:,:]\n",
    "        \n",
    "    raise ArgumentError(\"Exactly one setting parameter should be a list.\")\n",
    "\n",
    "\n",
    "def run_setting(setting: Setting, repeats, seed=123):\n",
    "    dimension = int(setting.dimension[0])\n",
    "    resolution = int(setting.resolution[0])\n",
    "    degree = int(setting.degree[0])\n",
    "    size = int(setting.size[0])\n",
    "\n",
    "    res = (resolution,) * dimension\n",
    "    ds = (degree,) * dimension\n",
    "\n",
    "    c, k, x = random_spline(res, degrees=ds, sample=size, seed=seed)\n",
    "\n",
    "    sym = None\n",
    "    if setting.implementation == \"jax\":\n",
    "        s = ndSpline_unsafe(c, k, ds, backend=setting.basis)\n",
    "\n",
    "        x_jax = jax.device_put(x)\n",
    "\n",
    "        fn = jit(vmap(s), backend=setting.backend)\n",
    "\n",
    "        sym = lambda: fn(x_jax).block_until_ready()\n",
    "    elif setting.implementation == \"ndsplines\":\n",
    "        knots = []\n",
    "        for a in k:\n",
    "            knots.append(onp.asarray(a))\n",
    "        s = ndsplines.NDSpline(knots, onp.asarray(c), ds)\n",
    "        xs = onp.asarray(x)\n",
    "\n",
    "        def fn():\n",
    "            s(xs)\n",
    "\n",
    "        sym = fn\n",
    "    elif setting.implementation == \"scipy\":\n",
    "        pass\n",
    "    else:\n",
    "        raise NotImplementedError(f\"Implementation of {setting.implementation} not supported.\")\n",
    "\n",
    "    try:\n",
    "        t = timeit.Timer(sym).repeat(repeat=repeats, number=1)\n",
    "    except RuntimeError:\n",
    "        return None\n",
    "\n",
    "    return t\n",
    "\n"
   ]
  },
  {
   "cell_type": "code",
   "execution_count": 13,
   "metadata": {},
   "outputs": [],
   "source": [
    "def benchmark(settings, repeats, max_time, seed=123):\n",
    "    results = {}\n",
    "\n",
    "    for s in settings:\n",
    "        timeing = run_benchmark(s, repeats, max_time, seed)\n",
    "        results[s] = timeing\n",
    "    \n",
    "    return results"
   ]
  },
  {
   "cell_type": "code",
   "execution_count": 24,
   "metadata": {},
   "outputs": [],
   "source": [
    "timings = benchmark(test,4,1)\n"
   ]
  },
  {
   "cell_type": "code",
   "execution_count": 25,
   "metadata": {},
   "outputs": [
    {
     "ename": "PicklingError",
     "evalue": "Can't pickle <class '__main__.Experiment_Setting'>: it's not the same object as __main__.Experiment_Setting",
     "output_type": "error",
     "traceback": [
      "\u001b[0;31m---------------------------------------------------------------------------\u001b[0m",
      "\u001b[0;31mPicklingError\u001b[0m                             Traceback (most recent call last)",
      "\u001b[1;32m/home/robert/repositories/github.com/Robert-Schmid/uf3/examples/jax-md/benchmarks/B-Splines(1) copy.ipynb Cell 24'\u001b[0m in \u001b[0;36m<module>\u001b[0;34m\u001b[0m\n\u001b[1;32m      <a href='vscode-notebook-cell://ssh-remote%2B7b22686f73744e616d65223a224d616e6a61726f227d/home/robert/repositories/github.com/Robert-Schmid/uf3/examples/jax-md/benchmarks/B-Splines%281%29%20copy.ipynb#ch0000041vscode-remote?line=0'>1</a>\u001b[0m \u001b[39mimport\u001b[39;00m \u001b[39mpickle\u001b[39;00m\n\u001b[1;32m      <a href='vscode-notebook-cell://ssh-remote%2B7b22686f73744e616d65223a224d616e6a61726f227d/home/robert/repositories/github.com/Robert-Schmid/uf3/examples/jax-md/benchmarks/B-Splines%281%29%20copy.ipynb#ch0000041vscode-remote?line=2'>3</a>\u001b[0m \u001b[39mwith\u001b[39;00m \u001b[39mopen\u001b[39m(\u001b[39m\"\u001b[39m\u001b[39mtest_benchmark.bin\u001b[39m\u001b[39m\"\u001b[39m, \u001b[39m\"\u001b[39m\u001b[39mwb\u001b[39m\u001b[39m\"\u001b[39m) \u001b[39mas\u001b[39;00m f:\n\u001b[0;32m----> <a href='vscode-notebook-cell://ssh-remote%2B7b22686f73744e616d65223a224d616e6a61726f227d/home/robert/repositories/github.com/Robert-Schmid/uf3/examples/jax-md/benchmarks/B-Splines%281%29%20copy.ipynb#ch0000041vscode-remote?line=3'>4</a>\u001b[0m     pickle\u001b[39m.\u001b[39;49mdump(timings, f)\n",
      "\u001b[0;31mPicklingError\u001b[0m: Can't pickle <class '__main__.Experiment_Setting'>: it's not the same object as __main__.Experiment_Setting"
     ]
    }
   ],
   "source": [
    "import pickle\n",
    "\n",
    "with open(\"test_benchmark.bin\", \"wb\") as f:\n",
    "    pickle.dump(timings, f)\n",
    "\n"
   ]
  },
  {
   "cell_type": "code",
   "execution_count": 49,
   "metadata": {},
   "outputs": [
    {
     "data": {
      "image/png": "[encoded data removed]",
      "text/plain": [
       "<Figure size 864x864 with 4 Axes>"
      ]
     },
     "metadata": {
      "needs_background": "light"
     },
     "output_type": "display_data"
    }
   ],
   "source": [
    "\n",
    "fig, axs = plt.subplots(2,2, figsize=(12,12), sharex=True, sharey=True)\n",
    "\n",
    "matplotlib.rc('xtick', labelsize=20) \n",
    "matplotlib.rc('ytick', labelsize=20)\n",
    "\n",
    "for setting in timings.keys():\n",
    "    timeing = timings[setting]\n",
    "    ax = axs[0,0]\n",
    "    x = timeing[:,0]\n",
    "    y_jit = timeing[:,1]\n",
    "    y = onp.mean(timeing[:,2:], 1)\n",
    "\n",
    "    ax.plot(x, y)\n",
    "    # ax.set_xscale('log')\n",
    "    ax.scatter(x, y_jit, label=setting.name)\n",
    "    ax.set_yscale('log')\n",
    "    ax.legend()\n",
    "\n",
    "\n",
    "plt.show()"
   ]
  },
  {
   "cell_type": "code",
   "execution_count": null,
   "metadata": {},
   "outputs": [],
   "source": []
  }
 ],
 "metadata": {
  "kernelspec": {
   "display_name": "Python 3.9.7 ('uf3')",
   "language": "python",
   "name": "python3"
  },
  "language_info": {
   "codemirror_mode": {
    "name": "ipython",
    "version": 3
   },
   "file_extension": ".py",
   "mimetype": "text/x-python",
   "name": "python",
   "nbconvert_exporter": "python",
   "pygments_lexer": "ipython3",
   "version": "3.9.7"
  },
  "vscode": {
   "interpreter": {
    "hash": "ca6e4c1237d2523077850c33bb85c07df22e41d5dc1f9dffe27e02189376af2b"
   }
  }
 },
 "nbformat": 4,
 "nbformat_minor": 4
}
