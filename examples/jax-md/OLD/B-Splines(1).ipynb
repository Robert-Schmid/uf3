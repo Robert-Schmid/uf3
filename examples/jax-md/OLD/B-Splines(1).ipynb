{
 "cells": [
  {
   "cell_type": "code",
   "execution_count": 1,
   "metadata": {},
   "outputs": [],
   "source": [
    "from uf3.jax.jax_splines import *\n",
    "from uf3.util.random import random_spline\n",
    "\n",
    "import jax.numpy as jnp\n",
    "from jax import jit, grad, vmap, value_and_grad\n",
    "import jax\n",
    "\n",
    "import numpy as onp\n",
    "\n",
    "import ndsplines\n",
    "\n",
    "import time\n",
    "import timeit\n",
    "\n",
    "import matplotlib.pyplot as plt\n",
    "\n",
    "from jax.config import config\n",
    "config.update(\"jax_enable_x64\", True)"
   ]
  },
  {
   "cell_type": "markdown",
   "metadata": {},
   "source": [
    "# Benchmarks for Splines"
   ]
  },
  {
   "cell_type": "markdown",
   "metadata": {},
   "source": [
    "## The fastest backend for cubic splines\n",
    "- (1D and 3D)\n",
    "- CPU vs GPU"
   ]
  },
  {
   "cell_type": "markdown",
   "metadata": {},
   "source": [
    "### 1D"
   ]
  },
  {
   "cell_type": "code",
   "execution_count": 2,
   "metadata": {},
   "outputs": [
    {
     "name": "stdout",
     "output_type": "stream",
     "text": [
      "cpu_symbolic: 10e2 - [1.00000000e+02 3.32736057e-01 1.01609156e-04 4.84716147e-05\n",
      " 5.12748957e-05]\n",
      "cpu_symbolic: 10e3 - [1.00000000e+03 3.07276078e-01 1.67711638e-04 1.23434700e-04\n",
      " 1.14860944e-04]\n",
      "cpu_symbolic: 10e4 - [1.00000000e+04 3.09506909e-01 9.81008634e-04 9.81403515e-04\n",
      " 9.68863256e-04]\n",
      "cpu_symbolic: 10e5 - [1.00000000e+05 3.45234572e-01 1.13203935e-02 1.11529445e-02\n",
      " 1.09365275e-02]\n",
      "cpu_symbolic: 10e6 - [1.00000000e+06 4.94143595e-01 1.64955443e-01 1.65220853e-01\n",
      " 1.64060029e-01]\n",
      "cpu_symbolic: 10e7 - [1.00000000e+07 2.24864943e+00 1.86656776e+00 2.63613413e+00\n",
      " 2.10174926e+00]\n",
      "cpu_deBoor: 10e2 - [1.00000000e+02 2.62530379e-01 1.07496977e-04 5.47859818e-05\n",
      " 5.55934384e-05]\n",
      "cpu_deBoor: 10e3 - [1.00000000e+03 2.41164458e-01 2.15590931e-04 1.66161917e-04\n",
      " 1.67848542e-04]\n",
      "cpu_deBoor: 10e4 - [1.00000000e+04 2.55890458e-01 2.32744124e-03 2.32506450e-03\n",
      " 2.35082489e-03]\n",
      "cpu_deBoor: 10e5 - [1.00000000e+05 3.23207528e-01 4.68394170e-02 4.69417740e-02\n",
      " 4.65576341e-02]\n",
      "cpu_deBoor: 10e6 - [1.00000000e+06 7.74565846e-01 4.90705015e-01 5.04583758e-01\n",
      " 4.76666459e-01]\n",
      "cpu_deBoor: 10e7 - [1.00000000e+07 5.72896683e+00 4.91087967e+00 4.95604217e+00\n",
      " 5.23190902e+00]\n",
      "gpu_symbolic: 10e2 - [1.00000000e+02 3.21376583e-01 1.16287731e-04 6.37974590e-05\n",
      " 6.53583556e-05]\n",
      "gpu_symbolic: 10e3 - [1.00000000e+03 2.93634356e-01 2.11524777e-04 1.49342231e-04\n",
      " 1.44872814e-04]\n",
      "gpu_symbolic: 10e4 - [1.00000000e+04 3.02054555e-01 1.90802850e-04 1.59019604e-04\n",
      " 1.46230683e-04]\n",
      "gpu_symbolic: 10e5 - [1.00000000e+05 2.86806621e-01 5.94137236e-04 5.54027036e-04\n",
      " 5.50528057e-04]\n",
      "gpu_symbolic: 10e6 - [1.00000000e+06 2.98408595e-01 5.14009595e-03 5.06290514e-03\n",
      " 5.12965955e-03]\n",
      "gpu_symbolic: 10e7 - [1.00000000e+07 3.49603237e-01 5.10173431e-02 5.10881497e-02\n",
      " 5.11737764e-02]\n",
      "gpu_deBoor: 10e2 - [1.00000000e+02 2.34968559e-01 2.64812261e-04 1.73620880e-04\n",
      " 1.57183036e-04]\n",
      "gpu_deBoor: 10e3 - [1.00000000e+03 2.21348371e-01 2.37302855e-04 1.62233599e-04\n",
      " 1.80114992e-04]\n",
      "gpu_deBoor: 10e4 - [1.00000000e+04 2.27915724e-01 2.40640715e-04 2.15676613e-04\n",
      " 1.95821747e-04]\n",
      "gpu_deBoor: 10e5 - [1.00000000e+05 2.40090638e-01 1.16938818e-03 1.18272938e-03\n",
      " 1.17137376e-03]\n",
      "gpu_deBoor: 10e6 - [1.00000000e+06 2.64771922e-01 1.13082081e-02 1.13353990e-02\n",
      " 1.14108706e-02]\n",
      "gpu_deBoor: 10e7 - [1.00000000e+07 4.14303883e-01 1.11892460e-01 1.11768334e-01\n",
      " 1.11427434e-01]\n"
     ]
    }
   ],
   "source": [
    "seed = 123\n",
    "dimension = 1\n",
    "resolution = 20\n",
    "degree = 3\n",
    "max_time = 1\n",
    "repeats=4\n",
    "\n",
    "timings = {}\n",
    "\n",
    "settings = {\n",
    "    'cpu_symbolic': (BSplineBackend.Symbolic, 'cpu'),\n",
    "    'cpu_deBoor' : (BSplineBackend.DeBoor, 'cpu'),\n",
    "    'gpu_symbolic' : (BSplineBackend.Symbolic, 'gpu'),\n",
    "    'gpu_deBoor' : (BSplineBackend.DeBoor, 'gpu')\n",
    "}\n",
    "\n",
    "for key in settings.keys():\n",
    "    timings[key] = None\n",
    "    backend, device = settings[key]\n",
    "\n",
    "    for exponent in range(2,8):\n",
    "        start_time = time.time()\n",
    "\n",
    "        size = 10 ** exponent\n",
    "        res = (resolution,) * dimension\n",
    "        ds = (degree,) * dimension\n",
    "\n",
    "        c, k, x = random_spline(res, sample=size, seed=seed)\n",
    "        s = ndSpline_unsafe(c, k, ds, backend=backend)\n",
    "\n",
    "        x_jax = jax.device_put(x)\n",
    "\n",
    "        fn = jit(vmap(s), backend=device)\n",
    "\n",
    "        sym = lambda : fn(x_jax).block_until_ready()\n",
    "\n",
    "        try:\n",
    "            t = timeit.Timer(sym).repeat(repeat=4, number=1)\n",
    "        except RuntimeError:\n",
    "            break\n",
    "\n",
    "        t_old = timings[key]\n",
    "\n",
    "        t_new = onp.asarray([size] + t)\n",
    "        \n",
    "        print(f\"{key}: 10e{exponent} - {t_new}\")\n",
    "\n",
    "        if t_old is None:\n",
    "            timings[key] = t_new\n",
    "        else:\n",
    "            timings[key] = onp.vstack([t_old,t_new])\n",
    "\n",
    "        if time.time() - start_time > max_time * 60:\n",
    "            break\n"
   ]
  },
  {
   "cell_type": "code",
   "execution_count": 8,
   "metadata": {},
   "outputs": [
    {
     "data": {
      "image/png": "[encoded data removed]",
      "text/plain": [
       "<Figure size 648x216 with 2 Axes>"
      ]
     },
     "metadata": {
      "needs_background": "light"
     },
     "output_type": "display_data"
    }
   ],
   "source": [
    "keys = [['cpu_symbolic','cpu_deBoor','gpu_symbolic','gpu_deBoor']]\n",
    "\n",
    "fig, axs = plt.subplots(1,2, figsize=(9,3), sharex=True, sharey=True)\n",
    "\n",
    "for i, per_device in zip(range(len(keys)),keys):\n",
    "    ax = axs[i]\n",
    "    for k in per_device:\n",
    "        data = timings[k]\n",
    "        x = data[:,0]\n",
    "        y_jit = data[:,1]\n",
    "        y = onp.mean(data[:,2:], 1)\n",
    "\n",
    "        ax.plot(x, y)\n",
    "        ax.set_xscale('log')\n",
    "        ax.scatter(x, y_jit, label=k)\n",
    "        ax.set_yscale('log')\n",
    "        ax.legend()\n",
    "\n",
    "\n",
    "plt.show()\n"
   ]
  },
  {
   "cell_type": "markdown",
   "metadata": {},
   "source": [
    "### 3D"
   ]
  },
  {
   "cell_type": "code",
   "execution_count": 4,
   "metadata": {},
   "outputs": [
    {
     "name": "stdout",
     "output_type": "stream",
     "text": [
      "cpu_symbolic: 10e2 - [1.00000000e+02 8.28815642e-01 3.55380587e-04 2.87971459e-04\n",
      " 2.80644745e-04]\n",
      "cpu_symbolic: 10e3 - [1.00000000e+03 8.52945044e-01 1.74687710e-03 1.81865878e-03\n",
      " 1.72557775e-03]\n",
      "cpu_symbolic: 10e4 - [1.00000000e+04 8.78107704e-01 2.79613249e-02 3.03532686e-02\n",
      " 3.02640926e-02]\n",
      "cpu_symbolic: 10e5 - [1.00000000e+05 1.35061918e+00 4.47193937e-01 4.03271220e-01\n",
      " 5.34606120e-01]\n",
      "cpu_symbolic: 10e6 - [1.00000000e+06 6.28587005e+00 5.89856163e+00 5.70969071e+00\n",
      " 5.98710769e+00]\n",
      "cpu_symbolic: 10e7 - [1.00000000e+07 6.15920844e+01 6.09810988e+01 6.73935079e+01\n",
      " 5.94893436e+01]\n",
      "cpu_deBoor: 10e2 - [1.00000000e+02 6.25926415e-01 4.41366807e-04 2.95053236e-04\n",
      " 3.00643966e-04]\n",
      "cpu_deBoor: 10e3 - [1.00000000e+03 6.25059328e-01 2.01305095e-03 1.76946539e-03\n",
      " 1.73294730e-03]\n",
      "cpu_deBoor: 10e4 - [1.00000000e+04 7.14944464e-01 3.52045810e-02 3.85371391e-02\n",
      " 4.21734294e-02]\n",
      "cpu_deBoor: 10e5 - [1.00000000e+05 1.23201221e+00 5.31397456e-01 4.83357826e-01\n",
      " 5.32909569e-01]\n",
      "cpu_deBoor: 10e6 - [1.00000000e+06 6.80314844e+00 6.29781614e+00 6.76972636e+00\n",
      " 6.77313109e+00]\n",
      "cpu_deBoor: 10e7 - [1.00000000e+07 6.91872193e+01 7.32963453e+01 6.61188451e+01\n",
      " 7.50138789e+01]\n",
      "gpu_symbolic: 10e2 - [1.00000000e+02 5.62793457e+00 2.82637775e-04 2.31174752e-04\n",
      " 2.18507834e-04]\n",
      "gpu_symbolic: 10e3 - [1.00000000e+03 7.78862224e-01 4.03247774e-04 3.36878933e-04\n",
      " 3.32875177e-04]\n",
      "gpu_symbolic: 10e4 - [1.00000000e+04 7.66236853e-01 8.09567980e-04 7.64442608e-04\n",
      " 7.50483014e-04]\n",
      "gpu_symbolic: 10e5 - [1.00000000e+05 9.15338109e-01 1.76203111e-02 1.76492585e-02\n",
      " 1.72987599e-02]\n",
      "gpu_symbolic: 10e6 - [1.00000000e+06 1.69349892e+00 2.25690639e-01 2.25022431e-01\n",
      " 2.25703072e-01]\n"
     ]
    },
    {
     "name": "stderr",
     "output_type": "stream",
     "text": [
      "2022-07-02 18:34:32.391442: W external/org_tensorflow/tensorflow/core/common_runtime/bfc_allocator.cc:290] Allocator (GPU_0_bfc) ran out of memory trying to allocate 39.43GiB with freed_by_count=0. The caller indicates that this is not a failure, but this may mean that there could be performance gains if more memory were available.\n"
     ]
    },
    {
     "name": "stdout",
     "output_type": "stream",
     "text": [
      "gpu_deBoor: 10e2 - [1.00000000e+02 5.43676545e-01 1.46893132e-03 5.31723723e-04\n",
      " 4.70538624e-04]\n",
      "gpu_deBoor: 10e3 - [1.00000000e+03 5.90414205e-01 6.30524009e-04 5.36080450e-04\n",
      " 5.31647354e-04]\n",
      "gpu_deBoor: 10e4 - [1.00000000e+04 5.94668639e-01 1.13586616e-03 1.26075372e-03\n",
      " 1.13111455e-03]\n",
      "gpu_deBoor: 10e5 - [1.00000000e+05 6.19243050e-01 1.98295703e-02 1.96991656e-02\n",
      " 2.00498747e-02]\n",
      "gpu_deBoor: 10e6 - [1.00000000e+06 8.15307498e-01 2.42675026e-01 2.41796072e-01\n",
      " 2.40807231e-01]\n"
     ]
    },
    {
     "name": "stderr",
     "output_type": "stream",
     "text": [
      "2022-07-02 18:34:37.359198: W external/org_tensorflow/tensorflow/core/common_runtime/bfc_allocator.cc:290] Allocator (GPU_0_bfc) ran out of memory trying to allocate 39.43GiB with freed_by_count=0. The caller indicates that this is not a failure, but this may mean that there could be performance gains if more memory were available.\n"
     ]
    }
   ],
   "source": [
    "seed = 123\n",
    "dimension = 3\n",
    "resolution = 20\n",
    "degree = 3\n",
    "max_time = 1\n",
    "repeats=4\n",
    "\n",
    "timings = {}\n",
    "\n",
    "settings = {\n",
    "    'cpu_symbolic': (BSplineBackend.Symbolic, 'cpu'),\n",
    "    'cpu_deBoor' : (BSplineBackend.DeBoor, 'cpu'),\n",
    "    'gpu_symbolic' : (BSplineBackend.Symbolic, 'gpu'),\n",
    "    'gpu_deBoor' : (BSplineBackend.DeBoor, 'gpu')\n",
    "}\n",
    "\n",
    "for key in settings.keys():\n",
    "    timings[key] = None\n",
    "    backend, device = settings[key]\n",
    "\n",
    "    for exponent in range(2,8):\n",
    "        start_time = time.time()\n",
    "\n",
    "        size = 10 ** exponent\n",
    "        res = (resolution,) * dimension\n",
    "        ds = (degree,) * dimension\n",
    "\n",
    "        c, k, x = random_spline(res, sample=size, seed=seed)\n",
    "        s = ndSpline_unsafe(c, k, ds, backend=backend)\n",
    "\n",
    "        x_jax = jax.device_put(x)\n",
    "\n",
    "        fn = jit(vmap(s), backend=device)\n",
    "\n",
    "        sym = lambda : fn(x_jax).block_until_ready()\n",
    "\n",
    "        try:\n",
    "            t = timeit.Timer(sym).repeat(repeat=4, number=1)\n",
    "        except RuntimeError:\n",
    "            break\n",
    "\n",
    "        t_old = timings[key]\n",
    "\n",
    "        t_new = onp.asarray([size] + t)\n",
    "        \n",
    "        print(f\"{key}: 10e{exponent} - {t_new}\")\n",
    "\n",
    "        if t_old is None:\n",
    "            timings[key] = t_new\n",
    "        else:\n",
    "            timings[key] = onp.vstack([t_old,t_new])\n",
    "\n",
    "        if time.time() - start_time > max_time * 60:\n",
    "            break\n"
   ]
  },
  {
   "cell_type": "code",
   "execution_count": 7,
   "metadata": {},
   "outputs": [
    {
     "data": {
      "image/png": "[encoded data removed]",
      "text/plain": [
       "<Figure size 648x216 with 2 Axes>"
      ]
     },
     "metadata": {
      "needs_background": "light"
     },
     "output_type": "display_data"
    }
   ],
   "source": [
    "keys = [['cpu_symbolic','cpu_deBoor' ,'gpu_symbolic','gpu_deBoor']]\n",
    "\n",
    "fig, axs = plt.subplots(1,2, figsize=(9,3), sharex=True, sharey=True)\n",
    "\n",
    "for i, per_device in zip(range(len(keys)),keys):\n",
    "    ax = axs[i]\n",
    "    for k in per_device:\n",
    "        data = timings[k]\n",
    "        x = data[:,0]\n",
    "        y_jit = data[:,1]\n",
    "        y = onp.mean(data[:,2:], 1)\n",
    "\n",
    "        ax.plot(x, y)\n",
    "        ax.set_xscale('log')\n",
    "        ax.scatter(x, y_jit, label=k)\n",
    "        ax.set_yscale('log')\n",
    "        ax.legend()\n",
    "\n",
    "\n",
    "plt.show()\n"
   ]
  },
  {
   "cell_type": "markdown",
   "metadata": {},
   "source": [
    "## Comparing to other implementations (1D cubic)\n",
    "\n",
    "- JAX\n",
    "- ndspline\n",
    "- scipy"
   ]
  },
  {
   "cell_type": "code",
   "execution_count": 9,
   "metadata": {},
   "outputs": [
    {
     "name": "stdout",
     "output_type": "stream",
     "text": [
      "JAX: 10e2 - [1.00000000e+02 2.68787968e-01 1.11071393e-04 6.78813085e-05\n",
      " 5.76702878e-05]\n",
      "JAX: 10e3 - [1.00000000e+03 2.55987439e-01 2.40275636e-04 1.82310119e-04\n",
      " 1.74134038e-04]\n",
      "JAX: 10e4 - [1.00000000e+04 2.71272251e-01 2.80557107e-03 2.59021483e-03\n",
      " 2.46345904e-03]\n",
      "JAX: 10e5 - [1.00000000e+05 3.41593463e-01 4.90268096e-02 4.73243035e-02\n",
      " 4.78764530e-02]\n",
      "JAX: 10e6 - [1.00000000e+06 7.83338702e-01 5.03240653e-01 4.80618259e-01\n",
      " 4.75083133e-01]\n",
      "ND-Splines: 10e2 - [1.00000000e+02 1.27185159e-01 2.40964815e-04 1.29126012e-04\n",
      " 3.36244702e-05]\n",
      "ND-Splines: 10e3 - [1.00000000e+03 2.23253854e-04 1.05765648e-04 9.75066796e-05\n",
      " 9.49501991e-05]\n",
      "ND-Splines: 10e4 - [1.00000000e+04 1.17194094e-03 8.69968906e-04 7.44953752e-04\n",
      " 7.42935576e-04]\n",
      "ND-Splines: 10e5 - [1.00000000e+05 8.40066373e-03 7.74842314e-03 7.63290748e-03\n",
      " 7.41290580e-03]\n",
      "ND-Splines: 10e6 - [1.00000000e+06 1.25062173e-01 9.29510007e-02 8.23834110e-02\n",
      " 8.25391207e-02]\n"
     ]
    }
   ],
   "source": [
    "seed = 123\n",
    "dimension = 1\n",
    "resolution = 20\n",
    "degree = 3\n",
    "max_time = 1\n",
    "repeats=4\n",
    "\n",
    "timings = {}\n",
    "\n",
    "settings = {\n",
    "    'JAX' : ('jax', BSplineBackend.DeBoor, 'cpu'),\n",
    "    'ND-Splines' : ('ndspline',None,None),\n",
    "    # 'SciPy' : ('scipy',None,None)\n",
    "}\n",
    "\n",
    "for key in settings.keys():\n",
    "    timings[key] = None\n",
    "    name, backend, device = settings[key]\n",
    "\n",
    "    for exponent in range(2,7):\n",
    "        start_time = time.time()\n",
    "\n",
    "        size = 10 ** exponent\n",
    "        res = (resolution,) * dimension\n",
    "        ds = (degree,) * dimension\n",
    "\n",
    "        c, k, x = random_spline(res, sample=size, seed=seed)\n",
    "\n",
    "        sym = None\n",
    "        if name == 'jax':\n",
    "            s = ndSpline_unsafe(c, k, ds, backend=backend)\n",
    "\n",
    "            x_jax = jax.device_put(x)\n",
    "\n",
    "            fn = jit(vmap(s), backend=device)\n",
    "\n",
    "            sym = lambda : fn(x_jax).block_until_ready()\n",
    "        elif name == 'ndspline':\n",
    "            knots = []\n",
    "            for a in k:\n",
    "                knots.append(onp.asarray(a))\n",
    "            s = ndsplines.NDSpline(knots, onp.asarray(c), ds)\n",
    "            xs = onp.asarray(x)\n",
    "            def fn():\n",
    "                s(xs)\n",
    "            sym = fn\n",
    "        elif name == 'SciPy':\n",
    "            pass\n",
    "\n",
    "        try:\n",
    "            t = timeit.Timer(sym).repeat(repeat=4, number=1)\n",
    "        except RuntimeError:\n",
    "            break\n",
    "\n",
    "        t_old = timings[key]\n",
    "\n",
    "        t_new = onp.asarray([size] + t)\n",
    "        \n",
    "        print(f\"{key}: 10e{exponent} - {t_new}\")\n",
    "\n",
    "        if t_old is None:\n",
    "            timings[key] = t_new\n",
    "        else:\n",
    "            timings[key] = onp.vstack([t_old,t_new])\n",
    "\n",
    "        if time.time() - start_time > max_time * 60:\n",
    "            break\n"
   ]
  },
  {
   "cell_type": "code",
   "execution_count": 10,
   "metadata": {},
   "outputs": [
    {
     "data": {
      "image/png": "[encoded data removed]",
      "text/plain": [
       "<Figure size 648x216 with 2 Axes>"
      ]
     },
     "metadata": {
      "needs_background": "light"
     },
     "output_type": "display_data"
    }
   ],
   "source": [
    "keys = [['JAX','ND-Splines']]\n",
    "\n",
    "fig, axs = plt.subplots(1,2, figsize=(9,3), sharex=True, sharey=True)\n",
    "\n",
    "for i, per_device in zip(range(len(keys)),keys):\n",
    "    ax = axs[i]\n",
    "    for k in per_device:\n",
    "        data = timings[k]\n",
    "        x = data[:,0]\n",
    "        y_jit = data[:,1]\n",
    "        y = onp.mean(data[:,2:], 1)\n",
    "\n",
    "        ax.plot(x, y)\n",
    "        ax.set_xscale('log')\n",
    "        ax.scatter(x, y_jit, label=k)\n",
    "        ax.set_yscale('log')\n",
    "        ax.legend()\n",
    "\n",
    "\n",
    "plt.show()\n"
   ]
  },
  {
   "cell_type": "markdown",
   "metadata": {},
   "source": [
    "## Effects of higher degrees (deBoor backend and ndspline)"
   ]
  },
  {
   "cell_type": "code",
   "execution_count": 11,
   "metadata": {},
   "outputs": [
    {
     "name": "stdout",
     "output_type": "stream",
     "text": [
      "JAX: 3 - [3.00000000e+00 2.68930671e-01 2.59858277e-03 2.61953752e-03\n",
      " 2.57652812e-03]\n",
      "JAX: 4 - [4.00000000e+00 2.43772216e-01 3.65382805e-03 3.60930152e-03\n",
      " 3.61925270e-03]\n",
      "JAX: 5 - [5.         0.26940828 0.00693479 0.00684177 0.00690269]\n",
      "JAX: 6 - [6.         0.28278317 0.00911589 0.0091323  0.00951012]\n",
      "JAX: 7 - [7.         0.29440155 0.01172982 0.01453828 0.0151879 ]\n",
      "JAX: 8 - [8.         0.28734131 0.01862048 0.01548378 0.01822407]\n",
      "JAX: 9 - [9.         0.29594817 0.01951332 0.01944107 0.02159557]\n",
      "ND-Splines: 3 - [3.00000000e+00 1.03595015e-03 8.46775249e-04 7.97845423e-04\n",
      " 7.89036974e-04]\n",
      "ND-Splines: 4 - [4.00000000e+00 1.15653686e-03 1.03108492e-03 1.01812277e-03\n",
      " 1.01702288e-03]\n",
      "ND-Splines: 5 - [5.00000000e+00 1.36813708e-03 1.29323360e-03 1.25729199e-03\n",
      " 1.25365984e-03]\n",
      "ND-Splines: 6 - [6.00000000e+00 1.63172092e-03 1.54984556e-03 1.60071626e-03\n",
      " 1.50551088e-03]\n",
      "ND-Splines: 7 - [7.00000000e+00 1.85482204e-03 1.74509175e-03 1.76069420e-03\n",
      " 1.79023389e-03]\n",
      "ND-Splines: 8 - [8.00000000e+00 2.15843506e-03 2.03666929e-03 2.03729514e-03\n",
      " 2.03175470e-03]\n",
      "ND-Splines: 9 - [9.00000000e+00 2.40814220e-03 2.29584239e-03 2.28558574e-03\n",
      " 2.27980316e-03]\n"
     ]
    }
   ],
   "source": [
    "seed = 123\n",
    "dimension = 1\n",
    "resolution = 40\n",
    "degree = 3\n",
    "max_time = 1\n",
    "repeats=4\n",
    "\n",
    "timings = {}\n",
    "\n",
    "settings = {\n",
    "    'JAX' : ('jax', BSplineBackend.DeBoor, 'cpu'),\n",
    "    'ND-Splines' : ('ndspline',None,None),\n",
    "}\n",
    "\n",
    "for key in settings.keys():\n",
    "    timings[key] = None\n",
    "    name, backend, device = settings[key]\n",
    "\n",
    "    exponent = 4\n",
    "    for degree in range(3,10):\n",
    "        start_time = time.time()\n",
    "\n",
    "        size = 10 ** exponent\n",
    "        res = (resolution,) * dimension\n",
    "        ds = (degree,) * dimension\n",
    "\n",
    "        c, k, x = random_spline(res, degrees=ds, sample=size, seed=seed)\n",
    "\n",
    "        sym = None\n",
    "        if name == 'jax':\n",
    "            s = ndSpline_unsafe(c, k, ds, backend=backend)\n",
    "\n",
    "            x_jax = jax.device_put(x)\n",
    "\n",
    "            fn = jit(vmap(s), backend=device)\n",
    "\n",
    "            sym = lambda : fn(x_jax).block_until_ready()\n",
    "        elif name == 'ndspline':\n",
    "            knots = []\n",
    "            for a in k:\n",
    "                knots.append(onp.asarray(a))\n",
    "            s = ndsplines.NDSpline(knots, onp.asarray(c), ds)\n",
    "            xs = onp.asarray(x)\n",
    "            def fn():\n",
    "                s(xs)\n",
    "            sym = fn\n",
    "\n",
    "        try:\n",
    "            t = timeit.Timer(sym).repeat(repeat=4, number=1)\n",
    "        except RuntimeError:\n",
    "            break\n",
    "\n",
    "        t_old = timings[key]\n",
    "\n",
    "        t_new = onp.asarray([degree] + t)\n",
    "        \n",
    "        print(f\"{key}: {degree} - {t_new}\")\n",
    "\n",
    "        if t_old is None:\n",
    "            timings[key] = t_new\n",
    "        else:\n",
    "            timings[key] = onp.vstack([t_old,t_new])\n",
    "\n",
    "        if time.time() - start_time > max_time * 60:\n",
    "            break\n"
   ]
  },
  {
   "cell_type": "code",
   "execution_count": 12,
   "metadata": {},
   "outputs": [
    {
     "data": {
      "image/png": "[encoded data removed]",
      "text/plain": [
       "<Figure size 648x216 with 2 Axes>"
      ]
     },
     "metadata": {
      "needs_background": "light"
     },
     "output_type": "display_data"
    }
   ],
   "source": [
    "keys = [['JAX','ND-Splines']]\n",
    "\n",
    "fig, axs = plt.subplots(1,2, figsize=(9,3), sharex=True, sharey=True)\n",
    "\n",
    "for i, per_device in zip(range(len(keys)),keys):\n",
    "    ax = axs[i]\n",
    "    for k in per_device:\n",
    "        data = timings[k]\n",
    "        x = data[:,0]\n",
    "        y_jit = data[:,1]\n",
    "        y = onp.mean(data[:,2:], 1)\n",
    "\n",
    "        ax.plot(x, y)\n",
    "        # ax.set_xscale('log')\n",
    "        ax.scatter(x, y_jit, label=k)\n",
    "        ax.set_yscale('log')\n",
    "        ax.legend()\n",
    "\n",
    "\n",
    "plt.show()\n"
   ]
  },
  {
   "cell_type": "markdown",
   "metadata": {},
   "source": [
    "## Effects of higher dimensions"
   ]
  },
  {
   "cell_type": "code",
   "execution_count": 13,
   "metadata": {},
   "outputs": [
    {
     "name": "stdout",
     "output_type": "stream",
     "text": [
      "JAX: 1 - [1.         0.26377664 0.00211014 0.00219541 0.00195608]\n",
      "JAX: 2 - [2.         0.47666394 0.00433682 0.00436623 0.00466245]\n",
      "JAX: 3 - [3.         0.68629481 0.00957835 0.00793964 0.0089574 ]\n",
      "JAX: 4 - [4.         0.91925078 0.01498748 0.01598586 0.01573396]\n",
      "JAX: 5 - [5.         1.25577021 0.07343918 0.07312821 0.07675034]\n",
      "ND-Splines: 1 - [1.00000000e+00 1.02783181e-03 7.99580477e-04 7.49440864e-04\n",
      " 7.50603154e-04]\n",
      "ND-Splines: 2 - [2.         0.01757904 0.00317538 0.00296276 0.00300686]\n",
      "ND-Splines: 3 - [3.         0.02020497 0.01622131 0.0166934  0.01648148]\n",
      "ND-Splines: 4 - [4.         0.11237708 0.09696192 0.09888016 0.09811207]\n",
      "ND-Splines: 5 - [5.         0.61325774 0.55451929 0.56805601 0.55743139]\n"
     ]
    }
   ],
   "source": [
    "seed = 123\n",
    "dimension = 1\n",
    "resolution = 7\n",
    "degree = 3\n",
    "max_time = 1\n",
    "repeats=4\n",
    "\n",
    "timings = {}\n",
    "\n",
    "settings = {\n",
    "    'JAX' : ('jax', BSplineBackend.DeBoor, 'cpu'),\n",
    "    'ND-Splines' : ('ndspline',None,None),\n",
    "}\n",
    "\n",
    "for key in settings.keys():\n",
    "    timings[key] = None\n",
    "    name, backend, device = settings[key]\n",
    "\n",
    "    exponent = 4\n",
    "    for dimension in range(1,6):\n",
    "        start_time = time.time()\n",
    "\n",
    "        size = 10 ** exponent\n",
    "        res = (resolution,) * dimension\n",
    "        ds = (degree,) * dimension\n",
    "\n",
    "        c, k, x = random_spline(res, degrees=ds, sample=size, seed=seed)\n",
    "\n",
    "        sym = None\n",
    "        if name == 'jax':\n",
    "            s = ndSpline_unsafe(c, k, ds, backend=backend)\n",
    "\n",
    "            x_jax = jax.device_put(x)\n",
    "\n",
    "            fn = jit(vmap(s), backend=device)\n",
    "\n",
    "            sym = lambda : fn(x_jax).block_until_ready()\n",
    "        elif name == 'ndspline':\n",
    "            knots = []\n",
    "            for a in k:\n",
    "                knots.append(onp.asarray(a))\n",
    "            s = ndsplines.NDSpline(knots, onp.asarray(c), ds)\n",
    "            xs = onp.asarray(x)\n",
    "            def fn():\n",
    "                s(xs)\n",
    "            sym = fn\n",
    "\n",
    "        try:\n",
    "            t = timeit.Timer(sym).repeat(repeat=4, number=1)\n",
    "        except RuntimeError:\n",
    "            break\n",
    "\n",
    "        t_old = timings[key]\n",
    "\n",
    "        t_new = onp.asarray([dimension] + t)\n",
    "        \n",
    "        print(f\"{key}: {dimension} - {t_new}\")\n",
    "\n",
    "        if t_old is None:\n",
    "            timings[key] = t_new\n",
    "        else:\n",
    "            timings[key] = onp.vstack([t_old,t_new])\n",
    "\n",
    "        if time.time() - start_time > max_time * 60:\n",
    "            break\n"
   ]
  },
  {
   "cell_type": "code",
   "execution_count": 14,
   "metadata": {},
   "outputs": [
    {
     "data": {
      "image/png": "[encoded data removed]",
      "text/plain": [
       "<Figure size 648x216 with 2 Axes>"
      ]
     },
     "metadata": {
      "needs_background": "light"
     },
     "output_type": "display_data"
    }
   ],
   "source": [
    "keys = [['JAX','ND-Splines']]\n",
    "\n",
    "fig, axs = plt.subplots(1,2, figsize=(9,3), sharex=True, sharey=True)\n",
    "\n",
    "for i, per_device in zip(range(len(keys)),keys):\n",
    "    ax = axs[i]\n",
    "    for k in per_device:\n",
    "        data = timings[k]\n",
    "        x = data[:,0]\n",
    "        y_jit = data[:,1]\n",
    "        y = onp.mean(data[:,2:], 1)\n",
    "\n",
    "        ax.plot(x, y)\n",
    "        # ax.set_xscale('log')\n",
    "        ax.scatter(x, y_jit, label=k)\n",
    "        ax.set_yscale('log')\n",
    "        ax.legend()\n",
    "\n",
    "\n",
    "plt.show()\n"
   ]
  },
  {
   "cell_type": "markdown",
   "metadata": {},
   "source": [
    "## Effect of increased knot resolution\n",
    "\n",
    "1D and 3D splines - fastest backend"
   ]
  },
  {
   "cell_type": "code",
   "execution_count": 17,
   "metadata": {},
   "outputs": [],
   "source": []
  },
  {
   "cell_type": "markdown",
   "metadata": {},
   "source": [
    "# Profiling"
   ]
  },
  {
   "cell_type": "code",
   "execution_count": 6,
   "metadata": {},
   "outputs": [],
   "source": [
    "seed = 123\n",
    "size = 100\n",
    "dimension = 1\n",
    "resolution = 150\n",
    "degree = 3\n",
    "\n",
    "res = (resolution,) * dimension\n",
    "ds = (degree,) * dimension\n",
    "\n",
    "c, k, x = random_spline(res, sample=size, seed=seed)\n",
    "s = ndSpline_unsafe(c, k, ds, backend=BSplineBackend.Symbolic, naive_search=False)\n",
    "\n",
    "x_jax = jax.device_put(x)\n",
    "fn = jit(vmap(s))\n",
    "\n",
    "with jax.profiler.trace(\"/tmp/jax-trace1\", create_perfetto_link=False):\n",
    "    fn(x_jax).block_until_ready()\n",
    "    fn(x_jax).block_until_ready()"
   ]
  },
  {
   "cell_type": "code",
   "execution_count": null,
   "metadata": {},
   "outputs": [],
   "source": [
    "seed = 123\n",
    "size = 100000\n",
    "dimension = 1\n",
    "resolution = 15\n",
    "degree = 3\n",
    "\n",
    "res = (resolution,) * dimension\n",
    "ds = (degree,) * dimension\n",
    "\n",
    "c, k, x = random_spline(res, sample=size, seed=seed)\n",
    "\n",
    "print(len(k[0]))\n",
    "\n",
    "def search(x):\n",
    "    return jnp.searchsorted(k[0],x,side='right')\n",
    "\n",
    "def find(x):\n",
    "    return jnp.argmax(k[0]>x, 0)\n",
    "\n",
    "x_jax = jax.device_put(x)\n",
    "fn1 = jit(vmap(search))\n",
    "fn2 = jit(vmap(find))\n",
    "a = fn1(x_jax).block_until_ready()\n",
    "b = fn2(x_jax).block_until_ready()\n",
    "\n",
    "# with jax.profiler.trace(\"/tmp/tensorboard\"):\n",
    "#     a = fn1(x_jax).block_until_ready()\n",
    "#     b = fn2(x_jax).block_until_ready()\n",
    "    # (a-b).block_until_ready()\n",
    "    # print(a-b)"
   ]
  },
  {
   "cell_type": "markdown",
   "metadata": {},
   "source": [
    "## Memory usage"
   ]
  },
  {
   "cell_type": "code",
   "execution_count": null,
   "metadata": {},
   "outputs": [],
   "source": [
    "seed = 123\n",
    "size = 1000000\n",
    "dimension = 3\n",
    "resolution = 20\n",
    "degree = 3\n",
    "\n",
    "res = (resolution,) * dimension\n",
    "ds = (degree,) * dimension\n",
    "\n",
    "c, k, x = random_spline(res, sample=size, seed=seed)\n",
    "s = ndSpline_unsafe(c, k, ds, backend=BSplineBackend.DeBoor, naive_search=False)\n",
    "sd = ndSpline_unsafe(c, k, ds, backend=BSplineBackend.DeBoor, naive_search=False)\n",
    "\n",
    "x_jax = jax.device_put(x)\n",
    "fn = jit(vmap(s))\n",
    "fnd = jit(vmap(sd))\n",
    "a = fn(x_jax)\n",
    "\n",
    "a.block_until_ready()\n",
    "\n",
    "jax.profiler.save_device_memory_profile(\"symbolic-memory.prof\")\n",
    "\n",
    "ad = fnd(x_jax).block_until_ready()\n",
    "\n",
    "ad.block_until_ready()\n",
    "\n",
    "jax.profiler.save_device_memory_profile(\"deBoor-memory.prof\")\n",
    "\n"
   ]
  }
 ],
 "metadata": {
  "kernelspec": {
   "display_name": "Env UF3",
   "language": "python",
   "name": "uf3_env"
  },
  "language_info": {
   "codemirror_mode": {
    "name": "ipython",
    "version": 3
   },
   "file_extension": ".py",
   "mimetype": "text/x-python",
   "name": "python",
   "nbconvert_exporter": "python",
   "pygments_lexer": "ipython3",
   "version": "3.8.6"
  },
  "vscode": {
   "interpreter": {
    "hash": "ca6e4c1237d2523077850c33bb85c07df22e41d5dc1f9dffe27e02189376af2b"
   }
  }
 },
 "nbformat": 4,
 "nbformat_minor": 4
}
