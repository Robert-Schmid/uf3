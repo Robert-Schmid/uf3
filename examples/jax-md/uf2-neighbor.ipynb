{
 "cells": [
  {
   "cell_type": "code",
   "execution_count": 1,
   "metadata": {},
   "outputs": [
    {
     "name": "stderr",
     "output_type": "stream",
     "text": [
      "<frozen importlib._bootstrap>:228: RuntimeWarning: scipy._lib.messagestream.MessageStream size changed, may indicate binary incompatibility. Expected 56 from C header, got 64 from PyObject\n"
     ]
    }
   ],
   "source": [
    "import numpy as onp\n",
    "\n",
    "import jax.numpy as jnp\n",
    "from jax import random\n",
    "from jax import jit, grad, vmap, value_and_grad\n",
    "from jax import lax\n",
    "from jax import ops\n",
    "\n",
    "from jax.config import config\n",
    "config.update(\"jax_enable_x64\", True)\n",
    "\n",
    "from jax_md import space, smap, energy, minimize, quantity, simulate, partition, util\n",
    "NeighborListFormat = partition.NeighborListFormat\n",
    "\n",
    "from functools import partial\n",
    "import time\n",
    "from typing import List, Dict, Tuple, Callable, Optional\n",
    "\n",
    "f32 = jnp.float32\n",
    "f64 = jnp.float64\n",
    "Array = jnp.ndarray\n",
    "\n",
    "import matplotlib\n",
    "import matplotlib.pyplot as plt\n",
    "plt.rcParams.update({'font.size': 16})\n",
    "\n",
    "def format_plot(x, y):  \n",
    "  plt.grid(True)\n",
    "  plt.xlabel(x, fontsize=20)\n",
    "  plt.ylabel(y, fontsize=20)\n",
    "  \n",
    "def finalize_plot(shape=(1, 0.7)):\n",
    "  plt.gcf().set_size_inches(\n",
    "    shape[0] * 1.5 * plt.gcf().get_size_inches()[1], \n",
    "    shape[1] * 1.5 * plt.gcf().get_size_inches()[1])\n",
    "  plt.tight_layout()\n",
    "\n",
    "def calculate_bond_data(displacement_or_metric, R, dr_cutoff, species=None):\n",
    "  if( not(species is None)):\n",
    "    assert(False)\n",
    "    \n",
    "  metric = space.map_product(space.canonicalize_displacement_or_metric(displacement))\n",
    "  dr = metric(R,R)\n",
    "\n",
    "  dr_include = jnp.triu(jnp.where(dr<dr_cutoff, 1, 0)) - jnp.eye(R.shape[0],dtype=jnp.int32)\n",
    "  index_list=jnp.dstack(jnp.meshgrid(jnp.arange(N), jnp.arange(N), indexing='ij'))\n",
    "\n",
    "  i_s = jnp.where(dr_include==1, index_list[:,:,0], -1).flatten()\n",
    "  j_s = jnp.where(dr_include==1, index_list[:,:,1], -1).flatten()\n",
    "  ij_s = jnp.transpose(jnp.array([i_s,j_s]))\n",
    "\n",
    "  bonds = ij_s[(ij_s!=jnp.array([-1,-1]))[:,1]]\n",
    "  lengths = dr.flatten()[(ij_s!=jnp.array([-1,-1]))[:,1]]\n",
    "\n",
    "  return bonds, lengths\n",
    "\n",
    "def plot_system(R,box_size,species=None,ms=20):\n",
    "  R_plt = onp.array(R)\n",
    "\n",
    "  if(species is None):\n",
    "    plt.plot(R_plt[:, 0], R_plt[:, 1], 'o', markersize=ms)\n",
    "  else:\n",
    "    for ii in range(jnp.amax(species)+1):\n",
    "      Rtemp = R_plt[species==ii]\n",
    "      plt.plot(Rtemp[:, 0], Rtemp[:, 1], 'o', markersize=ms)\n",
    "\n",
    "  plt.xlim([0, box_size])\n",
    "  plt.ylim([0, box_size])\n",
    "  plt.xticks([], [])\n",
    "  plt.yticks([], [])\n",
    "\n",
    "  finalize_plot((1,1))\n",
    "  \n",
    "key = random.PRNGKey(0)"
   ]
  },
  {
   "cell_type": "code",
   "execution_count": 3,
   "metadata": {},
   "outputs": [],
   "source": [
    "from uf3.representation import bspline\n",
    "from uf3.data import composition\n",
    "from uf3.regression import least_squares\n",
    "\n",
    "element_list = ['W']\n",
    "degree = 2\n",
    "\n",
    "chemical_system = composition.ChemicalSystem(element_list=element_list,\n",
    "                                             degree=degree)\n",
    "\n",
    "r_min_map = {('W', 'W'): 1.5,\n",
    "            }\n",
    "r_max_map = {('W', 'W'): 5.5,\n",
    "            }\n",
    "resolution_map = {('W', 'W'): 25,\n",
    "                 }\n",
    "trailing_trim = 3\n",
    "\n",
    "bspline_config = bspline.BSplineBasis(chemical_system,\n",
    "                                      r_min_map=r_min_map,\n",
    "                                      r_max_map=r_max_map,\n",
    "                                      resolution_map=resolution_map,\n",
    "                                      trailing_trim=trailing_trim)\n",
    "\n",
    "model = least_squares.WeightedLinearModel(bspline_config)\n",
    "\n",
    "model.load(filename=\"../tungsten_extxyz/model_pair.json\")"
   ]
  },
  {
   "cell_type": "code",
   "execution_count": 4,
   "metadata": {},
   "outputs": [
    {
     "name": "stdout",
     "output_type": "stream",
     "text": [
      "[ 6.43001157e+00  5.97354258e+00  5.06058796e+00  3.69113106e+00\n",
      "  1.65205855e+00  9.23859147e-01  2.81258202e-01 -5.36413561e-03\n",
      " -1.65669972e-01 -2.39954884e-01 -2.77954263e-01 -2.80998799e-01\n",
      " -2.49653066e-01 -1.77409590e-01 -1.00099852e-01 -6.82599769e-02\n",
      " -2.00034440e-02 -3.28071234e-02 -3.43219435e-02 -3.43618259e-02\n",
      " -2.88400639e-02 -2.12175439e-02 -6.90983500e-04 -9.25139031e-03\n",
      " -8.08694792e-03  0.00000000e+00  0.00000000e+00  0.00000000e+00]\n",
      "[1.5  1.5  1.5  1.5  1.66 1.82 1.98 2.14 2.3  2.46 2.62 2.78 2.94 3.1\n",
      " 3.26 3.42 3.58 3.74 3.9  4.06 4.22 4.38 4.54 4.7  4.86 5.02 5.18 5.34\n",
      " 5.5  5.5  5.5  5.5 ]\n"
     ]
    }
   ],
   "source": [
    "coefficients = jnp.asarray(model.coefficients[1:])\n",
    "knots = jnp.asarray(model.bspline_config.knots_map[('W','W')])\n",
    "\n",
    "print(coefficients)\n",
    "print(knots)"
   ]
  },
  {
   "cell_type": "markdown",
   "metadata": {},
   "source": [
    "## Building neighbor list and data"
   ]
  },
  {
   "cell_type": "code",
   "execution_count": 5,
   "metadata": {},
   "outputs": [
    {
     "data": {
      "image/png": "[encoded data removed]",
      "text/plain": [
       "<Figure size 432x432 with 1 Axes>"
      ]
     },
     "metadata": {},
     "output_type": "display_data"
    }
   ],
   "source": [
    "N = 20\n",
    "dimension = 3\n",
    "box_size = 12.0\n",
    "\n",
    "key, split = random.split(key)\n",
    "R = random.uniform(split, (N,dimension), minval=0.0, maxval=box_size, dtype=f64) \n",
    "\n",
    "plot_system(R,box_size)"
   ]
  },
  {
   "cell_type": "code",
   "execution_count": 6,
   "metadata": {},
   "outputs": [],
   "source": [
    "box = jnp.eye(dimension) * box_size\n",
    "displacement, shift = space.periodic_general(box, fractional_coordinates=False)"
   ]
  },
  {
   "cell_type": "code",
   "execution_count": 7,
   "metadata": {},
   "outputs": [
    {
     "data": {
      "text/plain": [
       "DeviceArray(1, dtype=int16)"
      ]
     },
     "execution_count": 7,
     "metadata": {},
     "output_type": "execute_result"
    }
   ],
   "source": [
    "species = onp.concatenate([onp.zeros(N//2), onp.ones(N-(N//2))])\n",
    "rng = onp.random.default_rng()\n",
    "rng.shuffle(species)\n",
    "species = jnp.asarray(species, dtype=jnp.int16)\n",
    "# print(species)\n",
    "jnp.max(species)"
   ]
  },
  {
   "cell_type": "markdown",
   "metadata": {},
   "source": [
    "## Potential"
   ]
  },
  {
   "cell_type": "code",
   "execution_count": 8,
   "metadata": {},
   "outputs": [],
   "source": [
    "from uf3.jax.potentials import uf2_neighbor\n",
    "\n",
    "nf, ef = uf2_neighbor(displacement,box_size ,knots=knots, cutoff=5.5)"
   ]
  },
  {
   "cell_type": "code",
   "execution_count": 9,
   "metadata": {},
   "outputs": [],
   "source": [
    "nbrs = nf.allocate(R)"
   ]
  },
  {
   "cell_type": "code",
   "execution_count": 10,
   "metadata": {},
   "outputs": [
    {
     "name": "stdout",
     "output_type": "stream",
     "text": [
      "-2.3293028603222643\n",
      "-2.3293028603222643\n"
     ]
    }
   ],
   "source": [
    "from uf3.jax.potentials import uf2_pair\n",
    "\n",
    "pair = uf2_pair(displacement, coefficients=coefficients, knots=knots)\n",
    "print(pair(R))\n",
    "print(ef(R, neighbor=nbrs, coefficients=coefficients, knots=knots))"
   ]
  },
  {
   "cell_type": "code",
   "execution_count": 11,
   "metadata": {},
   "outputs": [],
   "source": [
    "coeff_dict = {}\n",
    "coeff_dict[(0,0)] = coefficients\n",
    "coeff_dict[(0,1)] = coefficients\n",
    "coeff_dict[(1,1)] = coefficients\n",
    "\n",
    "knot_dict = {}\n",
    "knot_dict[(0,0)] = knots\n",
    "knot_dict[(0,1)] = knots\n",
    "knot_dict[(1,1)] = knots"
   ]
  },
  {
   "cell_type": "code",
   "execution_count": 12,
   "metadata": {},
   "outputs": [],
   "source": [
    "nf, ef = uf2_neighbor(displacement, box_size, species=species, knots=knot_dict, cutoff=5.5)\n",
    "nbrs = nf.allocate(R)"
   ]
  },
  {
   "cell_type": "code",
   "execution_count": 13,
   "metadata": {},
   "outputs": [
    {
     "name": "stdout",
     "output_type": "stream",
     "text": [
      "-2.3293028603222647\n"
     ]
    }
   ],
   "source": [
    "print(ef(R, neighbor=nbrs, coefficients=coeff_dict))"
   ]
  }
 ],
 "metadata": {
  "interpreter": {
   "hash": "ca6e4c1237d2523077850c33bb85c07df22e41d5dc1f9dffe27e02189376af2b"
  },
  "kernelspec": {
   "display_name": "Python 3.9.7 ('uf3')",
   "language": "python",
   "name": "python3"
  },
  "language_info": {
   "codemirror_mode": {
    "name": "ipython",
    "version": 3
   },
   "file_extension": ".py",
   "mimetype": "text/x-python",
   "name": "python",
   "nbconvert_exporter": "python",
   "pygments_lexer": "ipython3",
   "version": "3.9.7"
  },
  "orig_nbformat": 4
 },
 "nbformat": 4,
 "nbformat_minor": 2
}
