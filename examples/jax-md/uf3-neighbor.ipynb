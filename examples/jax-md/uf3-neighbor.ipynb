{
 "cells": [
  {
   "cell_type": "code",
   "execution_count": 1,
   "metadata": {},
   "outputs": [
    {
     "name": "stderr",
     "output_type": "stream",
     "text": [
      "<frozen importlib._bootstrap>:228: RuntimeWarning: scipy._lib.messagestream.MessageStream size changed, may indicate binary incompatibility. Expected 56 from C header, got 64 from PyObject\n",
      "WARNING:absl:No GPU/TPU found, falling back to CPU. (Set TF_CPP_MIN_LOG_LEVEL=0 and rerun for more info.)\n"
     ]
    }
   ],
   "source": [
    "import numpy as onp\n",
    "\n",
    "import jax.numpy as jnp\n",
    "from jax import random\n",
    "from jax import jit, grad, vmap, value_and_grad\n",
    "from jax import lax\n",
    "from jax import ops\n",
    "\n",
    "from jax.config import config\n",
    "config.update(\"jax_enable_x64\", True)\n",
    "\n",
    "from jax_md import space, smap, energy, minimize, quantity, simulate, partition, util\n",
    "NeighborListFormat = partition.NeighborListFormat\n",
    "\n",
    "from functools import partial\n",
    "import time\n",
    "from typing import List, Dict, Tuple, Callable, Optional\n",
    "\n",
    "f32 = jnp.float32\n",
    "f64 = jnp.float64\n",
    "Array = jnp.ndarray\n",
    "\n",
    "import matplotlib\n",
    "import matplotlib.pyplot as plt\n",
    "plt.rcParams.update({'font.size': 16})\n",
    "\n",
    "def format_plot(x, y):  \n",
    "  plt.grid(True)\n",
    "  plt.xlabel(x, fontsize=20)\n",
    "  plt.ylabel(y, fontsize=20)\n",
    "  \n",
    "def finalize_plot(shape=(1, 0.7)):\n",
    "  plt.gcf().set_size_inches(\n",
    "    shape[0] * 1.5 * plt.gcf().get_size_inches()[1], \n",
    "    shape[1] * 1.5 * plt.gcf().get_size_inches()[1])\n",
    "  plt.tight_layout()\n",
    "\n",
    "def calculate_bond_data(displacement_or_metric, R, dr_cutoff, species=None):\n",
    "  if( not(species is None)):\n",
    "    assert(False)\n",
    "    \n",
    "  metric = space.map_product(space.canonicalize_displacement_or_metric(displacement))\n",
    "  dr = metric(R,R)\n",
    "\n",
    "  dr_include = jnp.triu(jnp.where(dr<dr_cutoff, 1, 0)) - jnp.eye(R.shape[0],dtype=jnp.int32)\n",
    "  index_list=jnp.dstack(jnp.meshgrid(jnp.arange(N), jnp.arange(N), indexing='ij'))\n",
    "\n",
    "  i_s = jnp.where(dr_include==1, index_list[:,:,0], -1).flatten()\n",
    "  j_s = jnp.where(dr_include==1, index_list[:,:,1], -1).flatten()\n",
    "  ij_s = jnp.transpose(jnp.array([i_s,j_s]))\n",
    "\n",
    "  bonds = ij_s[(ij_s!=jnp.array([-1,-1]))[:,1]]\n",
    "  lengths = dr.flatten()[(ij_s!=jnp.array([-1,-1]))[:,1]]\n",
    "\n",
    "  return bonds, lengths\n",
    "\n",
    "def plot_system(R,box_size,species=None,ms=20):\n",
    "  R_plt = onp.array(R)\n",
    "\n",
    "  if(species is None):\n",
    "    plt.plot(R_plt[:, 0], R_plt[:, 1], 'o', markersize=ms)\n",
    "  else:\n",
    "    for ii in range(jnp.amax(species)+1):\n",
    "      Rtemp = R_plt[species==ii]\n",
    "      plt.plot(Rtemp[:, 0], Rtemp[:, 1], 'o', markersize=ms)\n",
    "\n",
    "  plt.xlim([0, box_size])\n",
    "  plt.ylim([0, box_size])\n",
    "  plt.xticks([], [])\n",
    "  plt.yticks([], [])\n",
    "\n",
    "  finalize_plot((1,1))\n",
    "  \n",
    "key = random.PRNGKey(0)"
   ]
  },
  {
   "cell_type": "markdown",
   "metadata": {},
   "source": [
    "## Loading potential from file"
   ]
  },
  {
   "cell_type": "code",
   "execution_count": 2,
   "metadata": {},
   "outputs": [],
   "source": [
    "from uf3.forcefield.calculator import *\n",
    "from uf3.representation import bspline\n",
    "from uf3.data import composition\n",
    "from uf3.regression import least_squares\n",
    "\n",
    "element_list = ['W']\n",
    "degree = 3\n",
    "\n",
    "chemical_system = composition.ChemicalSystem(element_list=element_list,\n",
    "                                             degree=degree)\n",
    "\n",
    "r_min_map = {(\"W\", \"W\"): 1.5,\n",
    "             (\"W\", \"W\", \"W\"): [1.5, 1.5, 1.5],\n",
    "            }\n",
    "r_max_map = {(\"W\", \"W\"): 5.5,\n",
    "             (\"W\", \"W\", \"W\"): [3.5, 3.5, 7.0],\n",
    "            }\n",
    "resolution_map = {(\"W\", \"W\"): 25,\n",
    "                  (\"W\", \"W\", \"W\"): [5, 5, 10],\n",
    "                 }\n",
    "trailing_trim = 3\n",
    "\n",
    "bspline_config = bspline.BSplineBasis(chemical_system,\n",
    "                                      r_min_map=r_min_map,\n",
    "                                      r_max_map=r_max_map,\n",
    "                                      resolution_map=resolution_map,\n",
    "                                      trailing_trim=trailing_trim)\n",
    "\n",
    "model = least_squares.WeightedLinearModel(bspline_config)\n",
    "\n",
    "model.load(filename=\"../tungsten_extxyz/model_uf23.json\")\n",
    "\n",
    "calc = UFCalculator(model)\n",
    "\n",
    "ndspline2 = calc.pair_potentials[('W','W')]\n",
    "ndspline3 = calc.trio_potentials[('W','W','W')]"
   ]
  },
  {
   "cell_type": "code",
   "execution_count": 3,
   "metadata": {},
   "outputs": [
    {
     "name": "stdout",
     "output_type": "stream",
     "text": [
      "(28,)\n",
      "[array([1.5 , 1.5 , 1.5 , 1.5 , 1.66, 1.82, 1.98, 2.14, 2.3 , 2.46, 2.62,\n",
      "       2.78, 2.94, 3.1 , 3.26, 3.42, 3.58, 3.74, 3.9 , 4.06, 4.22, 4.38,\n",
      "       4.54, 4.7 , 4.86, 5.02, 5.18, 5.34, 5.5 , 5.5 , 5.5 , 5.5 ])]\n"
     ]
    }
   ],
   "source": [
    "coefficients2 = jnp.asarray(ndspline2.coefficients)\n",
    "coefficients2 = coefficients2[:,0]\n",
    "\n",
    "knots2 = ndspline2.knots\n",
    "knots2 = knots2\n",
    "\n",
    "print(coefficients2.shape)\n",
    "\n",
    "print(knots2)"
   ]
  },
  {
   "cell_type": "code",
   "execution_count": 4,
   "metadata": {},
   "outputs": [
    {
     "name": "stdout",
     "output_type": "stream",
     "text": [
      "(8, 8, 13)\n",
      "[DeviceArray([1.5, 1.5, 1.5, 1.5, 1.9, 2.3, 2.7, 3.1, 3.5, 3.5, 3.5, 3.5],            dtype=float64), DeviceArray([1.5, 1.5, 1.5, 1.5, 1.9, 2.3, 2.7, 3.1, 3.5, 3.5, 3.5, 3.5],            dtype=float64), DeviceArray([1.5 , 1.5 , 1.5 , 1.5 , 2.05, 2.6 , 3.15, 3.7 , 4.25, 4.8 ,\n",
      "             5.35, 5.9 , 6.45, 7.  , 7.  , 7.  , 7.  ], dtype=float64)]\n"
     ]
    }
   ],
   "source": [
    "coefficients3 = jnp.asarray(ndspline3.coefficients)\n",
    "coefficients3 = coefficients3[:,:,:,0]\n",
    "\n",
    "knots3 = ndspline3.knots\n",
    "knots3 = [jnp.asarray(i) for i in knots3]\n",
    "\n",
    "print(coefficients3.shape)\n",
    "\n",
    "print(knots3)"
   ]
  },
  {
   "cell_type": "markdown",
   "metadata": {},
   "source": [
    "## Building neighbor list and data"
   ]
  },
  {
   "cell_type": "code",
   "execution_count": 5,
   "metadata": {},
   "outputs": [
    {
     "data": {
      "image/png": "[encoded data removed]",
      "text/plain": [
       "<Figure size 432x432 with 1 Axes>"
      ]
     },
     "metadata": {},
     "output_type": "display_data"
    }
   ],
   "source": [
    "N = 20\n",
    "dimension = 3\n",
    "box_size = 12.0\n",
    "\n",
    "key, split = random.split(key)\n",
    "R = random.uniform(split, (N,dimension), minval=0.0, maxval=box_size, dtype=f64) \n",
    "\n",
    "plot_system(R,box_size)"
   ]
  },
  {
   "cell_type": "code",
   "execution_count": 6,
   "metadata": {},
   "outputs": [],
   "source": [
    "box = jnp.eye(dimension) * box_size\n",
    "displacement, shift = space.periodic_general(box, fractional_coordinates=False)"
   ]
  },
  {
   "cell_type": "code",
   "execution_count": 7,
   "metadata": {},
   "outputs": [
    {
     "data": {
      "text/plain": [
       "DeviceArray(1, dtype=int16)"
      ]
     },
     "execution_count": 7,
     "metadata": {},
     "output_type": "execute_result"
    }
   ],
   "source": [
    "species = onp.concatenate([onp.zeros(N//2), onp.ones(N-(N//2))])\n",
    "rng = onp.random.default_rng()\n",
    "rng.shuffle(species)\n",
    "species = jnp.asarray(species, dtype=jnp.int16)\n",
    "# print(species)\n",
    "jnp.max(species)"
   ]
  },
  {
   "cell_type": "markdown",
   "metadata": {},
   "source": [
    "## Potential"
   ]
  },
  {
   "cell_type": "markdown",
   "metadata": {},
   "source": [
    "### Stillinger Weber"
   ]
  },
  {
   "cell_type": "code",
   "execution_count": 8,
   "metadata": {},
   "outputs": [],
   "source": [
    "from jax_md.energy import stillinger_weber_neighbor_list"
   ]
  },
  {
   "cell_type": "code",
   "execution_count": 9,
   "metadata": {},
   "outputs": [
    {
     "name": "stderr",
     "output_type": "stream",
     "text": [
      "/opt/anaconda/envs/uf3/lib/python3.9/site-packages/jax/_src/ops/scatter.py:87: FutureWarning: scatter inputs have incompatible types: cannot safely cast value from dtype=int64 to dtype=int32. In future JAX releases this will result in an error.\n",
      "  warnings.warn(\"scatter inputs have incompatible types: cannot safely cast \"\n"
     ]
    }
   ],
   "source": [
    "nfsw, efsw = stillinger_weber_neighbor_list(displacement, box_size, cutoff=5.5)\n",
    "nbrssw = nfsw.allocate(R)\n",
    "efsw = jit(efsw)"
   ]
  },
  {
   "cell_type": "code",
   "execution_count": 10,
   "metadata": {},
   "outputs": [
    {
     "data": {
      "text/plain": [
       "DeviceArray(81.25465588, dtype=float64)"
      ]
     },
     "execution_count": 10,
     "metadata": {},
     "output_type": "execute_result"
    }
   ],
   "source": [
    "efsw(R, nbrssw)"
   ]
  },
  {
   "cell_type": "markdown",
   "metadata": {},
   "source": [
    "### UF3 3-body potential"
   ]
  },
  {
   "cell_type": "code",
   "execution_count": 11,
   "metadata": {},
   "outputs": [
    {
     "name": "stderr",
     "output_type": "stream",
     "text": [
      "/opt/anaconda/envs/uf3/lib/python3.9/site-packages/jax/_src/ops/scatter.py:87: FutureWarning: scatter inputs have incompatible types: cannot safely cast value from dtype=int64 to dtype=int32. In future JAX releases this will result in an error.\n",
      "  warnings.warn(\"scatter inputs have incompatible types: cannot safely cast \"\n"
     ]
    }
   ],
   "source": [
    "from uf3.jax.potentials import uf3_neighbor\n",
    "\n",
    "nf3, ef3 = uf3_neighbor(displacement,box_size ,knots=[knots2, knots3])\n",
    "nbrs3 = nf3.allocate(R)\n",
    "\n",
    "ef3 = jit(ef3)"
   ]
  },
  {
   "cell_type": "code",
   "execution_count": 12,
   "metadata": {},
   "outputs": [
    {
     "name": "stdout",
     "output_type": "stream",
     "text": [
      "11674.077401136561\n"
     ]
    }
   ],
   "source": [
    "print(ef3(R, neighbor=nbrs3, coefficients=[coefficients2, coefficients3]))"
   ]
  },
  {
   "cell_type": "code",
   "execution_count": 13,
   "metadata": {},
   "outputs": [
    {
     "data": {
      "text/plain": [
       "DeviceArray([[ 4.01682227e+02,  8.43966898e+01,  1.45776718e+02],\n",
       "             [ 4.43079509e+02,  5.75442110e+02,  2.41872737e+02],\n",
       "             [-4.59738385e+01, -3.44123536e+02, -1.08846730e+02],\n",
       "             [ 4.58034244e+01, -6.50252574e+02,  1.61338654e+02],\n",
       "             [ 2.80840943e+02, -3.99540825e+02, -9.37696186e+02],\n",
       "             [ 6.62372745e+02, -7.48121920e+02, -8.34672899e+01],\n",
       "             [ 3.40141380e+02, -1.81094293e+02,  1.96396547e+02],\n",
       "             [ 9.92628692e+01, -3.53652674e+02, -4.76664220e+02],\n",
       "             [-5.07302160e+01,  7.45785647e+01,  7.36968166e+02],\n",
       "             [-3.14196624e+02,  1.25428555e+01,  8.74866001e+01],\n",
       "             [ 1.21891733e+02, -2.59744628e+02, -3.42864904e+02],\n",
       "             [-1.57335192e+01,  9.25124753e+01,  8.73129688e+01],\n",
       "             [ 2.91911032e+02,  4.45350074e+02,  2.81659065e+01],\n",
       "             [ 1.86722224e+02,  2.41624419e+02,  1.12172884e+02],\n",
       "             [-1.27850832e+03,  9.18600812e+02,  8.69686477e+02],\n",
       "             [-7.41611642e+01, -5.43316158e+02,  3.99933942e+01],\n",
       "             [-5.72525372e+01, -3.09628362e+01,  2.20362138e+02],\n",
       "             [-3.33004330e+02,  2.06640894e+02, -2.04268259e+02],\n",
       "             [ 3.54200356e+02,  1.49694280e+02, -2.27361969e+02],\n",
       "             [-1.51925367e+03, -1.70540954e+01, -6.09579028e+01],\n",
       "             [-3.35958908e+02,  1.82047871e+02,  3.71135520e+02],\n",
       "             [ 8.90686400e+01,  1.08826565e+02,  1.22471647e+02],\n",
       "             [-4.61218348e+01,  9.38290306e+01,  2.38949774e+01],\n",
       "             [-2.04863771e+02,  2.06513914e+02, -3.96107056e+02],\n",
       "             [ 2.52425366e+02,  1.85712877e+02,  3.47483452e+01],\n",
       "             [-2.18400870e+01, -7.11412530e+00,  5.59924274e+00],\n",
       "             [ 3.76986023e+02,  3.46066435e+00,  1.38017131e+03],\n",
       "             [ 3.06325882e+02,  2.01581048e+02,  7.70105400e+02],\n",
       "             [ 2.01592724e+02,  3.47523492e+01,  1.62113149e+02],\n",
       "             [ 3.36038783e+02,  4.72898635e+02,  1.89745175e+02],\n",
       "             [ 1.01151721e+03,  5.01243469e+02,  4.28898780e+01],\n",
       "             [-3.80486002e+02, -6.28415666e+01,  1.39596422e+02],\n",
       "             [ 3.02605621e+03,  7.79068775e+02, -3.99041086e+03],\n",
       "             [-4.25470564e+02,  9.31706847e+02, -7.36907846e+01],\n",
       "             [ 1.41849954e+03, -1.06316172e+02, -6.49399190e+02],\n",
       "             [ 1.49681118e+02,  2.63678978e+02,  2.64887528e+02],\n",
       "             [-1.83933773e+02, -9.95730787e+02, -1.44401248e+03],\n",
       "             [-1.03954512e+03, -2.31634421e+03, -9.54556263e+01],\n",
       "             [-1.45006935e+02,  8.06039313e+01, -7.28458850e+01],\n",
       "             [-9.02524901e+02,  1.17658299e+03, -1.04574677e+03],\n",
       "             [-5.42618044e+02,  1.62227276e+02, -5.13990723e+02],\n",
       "             [ 5.52585741e+01, -1.61224049e+02,  2.21082707e+02],\n",
       "             [ 1.13681206e+01, -5.10897692e+02,  4.54408919e+02],\n",
       "             [ 1.70157701e+03, -1.50004416e+03,  6.58592233e+02],\n",
       "             [-1.85506260e+03,  7.85612336e+02, -8.53397939e+01],\n",
       "             [ 1.89284965e+01,  1.82426898e+01, -8.17629288e+00],\n",
       "             [ 1.46871578e+03, -3.46934392e+01,  3.67392966e+02],\n",
       "             [-4.89947268e+02, -3.44489789e+02,  5.60255473e+02],\n",
       "             [ 4.15682074e+02, -2.63754536e+02,  2.70643861e+02],\n",
       "             [ 8.52447370e+02,  1.34153177e+03,  2.20577252e+03],\n",
       "             [-3.77063090e+03,  1.36173663e+03, -3.53577501e+01],\n",
       "             [-6.00307404e+02,  4.73046096e+02, -1.14707487e+02],\n",
       "             [-1.28331717e+02, -1.94777206e+03,  4.78264514e+02],\n",
       "             [ 2.65103013e+02,  1.04864732e+03, -1.98398623e+02],\n",
       "             [ 6.54825097e+01,  9.57424317e+01,  1.61478409e+01],\n",
       "             [ 9.64370559e+01,  1.17905707e+02,  7.39047675e+01],\n",
       "             [-3.26016681e+02,  7.37608586e+02,  3.40506533e+00],\n",
       "             [-2.53615864e+02,  7.87647066e+02,  1.98613462e+02],\n",
       "             [ 9.80215816e+00,  6.29735768e+02, -3.09845152e+02],\n",
       "             [-9.13385010e+02,  8.40863351e+02,  2.01398486e+02],\n",
       "             [ 8.19180848e+02, -3.55590153e+02, -6.64838496e+02],\n",
       "             [-3.07744873e+03, -1.81635180e+03, -1.48831566e+03],\n",
       "             [ 2.62366330e+02,  4.95271163e+01, -1.08646259e+03],\n",
       "             [ 4.83955002e+02,  3.05813671e+02, -7.00508692e+02],\n",
       "             [ 8.00578883e-01,  6.91519627e+01, -8.45014668e+01],\n",
       "             [-4.43918265e+02, -5.05484807e+01,  1.52370864e+02],\n",
       "             [ 5.61672931e+02,  7.80419884e+02, -9.42942436e+02],\n",
       "             [ 1.56953650e+02,  1.80756892e+02,  4.83834673e+01],\n",
       "             [ 1.06284195e+02,  2.64909561e+02, -8.48151654e+02],\n",
       "             [ 3.68088302e+02,  4.25153689e+02,  4.27839962e+01],\n",
       "             [ 6.77565313e+01, -3.11936781e+01, -4.24062911e+02],\n",
       "             [ 1.51633791e+02, -9.81746001e+01,  1.84275784e+02],\n",
       "             [-4.71717822e+02, -2.81804212e+02,  1.16141151e+01],\n",
       "             [ 1.19174760e+02,  5.23609863e+02,  1.62928626e+03],\n",
       "             [-1.03568231e+02,  1.66335728e+02,  1.30091364e+02],\n",
       "             [ 2.66625448e+01, -2.11140819e+02,  7.82648617e+01],\n",
       "             [-8.87970547e+02,  3.12558852e+02, -2.24865256e+02],\n",
       "             [ 1.24033985e+02, -3.16983173e+02, -8.29528376e+01],\n",
       "             [ 8.95414413e+01, -2.48656014e+01,  5.27708105e+01],\n",
       "             [ 2.66310633e+02, -1.21977413e+02, -3.90264772e+01],\n",
       "             [-4.13788186e+02,  1.56131130e+02, -6.73457281e+01],\n",
       "             [ 1.74868575e+02, -2.43155083e+01,  1.50245646e+01],\n",
       "             [-5.67223768e+01, -3.66809858e+02, -6.93569524e+01],\n",
       "             [-1.42322383e+02,  3.07362847e+02,  6.14251953e+02],\n",
       "             [ 1.48016820e+02, -3.52083336e+02,  1.43350694e+03],\n",
       "             [ 5.56331256e+02, -3.89302809e+02, -8.48151317e+02],\n",
       "             [-4.31688091e+02,  1.27905525e+03, -3.16217993e+03],\n",
       "             [-6.66948736e+02, -1.86821951e+02, -3.39432464e+02],\n",
       "             [ 6.88350395e+01,  1.01383270e+02, -1.62402333e+01],\n",
       "             [-1.28361418e+02,  2.15334785e+02, -3.57357498e+01],\n",
       "             [ 1.69445569e+02,  1.03335451e+02, -1.26099823e+03],\n",
       "             [ 8.01716654e+01, -2.86962753e+01,  8.56967569e+01],\n",
       "             [ 7.45899074e+01,  4.47926025e+01, -1.76038273e+02],\n",
       "             [-4.25030944e+02,  3.39858270e+03,  2.20201269e+02],\n",
       "             [ 2.92113720e+02, -1.90470232e+02,  4.16022903e+02],\n",
       "             [ 1.99741296e+01,  2.01322334e+02,  3.36675179e+02],\n",
       "             [-1.15381586e+02, -3.44085420e+02,  6.84803410e+02],\n",
       "             [ 2.24220290e+02,  5.87081403e+02, -3.49021595e+02],\n",
       "             [-6.37612211e+02, -1.38145389e+03,  2.49194636e+01],\n",
       "             [ 1.08871864e+02, -2.66241043e+02, -2.54306428e+02],\n",
       "             [-4.64644730e+02, -1.25530685e+02, -5.50710495e+01],\n",
       "             [-3.81535417e+01,  3.57087170e+02,  2.45747811e+01],\n",
       "             [-2.06814183e+02, -1.09451922e+02, -9.68092651e+01],\n",
       "             [ 1.16492379e+02, -1.43209388e+02, -4.41028947e+00],\n",
       "             [-1.18429955e+02,  5.42632595e+02,  1.92316632e+02],\n",
       "             [ 6.62395469e+02, -3.32537940e+02,  2.55053890e+03],\n",
       "             [-3.56930645e+01, -2.38707492e+01, -1.22600027e+02],\n",
       "             [-7.09933403e+01,  1.87911516e+01, -7.91173193e+01],\n",
       "             [ 1.80670721e+02, -2.28322888e+02,  2.58757568e+02],\n",
       "             [ 1.44134642e+02,  1.49810365e+02,  1.22716683e+02],\n",
       "             [-8.28328566e+02, -4.27361047e+02,  1.12290933e+03],\n",
       "             [ 5.17449890e+02, -1.62600152e+02, -9.45206719e+02],\n",
       "             [ 4.53087569e+02, -1.16803482e+03, -2.04369887e+02],\n",
       "             [-5.59729341e+02,  1.70195625e+03,  2.32158877e+03],\n",
       "             [-3.39681578e+02, -1.69858179e+02,  5.01048846e+02],\n",
       "             [ 1.30305815e+03,  2.78216320e+03,  1.91271915e+02],\n",
       "             [ 2.50362029e+03,  2.04044929e+03,  1.02283983e+03],\n",
       "             [-1.82454009e+03, -9.40839403e+02, -9.31204472e+02],\n",
       "             [ 1.46796662e+02, -5.01094562e+01, -4.96319044e+00],\n",
       "             [-4.19339363e+02,  2.64261258e+02, -6.78608851e+00],\n",
       "             [ 1.01882816e+03, -1.57992307e+02, -6.52604218e+02],\n",
       "             [-4.79838806e+02, -8.16293313e+02, -1.49963295e+03],\n",
       "             [-2.45928251e+02, -5.78294505e+01, -3.07860446e+02],\n",
       "             [-1.49085932e+02,  8.14831537e+01,  6.00484214e+01],\n",
       "             [ 1.65239060e+02,  3.45633866e+02,  9.33167072e+01],\n",
       "             [-6.09552338e+02, -1.64711740e+02, -9.41271392e+02],\n",
       "             [-2.44345670e+01, -3.31012678e+01,  4.50435555e+01],\n",
       "             [-1.47404768e+02,  5.06072304e+02, -1.24890106e+01],\n",
       "             [ 3.36172343e+02, -2.22948719e+02, -9.01570291e+01],\n",
       "             [ 2.28900262e+02,  1.76332639e+01,  3.45440861e+01],\n",
       "             [ 8.91495066e+02, -1.49071401e+02,  1.93697787e+02],\n",
       "             [ 1.82933093e+02, -1.89149731e+02, -1.60438409e+02],\n",
       "             [-1.24988152e+01,  5.49424907e+01,  9.05721729e+01],\n",
       "             [-1.13274832e+02, -3.45534448e+01, -4.07678466e+02],\n",
       "             [-9.14004155e+01, -1.16147623e+02, -2.56070599e+02],\n",
       "             [-1.45857228e+03, -6.95748593e+02, -1.22385799e+02],\n",
       "             [-1.41666749e+03,  8.67114537e+02, -7.28570310e+02],\n",
       "             [-3.52830499e+02, -1.87201608e+02,  1.81136129e+02],\n",
       "             [-9.16255242e+01,  6.81426955e+01, -2.06476745e+02],\n",
       "             [ 1.08169070e+02, -8.29515094e+02,  1.78420074e+02],\n",
       "             [-2.68864155e+02, -2.48342491e+02, -3.24385013e+02],\n",
       "             [-5.67876056e+02, -6.74826579e+01,  3.00511695e+02],\n",
       "             [-1.76865350e+02,  8.64335788e+01, -9.16037768e+01],\n",
       "             [ 1.12239084e+03, -3.78139255e+02, -1.42399805e+02],\n",
       "             [-4.23563474e+01,  9.89993232e+01,  7.05140172e+01],\n",
       "             [-6.34386086e+02, -4.54450711e+02,  5.71910118e+01],\n",
       "             [-8.09109323e+02, -1.82722758e+02,  3.22336520e+02],\n",
       "             [ 1.35785039e+03,  3.09656116e+02,  1.27998016e+03],\n",
       "             [-1.93562897e+02, -2.17090155e+01,  6.20877764e+01],\n",
       "             [ 4.22402312e+02,  7.76015027e+00, -1.34395656e+02],\n",
       "             [ 9.86392371e+00,  5.45766540e+02,  7.25413995e+01],\n",
       "             [-2.03116383e+02,  4.51628868e+02, -7.93585170e+01],\n",
       "             [ 2.14207271e+02, -2.98856168e+02, -2.02780682e+01],\n",
       "             [-1.84872744e+01, -1.60763931e+01, -4.80957177e+00],\n",
       "             [-4.78939361e+02, -4.93470730e+02,  5.34425606e+02],\n",
       "             [ 8.52296212e+02, -8.77514597e+01, -1.02294917e+03],\n",
       "             [ 3.76385804e+02, -1.13309361e+03,  6.40752489e+02],\n",
       "             [-3.34867753e+02, -4.17640650e+02,  1.60295609e+02],\n",
       "             [ 1.62244893e+02, -3.17443403e+02, -1.11633781e+02],\n",
       "             [-1.69410196e+02,  2.75707843e+02, -3.06692909e+02],\n",
       "             [-2.16462932e+02, -2.88935380e+02, -2.60953289e+01],\n",
       "             [ 6.46679671e+02, -1.30483926e+03, -3.47123285e+02],\n",
       "             [-3.13781551e+02,  4.26880735e+02, -4.97179428e+02],\n",
       "             [ 6.15668472e+01, -2.23027134e+02,  1.56677611e+02],\n",
       "             [-2.58818646e+02,  1.77345249e+02,  5.28849427e+02],\n",
       "             [-2.14180218e+02,  1.38643508e+02, -5.77593000e+01],\n",
       "             [-5.64667136e+02,  5.99295238e+02,  1.07539169e+03],\n",
       "             [ 1.59792127e+02,  1.82474905e+02, -7.22539672e+01],\n",
       "             [ 1.36280596e+02,  1.83815086e+02,  1.97645059e+02],\n",
       "             [ 2.14113339e+02,  1.28957280e+01,  6.09893184e+01],\n",
       "             [-5.56845225e+02,  4.50234455e+01,  5.73162872e+02],\n",
       "             [-7.71320283e+02,  1.50939924e+02, -2.24622760e+02],\n",
       "             [-6.07001544e+01,  1.40384721e+03,  5.16806028e+02],\n",
       "             [-1.13566674e+03, -2.36307241e+02, -2.98495820e+02],\n",
       "             [-1.15757639e+02,  6.54999412e+02,  1.14471281e+02],\n",
       "             [-4.38570994e+02, -6.08101700e+02, -8.26501376e+00],\n",
       "             [ 2.51092833e+03,  1.38947654e+03, -1.00873197e+03],\n",
       "             [ 1.08139636e+02, -2.11277809e+02,  8.41104692e+01],\n",
       "             [ 9.19212725e+02,  7.37676628e+02,  1.73520388e+03],\n",
       "             [ 6.24104204e+02,  1.72934072e+02,  7.38884468e+02],\n",
       "             [ 3.53467966e+02, -4.18729603e+02,  3.87293346e+02],\n",
       "             [ 1.56886655e+01, -5.66849597e+02,  6.27594030e+02],\n",
       "             [-3.06717284e+03, -3.83000068e+03,  2.16055861e+03],\n",
       "             [ 4.49467868e+02, -4.74479355e+02,  1.86012809e+02],\n",
       "             [ 1.39544346e+02,  9.01076766e+00,  1.36206063e+01],\n",
       "             [ 1.84831585e+03, -8.41696678e+02, -2.43720999e+03],\n",
       "             [-1.76370819e+02, -9.60468924e+02,  3.94120826e+02],\n",
       "             [-6.12783570e+02,  1.70610962e+01,  3.37457083e+02],\n",
       "             [ 3.19809988e+03, -8.24259844e+02, -2.46333253e+02],\n",
       "             [-7.35144549e+01,  4.22572402e+02,  3.27387985e+02],\n",
       "             [ 3.70251795e+02, -3.65754992e+02, -3.17099380e+02],\n",
       "             [ 1.35182402e+03, -1.07069794e+03, -2.26736128e+02],\n",
       "             [-2.36181149e+02,  1.96398860e+02, -4.13747448e+02],\n",
       "             [ 4.90457987e+02,  1.07734869e+03, -4.29980487e+02],\n",
       "             [-3.87412006e+02, -8.11288625e+02, -1.29585313e+02],\n",
       "             [-9.22766162e+02, -3.34575412e+02,  4.32980944e+02],\n",
       "             [ 2.31288074e+02,  3.04252907e+02, -3.11131487e+02],\n",
       "             [ 7.61653672e+01, -1.12082012e+02, -5.04775808e+02],\n",
       "             [ 1.00066398e+02, -1.41897922e+03,  3.82247592e+02],\n",
       "             [ 1.59404868e+01, -6.00557530e+02,  2.49690468e+02]],            dtype=float64)"
      ]
     },
     "execution_count": 13,
     "metadata": {},
     "output_type": "execute_result"
    }
   ],
   "source": [
    "grad(ef3)(R, neighbor=nbrs3, coefficients=[coefficients2, coefficients3])"
   ]
  },
  {
   "cell_type": "markdown",
   "metadata": {},
   "source": [
    "### Dictionaies for UF potentials with species."
   ]
  },
  {
   "cell_type": "code",
   "execution_count": 14,
   "metadata": {},
   "outputs": [],
   "source": [
    "coeff_dict = {}\n",
    "coeff_dict[(0,0)] = coefficients2\n",
    "coeff_dict[(0,1)] = coefficients2\n",
    "coeff_dict[(1,1)] = coefficients2\n",
    "\n",
    "knot_dict = {}\n",
    "knot_dict[(0,0)] = knots2\n",
    "knot_dict[(0,1)] = knots2\n",
    "knot_dict[(1,1)] = knots2\n",
    "\n",
    "c3 = {}\n",
    "c3[(0,0,0)] = coefficients3\n",
    "c3[(0,0,1)] = coefficients3\n",
    "c3[(0,1,1)] = coefficients3\n",
    "c3[(1,0,0)] = coefficients3\n",
    "c3[(1,0,1)] = coefficients3\n",
    "c3[(1,1,1)] = coefficients3\n",
    "\n",
    "k3 = {}\n",
    "k3[(0,0,0)] = knots3\n",
    "k3[(0,0,1)] = knots3\n",
    "k3[(0,1,1)] = knots3\n",
    "k3[(1,0,0)] = knots3\n",
    "k3[(1,0,1)] = knots3\n",
    "k3[(1,1,1)] = knots3"
   ]
  },
  {
   "cell_type": "markdown",
   "metadata": {},
   "source": [
    "### UF 3-body potential with species"
   ]
  },
  {
   "cell_type": "code",
   "execution_count": 15,
   "metadata": {},
   "outputs": [],
   "source": [
    "nf3s, ef3s = uf3_neighbor(displacement, box_size, species=species, knots=[knot_dict, k3])\n",
    "nbrs3s = nf3s.allocate(R)\n",
    "ef3s = jit(ef3s)"
   ]
  },
  {
   "cell_type": "code",
   "execution_count": 16,
   "metadata": {},
   "outputs": [
    {
     "name": "stdout",
     "output_type": "stream",
     "text": [
      "11674.077401136561\n"
     ]
    }
   ],
   "source": [
    "print(ef3s(R, neighbor=nbrs3s, coefficients=[coeff_dict, c3]))"
   ]
  },
  {
   "cell_type": "markdown",
   "metadata": {},
   "source": [
    "### UF 2-body potential"
   ]
  },
  {
   "cell_type": "code",
   "execution_count": 17,
   "metadata": {},
   "outputs": [
    {
     "name": "stderr",
     "output_type": "stream",
     "text": [
      "/opt/anaconda/envs/uf3/lib/python3.9/site-packages/jax/_src/ops/scatter.py:87: FutureWarning: scatter inputs have incompatible types: cannot safely cast value from dtype=int64 to dtype=int32. In future JAX releases this will result in an error.\n",
      "  warnings.warn(\"scatter inputs have incompatible types: cannot safely cast \"\n"
     ]
    }
   ],
   "source": [
    "nf2, ef2 = uf3_neighbor(displacement, box_size, knots=[knots2])\n",
    "nbrs2 = nf2.allocate(R)\n",
    "ef2 = jit(ef2)"
   ]
  },
  {
   "cell_type": "code",
   "execution_count": 18,
   "metadata": {},
   "outputs": [
    {
     "name": "stdout",
     "output_type": "stream",
     "text": [
      "2265.697114062089\n"
     ]
    }
   ],
   "source": [
    "print(ef2(R, neighbor=nbrs2, coefficients=[coefficients2]))"
   ]
  },
  {
   "cell_type": "code",
   "execution_count": 19,
   "metadata": {},
   "outputs": [
    {
     "data": {
      "text/plain": [
       "DeviceArray([[-2.27883014e+00, -4.72150039e+01, -5.84282055e+01],\n",
       "             [-2.24835363e+01, -4.28973529e+01,  2.59606624e+01],\n",
       "             [ 3.76645132e+01,  1.13648609e+01,  3.61893586e-01],\n",
       "             [ 1.71114711e+01,  7.16545413e+01, -2.57058101e+00],\n",
       "             [ 5.46932536e+01,  1.44704424e+01, -7.36509742e+01],\n",
       "             [ 4.08410738e+01,  1.26787405e+00,  1.06425865e+01],\n",
       "             [-9.02120826e+00, -2.25434833e+01,  6.22461032e+00],\n",
       "             [-1.36178289e+02, -3.04513265e+01,  1.21012591e+02],\n",
       "             [-1.23703597e+01, -2.95459150e+00,  6.27338035e+01],\n",
       "             [ 3.49635776e+00,  1.98418157e+01, -9.13149246e+00],\n",
       "             [-6.58231550e+00, -2.59505467e+01, -2.65969247e+01],\n",
       "             [-2.16713954e+01, -3.42970340e+01,  5.70560892e+01],\n",
       "             [-2.38680126e+01,  5.29958077e+01,  5.12982874e+01],\n",
       "             [-4.52785917e+00, -5.72668861e+01,  6.41545789e+00],\n",
       "             [-1.78947950e+01,  1.07861844e+02, -7.46100437e+00],\n",
       "             [-4.14507475e+01,  4.53730257e+01,  1.17157359e-01],\n",
       "             [-2.45454111e+01,  4.36341244e+01, -5.84701714e+01],\n",
       "             [-6.67317300e+01,  5.09653576e+01,  2.05179775e+01],\n",
       "             [-2.32593364e+01,  5.76219838e+01, -3.52331775e+01],\n",
       "             [ 3.84640672e+01,  6.48371274e+01, -3.02792805e+01],\n",
       "             [ 1.97774213e+01,  3.57340639e+01, -3.21755929e+01],\n",
       "             [-2.18613765e+00,  1.53834061e+01,  3.27415986e+01],\n",
       "             [-2.10113492e+00,  2.58327978e+00, -5.11266255e+00],\n",
       "             [ 1.12286445e+01, -1.84556974e+01,  7.13392003e+01],\n",
       "             [ 5.36344497e+01,  5.59104787e+01, -9.55396955e+01],\n",
       "             [ 3.75279283e-01,  1.90185755e+00, -1.96403508e+00],\n",
       "             [ 1.59334093e+01,  4.26809863e+01,  5.28318144e+01],\n",
       "             [-3.71666453e+01,  6.80416990e+01, -3.33551663e+01],\n",
       "             [-1.90295274e+01, -2.07586050e+01, -6.51231245e+01],\n",
       "             [ 9.73289648e+00,  5.20945572e+01,  1.36619381e+00],\n",
       "             [ 2.58136609e+00, -3.23078728e+00,  3.41165738e+01],\n",
       "             [-4.74320513e+01,  3.26902863e+01,  2.40239606e+01],\n",
       "             [ 1.25321318e+02,  5.48269928e+01, -8.53523286e+01],\n",
       "             [ 2.65938595e+01,  2.90743979e+01, -6.08013760e+01],\n",
       "             [-4.21846505e+01,  7.28131834e+01, -1.18401777e+02],\n",
       "             [-2.13820951e+00, -6.78191734e+01,  6.66587933e+01],\n",
       "             [-9.76912551e-01, -3.10364417e+01, -7.03636888e+01],\n",
       "             [-6.62257679e+01, -6.03326195e+01,  2.64600641e+01],\n",
       "             [ 7.54889780e+00, -7.46037366e-01, -3.51258992e+00],\n",
       "             [-8.64804817e+01,  1.38375437e+01, -3.14858178e+01],\n",
       "             [-5.64579962e+01,  4.95475103e+01, -2.09867560e+01],\n",
       "             [ 4.15038451e+01, -6.36849827e+01,  2.32777142e+01],\n",
       "             [-5.66749892e+01, -3.19630096e+01,  2.09339549e+01],\n",
       "             [ 2.25036743e+01, -1.33744686e+02,  2.08224763e+01],\n",
       "             [ 3.55892755e+01,  9.52793396e+01, -1.14912722e+02],\n",
       "             [-1.40736238e+00, -4.38682414e-01, -1.51478905e-01],\n",
       "             [ 4.45740398e+01, -8.80502273e+01,  1.11627217e+02],\n",
       "             [ 9.76080781e+01, -1.35475515e+01,  5.03944732e+01],\n",
       "             [ 2.81983482e+01, -1.03396980e+01,  7.90356589e+00],\n",
       "             [ 4.39852065e+01,  1.32811283e+02,  2.19588547e+01],\n",
       "             [-1.76112786e+02,  4.65543130e+01,  3.58829591e+01],\n",
       "             [-7.58839656e+01,  7.16654164e+01, -1.17141819e+02],\n",
       "             [-3.65347375e+01, -1.34007347e+02,  2.67802507e+01],\n",
       "             [ 1.22491714e+01,  6.66035380e+01, -2.30250163e+01],\n",
       "             [-6.72428989e-01,  2.79435575e-01, -6.25819261e+00],\n",
       "             [-2.69196328e-01,  1.57672083e+00,  4.40799193e-02],\n",
       "             [-4.09935446e+01,  3.79073175e+01,  4.36003852e+01],\n",
       "             [-1.54775166e+01,  1.71014587e+01,  5.52713981e+00],\n",
       "             [-4.73981177e+01,  9.81052065e+00, -2.76255882e+01],\n",
       "             [-6.36256611e+01,  8.63365376e-01, -8.15880685e+01],\n",
       "             [-8.95408423e+00, -4.10497592e+01, -7.41677716e+01],\n",
       "             [-3.10233545e+01, -3.61549256e+01, -2.01622863e+01],\n",
       "             [ 5.20213260e+01,  3.85117130e+01, -9.90801868e+01],\n",
       "             [-5.53420384e+01,  4.43488141e+01,  3.85552111e+01],\n",
       "             [-6.11224923e+00, -2.51761554e+00, -2.68333082e+01],\n",
       "             [ 4.29948306e+01,  2.66772435e+01, -4.09498072e+01],\n",
       "             [ 6.16153240e+01,  2.28520504e+01, -4.67596954e+01],\n",
       "             [ 1.77045353e+01,  1.40668121e+01,  6.98023147e+00],\n",
       "             [ 4.31169939e+01, -1.17376324e+01, -3.45602242e-01],\n",
       "             [ 1.23980977e+02,  3.84094369e+01,  7.90148630e+01],\n",
       "             [ 5.28040934e+01,  1.05882985e+01, -2.70495567e+01],\n",
       "             [ 6.62647497e+00, -3.07869242e+00, -3.05023798e+00],\n",
       "             [ 1.37183107e+01,  3.78176316e+01,  6.26563178e+00],\n",
       "             [ 7.74743904e+01,  4.01117957e+01,  2.24437697e+01],\n",
       "             [ 1.24045234e+01, -1.16940784e+01,  1.94897502e+01],\n",
       "             [ 3.09811631e+01, -4.93147618e+01, -3.32952386e+01],\n",
       "             [-5.32652517e+01,  3.20914428e+01,  1.77058924e+01],\n",
       "             [ 2.71026480e+01, -8.45484035e+00, -8.28656523e+00],\n",
       "             [-4.73790317e+01,  1.73692505e+01, -2.92498601e+01],\n",
       "             [ 7.06736424e+00, -2.94463835e+00,  2.59268552e+00],\n",
       "             [-7.33835990e+00,  3.41400655e+00,  2.52466268e+00],\n",
       "             [ 5.34718774e+01,  2.74882350e+01,  1.03731964e+01],\n",
       "             [-2.24822835e+01, -9.15300259e-01, -4.02119822e+01],\n",
       "             [-3.02050661e+01,  2.71066124e+01, -2.60142973e+01],\n",
       "             [-3.56624326e+00,  1.70813734e+01,  3.36722386e+01],\n",
       "             [ 1.03960773e+01, -2.60945692e+01, -2.96657465e+01],\n",
       "             [-1.21086250e+01,  6.27069342e+01,  2.63981884e+01],\n",
       "             [-5.72635971e+01,  2.40873799e-01,  5.33547618e+01],\n",
       "             [-1.01639735e+01,  1.05955820e+01, -8.48539684e+00],\n",
       "             [-1.53805904e+01, -1.26902849e+01,  6.87423614e+01],\n",
       "             [ 7.39265203e+01,  1.64805124e+01, -2.54074303e+01],\n",
       "             [ 6.66406814e+01,  6.22057860e+01, -1.16651830e+02],\n",
       "             [ 3.78689756e+01,  3.18920291e+01, -8.66040931e+01],\n",
       "             [-5.25222391e+01,  4.40682359e+01, -4.41512850e+00],\n",
       "             [-6.51463745e+00, -4.04635353e+01,  1.60962786e+01],\n",
       "             [-4.02787516e+01, -2.37585321e+01,  5.02556671e+01],\n",
       "             [ 4.98136663e+01,  1.52333487e+01, -6.49888355e+01],\n",
       "             [-1.18366944e+01,  9.05154748e+01,  4.14864440e+01],\n",
       "             [-9.28002098e+00, -6.74791041e+01,  3.83000670e+01],\n",
       "             [ 4.39040207e+00,  3.80525275e+01,  5.42249160e+01],\n",
       "             [ 1.01913065e+02, -5.96139671e+01,  1.59543439e+01],\n",
       "             [ 1.29780707e+01,  5.50489073e+01,  1.95690676e+01],\n",
       "             [ 2.62686745e+01,  1.90569798e+00,  3.10496666e+01],\n",
       "             [ 1.55399179e+01,  1.12302169e+01,  1.32815337e+01],\n",
       "             [ 5.68729646e+01, -5.99388141e+01,  2.59442062e+01],\n",
       "             [ 1.42607497e+02, -4.58947957e+01, -5.31403954e+00],\n",
       "             [-6.24662666e-01,  4.82583664e+00, -5.81924349e+00],\n",
       "             [-4.12782810e+01, -1.14967802e+01,  4.43259232e+00],\n",
       "             [-6.14407564e+01, -9.86257900e+01,  4.06393177e+01],\n",
       "             [ 4.42979437e+00,  6.49835559e+00, -8.50808920e+00],\n",
       "             [-1.87740645e+01, -1.79690727e+00,  7.09048595e+01],\n",
       "             [-1.42157984e+01, -1.09226120e+02, -4.73142701e+01],\n",
       "             [-2.90620925e+01, -9.29792195e+01,  5.25585106e+01],\n",
       "             [ 8.16122458e+01, -3.44699513e+01,  4.34662934e+01],\n",
       "             [-5.95797330e+01, -2.44572086e+01,  5.61047742e+01],\n",
       "             [-4.80057464e+01,  6.39864852e+01,  7.36120574e+00],\n",
       "             [ 9.91541549e+01,  3.95841074e+01,  8.86466248e+01],\n",
       "             [-9.77308678e+01,  3.18779043e+01, -3.39278689e+01],\n",
       "             [-9.41434476e+01, -2.81589250e+01, -1.89147933e+00],\n",
       "             [ 6.55265776e+01, -4.98072583e+00, -8.79464760e+01],\n",
       "             [-4.18415302e+01, -4.22407852e+01, -4.24708163e+01],\n",
       "             [-2.47296848e+01, -7.84795417e+01, -1.34407269e+01],\n",
       "             [-3.50954193e+01, -1.18112294e+01, -3.67486509e+01],\n",
       "             [-8.11503967e+00,  2.39229389e-01,  1.09930490e+00],\n",
       "             [-6.05892396e+01, -3.46121815e+01,  4.42050490e+01],\n",
       "             [-6.62799328e+01,  3.15990309e+01, -4.36739233e+01],\n",
       "             [-9.89944859e+00,  1.05474069e+01, -2.68371112e+01],\n",
       "             [-2.83823314e+01,  3.22380676e+01,  3.88345902e+01],\n",
       "             [-3.43986561e+01,  4.23411580e+01,  2.18920750e+01],\n",
       "             [ 2.95097629e+01,  1.39328404e+01, -5.87681548e+01],\n",
       "             [-7.46527197e+00,  1.45651882e+01, -5.18375962e+00],\n",
       "             [ 8.80231633e+00,  1.02948791e-01, -1.67918351e+00],\n",
       "             [ 4.68940734e+00, -5.45654714e-01, -1.11430738e+01],\n",
       "             [-1.40302693e+00, -3.98885102e+00, -1.00197567e+01],\n",
       "             [-4.67285491e+01,  2.07683742e+01, -3.49743690e+01],\n",
       "             [-8.10848746e+01, -2.23397253e+01, -1.58590009e+01],\n",
       "             [-1.23811455e+01,  6.24762254e+01, -7.39523178e+01],\n",
       "             [-8.76600278e+00, -6.32240654e+00, -1.96136557e+00],\n",
       "             [ 7.85529142e+00, -2.39405222e+01,  7.28516996e+01],\n",
       "             [ 2.56207739e+01, -3.14024628e+01,  2.22052548e+01],\n",
       "             [ 5.01380070e+01,  3.95260594e+01,  2.61024821e+01],\n",
       "             [ 5.06237417e+01,  2.44716887e+00, -1.70791164e+01],\n",
       "             [-2.23456560e+01, -1.00795764e+01,  4.69118292e+00],\n",
       "             [ 7.69830728e+01, -8.12963715e+01, -1.40309601e+01],\n",
       "             [-1.31984433e+00, -1.55100979e+01,  1.86013878e+00],\n",
       "             [-2.35320448e+01, -2.02470090e+01,  6.28650679e+00],\n",
       "             [-4.04650860e+01, -8.87437780e+00,  7.42667629e+01],\n",
       "             [ 9.81904759e+01,  1.92155552e+01,  6.20103288e+01],\n",
       "             [ 4.46689598e+01,  4.25414981e+01,  4.25047532e+01],\n",
       "             [ 7.04422056e+00,  4.10332729e-01, -1.18743883e+01],\n",
       "             [-1.56283797e+01, -2.00677801e+00, -7.23044323e+01],\n",
       "             [-1.57938588e+00,  5.77763903e+00, -4.28627058e-01],\n",
       "             [-3.21512164e+01, -1.52151476e+00, -4.16826167e+01],\n",
       "             [ 1.60329093e-01,  3.19395311e-01, -1.50780107e-01],\n",
       "             [ 4.00658301e+01,  1.48252718e+01, -3.86913791e+01],\n",
       "             [ 9.58150309e+01, -9.49016456e+01, -5.12437302e+01],\n",
       "             [ 2.20146804e+01, -1.40250535e+02,  1.13989546e+00],\n",
       "             [-5.87805279e+00, -5.24199213e+01,  4.62137099e+01],\n",
       "             [-1.18277742e+01,  2.32597400e+01, -7.10886658e+00],\n",
       "             [ 3.68852254e+01,  2.05979989e+01, -4.31754757e+01],\n",
       "             [ 2.74884915e+01, -6.14445300e+01,  1.32481880e+01],\n",
       "             [ 3.07888291e+01, -4.33232951e+01, -3.34125902e+01],\n",
       "             [-2.38435331e+00, -5.64118861e+00,  1.73331234e+01],\n",
       "             [-5.70207501e+01,  3.51217011e+01, -2.50792063e+01],\n",
       "             [ 1.20757694e+01, -3.57783864e+01, -2.52246513e+01],\n",
       "             [-8.48512522e+00,  1.21194710e+01, -3.76358949e+00],\n",
       "             [-6.78459258e+01,  1.50318141e+01,  6.09884813e+01],\n",
       "             [ 1.60796158e+01, -3.07930306e+01,  2.55708395e+01],\n",
       "             [-5.83579674e+01, -3.12131290e+01,  2.06226471e+01],\n",
       "             [-1.12627801e+01, -1.40534019e+01,  7.44055638e+00],\n",
       "             [-2.19017521e+01, -4.03019775e+00,  5.64249015e+01],\n",
       "             [-5.75645458e+01,  1.06985308e+01,  5.46650496e+01],\n",
       "             [ 4.49791979e+01,  6.42684272e+01,  4.90287269e+01],\n",
       "             [-1.02494789e+02,  3.84089976e+01,  6.44914320e+01],\n",
       "             [ 6.62381469e+00,  2.13074826e+01,  2.69552852e+01],\n",
       "             [-2.12666916e+01, -2.07612708e+01, -1.33779490e+01],\n",
       "             [ 1.03972042e+02,  6.79480252e+01, -3.71467560e+01],\n",
       "             [-4.73964100e+01, -7.93446774e+01,  1.17680006e+01],\n",
       "             [ 3.82860635e+01,  5.08882622e+01,  7.57612136e+01],\n",
       "             [ 8.49563531e+01,  3.53915598e+01,  4.42871047e+01],\n",
       "             [ 4.46475577e+01, -1.30716414e+01, -1.01094935e+01],\n",
       "             [-5.36367484e+01,  4.33519986e+00,  6.29082946e+01],\n",
       "             [-8.48536446e+01, -1.08864463e+02, -2.86763053e+01],\n",
       "             [-4.27517115e+00,  1.71744409e+01, -2.72573793e+01],\n",
       "             [ 3.05437862e+01,  5.10583214e+01, -4.26841498e+01],\n",
       "             [ 9.85002382e+01,  7.16108826e+01, -7.83984431e+01],\n",
       "             [-1.64985530e+01, -6.31114537e+01,  3.29716861e+01],\n",
       "             [-6.03778876e+01,  1.31466923e+00,  3.71750091e+01],\n",
       "             [ 1.16785637e+01, -1.24454696e+02, -2.81737082e+01],\n",
       "             [-1.38764889e+01, -3.37892770e+01, -4.39227568e+01],\n",
       "             [-2.25925969e+00, -3.05815205e+01, -4.42057544e-01],\n",
       "             [ 1.11281109e+02, -3.95621676e+01,  5.27408415e+01],\n",
       "             [ 4.91817850e+01, -1.07839794e+01, -3.61696561e+01],\n",
       "             [ 3.19450266e+01, -1.67901470e+01,  6.35643067e+01],\n",
       "             [-3.82038259e+01, -1.20456726e+02,  4.77052750e+01],\n",
       "             [-3.90778846e+01,  7.15739278e+01,  7.21685175e+01],\n",
       "             [-3.76822697e+01,  1.82004070e+01,  4.99905557e+01],\n",
       "             [ 2.74996967e+01,  1.81658040e+01, -5.57860130e+01],\n",
       "             [ 5.77500216e+01, -4.76545741e+01, -1.32937621e+01],\n",
       "             [-2.68025156e+01, -6.66801554e+01, -3.64992875e+01]],            dtype=float64)"
      ]
     },
     "execution_count": 19,
     "metadata": {},
     "output_type": "execute_result"
    }
   ],
   "source": [
    "grad(ef2)(R, neighbor=nbrs2, coefficients=[coefficients2])"
   ]
  },
  {
   "cell_type": "markdown",
   "metadata": {},
   "source": [
    "### UF 2-body potential with species"
   ]
  },
  {
   "cell_type": "code",
   "execution_count": 20,
   "metadata": {},
   "outputs": [],
   "source": [
    "nf2s, ef2s = uf3_neighbor(displacement, box_size, species=species, knots=[knot_dict])\n",
    "nbrs2s = nf2s.allocate(R)\n",
    "ef2s = jit(ef2s)"
   ]
  },
  {
   "cell_type": "code",
   "execution_count": 21,
   "metadata": {},
   "outputs": [
    {
     "name": "stdout",
     "output_type": "stream",
     "text": [
      "2265.697114062089\n"
     ]
    }
   ],
   "source": [
    "print(ef2s(R, neighbor=nbrs2s, coefficients=[coeff_dict]))"
   ]
  },
  {
   "cell_type": "markdown",
   "metadata": {},
   "source": [
    "### UF 2-body potential with featurization"
   ]
  },
  {
   "cell_type": "code",
   "execution_count": 16,
   "metadata": {},
   "outputs": [
    {
     "name": "stderr",
     "output_type": "stream",
     "text": [
      "/opt/anaconda/envs/uf3/lib/python3.9/site-packages/jax/_src/ops/scatter.py:87: FutureWarning: scatter inputs have incompatible types: cannot safely cast value from dtype=int64 to dtype=int32. In future JAX releases this will result in an error.\n",
      "  warnings.warn(\"scatter inputs have incompatible types: cannot safely cast \"\n"
     ]
    }
   ],
   "source": [
    "nf2f, ef2f = uf3_neighbor(displacement, box_size, knots=[knots2], featurization=True, force_features=True)\n",
    "nbrs2f = nf2f.allocate(R[:50])\n",
    "ef2f = jit(ef2f)"
   ]
  },
  {
   "cell_type": "code",
   "execution_count": 17,
   "metadata": {},
   "outputs": [
    {
     "data": {
      "text/plain": [
       "(20, 56)"
      ]
     },
     "execution_count": 17,
     "metadata": {},
     "output_type": "execute_result"
    }
   ],
   "source": [
    "ef2f(R[:50], neighbor=nbrs2f, coefficients=[coefficients2]).shape"
   ]
  },
  {
   "cell_type": "markdown",
   "metadata": {},
   "source": [
    "### UF 3-body potential with featurization"
   ]
  },
  {
   "cell_type": "code",
   "execution_count": 12,
   "metadata": {},
   "outputs": [],
   "source": [
    "nf3f, ef3f = uf3_neighbor(displacement,box_size ,knots=[knots2, knots3], featurization=True, force_features=True)\n",
    "nbrs3f = nf3f.allocate(R[:50])\n",
    "\n",
    "ef3f = jit(ef3f)"
   ]
  },
  {
   "cell_type": "code",
   "execution_count": 13,
   "metadata": {},
   "outputs": [
    {
     "name": "stdout",
     "output_type": "stream",
     "text": [
      "(20, 56)\n",
      "(20, 1664)\n"
     ]
    }
   ],
   "source": [
    "a, b = ef3f(R[:50], neighbor=nbrs3f, coefficients=[coefficients2, coefficients3])\n",
    "print(a.shape)\n",
    "print(b.shape)"
   ]
  },
  {
   "cell_type": "markdown",
   "metadata": {},
   "source": [
    "## Benchmarks\n",
    "\n",
    "(On an old CPU)"
   ]
  },
  {
   "cell_type": "code",
   "execution_count": 24,
   "metadata": {},
   "outputs": [
    {
     "name": "stdout",
     "output_type": "stream",
     "text": [
      "57.5 ms ± 1.28 ms per loop (mean ± std. dev. of 7 runs, 10 loops each)\n"
     ]
    }
   ],
   "source": [
    "%%timeit\n",
    "efsw(R, nbrssw)"
   ]
  },
  {
   "cell_type": "code",
   "execution_count": 25,
   "metadata": {},
   "outputs": [
    {
     "name": "stdout",
     "output_type": "stream",
     "text": [
      "5.92 ms ± 27.3 µs per loop (mean ± std. dev. of 7 runs, 100 loops each)\n"
     ]
    }
   ],
   "source": [
    "%%timeit\n",
    "ef2(R, neighbor=nbrs2, coefficients=[coefficients2]).block_until_ready()"
   ]
  },
  {
   "cell_type": "code",
   "execution_count": 26,
   "metadata": {},
   "outputs": [
    {
     "name": "stdout",
     "output_type": "stream",
     "text": [
      "9.87 ms ± 28.6 µs per loop (mean ± std. dev. of 7 runs, 100 loops each)\n"
     ]
    }
   ],
   "source": [
    "%%timeit\n",
    "ef2s(R, neighbor=nbrs2s, coefficients=[coeff_dict]).block_until_ready()"
   ]
  },
  {
   "cell_type": "code",
   "execution_count": 27,
   "metadata": {},
   "outputs": [
    {
     "name": "stdout",
     "output_type": "stream",
     "text": [
      "2 s ± 3.96 ms per loop (mean ± std. dev. of 7 runs, 1 loop each)\n"
     ]
    }
   ],
   "source": [
    "%%timeit\n",
    "ef3(R, neighbor=nbrs3, coefficients=[coefficients2, coefficients3]).block_until_ready()"
   ]
  },
  {
   "cell_type": "code",
   "execution_count": 28,
   "metadata": {},
   "outputs": [
    {
     "name": "stdout",
     "output_type": "stream",
     "text": [
      "4.61 s ± 4.59 ms per loop (mean ± std. dev. of 7 runs, 1 loop each)\n"
     ]
    }
   ],
   "source": [
    "%%timeit\n",
    "ef3s(R, neighbor=nbrs3s, coefficients=[coeff_dict, c3]).block_until_ready()"
   ]
  },
  {
   "cell_type": "code",
   "execution_count": null,
   "metadata": {},
   "outputs": [],
   "source": []
  }
 ],
 "metadata": {
  "interpreter": {
   "hash": "ca6e4c1237d2523077850c33bb85c07df22e41d5dc1f9dffe27e02189376af2b"
  },
  "kernelspec": {
   "display_name": "Python 3.9.7 ('uf3')",
   "language": "python",
   "name": "python3"
  },
  "language_info": {
   "codemirror_mode": {
    "name": "ipython",
    "version": 3
   },
   "file_extension": ".py",
   "mimetype": "text/x-python",
   "name": "python",
   "nbconvert_exporter": "python",
   "pygments_lexer": "ipython3",
   "version": "3.9.7"
  },
  "orig_nbformat": 4
 },
 "nbformat": 4,
 "nbformat_minor": 2
}
