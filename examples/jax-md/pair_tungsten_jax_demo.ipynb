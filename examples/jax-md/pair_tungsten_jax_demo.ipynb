{
 "cells": [
  {
   "cell_type": "code",
   "execution_count": 1,
   "metadata": {
    "ExecuteTime": {
     "end_time": "2021-09-27T14:58:52.568217Z",
     "start_time": "2021-09-27T14:58:52.559388Z"
    },
    "pycharm": {
     "name": "#%%\n"
    }
   },
   "outputs": [],
   "source": [
    "import os\n",
    "from concurrent.futures import ProcessPoolExecutor"
   ]
  },
  {
   "cell_type": "code",
   "execution_count": 2,
   "metadata": {
    "ExecuteTime": {
     "end_time": "2021-09-27T14:58:52.780699Z",
     "start_time": "2021-09-27T14:58:52.569724Z"
    },
    "pycharm": {
     "name": "#%%\n"
    }
   },
   "outputs": [],
   "source": [
    "import numpy as np\n",
    "import matplotlib.pyplot as plt"
   ]
  },
  {
   "cell_type": "code",
   "execution_count": 3,
   "metadata": {
    "ExecuteTime": {
     "end_time": "2021-09-27T14:58:53.650075Z",
     "start_time": "2021-09-27T14:58:52.781697Z"
    },
    "pycharm": {
     "name": "#%%\n"
    }
   },
   "outputs": [
    {
     "name": "stderr",
     "output_type": "stream",
     "text": [
      "<frozen importlib._bootstrap>:228: RuntimeWarning: scipy._lib.messagestream.MessageStream size changed, may indicate binary incompatibility. Expected 56 from C header, got 64 from PyObject\n"
     ]
    }
   ],
   "source": [
    "from uf3.data import io\n",
    "from uf3.data import geometry\n",
    "from uf3.data import composition\n",
    "from uf3.representation import bspline\n",
    "from uf3.representation import distances\n",
    "from uf3.representation import process\n",
    "from uf3.regression import least_squares\n",
    "from uf3.forcefield import calculator\n",
    "from uf3.forcefield import lammps\n",
    "from uf3.util import parallel\n",
    "from uf3.util import plotting"
   ]
  },
  {
   "cell_type": "markdown",
   "metadata": {
    "ExecuteTime": {
     "start_time": "2021-09-27T14:45:45.123Z"
    }
   },
   "source": [
    "# $\\text{UF}_{2}$ Demo: Elemental tungsten"
   ]
  },
  {
   "cell_type": "markdown",
   "metadata": {},
   "source": [
    "**Data split**\n",
    "- Training set: 1939 configurations (stratified 20% of the dataset)\n",
    "\n",
    "- Holdout: 7754 configurations (remaining 80%)"
   ]
  },
  {
   "cell_type": "markdown",
   "metadata": {},
   "source": [
    "**Inputs**\n",
    "- ```w-14.xyz``` (30 mb)\n",
    "- ```training_idx.txt``` (10 kb, included for reproducibility purposes)"
   ]
  },
  {
   "cell_type": "markdown",
   "metadata": {},
   "source": [
    "**Outputs**\n",
    "- ```model_pair.json``` (1 kb)\n",
    "- ```W_pair.table``` (32 kb)"
   ]
  },
  {
   "cell_type": "code",
   "execution_count": 4,
   "metadata": {
    "ExecuteTime": {
     "end_time": "2021-09-27T14:58:53.656356Z",
     "start_time": "2021-09-27T14:58:53.651623Z"
    }
   },
   "outputs": [
    {
     "data": {
      "text/html": [
       "<style>\n",
       "  table {margin-left: 0 !important;}\n",
       "</style>\n"
      ],
      "text/plain": [
       "<IPython.core.display.HTML object>"
      ]
     },
     "metadata": {},
     "output_type": "display_data"
    }
   ],
   "source": [
    "%%html\n",
    "<style>\n",
    "  table {margin-left: 0 !important;}\n",
    "</style>"
   ]
  },
  {
   "cell_type": "markdown",
   "metadata": {},
   "source": [
    " Step             | Estimated Time \n",
    ":-----------------|:--------------\n",
    "Preprocessing     | 10 seconds\n",
    "Pair distribution | 10 seconds\n",
    "Featurization     | 5 core-minutes (parallelizable)\n",
    "Training          | 1 second\n",
    "Prediction        | 1 second\n",
    "Plotting          | 9 seconds"
   ]
  },
  {
   "cell_type": "markdown",
   "metadata": {
    "pycharm": {
     "name": "#%% md\n"
    }
   },
   "source": [
    "# User Parameters\n",
    "\n",
    "```element_list (list)```: list of element symbols\n",
    "\n",
    "```degree (int)```: truncation of many-body expansion. A value of 2 yields a pair potential."
   ]
  },
  {
   "cell_type": "code",
   "execution_count": 5,
   "metadata": {
    "ExecuteTime": {
     "end_time": "2021-09-27T14:58:53.660338Z",
     "start_time": "2021-09-27T14:58:53.657330Z"
    },
    "pycharm": {
     "name": "#%%\n"
    }
   },
   "outputs": [],
   "source": [
    "element_list = ['W']\n",
    "degree = 2"
   ]
  },
  {
   "cell_type": "markdown",
   "metadata": {},
   "source": [
    "Initialize the ```ChemicalSystem``` and inspect interactions.\n",
    "\n",
    "Elements involved in each interactions are sorted by electronegativity."
   ]
  },
  {
   "cell_type": "code",
   "execution_count": 6,
   "metadata": {
    "ExecuteTime": {
     "end_time": "2021-09-27T14:58:53.664869Z",
     "start_time": "2021-09-27T14:58:53.661595Z"
    }
   },
   "outputs": [
    {
     "name": "stdout",
     "output_type": "stream",
     "text": [
      "Pairs: [('W', 'W')]\n"
     ]
    }
   ],
   "source": [
    "chemical_system = composition.ChemicalSystem(element_list=element_list,\n",
    "                                             degree=degree)\n",
    "print(\"Pairs:\", chemical_system.interactions_map[2])"
   ]
  },
  {
   "cell_type": "markdown",
   "metadata": {},
   "source": [
    "```r_min_map (dict)```: map of minimum pair distance per interaction (angstroms). \n",
    "    If unspecified, defaults to 1.0 for all interactions.\n",
    "    \n",
    "```r_max_map (dict)```: map of maximum pair distance per interaction (angstroms). \n",
    "    If unspecified, defaults to 6.0 angstroms for all interactions, which probably encompasses at least 2nd-nearest neighbors.\n",
    "    \n",
    "```resolution_map (dict)```: map of resolution (number of knot intervals) per interaction. \n",
    "    For the cubic basis, the number of basis functions equals three more than the number of knot intervals.\n",
    "    This is, in turn, negated by ```trailing_trim```.\n",
    "    If unspecified, defaults to 20 for all two-body interactions and 5 for three-body interactions.\n",
    "    \n",
    "```trailing_trim (int)```: number of trailing basis functions to trim, defaults to 3.\n",
    " - ```= 0```: hard cutoff at ```r_max```\n",
    " - ```= 1```: function goes to zero at ```r_max```\n",
    " - ```= 2```: first derivative goes to zero at ```r_max```\n",
    " - ```= 3```: second derivative goes to zero at ```r_max```"
   ]
  },
  {
   "cell_type": "code",
   "execution_count": 7,
   "metadata": {
    "ExecuteTime": {
     "end_time": "2021-09-27T14:58:53.669216Z",
     "start_time": "2021-09-27T14:58:53.665986Z"
    },
    "pycharm": {
     "name": "#%%\n"
    }
   },
   "outputs": [],
   "source": [
    "r_min_map = {('W', 'W'): 1.5,\n",
    "            }\n",
    "r_max_map = {('W', 'W'): 5.5,\n",
    "            }\n",
    "resolution_map = {('W', 'W'): 25,\n",
    "                 }\n",
    "trailing_trim = 3"
   ]
  },
  {
   "cell_type": "markdown",
   "metadata": {},
   "source": [
    "# Demo parameters\n",
    "```n_cores```: number of workers to use in parallel for feature generation\n",
    "\n",
    "```data_filename```: filename of reference data including geometries, energies, forces, ...\n",
    "\n",
    "```training_1939```: list of integers corresponding to entries to use for training."
   ]
  },
  {
   "cell_type": "code",
   "execution_count": 8,
   "metadata": {
    "ExecuteTime": {
     "end_time": "2021-09-27T14:58:53.672255Z",
     "start_time": "2021-09-27T14:58:53.670155Z"
    }
   },
   "outputs": [],
   "source": [
    "n_cores = 4"
   ]
  },
  {
   "cell_type": "code",
   "execution_count": 9,
   "metadata": {
    "ExecuteTime": {
     "end_time": "2021-09-27T14:58:53.676259Z",
     "start_time": "2021-09-27T14:58:53.673129Z"
    }
   },
   "outputs": [],
   "source": [
    "example_directory = os.getcwd()\n",
    "data_filename = os.path.join(example_directory, \"../tungsten_extxyz/w-14.xyz\")\n",
    "with open(os.path.join(example_directory, \"../tungsten_extxyz/training_idx.txt\"), \"r\") as f:\n",
    "    training_1939 = [int(idx) for idx in f.read().splitlines()]"
   ]
  },
  {
   "cell_type": "markdown",
   "metadata": {},
   "source": [
    "# Initialize basis"
   ]
  },
  {
   "cell_type": "code",
   "execution_count": 10,
   "metadata": {
    "ExecuteTime": {
     "end_time": "2021-09-27T14:58:53.682256Z",
     "start_time": "2021-09-27T14:58:53.678245Z"
    }
   },
   "outputs": [],
   "source": [
    "bspline_config = bspline.BSplineBasis(chemical_system,\n",
    "                                      r_min_map=r_min_map,\n",
    "                                      r_max_map=r_max_map,\n",
    "                                      resolution_map=resolution_map,\n",
    "                                      trailing_trim=trailing_trim)"
   ]
  },
  {
   "cell_type": "markdown",
   "metadata": {},
   "source": [
    "```bspline_config.get_interaction_partitions()``` yields the number of coefficients for each n-body interaction (one-body terms, two-body terms, three-body terms, ...) as well as the starting index in the coefficient vector for each interaction."
   ]
  },
  {
   "cell_type": "code",
   "execution_count": 11,
   "metadata": {
    "ExecuteTime": {
     "end_time": "2021-09-27T14:58:53.687170Z",
     "start_time": "2021-09-27T14:58:53.683382Z"
    }
   },
   "outputs": [
    {
     "data": {
      "text/plain": [
       "{'W': 1, ('W', 'W'): 28}"
      ]
     },
     "execution_count": 11,
     "metadata": {},
     "output_type": "execute_result"
    }
   ],
   "source": [
    "bspline_config.get_interaction_partitions()[0]"
   ]
  },
  {
   "cell_type": "code",
   "execution_count": 12,
   "metadata": {
    "ExecuteTime": {
     "end_time": "2021-09-27T14:58:53.692050Z",
     "start_time": "2021-09-27T14:58:53.688672Z"
    }
   },
   "outputs": [
    {
     "data": {
      "text/plain": [
       "{'W': 0, ('W', 'W'): 1}"
      ]
     },
     "execution_count": 12,
     "metadata": {},
     "output_type": "execute_result"
    }
   ],
   "source": [
    "bspline_config.get_interaction_partitions()[1]"
   ]
  },
  {
   "cell_type": "markdown",
   "metadata": {
    "pycharm": {
     "name": "#%% md\n"
    }
   },
   "source": [
    "# Load data"
   ]
  },
  {
   "cell_type": "code",
   "execution_count": 14,
   "metadata": {
    "ExecuteTime": {
     "end_time": "2021-09-27T14:59:04.515465Z",
     "start_time": "2021-09-27T14:58:53.693147Z"
    },
    "pycharm": {
     "name": "#%%\n"
    }
   },
   "outputs": [
    {
     "name": "stdout",
     "output_type": "stream",
     "text": [
      "Number of energies: 9693\n",
      "Number of forces: 475578\n"
     ]
    }
   ],
   "source": [
    "data_coordinator = io.DataCoordinator()\n",
    "data_coordinator.dataframe_from_trajectory(data_filename,\n",
    "                                           prefix='dft')\n",
    "df_data = data_coordinator.consolidate()\n",
    "print(\"Number of energies:\", len(df_data))\n",
    "print(\"Number of forces:\", int(np.sum(df_data[\"size\"]) * 3))"
   ]
  },
  {
   "cell_type": "code",
   "execution_count": 14,
   "metadata": {
    "ExecuteTime": {
     "end_time": "2021-09-27T14:59:04.528827Z",
     "start_time": "2021-09-27T14:59:04.516555Z"
    },
    "pycharm": {
     "name": "#%%\n"
    }
   },
   "outputs": [
    {
     "data": {
      "text/html": [
       "<div>\n",
       "<style scoped>\n",
       "    .dataframe tbody tr th:only-of-type {\n",
       "        vertical-align: middle;\n",
       "    }\n",
       "\n",
       "    .dataframe tbody tr th {\n",
       "        vertical-align: top;\n",
       "    }\n",
       "\n",
       "    .dataframe thead th {\n",
       "        text-align: right;\n",
       "    }\n",
       "</style>\n",
       "<table border=\"1\" class=\"dataframe\">\n",
       "  <thead>\n",
       "    <tr style=\"text-align: right;\">\n",
       "      <th></th>\n",
       "      <th>geometry</th>\n",
       "      <th>energy</th>\n",
       "      <th>fx</th>\n",
       "      <th>fy</th>\n",
       "      <th>fz</th>\n",
       "      <th>size</th>\n",
       "    </tr>\n",
       "  </thead>\n",
       "  <tbody>\n",
       "    <tr>\n",
       "      <th>dft_0</th>\n",
       "      <td>(Atom('W', [0.0, 0.0, 0.0], index=0))</td>\n",
       "      <td>-11.194835</td>\n",
       "      <td>[0.0]</td>\n",
       "      <td>[0.0]</td>\n",
       "      <td>[0.0]</td>\n",
       "      <td>1.0</td>\n",
       "    </tr>\n",
       "    <tr>\n",
       "      <th>dft_1</th>\n",
       "      <td>(Atom('W', [0.0, 0.0, 0.0], index=0))</td>\n",
       "      <td>-11.126991</td>\n",
       "      <td>[0.0]</td>\n",
       "      <td>[0.0]</td>\n",
       "      <td>[0.0]</td>\n",
       "      <td>1.0</td>\n",
       "    </tr>\n",
       "    <tr>\n",
       "      <th>dft_2</th>\n",
       "      <td>(Atom('W', [0.0, 0.0, 0.0], index=0))</td>\n",
       "      <td>-11.133282</td>\n",
       "      <td>[0.0]</td>\n",
       "      <td>[0.0]</td>\n",
       "      <td>[0.0]</td>\n",
       "      <td>1.0</td>\n",
       "    </tr>\n",
       "    <tr>\n",
       "      <th>dft_3</th>\n",
       "      <td>(Atom('W', [0.0, 0.0, 0.0], index=0))</td>\n",
       "      <td>-11.139626</td>\n",
       "      <td>[0.0]</td>\n",
       "      <td>[0.0]</td>\n",
       "      <td>[0.0]</td>\n",
       "      <td>1.0</td>\n",
       "    </tr>\n",
       "    <tr>\n",
       "      <th>dft_4</th>\n",
       "      <td>(Atom('W', [0.0, 0.0, 0.0], index=0))</td>\n",
       "      <td>-11.142003</td>\n",
       "      <td>[0.0]</td>\n",
       "      <td>[0.0]</td>\n",
       "      <td>[0.0]</td>\n",
       "      <td>1.0</td>\n",
       "    </tr>\n",
       "  </tbody>\n",
       "</table>\n",
       "</div>"
      ],
      "text/plain": [
       "                                    geometry     energy     fx     fy     fz  \\\n",
       "dft_0  (Atom('W', [0.0, 0.0, 0.0], index=0)) -11.194835  [0.0]  [0.0]  [0.0]   \n",
       "dft_1  (Atom('W', [0.0, 0.0, 0.0], index=0)) -11.126991  [0.0]  [0.0]  [0.0]   \n",
       "dft_2  (Atom('W', [0.0, 0.0, 0.0], index=0)) -11.133282  [0.0]  [0.0]  [0.0]   \n",
       "dft_3  (Atom('W', [0.0, 0.0, 0.0], index=0)) -11.139626  [0.0]  [0.0]  [0.0]   \n",
       "dft_4  (Atom('W', [0.0, 0.0, 0.0], index=0)) -11.142003  [0.0]  [0.0]  [0.0]   \n",
       "\n",
       "       size  \n",
       "dft_0   1.0  \n",
       "dft_1   1.0  \n",
       "dft_2   1.0  \n",
       "dft_3   1.0  \n",
       "dft_4   1.0  "
      ]
     },
     "execution_count": 14,
     "metadata": {},
     "output_type": "execute_result"
    }
   ],
   "source": [
    "df_data.head()"
   ]
  },
  {
   "cell_type": "markdown",
   "metadata": {},
   "source": [
    "Useful step that serves as a sanity check for selected cutoffs and resolution."
   ]
  },
  {
   "cell_type": "markdown",
   "metadata": {},
   "source": [
    "# Examine pair distance distribution"
   ]
  },
  {
   "cell_type": "code",
   "execution_count": 15,
   "metadata": {
    "ExecuteTime": {
     "end_time": "2021-09-27T14:59:13.684318Z",
     "start_time": "2021-09-27T14:59:04.530029Z"
    }
   },
   "outputs": [
    {
     "name": "stderr",
     "output_type": "stream",
     "text": [
      "100%|██████████| 1000/1000 [00:17<00:00, 56.98it/s]"
     ]
    },
    {
     "name": "stdout",
     "output_type": "stream",
     "text": [
      "('W', 'W') Lower bound: 1.920 angstroms\n",
      "('W', 'W') Peaks (min width 0.2 angstroms): [5.22 6.9  9.42]\n"
     ]
    },
    {
     "name": "stderr",
     "output_type": "stream",
     "text": [
      "\n"
     ]
    }
   ],
   "source": [
    "atoms_key = data_coordinator.atoms_key\n",
    "histogram_slice = np.random.choice(np.arange(len(df_data)),\n",
    "                                   min(1000, len(df_data)),\n",
    "                                   replace=False)\n",
    "df_slice = df_data[atoms_key].iloc[histogram_slice]\n",
    "histograms = distances.summarize_distances(df_slice,\n",
    "                                           chemical_system,\n",
    "                                           min_peak_width=0.2)"
   ]
  },
  {
   "cell_type": "code",
   "execution_count": 16,
   "metadata": {
    "ExecuteTime": {
     "end_time": "2021-09-27T14:59:13.952471Z",
     "start_time": "2021-09-27T14:59:13.685373Z"
    }
   },
   "outputs": [
    {
     "data": {
      "image/png": "[encoded data removed]",
      "text/plain": [
       "<Figure size 300x300 with 1 Axes>"
      ]
     },
     "metadata": {
      "needs_background": "light"
     },
     "output_type": "display_data"
    }
   ],
   "source": [
    "bar_width = histograms[1][1] - histograms[1][0]\n",
    "pairs = chemical_system.interactions_map[2]\n",
    "fig, ax = plt.subplots(1, len(pairs), figsize=(len(pairs)*3, 3), dpi=100)\n",
    "if not isinstance(ax, (list, np.ndarray)):\n",
    "    ax = [ax]\n",
    "for i, pair in enumerate(pairs):\n",
    "    ax[i].bar(histograms[1][:-1],\n",
    "              histograms[0][pair],\n",
    "              width=bar_width)\n",
    "    ax[i].set_title(\" - \".join(pair))\n",
    "    ax[i].plot([0, 10], [1, 1], linestyle='--', color='k')\n",
    "    ax[i].set_xlim(0, 10)\n",
    "    ax[i].set_ylim(0, 4)\n",
    "    ax[i].set_xlabel(\"Pair distance (angstroms)\")\n",
    "    ax[i].set_ylabel(\"Normalized Frequency\")\n",
    "fig.tight_layout()"
   ]
  },
  {
   "cell_type": "markdown",
   "metadata": {
    "pycharm": {
     "name": "#%% md\n"
    }
   },
   "source": [
    "# Compute energy and force features"
   ]
  },
  {
   "cell_type": "code",
   "execution_count": 17,
   "metadata": {
    "ExecuteTime": {
     "end_time": "2021-09-27T14:59:13.956034Z",
     "start_time": "2021-09-27T14:59:13.953582Z"
    }
   },
   "outputs": [],
   "source": [
    "representation = process.BasisFeaturizer(bspline_config)"
   ]
  },
  {
   "cell_type": "code",
   "execution_count": 18,
   "metadata": {
    "ExecuteTime": {
     "end_time": "2021-09-27T14:59:13.959284Z",
     "start_time": "2021-09-27T14:59:13.957006Z"
    }
   },
   "outputs": [],
   "source": [
    "client = ProcessPoolExecutor(max_workers=n_cores)"
   ]
  },
  {
   "cell_type": "code",
   "execution_count": 19,
   "metadata": {
    "ExecuteTime": {
     "end_time": "2021-09-27T15:00:30.855632Z",
     "start_time": "2021-09-27T14:59:13.960157Z"
    }
   },
   "outputs": [
    {
     "name": "stderr",
     "output_type": "stream",
     "text": [
      "100%|██████████| 64/64 [02:46<00:00,  2.60s/it]\n"
     ]
    }
   ],
   "source": [
    "n_batches = n_cores * 16  # added granularity for more progress bar updates\n",
    "df_features = representation.evaluate_parallel(df_data,\n",
    "                                               client,\n",
    "                                               energy_key=data_coordinator.energy_key,\n",
    "                                               n_jobs=n_batches)"
   ]
  },
  {
   "cell_type": "code",
   "execution_count": 20,
   "metadata": {
    "ExecuteTime": {
     "end_time": "2021-09-27T15:00:30.881041Z",
     "start_time": "2021-09-27T15:00:30.856820Z"
    }
   },
   "outputs": [
    {
     "data": {
      "text/html": [
       "<div>\n",
       "<style scoped>\n",
       "    .dataframe tbody tr th:only-of-type {\n",
       "        vertical-align: middle;\n",
       "    }\n",
       "\n",
       "    .dataframe tbody tr th {\n",
       "        vertical-align: top;\n",
       "    }\n",
       "\n",
       "    .dataframe thead th {\n",
       "        text-align: right;\n",
       "    }\n",
       "</style>\n",
       "<table border=\"1\" class=\"dataframe\">\n",
       "  <thead>\n",
       "    <tr style=\"text-align: right;\">\n",
       "      <th></th>\n",
       "      <th></th>\n",
       "      <th>y</th>\n",
       "      <th>n_W</th>\n",
       "      <th>x_0</th>\n",
       "      <th>x_1</th>\n",
       "      <th>x_2</th>\n",
       "      <th>x_3</th>\n",
       "      <th>x_4</th>\n",
       "      <th>x_5</th>\n",
       "      <th>x_6</th>\n",
       "      <th>x_7</th>\n",
       "      <th>...</th>\n",
       "      <th>x_18</th>\n",
       "      <th>x_19</th>\n",
       "      <th>x_20</th>\n",
       "      <th>x_21</th>\n",
       "      <th>x_22</th>\n",
       "      <th>x_23</th>\n",
       "      <th>x_24</th>\n",
       "      <th>x_25</th>\n",
       "      <th>x_26</th>\n",
       "      <th>x_27</th>\n",
       "    </tr>\n",
       "  </thead>\n",
       "  <tbody>\n",
       "    <tr>\n",
       "      <th rowspan=\"4\" valign=\"top\">dft_0</th>\n",
       "      <th>energy</th>\n",
       "      <td>-11.194835</td>\n",
       "      <td>1.0</td>\n",
       "      <td>0.0</td>\n",
       "      <td>0.0</td>\n",
       "      <td>0.0</td>\n",
       "      <td>0.0</td>\n",
       "      <td>0.0</td>\n",
       "      <td>0.0</td>\n",
       "      <td>0.0</td>\n",
       "      <td>5.465031e-03</td>\n",
       "      <td>...</td>\n",
       "      <td>3.641680e-02</td>\n",
       "      <td>3.884511e+00</td>\n",
       "      <td>7.278707e+00</td>\n",
       "      <td>8.003649e-01</td>\n",
       "      <td>0.000000</td>\n",
       "      <td>2.774099e-01</td>\n",
       "      <td>1.012363e+01</td>\n",
       "      <td>0.0</td>\n",
       "      <td>0.0</td>\n",
       "      <td>0.0</td>\n",
       "    </tr>\n",
       "    <tr>\n",
       "      <th>fx_0</th>\n",
       "      <td>0.000000</td>\n",
       "      <td>0.0</td>\n",
       "      <td>-0.0</td>\n",
       "      <td>-0.0</td>\n",
       "      <td>-0.0</td>\n",
       "      <td>-0.0</td>\n",
       "      <td>-0.0</td>\n",
       "      <td>-0.0</td>\n",
       "      <td>-0.0</td>\n",
       "      <td>6.938894e-18</td>\n",
       "      <td>...</td>\n",
       "      <td>-8.326673e-17</td>\n",
       "      <td>-4.440892e-16</td>\n",
       "      <td>4.440892e-16</td>\n",
       "      <td>-0.000000e+00</td>\n",
       "      <td>-0.000000</td>\n",
       "      <td>-3.053113e-16</td>\n",
       "      <td>-2.220446e-16</td>\n",
       "      <td>-0.0</td>\n",
       "      <td>-0.0</td>\n",
       "      <td>-0.0</td>\n",
       "    </tr>\n",
       "    <tr>\n",
       "      <th>fy_0</th>\n",
       "      <td>0.000000</td>\n",
       "      <td>0.0</td>\n",
       "      <td>-0.0</td>\n",
       "      <td>-0.0</td>\n",
       "      <td>-0.0</td>\n",
       "      <td>-0.0</td>\n",
       "      <td>-0.0</td>\n",
       "      <td>-0.0</td>\n",
       "      <td>-0.0</td>\n",
       "      <td>-0.000000e+00</td>\n",
       "      <td>...</td>\n",
       "      <td>-0.000000e+00</td>\n",
       "      <td>-4.440892e-16</td>\n",
       "      <td>-0.000000e+00</td>\n",
       "      <td>2.220446e-16</td>\n",
       "      <td>-0.000000</td>\n",
       "      <td>-0.000000e+00</td>\n",
       "      <td>2.220446e-16</td>\n",
       "      <td>-0.0</td>\n",
       "      <td>-0.0</td>\n",
       "      <td>-0.0</td>\n",
       "    </tr>\n",
       "    <tr>\n",
       "      <th>fz_0</th>\n",
       "      <td>0.000000</td>\n",
       "      <td>0.0</td>\n",
       "      <td>-0.0</td>\n",
       "      <td>-0.0</td>\n",
       "      <td>-0.0</td>\n",
       "      <td>-0.0</td>\n",
       "      <td>-0.0</td>\n",
       "      <td>-0.0</td>\n",
       "      <td>-0.0</td>\n",
       "      <td>6.938894e-18</td>\n",
       "      <td>...</td>\n",
       "      <td>2.775558e-17</td>\n",
       "      <td>-0.000000e+00</td>\n",
       "      <td>-2.220446e-16</td>\n",
       "      <td>-0.000000e+00</td>\n",
       "      <td>-0.000000</td>\n",
       "      <td>-3.330669e-16</td>\n",
       "      <td>-1.332268e-15</td>\n",
       "      <td>-0.0</td>\n",
       "      <td>-0.0</td>\n",
       "      <td>-0.0</td>\n",
       "    </tr>\n",
       "    <tr>\n",
       "      <th>dft_1</th>\n",
       "      <th>energy</th>\n",
       "      <td>-11.126991</td>\n",
       "      <td>1.0</td>\n",
       "      <td>0.0</td>\n",
       "      <td>0.0</td>\n",
       "      <td>0.0</td>\n",
       "      <td>0.0</td>\n",
       "      <td>0.0</td>\n",
       "      <td>0.0</td>\n",
       "      <td>0.0</td>\n",
       "      <td>2.732517e-03</td>\n",
       "      <td>...</td>\n",
       "      <td>1.609307e-02</td>\n",
       "      <td>2.028756e+00</td>\n",
       "      <td>5.999376e+00</td>\n",
       "      <td>3.438647e+00</td>\n",
       "      <td>0.516544</td>\n",
       "      <td>2.634127e-01</td>\n",
       "      <td>5.359363e+00</td>\n",
       "      <td>0.0</td>\n",
       "      <td>0.0</td>\n",
       "      <td>0.0</td>\n",
       "    </tr>\n",
       "  </tbody>\n",
       "</table>\n",
       "<p>5 rows × 30 columns</p>\n",
       "</div>"
      ],
      "text/plain": [
       "                      y  n_W  x_0  x_1  x_2  x_3  x_4  x_5  x_6           x_7  \\\n",
       "dft_0 energy -11.194835  1.0  0.0  0.0  0.0  0.0  0.0  0.0  0.0  5.465031e-03   \n",
       "      fx_0     0.000000  0.0 -0.0 -0.0 -0.0 -0.0 -0.0 -0.0 -0.0  6.938894e-18   \n",
       "      fy_0     0.000000  0.0 -0.0 -0.0 -0.0 -0.0 -0.0 -0.0 -0.0 -0.000000e+00   \n",
       "      fz_0     0.000000  0.0 -0.0 -0.0 -0.0 -0.0 -0.0 -0.0 -0.0  6.938894e-18   \n",
       "dft_1 energy -11.126991  1.0  0.0  0.0  0.0  0.0  0.0  0.0  0.0  2.732517e-03   \n",
       "\n",
       "              ...          x_18          x_19          x_20          x_21  \\\n",
       "dft_0 energy  ...  3.641680e-02  3.884511e+00  7.278707e+00  8.003649e-01   \n",
       "      fx_0    ... -8.326673e-17 -4.440892e-16  4.440892e-16 -0.000000e+00   \n",
       "      fy_0    ... -0.000000e+00 -4.440892e-16 -0.000000e+00  2.220446e-16   \n",
       "      fz_0    ...  2.775558e-17 -0.000000e+00 -2.220446e-16 -0.000000e+00   \n",
       "dft_1 energy  ...  1.609307e-02  2.028756e+00  5.999376e+00  3.438647e+00   \n",
       "\n",
       "                  x_22          x_23          x_24  x_25  x_26  x_27  \n",
       "dft_0 energy  0.000000  2.774099e-01  1.012363e+01   0.0   0.0   0.0  \n",
       "      fx_0   -0.000000 -3.053113e-16 -2.220446e-16  -0.0  -0.0  -0.0  \n",
       "      fy_0   -0.000000 -0.000000e+00  2.220446e-16  -0.0  -0.0  -0.0  \n",
       "      fz_0   -0.000000 -3.330669e-16 -1.332268e-15  -0.0  -0.0  -0.0  \n",
       "dft_1 energy  0.516544  2.634127e-01  5.359363e+00   0.0   0.0   0.0  \n",
       "\n",
       "[5 rows x 30 columns]"
      ]
     },
     "execution_count": 20,
     "metadata": {},
     "output_type": "execute_result"
    }
   ],
   "source": [
    "df_features.head()"
   ]
  },
  {
   "cell_type": "markdown",
   "metadata": {
    "ExecuteTime": {
     "start_time": "2021-09-27T03:31:28.871Z"
    }
   },
   "source": [
    "# Fit model"
   ]
  },
  {
   "cell_type": "code",
   "execution_count": 21,
   "metadata": {
    "ExecuteTime": {
     "end_time": "2021-09-27T15:00:30.885060Z",
     "start_time": "2021-09-27T15:00:30.882387Z"
    }
   },
   "outputs": [],
   "source": [
    "regularizer = bspline_config.get_regularization_matrix(ridge_1b=1e-6,\n",
    "                                                       curvature_2b=1e-8)\n",
    "\n",
    "model = least_squares.WeightedLinearModel(bspline_config,\n",
    "                                          regularizer=regularizer)"
   ]
  },
  {
   "cell_type": "markdown",
   "metadata": {},
   "source": [
    "Train with 20% of the dataset (1939 samples)"
   ]
  },
  {
   "cell_type": "code",
   "execution_count": 22,
   "metadata": {
    "ExecuteTime": {
     "end_time": "2021-09-27T15:00:30.914594Z",
     "start_time": "2021-09-27T15:00:30.885972Z"
    }
   },
   "outputs": [],
   "source": [
    "training_keys = df_data.index[training_1939]\n",
    "df_slice = df_features.loc[training_keys]\n",
    "n_elements = len(chemical_system.element_list)\n",
    "x_e, y_e, x_f, y_f = least_squares.dataframe_to_tuples(df_slice,\n",
    "                                                       n_elements=n_elements,\n",
    "                                                       energy_key=\"energy\")"
   ]
  },
  {
   "cell_type": "markdown",
   "metadata": {},
   "source": [
    "# Fit with energies and force"
   ]
  },
  {
   "cell_type": "code",
   "execution_count": 23,
   "metadata": {
    "ExecuteTime": {
     "end_time": "2021-09-27T15:00:31.067577Z",
     "start_time": "2021-09-27T15:00:30.915771Z"
    }
   },
   "outputs": [
    {
     "data": {
      "image/png": "[encoded data removed]",
      "text/plain": [
       "<Figure size 432x288 with 1 Axes>"
      ]
     },
     "metadata": {
      "needs_background": "light"
     },
     "output_type": "display_data"
    }
   ],
   "source": [
    "model.fit(x_e, y_e, x_f, y_f, weight=0.5)\n",
    "solutions = least_squares.arrange_coefficients(model.coefficients, \n",
    "                                               bspline_config)\n",
    "coefficients = solutions[(\"W\", \"W\")]\n",
    "knot_sequence = bspline_config.knots_map[(\"W\", \"W\")]\n",
    "fig, ax = plotting.visualize_splines(coefficients, knot_sequence)"
   ]
  },
  {
   "cell_type": "markdown",
   "metadata": {
    "ExecuteTime": {
     "end_time": "2021-09-27T04:15:40.920319Z",
     "start_time": "2021-09-27T04:15:40.917610Z"
    }
   },
   "source": [
    "# Prediction"
   ]
  },
  {
   "cell_type": "code",
   "execution_count": 24,
   "metadata": {
    "ExecuteTime": {
     "end_time": "2021-09-27T15:00:31.077728Z",
     "start_time": "2021-09-27T15:00:31.069009Z"
    }
   },
   "outputs": [],
   "source": [
    "# predict with remaining 80% of dataset\n",
    "holdout_keys = df_data.index.difference(training_keys)"
   ]
  },
  {
   "cell_type": "code",
   "execution_count": 25,
   "metadata": {
    "ExecuteTime": {
     "end_time": "2021-09-27T15:00:31.170605Z",
     "start_time": "2021-09-27T15:00:31.079102Z"
    }
   },
   "outputs": [],
   "source": [
    "df_holdout = df_features.loc[holdout_keys]\n",
    "x_e, y_e, x_f, y_f = least_squares.dataframe_to_tuples(df_holdout,\n",
    "                                                       n_elements=n_elements,\n",
    "                                                       energy_key=\"energy\")"
   ]
  },
  {
   "cell_type": "code",
   "execution_count": 26,
   "metadata": {
    "ExecuteTime": {
     "end_time": "2021-09-27T15:00:31.173846Z",
     "start_time": "2021-09-27T15:00:31.171719Z"
    }
   },
   "outputs": [],
   "source": [
    "p_e = model.predict(x_e)"
   ]
  },
  {
   "cell_type": "code",
   "execution_count": 27,
   "metadata": {
    "ExecuteTime": {
     "end_time": "2021-09-27T15:00:31.180497Z",
     "start_time": "2021-09-27T15:00:31.174933Z"
    }
   },
   "outputs": [],
   "source": [
    "p_f = model.predict(x_f)"
   ]
  },
  {
   "cell_type": "code",
   "execution_count": 28,
   "metadata": {
    "ExecuteTime": {
     "end_time": "2021-09-27T15:00:31.540524Z",
     "start_time": "2021-09-27T15:00:31.183560Z"
    }
   },
   "outputs": [
    {
     "data": {
      "image/png": "[encoded data removed]",
      "text/plain": [
       "<Figure size 432x288 with 1 Axes>"
      ]
     },
     "metadata": {
      "needs_background": "light"
     },
     "output_type": "display_data"
    }
   ],
   "source": [
    "plotting.density_scatter(y_e, p_e)\n",
    "plt.tight_layout()"
   ]
  },
  {
   "cell_type": "code",
   "execution_count": 29,
   "metadata": {
    "ExecuteTime": {
     "end_time": "2021-09-27T15:00:40.674332Z",
     "start_time": "2021-09-27T15:00:31.541761Z"
    }
   },
   "outputs": [
    {
     "data": {
      "image/png": "[encoded data removed]",
      "text/plain": [
       "<Figure size 432x288 with 1 Axes>"
      ]
     },
     "metadata": {
      "needs_background": "light"
     },
     "output_type": "display_data"
    }
   ],
   "source": [
    "plotting.density_scatter(y_f, p_f)\n",
    "plt.tight_layout()"
   ]
  },
  {
   "cell_type": "code",
   "execution_count": 30,
   "metadata": {
    "ExecuteTime": {
     "end_time": "2021-09-27T15:00:40.677782Z",
     "start_time": "2021-09-27T15:00:40.675453Z"
    }
   },
   "outputs": [],
   "source": [
    "solutions = least_squares.arrange_coefficients(model.coefficients, \n",
    "                                               bspline_config)"
   ]
  },
  {
   "cell_type": "code",
   "execution_count": 31,
   "metadata": {
    "ExecuteTime": {
     "end_time": "2021-09-27T15:00:40.683356Z",
     "start_time": "2021-09-27T15:00:40.679211Z"
    }
   },
   "outputs": [
    {
     "name": "stdout",
     "output_type": "stream",
     "text": [
      "W : -7.359817621121779\n",
      "('W', 'W') : [ 6.43001157e+00  5.97354258e+00  5.06058796e+00  3.69113106e+00\n",
      "  1.65205855e+00  9.23859147e-01  2.81258202e-01 -5.36413561e-03\n",
      " -1.65669972e-01 -2.39954884e-01 -2.77954263e-01 -2.80998799e-01\n",
      " -2.49653066e-01 -1.77409590e-01 -1.00099852e-01 -6.82599769e-02\n",
      " -2.00034440e-02 -3.28071234e-02 -3.43219435e-02 -3.43618259e-02\n",
      " -2.88400639e-02 -2.12175439e-02 -6.90983500e-04 -9.25139031e-03\n",
      " -8.08694792e-03  0.00000000e+00  0.00000000e+00  0.00000000e+00]\n"
     ]
    }
   ],
   "source": [
    "for interaction, values in solutions.items():\n",
    "    print(interaction, \":\", values)"
   ]
  },
  {
   "cell_type": "markdown",
   "metadata": {
    "pycharm": {
     "name": "#%% md\n"
    }
   },
   "source": [
    "# Export potential and tabulated potential"
   ]
  },
  {
   "cell_type": "code",
   "execution_count": 32,
   "metadata": {
    "ExecuteTime": {
     "end_time": "2021-09-27T15:00:40.688349Z",
     "start_time": "2021-09-27T15:00:40.684472Z"
    }
   },
   "outputs": [],
   "source": [
    "model.save(\"model_pair.json\")"
   ]
  },
  {
   "cell_type": "code",
   "execution_count": 33,
   "metadata": {
    "ExecuteTime": {
     "end_time": "2021-09-27T15:00:40.777770Z",
     "start_time": "2021-09-27T15:00:40.690323Z"
    },
    "pycharm": {
     "name": "#%%\n"
    }
   },
   "outputs": [],
   "source": [
    "table_list = []\n",
    "pair_list = chemical_system.interactions_map[2]\n",
    "for pair in pair_list:\n",
    "    text = lammps.export_tabulated_potential(representation.knots_map[pair],\n",
    "                                             solutions[pair],\n",
    "                                             pair,\n",
    "                                             grid=1000,\n",
    "                                             filename=None)\n",
    "    table_list.append(text)\n",
    "combined_text = \"\\n\\n\\n\".join(table_list)\n",
    "table_name = os.path.join(example_directory, \"table_test\", \"W.table\")\n",
    "with open(table_name, \"w\") as f:\n",
    "    f.write(combined_text)"
   ]
  },
  {
   "cell_type": "markdown",
   "metadata": {},
   "source": [
    "# Import potential\n",
    "\n",
    "Start from here if you want to skip the long training part."
   ]
  },
  {
   "cell_type": "code",
   "execution_count": 15,
   "metadata": {},
   "outputs": [],
   "source": [
    "model = least_squares.WeightedLinearModel(bspline_config)\n",
    "\n",
    "model.load(filename=\"../tungsten_extxyz/model_pair.json\")"
   ]
  },
  {
   "cell_type": "markdown",
   "metadata": {},
   "source": [
    "# Compute energy, forces, stress with UFCalculator"
   ]
  },
  {
   "cell_type": "code",
   "execution_count": 15,
   "metadata": {
    "ExecuteTime": {
     "end_time": "2021-09-27T15:00:40.833947Z",
     "start_time": "2021-09-27T15:00:40.779433Z"
    },
    "pycharm": {
     "name": "#%%\n"
    }
   },
   "outputs": [
    {
     "name": "stdout",
     "output_type": "stream",
     "text": [
      "Energy: -129.9085043720982\n",
      "Stresses (numerical): [-0.07157686 -0.05615776 -0.03585433  0.00072185 -0.01699741 -0.03629823]\n",
      "Forces:\n",
      " [[-0.36706937  7.28026397 -0.58103694]\n",
      " [-1.10934562 -0.51625161  0.62697603]\n",
      " [ 1.15703167  1.59575223  0.37736722]\n",
      " [ 1.83079162 -5.43204632  0.44976142]\n",
      " [-0.57471404 -2.30500838 -1.01534022]\n",
      " [-1.86237115  2.25965517  0.7613154 ]\n",
      " [-2.60550322 -1.55873367  0.90440522]\n",
      " [ 1.66154524  0.61688415 -1.17963061]\n",
      " [ 2.14010085  0.27336131 -0.10013569]\n",
      " [-0.09055564 -5.6471755  -0.11915614]\n",
      " [-1.97460374  3.39727663  0.23972051]\n",
      " [ 1.79469339  0.03602202 -0.3642462 ]]\n",
      "Max force: 7.280263970889668\n"
     ]
    }
   ],
   "source": [
    "calc = calculator.UFCalculator(model)\n",
    "\n",
    "geom = df_data.iloc[3000]['geometry'].copy()  # 12-atom cell\n",
    "geom.set_calculator(calc)\n",
    "print(\"Energy:\", geom.get_potential_energy())\n",
    "print(\"Stresses (numerical):\", geom.get_stress())\n",
    "print(\"Forces:\\n\", geom.get_forces())\n",
    "print(\"Max force:\", np.max(np.abs(geom.get_forces())))"
   ]
  },
  {
   "cell_type": "markdown",
   "metadata": {
    "pycharm": {
     "name": "#%% md\n"
    }
   },
   "source": [
    "# Compare with UFLammps calculator"
   ]
  },
  {
   "cell_type": "code",
   "execution_count": 35,
   "metadata": {
    "ExecuteTime": {
     "end_time": "2021-09-27T15:00:43.882335Z",
     "start_time": "2021-09-27T15:00:40.835053Z"
    },
    "pycharm": {
     "name": "#%%\n"
    }
   },
   "outputs": [
    {
     "name": "stdout",
     "output_type": "stream",
     "text": [
      "Energy: -41.59071629828811\n",
      "Stresses (numerical): [-0.07157678 -0.05615798 -0.03585438  0.0007219  -0.01699733 -0.0362982 ]\n",
      "Forces:\n",
      " [[-0.36707085  7.28027149 -0.58103072]\n",
      " [-1.10934726 -0.51625373  0.62697386]\n",
      " [ 1.15703129  1.59575361  0.37736717]\n",
      " [ 1.830793   -5.4320507   0.44975813]\n",
      " [-0.57471276 -2.30501251 -1.01534688]\n",
      " [-1.86236869  2.25965632  0.76131392]\n",
      " [-2.60550385 -1.55873187  0.90440782]\n",
      " [ 1.66154317  0.61688455 -1.17962671]\n",
      " [ 2.14010237  0.27336506 -0.10013918]\n",
      " [-0.0905544  -5.64717482 -0.11915727]\n",
      " [-1.97460007  3.39727246  0.23972502]\n",
      " [ 1.79468806  0.03602015 -0.36424515]]\n",
      "Max force: 7.280271486255801\n"
     ]
    }
   ],
   "source": [
    "calc = lammps.UFLammps(lmpcmds=[\"pair_style table spline 1000\",\n",
    "                                \"pair_coeff * * table_test/W.table UF_W-W 5.5\"],\n",
    "                       keep_alive=True)\n",
    "geom = df_data.iloc[3000]['geometry'].copy()  # 12-atom cell\n",
    "geom.set_calculator(calc)\n",
    "print(\"Energy:\", geom.get_potential_energy())\n",
    "print(\"Stresses (numerical):\", geom.get_stress())\n",
    "print(\"Forces:\\n\", geom.get_forces())\n",
    "print(\"Max force:\", np.max(np.abs(geom.get_forces())))\n",
    "del calc"
   ]
  },
  {
   "cell_type": "markdown",
   "metadata": {
    "pycharm": {
     "name": "#%% md\n"
    }
   },
   "source": [
    "# Relax with UFLammps calculator"
   ]
  },
  {
   "cell_type": "code",
   "execution_count": 36,
   "metadata": {
    "ExecuteTime": {
     "end_time": "2021-09-27T15:00:43.907682Z",
     "start_time": "2021-09-27T15:00:43.883774Z"
    },
    "pycharm": {
     "name": "#%%\n"
    }
   },
   "outputs": [
    {
     "name": "stdout",
     "output_type": "stream",
     "text": [
      "Relaxation Steps: 93\n",
      "Energy: -44.93449030994599\n",
      "Stresses (numerical): [-0.02878337 -0.00626803  0.03503654  0.00253216 -0.01605018 -0.03667438]\n",
      "Forces:\n",
      " [[-7.89556940e-04 -4.91394351e-04 -1.48160971e-04]\n",
      " [ 1.84101152e-03  2.90311851e-04 -1.23903292e-03]\n",
      " [ 1.92462831e-03  3.06208341e-04  2.54366552e-06]\n",
      " [-2.01100052e-03  2.03022433e-05  5.55985051e-04]\n",
      " [-1.26281127e-03  4.36335305e-04  5.44245153e-04]\n",
      " [ 1.44765365e-03 -6.13811171e-04 -7.00023710e-04]\n",
      " [ 1.49734404e-03  7.66210973e-05 -7.79185289e-04]\n",
      " [-2.10290554e-03  2.23680919e-04  8.42479626e-04]\n",
      " [-3.52724386e-04 -4.55429584e-04  4.68216374e-04]\n",
      " [ 7.70858468e-04 -6.08838440e-04  2.27957766e-04]\n",
      " [-3.41839044e-04 -1.81341077e-04  5.72416110e-05]\n",
      " [-6.20658288e-04  9.97354866e-04  1.67733649e-04]]\n",
      "Max force: 0.0019246283109160198\n"
     ]
    }
   ],
   "source": [
    "calc = lammps.UFLammps(lmpcmds=[\"pair_style table spline 1000\",\n",
    "                                \"pair_coeff * * table_test/W.table UF_W-W 5.5\"],\n",
    "                       keep_alive=True)\n",
    "calc.relax(geom)\n",
    "print('Relaxation Steps:', calc.results['nsteps'])\n",
    "geom.calc = calc\n",
    "print(\"Energy:\", geom.get_potential_energy())\n",
    "print(\"Stresses (numerical):\", geom.get_stress())\n",
    "lammps_forces = geom.get_forces()\n",
    "print(\"Forces:\\n\", lammps_forces)\n",
    "print(\"Max force:\", np.max(lammps_forces))\n",
    "del calc"
   ]
  },
  {
   "cell_type": "markdown",
   "metadata": {},
   "source": [
    "# Build a JAX MD potential"
   ]
  },
  {
   "cell_type": "code",
   "execution_count": 16,
   "metadata": {
    "pycharm": {
     "name": "#%%\n"
    }
   },
   "outputs": [],
   "source": [
    "import jax.numpy as jnp\n",
    "from jax import jit, grad, vmap, value_and_grad\n",
    "\n",
    "from jax.config import config\n",
    "config.update(\"jax_enable_x64\", True)\n",
    "\n",
    "from jax_md import space, smap, energy, minimize, quantity, simulate, partition, util\n",
    "\n",
    "from uf3.util import jax_utils\n",
    "from uf3.jax.potentials import uf2_pair, uf2_neighbor"
   ]
  },
  {
   "cell_type": "code",
   "execution_count": 23,
   "metadata": {},
   "outputs": [
    {
     "name": "stdout",
     "output_type": "stream",
     "text": [
      "[ 6.43001157e+00  5.97354258e+00  5.06058796e+00  3.69113106e+00\n",
      "  1.65205855e+00  9.23859147e-01  2.81258202e-01 -5.36413561e-03\n",
      " -1.65669972e-01 -2.39954884e-01 -2.77954263e-01 -2.80998799e-01\n",
      " -2.49653066e-01 -1.77409590e-01 -1.00099852e-01 -6.82599769e-02\n",
      " -2.00034440e-02 -3.28071234e-02 -3.43219435e-02 -3.43618259e-02\n",
      " -2.88400639e-02 -2.12175439e-02 -6.90983500e-04 -9.25139031e-03\n",
      " -8.08694792e-03  0.00000000e+00  0.00000000e+00  0.00000000e+00]\n",
      "[1.5  1.5  1.5  1.5  1.66 1.82 1.98 2.14 2.3  2.46 2.62 2.78 2.94 3.1\n",
      " 3.26 3.42 3.58 3.74 3.9  4.06 4.22 4.38 4.54 4.7  4.86 5.02 5.18 5.34\n",
      " 5.5  5.5  5.5  5.5 ]\n"
     ]
    }
   ],
   "source": [
    "calc = calculator.UFCalculator(model)\n",
    "geom = df_data.iloc[3000]['geometry'].copy()  # 12-atom cell\n",
    "\n",
    "ndspline2 = calc.pair_potentials[('W','W')]\n",
    "coefficients = jnp.asarray(ndspline2.coefficients)\n",
    "coefficients = coefficients[:,0]\n",
    "\n",
    "knots = ndspline2.knots\n",
    "knots = knots[0]\n",
    "\n",
    "print(coefficients)\n",
    "\n",
    "print(knots)"
   ]
  },
  {
   "cell_type": "code",
   "execution_count": 18,
   "metadata": {},
   "outputs": [],
   "source": [
    "longest_range = knots[-1]\n",
    "new_geom = jax_utils.scale_atoms(geom, longest_range+2)"
   ]
  },
  {
   "cell_type": "code",
   "execution_count": 45,
   "metadata": {},
   "outputs": [
    {
     "name": "stdout",
     "output_type": "stream",
     "text": [
      "[[0. 0. 0.]]\n",
      "(27, 3)\n"
     ]
    }
   ],
   "source": [
    "import ase\n",
    "elem = geom.get_atomic_numbers()[0:1]\n",
    "pos = np.asarray([[0.0,0,0]])\n",
    "cell = np.asarray([[5.0,1,0],[0,5.0,0],[0,0,5.0]])\n",
    "geom = ase.Atoms(elem, positions=pos, cell=cell, pbc=geom.pbc)\n",
    "print(geom.get_positions())\n",
    "new_geom = jax_utils.scale_atoms(geom, longest_range)\n",
    "print(new_geom.get_positions().shape)"
   ]
  },
  {
   "cell_type": "code",
   "execution_count": 39,
   "metadata": {},
   "outputs": [
    {
     "data": {
      "text/plain": [
       "162"
      ]
     },
     "execution_count": 39,
     "metadata": {},
     "output_type": "execute_result"
    }
   ],
   "source": [
    "6*27"
   ]
  },
  {
   "cell_type": "code",
   "execution_count": null,
   "metadata": {},
   "outputs": [],
   "source": [
    "elem = geom.get_atomic_numbers()[0:2]\n",
    "pos = np.asarray([[0.0,0,0],[1.6,0,0]])\n",
    "cell = np.asarray([[10.0,0,0],[0,10.0,0],[0,0,10.0]])\n",
    "new_geom =  ase.Atoms(elem, positions=pos, cell=cell, pbc=geom.pbc)"
   ]
  },
  {
   "cell_type": "code",
   "execution_count": 46,
   "metadata": {},
   "outputs": [
    {
     "name": "stdout",
     "output_type": "stream",
     "text": [
      "Energy: 162.0\n",
      "Stresses (numerical): [0. 0. 0. 0. 0. 0.]\n",
      "Forces:\n",
      " [[ 1.50463277e-37  1.50463277e-37 -4.44089210e-16]\n",
      " [-7.88860905e-32  0.00000000e+00 -4.44089210e-16]\n",
      " [ 0.00000000e+00  0.00000000e+00 -4.44089210e-16]\n",
      " [ 2.25694915e-37 -7.88860905e-32 -4.44089210e-16]\n",
      " [ 0.00000000e+00  0.00000000e+00  0.00000000e+00]\n",
      " [ 1.57772181e-31  4.44089210e-16 -4.44089210e-16]\n",
      " [ 8.70930595e-16  1.74186119e-16 -4.44089210e-16]\n",
      " [ 0.00000000e+00  0.00000000e+00  0.00000000e+00]\n",
      " [-8.70930595e-16 -6.18275329e-16 -4.44089210e-16]\n",
      " [ 0.00000000e+00  0.00000000e+00  0.00000000e+00]\n",
      " [ 7.88860905e-32  4.44089210e-16  0.00000000e+00]\n",
      " [ 1.57772181e-31 -4.44089210e-16 -7.88860905e-32]\n",
      " [ 0.00000000e+00  0.00000000e+00  0.00000000e+00]]\n",
      "Max force: 8.709305949236426e-16\n"
     ]
    }
   ],
   "source": [
    "calc.pair_potentials[('W','W')].coefficients = np.ones_like(ndspline2.coefficients)\n",
    "\n",
    "new_geom.set_calculator(calc)\n",
    "print(\"Energy:\", new_geom.get_potential_energy(force_consistent=True))\n",
    "print(\"Stresses (numerical):\", new_geom.get_stress())\n",
    "forces = new_geom.get_forces()\n",
    "print(\"Forces:\\n\", forces[:13])\n",
    "print(\"Max force:\", np.max(np.abs(forces)))"
   ]
  },
  {
   "cell_type": "code",
   "execution_count": 52,
   "metadata": {},
   "outputs": [],
   "source": [
    "box = jnp.asarray(new_geom.cell)\n",
    "displacement, shift = space.periodic_general(box, fractional_coordinates=False)\n",
    "\n",
    "R = jnp.asarray(new_geom.get_positions(wrap=False))\n",
    "\n",
    "uf_pair = uf2_pair(displacement, knots=knots)"
   ]
  },
  {
   "cell_type": "code",
   "execution_count": 53,
   "metadata": {},
   "outputs": [],
   "source": [
    "from uf3.jax import potentialsOld\n",
    "coefficientsN = jnp.ones_like(coefficients)\n",
    "\n",
    "uf2 = potentialsOld.uf2_pair(displacement, knots=knots, coefficients=coefficientsN)"
   ]
  },
  {
   "cell_type": "code",
   "execution_count": 54,
   "metadata": {},
   "outputs": [
    {
     "data": {
      "text/plain": [
       "DeviceArray([[0., 0., 0.],\n",
       "             [0., 0., 0.],\n",
       "             [0., 0., 0.],\n",
       "             [0., 0., 0.],\n",
       "             [0., 0., 0.],\n",
       "             [0., 0., 0.],\n",
       "             [0., 0., 0.],\n",
       "             [0., 0., 0.],\n",
       "             [0., 0., 0.],\n",
       "             [0., 0., 0.],\n",
       "             [0., 0., 0.],\n",
       "             [0., 0., 0.],\n",
       "             [0., 0., 0.],\n",
       "             [0., 0., 0.],\n",
       "             [0., 0., 0.],\n",
       "             [0., 0., 0.],\n",
       "             [0., 0., 0.],\n",
       "             [0., 0., 0.],\n",
       "             [0., 0., 0.],\n",
       "             [0., 0., 0.],\n",
       "             [0., 0., 0.],\n",
       "             [0., 0., 0.],\n",
       "             [0., 0., 0.],\n",
       "             [0., 0., 0.],\n",
       "             [0., 0., 0.],\n",
       "             [0., 0., 0.],\n",
       "             [0., 0., 0.]], dtype=float64)"
      ]
     },
     "execution_count": 54,
     "metadata": {},
     "output_type": "execute_result"
    }
   ],
   "source": [
    "R - new_geom.positions"
   ]
  },
  {
   "cell_type": "code",
   "execution_count": 55,
   "metadata": {},
   "outputs": [
    {
     "name": "stdout",
     "output_type": "stream",
     "text": [
      "156.0\n"
     ]
    }
   ],
   "source": [
    "print(uf2(R))"
   ]
  },
  {
   "cell_type": "code",
   "execution_count": null,
   "metadata": {},
   "outputs": [
    {
     "data": {
      "text/plain": [
       "DeviceArray([[ 0.46144385, -0.        , -0.        ],\n",
       "             [-0.46144385, -0.        , -0.        ]], dtype=float64)"
      ]
     },
     "execution_count": 69,
     "metadata": {},
     "output_type": "execute_result"
    }
   ],
   "source": [
    "- grad(uf2)(R)"
   ]
  },
  {
   "cell_type": "code",
   "execution_count": null,
   "metadata": {},
   "outputs": [
    {
     "data": {
      "text/plain": [
       "DeviceArray(-470.98160466, dtype=float64)"
      ]
     },
     "execution_count": 82,
     "metadata": {},
     "output_type": "execute_result"
    }
   ],
   "source": [
    "uf_pair(R, coefficients=coefficientsN)"
   ]
  },
  {
   "cell_type": "code",
   "execution_count": null,
   "metadata": {},
   "outputs": [
    {
     "data": {
      "text/plain": [
       "DeviceArray([[ 3.26128013e-16,  3.26128013e-16,  1.01481323e-15],\n",
       "             [ 4.79863133e-18,  3.26128013e-16,  1.01481323e-15],\n",
       "             [-3.26128013e-16,  3.26128013e-16,  8.30932545e-16],\n",
       "             [ 3.26128013e-16,  2.39931567e-18,  1.01481323e-15],\n",
       "             [ 4.79863133e-18,  2.39931567e-18,  1.01481323e-15],\n",
       "             [-3.26128013e-16,  2.39931567e-18,  8.30932545e-16],\n",
       "             [ 8.15320034e-17, -3.26128013e-16,  1.01481323e-15],\n",
       "             [ 4.25671844e-16, -3.26128013e-16,  1.01481323e-15],\n",
       "             [-5.10008702e-16, -3.26128013e-16,  8.30932545e-16],\n",
       "             [ 3.26128013e-16,  3.26128013e-16,  1.73472348e-18],\n",
       "             [ 4.79863133e-18,  3.26128013e-16,  1.73472348e-18],\n",
       "             [-3.26128013e-16,  3.26128013e-16,  1.80411242e-16],\n",
       "             [ 3.26128013e-16,  2.39931567e-18,  1.73472348e-18]],            dtype=float64)"
      ]
     },
     "execution_count": 48,
     "metadata": {},
     "output_type": "execute_result"
    }
   ],
   "source": [
    "- grad(uf_pair)(R, coefficients=coefficients)[:13]"
   ]
  },
  {
   "cell_type": "code",
   "execution_count": null,
   "metadata": {},
   "outputs": [],
   "source": []
  }
 ],
 "metadata": {
  "kernelspec": {
   "display_name": "Python 3.9.7 ('uf3')",
   "language": "python",
   "name": "python3"
  },
  "language_info": {
   "codemirror_mode": {
    "name": "ipython",
    "version": 3
   },
   "file_extension": ".py",
   "mimetype": "text/x-python",
   "name": "python",
   "nbconvert_exporter": "python",
   "pygments_lexer": "ipython3",
   "version": "3.9.7"
  },
  "toc": {
   "base_numbering": 1,
   "nav_menu": {},
   "number_sections": true,
   "sideBar": true,
   "skip_h1_title": false,
   "title_cell": "Table of Contents",
   "title_sidebar": "Contents",
   "toc_cell": false,
   "toc_position": {},
   "toc_section_display": true,
   "toc_window_display": false
  },
  "vscode": {
   "interpreter": {
    "hash": "ca6e4c1237d2523077850c33bb85c07df22e41d5dc1f9dffe27e02189376af2b"
   }
  }
 },
 "nbformat": 4,
 "nbformat_minor": 1
}
