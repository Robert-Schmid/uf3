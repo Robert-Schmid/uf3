{
 "cells": [
  {
   "cell_type": "code",
   "execution_count": 1,
   "metadata": {},
   "outputs": [],
   "source": [
    "import numpy as onp\n",
    "\n",
    "from jax.config import config ; config.update('jax_enable_x64', True)\n",
    "import jax.numpy as jnp\n",
    "from jax import random\n",
    "from jax import jit, grad\n",
    "from jax import lax\n",
    "\n",
    "import time\n",
    "\n",
    "from jax_md import space\n",
    "from jax_md import smap\n",
    "from jax_md import energy\n",
    "from jax_md import quantity\n",
    "from jax_md import simulate\n",
    "from jax_md import partition\n",
    "\n",
    "import matplotlib\n",
    "import matplotlib.pyplot as plt\n",
    "\n",
    "import ase\n"
   ]
  },
  {
   "cell_type": "markdown",
   "metadata": {},
   "source": [
    "## System"
   ]
  },
  {
   "cell_type": "code",
   "execution_count": 2,
   "metadata": {},
   "outputs": [],
   "source": [
    "from uf3.representation import bspline\n",
    "from uf3.data import composition\n",
    "from uf3.regression import least_squares\n",
    "\n",
    "element_list = ['W']\n",
    "degree = 2\n",
    "\n",
    "chemical_system = composition.ChemicalSystem(element_list=element_list,\n",
    "                                             degree=degree)\n",
    "\n",
    "r_min_map = {('W', 'W'): 1.5,\n",
    "            }\n",
    "r_max_map = {('W', 'W'): 5.5,\n",
    "            }\n",
    "resolution_map = {('W', 'W'): 25,\n",
    "                 }\n",
    "trailing_trim = 3\n",
    "\n",
    "bspline_config = bspline.BSplineBasis(chemical_system,\n",
    "                                      r_min_map=r_min_map,\n",
    "                                      r_max_map=r_max_map,\n",
    "                                      resolution_map=resolution_map,\n",
    "                                      trailing_trim=trailing_trim)\n",
    "\n",
    "model_2_body = least_squares.WeightedLinearModel(bspline_config)\n",
    "\n",
    "model_2_body.load(filename=\"../../tungsten_extxyz/model_pair.json\")"
   ]
  },
  {
   "cell_type": "code",
   "execution_count": 3,
   "metadata": {},
   "outputs": [],
   "source": [
    "from uf3.forcefield.calculator import *\n",
    "\n",
    "element_list = ['W']\n",
    "degree = 3\n",
    "\n",
    "chemical_system = composition.ChemicalSystem(element_list=element_list,\n",
    "                                             degree=degree)\n",
    "\n",
    "r_min_map = {(\"W\", \"W\"): 1.5,\n",
    "             (\"W\", \"W\", \"W\"): [1.5, 1.5, 1.5],\n",
    "            }\n",
    "r_max_map = {(\"W\", \"W\"): 5.5,\n",
    "             (\"W\", \"W\", \"W\"): [3.5, 3.5, 7.0],\n",
    "            }\n",
    "resolution_map = {(\"W\", \"W\"): 25,\n",
    "                  (\"W\", \"W\", \"W\"): [5, 5, 10],\n",
    "                 }\n",
    "trailing_trim = 3\n",
    "\n",
    "bspline_config = bspline.BSplineBasis(chemical_system,\n",
    "                                      r_min_map=r_min_map,\n",
    "                                      r_max_map=r_max_map,\n",
    "                                      resolution_map=resolution_map,\n",
    "                                      trailing_trim=trailing_trim)\n",
    "\n",
    "model_3_body = least_squares.WeightedLinearModel(bspline_config)\n",
    "\n",
    "model_3_body.load(filename=\"../../tungsten_extxyz/model_uf23.json\")"
   ]
  },
  {
   "cell_type": "code",
   "execution_count": 8,
   "metadata": {},
   "outputs": [],
   "source": [
    "Nx = particles_per_side = 10\n",
    "# Nx = particles_per_side = 50\n",
    "\n",
    "spacing = np.float32(2.0)\n",
    "side_length = Nx * spacing\n",
    "\n",
    "R = onp.stack([np.array(r) for r in np.ndindex(Nx, Nx, Nx)]) * spacing\n",
    "R = np.array(R, np.float64)"
   ]
  },
  {
   "cell_type": "code",
   "execution_count": 9,
   "metadata": {},
   "outputs": [
    {
     "name": "stdout",
     "output_type": "stream",
     "text": [
      "Number of atoms: 1000\n",
      "Box should be larger than 11 for JAX-MD, is: 20.0\n"
     ]
    }
   ],
   "source": [
    "print(f\"Number of atoms: {R.shape[0]}\")\n",
    "print(f\"Box should be larger than 11 for JAX-MD, is: {side_length}\")"
   ]
  },
  {
   "cell_type": "code",
   "execution_count": 10,
   "metadata": {},
   "outputs": [
    {
     "data": {
      "text/plain": [
       "Atoms(symbols='W1000', pbc=True, cell=[20.0, 20.0, 20.0])"
      ]
     },
     "execution_count": 10,
     "metadata": {},
     "output_type": "execute_result"
    }
   ],
   "source": [
    "pos = R\n",
    "c = onp.identity(3) * side_length\n",
    "ase.Atoms('W1000', positions=pos, cell=c, pbc=[True,True,True])\n",
    "# ase.Atoms('W125000', positions=pos, cell=c, pbc=[True,True,True])"
   ]
  },
  {
   "cell_type": "code",
   "execution_count": 11,
   "metadata": {},
   "outputs": [],
   "source": [
    "displacement, shift = space.periodic(side_length)\n",
    "format = partition.Dense\n",
    "R = jnp.asarray(R)"
   ]
  },
  {
   "cell_type": "code",
   "execution_count": 12,
   "metadata": {},
   "outputs": [],
   "source": [
    "calc = UFCalculator(model_3_body)\n",
    "\n",
    "ndspline2 = calc.pair_potentials[('W','W')]\n",
    "ndspline3 = calc.trio_potentials[('W','W','W')]\n",
    "\n",
    "coefficients2 = jnp.asarray(ndspline2.coefficients)\n",
    "coefficients2 = coefficients2[:,0]\n",
    "\n",
    "knots2 = ndspline2.knots\n",
    "knots2 = [jnp.asarray(i) for i in knots2]\n",
    "\n",
    "coefficients3 = jnp.asarray(ndspline3.coefficients)\n",
    "coefficients3 = coefficients3[:,:,:,0]\n",
    "\n",
    "knots3 = ndspline3.knots\n",
    "knots3 = [jnp.asarray(i) for i in knots3]"
   ]
  },
  {
   "cell_type": "markdown",
   "metadata": {},
   "source": [
    "## Lennard Jones"
   ]
  },
  {
   "cell_type": "code",
   "execution_count": 13,
   "metadata": {},
   "outputs": [],
   "source": [
    "from jax_md.energy import lennard_jones_neighbor_list\n",
    "from jax_md import partition"
   ]
  },
  {
   "cell_type": "code",
   "execution_count": 14,
   "metadata": {},
   "outputs": [],
   "source": [
    "neighbor_fn, energy_fn = lennard_jones_neighbor_list(displacement, side_length, r_cutoff=5.5, format=partition.Dense)"
   ]
  },
  {
   "cell_type": "code",
   "execution_count": 18,
   "metadata": {},
   "outputs": [],
   "source": [
    "nbrs = neighbor_fn.allocate(R)\n",
    "energy_fn = jit(energy_fn, backend='cpu')"
   ]
  },
  {
   "cell_type": "code",
   "execution_count": 19,
   "metadata": {},
   "outputs": [
    {
     "data": {
      "text/plain": [
       "(1000, 115)"
      ]
     },
     "execution_count": 19,
     "metadata": {},
     "output_type": "execute_result"
    }
   ],
   "source": [
    "nbrs.idx.shape"
   ]
  },
  {
   "cell_type": "code",
   "execution_count": 20,
   "metadata": {},
   "outputs": [
    {
     "name": "stdout",
     "output_type": "stream",
     "text": [
      "-239.80404308865104\n"
     ]
    }
   ],
   "source": [
    "print(energy_fn(R, nbrs))"
   ]
  },
  {
   "cell_type": "code",
   "execution_count": 21,
   "metadata": {},
   "outputs": [
    {
     "name": "stdout",
     "output_type": "stream",
     "text": [
      "Step\tKE\tPE\tTotal Energy\ttime/step\n",
      "----------------------------------------\n",
      "16\t220.31\t-30008.80\t-29788.48\t\t25.29ms\n",
      "32\t364.11\t-30152.59\t-29788.48\t\t22.64ms\n",
      "Neighbor list overflowed, reallocating.\n",
      "48\t823.34\t-30611.82\t-29788.48\t\t34.18ms\n",
      "64\t2417.24\t-32205.72\t-29788.48\t\t27.95ms\n",
      "80\t9413.04\t-39201.53\t-29788.49\t\t26.43ms\n",
      "96\t28060.07\t-57848.68\t-29788.61\t\t26.63ms\n",
      "112\t47036.03\t-76824.78\t-29788.75\t\t26.72ms\n",
      "128\t59273.28\t-89062.02\t-29788.74\t\t26.93ms\n",
      "144\t69008.78\t-98797.53\t-29788.75\t\t26.91ms\n",
      "160\t78446.54\t-108235.31\t-29788.76\t\t27.09ms\n"
     ]
    }
   ],
   "source": [
    "displacement, shift = space.periodic(side_length)\n",
    "\n",
    "init_fn, apply_fn = simulate.nve(energy_fn, shift, 1e-3)\n",
    "state = init_fn(random.PRNGKey(0), R, kT=1e-3, neighbor=nbrs)\n",
    "\n",
    "\n",
    "def body_fn(i, state):\n",
    "    state, nbrs = state\n",
    "    nbrs = nbrs.update(state.position)\n",
    "    state = apply_fn(state, neighbor=nbrs)\n",
    "    return state, nbrs\n",
    "\n",
    "\n",
    "print('Step\\tKE\\tPE\\tTotal Energy\\ttime/step')\n",
    "print('----------------------------------------')\n",
    "PE = []\n",
    "KE = []\n",
    "print_every = 4\n",
    "step = 0\n",
    "old_time = time.time_ns()\n",
    "while step < 40:\n",
    "    new_state, nbrs = lax.fori_loop(0, 100, body_fn, (state, nbrs))\n",
    "    if nbrs.did_buffer_overflow:\n",
    "        print(\"Neighbor list overflowed, reallocating.\")\n",
    "        nbrs = neighbor_fn.allocate(state.position)\n",
    "    else:\n",
    "        state = new_state\n",
    "        step += 1\n",
    "\n",
    "    if step % print_every == 0 and step > 0:\n",
    "        new_time = time.time_ns()\n",
    "        PE += [energy_fn(state.position, nbrs)]\n",
    "        KE += [quantity.kinetic_energy(state.velocity)]\n",
    "        print(\n",
    "            \"{}\\t{:.2f}\\t{:.2f}\\t{:.2f}\\t\\t{:.2f}ms\".format(\n",
    "                step * print_every,\n",
    "                KE[-1],\n",
    "                PE[-1],\n",
    "                KE[-1] + PE[-1],\n",
    "                (new_time - old_time) / print_every / 100.0 / 1000000.0,\n",
    "            )\n",
    "        )\n",
    "        old_time = new_time"
   ]
  },
  {
   "cell_type": "markdown",
   "metadata": {},
   "source": [
    "## Stillinger-Weber"
   ]
  },
  {
   "cell_type": "code",
   "execution_count": 9,
   "metadata": {},
   "outputs": [],
   "source": [
    "from jax_md.energy import stillinger_weber_neighbor_list\n",
    "from jax_md import partition"
   ]
  },
  {
   "cell_type": "code",
   "execution_count": 32,
   "metadata": {},
   "outputs": [],
   "source": [
    "neighbor_fn, energy_fn =stillinger_weber_neighbor_list(displacement, side_length, cutoff=5.5)"
   ]
  },
  {
   "cell_type": "code",
   "execution_count": 33,
   "metadata": {},
   "outputs": [],
   "source": [
    "nbrs = neighbor_fn.allocate(R)\n",
    "energy_fn = jit(energy_fn)"
   ]
  },
  {
   "cell_type": "code",
   "execution_count": 34,
   "metadata": {},
   "outputs": [
    {
     "data": {
      "text/plain": [
       "(125000, 115)"
      ]
     },
     "execution_count": 34,
     "metadata": {},
     "output_type": "execute_result"
    }
   ],
   "source": [
    "nbrs.idx.shape"
   ]
  },
  {
   "cell_type": "code",
   "execution_count": 35,
   "metadata": {},
   "outputs": [
    {
     "name": "stdout",
     "output_type": "stream",
     "text": [
      "196125389.47292036\n"
     ]
    }
   ],
   "source": [
    "print(energy_fn(R, nbrs))"
   ]
  },
  {
   "cell_type": "code",
   "execution_count": 21,
   "metadata": {},
   "outputs": [
    {
     "name": "stdout",
     "output_type": "stream",
     "text": [
      "Step\tKE\tPE\tTotal Energy\ttime/step\n",
      "----------------------------------------\n",
      "16\t220.31\t-30008.80\t-29788.48\t\t25.29ms\n",
      "32\t364.11\t-30152.59\t-29788.48\t\t22.64ms\n",
      "Neighbor list overflowed, reallocating.\n",
      "48\t823.34\t-30611.82\t-29788.48\t\t34.18ms\n",
      "64\t2417.24\t-32205.72\t-29788.48\t\t27.95ms\n",
      "80\t9413.04\t-39201.53\t-29788.49\t\t26.43ms\n",
      "96\t28060.07\t-57848.68\t-29788.61\t\t26.63ms\n",
      "112\t47036.03\t-76824.78\t-29788.75\t\t26.72ms\n",
      "128\t59273.28\t-89062.02\t-29788.74\t\t26.93ms\n",
      "144\t69008.78\t-98797.53\t-29788.75\t\t26.91ms\n",
      "160\t78446.54\t-108235.31\t-29788.76\t\t27.09ms\n"
     ]
    }
   ],
   "source": [
    "displacement, shift = space.periodic(side_length)\n",
    "\n",
    "init_fn, apply_fn = simulate.nve(energy_fn, shift, 1e-3)\n",
    "state = init_fn(random.PRNGKey(0), R, kT=1e-3, neighbor=nbrs)\n",
    "\n",
    "\n",
    "def body_fn(i, state):\n",
    "    state, nbrs = state\n",
    "    nbrs = nbrs.update(state.position)\n",
    "    state = apply_fn(state, neighbor=nbrs)\n",
    "    return state, nbrs\n",
    "\n",
    "\n",
    "print('Step\\tKE\\tPE\\tTotal Energy\\ttime/step')\n",
    "print('----------------------------------------')\n",
    "PE = []\n",
    "KE = []\n",
    "print_every = 4\n",
    "step = 0\n",
    "old_time = time.time_ns()\n",
    "while step < 40:\n",
    "    new_state, nbrs = lax.fori_loop(0, 100, body_fn, (state, nbrs))\n",
    "    if nbrs.did_buffer_overflow:\n",
    "        print(\"Neighbor list overflowed, reallocating.\")\n",
    "        nbrs = neighbor_fn.allocate(state.position)\n",
    "    else:\n",
    "        state = new_state\n",
    "        step += 1\n",
    "\n",
    "    if step % print_every == 0 and step > 0:\n",
    "        new_time = time.time_ns()\n",
    "        PE += [energy_fn(state.position, nbrs)]\n",
    "        KE += [quantity.kinetic_energy(state.velocity)]\n",
    "        print(\n",
    "            \"{}\\t{:.2f}\\t{:.2f}\\t{:.2f}\\t\\t{:.2f}ms\".format(\n",
    "                step * print_every,\n",
    "                KE[-1],\n",
    "                PE[-1],\n",
    "                KE[-1] + PE[-1],\n",
    "                (new_time - old_time) / print_every / 100.0 / 1000000.0,\n",
    "            )\n",
    "        )\n",
    "        old_time = new_time"
   ]
  },
  {
   "cell_type": "markdown",
   "metadata": {},
   "source": [
    "## UF potentials"
   ]
  },
  {
   "cell_type": "code",
   "execution_count": 9,
   "metadata": {},
   "outputs": [],
   "source": [
    "from uf3.jax.potentials import uf3_neighbor"
   ]
  },
  {
   "cell_type": "code",
   "execution_count": 19,
   "metadata": {
    "tags": []
   },
   "outputs": [],
   "source": [
    "c = [coefficients2, coefficients3]\n",
    "k = [knots2, knots3]"
   ]
  },
  {
   "cell_type": "code",
   "execution_count": 20,
   "metadata": {},
   "outputs": [],
   "source": [
    "neighbor_fn, energy_fn = uf3_neighbor(displacement, side_length, coefficients=c, knots=k, cutoff=5.5)"
   ]
  },
  {
   "cell_type": "code",
   "execution_count": 21,
   "metadata": {},
   "outputs": [],
   "source": [
    "nbrs = neighbor_fn.allocate(R)\n",
    "energy_fn = jit(energy_fn)"
   ]
  },
  {
   "cell_type": "code",
   "execution_count": 22,
   "metadata": {},
   "outputs": [
    {
     "name": "stdout",
     "output_type": "stream",
     "text": [
      "26811.792926319988\n"
     ]
    }
   ],
   "source": [
    "# Run once for jit\n",
    "print(energy_fn(R, nbrs))\n",
    "# print(grad(energy_fn)(R, nbrs))"
   ]
  },
  {
   "cell_type": "code",
   "execution_count": null,
   "metadata": {},
   "outputs": [],
   "source": [
    "nbrs.idx.shape"
   ]
  },
  {
   "cell_type": "code",
   "execution_count": 15,
   "metadata": {},
   "outputs": [
    {
     "name": "stdout",
     "output_type": "stream",
     "text": [
      "Step\tKE\tPE\tTotal Energy\ttime/step\n",
      "----------------------------------------\n",
      "16\t597.64\t334525.19\t335122.84\t\t60.27ms\n",
      "32\t63447.30\t271675.94\t335123.23\t\t56.77ms\n",
      "Neighbor list overflowed, reallocating.\n",
      "32\t63447.30\t271675.94\t335123.23\t\t16.34ms\n",
      "48\t184899.66\t150221.47\t335121.13\t\t77.15ms\n",
      "64\t201742.86\t133378.02\t335120.87\t\t70.36ms\n",
      "80\t207305.33\t127815.40\t335120.73\t\t70.40ms\n",
      "96\t211815.78\t123304.81\t335120.59\t\t70.49ms\n",
      "112\t213208.65\t121911.91\t335120.57\t\t70.45ms\n",
      "128\t215093.71\t120026.74\t335120.45\t\t70.50ms\n",
      "144\t215924.58\t119195.88\t335120.46\t\t70.19ms\n",
      "160\t216459.48\t118660.95\t335120.43\t\t70.44ms\n"
     ]
    }
   ],
   "source": [
    "displacement, shift = space.periodic(side_length)\n",
    "\n",
    "init_fn, apply_fn = simulate.nve(energy_fn, shift, 1e-3)\n",
    "state = init_fn(random.PRNGKey(0), R, kT=1e-3, neighbor=nbrs)\n",
    "\n",
    "\n",
    "def body_fn(i, state):\n",
    "    state, nbrs = state\n",
    "    nbrs = nbrs.update(state.position)\n",
    "    state = apply_fn(state, neighbor=nbrs)\n",
    "    return state, nbrs\n",
    "\n",
    "\n",
    "print('Step\\tKE\\tPE\\tTotal Energy\\ttime/step')\n",
    "print('----------------------------------------')\n",
    "PE = []\n",
    "KE = []\n",
    "print_every = 4\n",
    "step = 0\n",
    "old_time = time.time_ns()\n",
    "while step < 40:\n",
    "    new_state, nbrs = lax.fori_loop(0, 100, body_fn, (state, nbrs))\n",
    "    if nbrs.did_buffer_overflow:\n",
    "        print(\"Neighbor list overflowed, reallocating.\")\n",
    "        nbrs = neighbor_fn.allocate(state.position)\n",
    "    else:\n",
    "        state = new_state\n",
    "        step += 1\n",
    "\n",
    "    if step % print_every == 0 and step > 0:\n",
    "        new_time = time.time_ns()\n",
    "        PE += [energy_fn(state.position, nbrs)]\n",
    "        KE += [quantity.kinetic_energy(state.velocity)]\n",
    "        print(\n",
    "            \"{}\\t{:.2f}\\t{:.2f}\\t{:.2f}\\t\\t{:.2f}ms\".format(\n",
    "                step * print_every,\n",
    "                KE[-1],\n",
    "                PE[-1],\n",
    "                KE[-1] + PE[-1],\n",
    "                (new_time - old_time) / print_every / 100.0 / 1000000.0,\n",
    "            )\n",
    "        )\n",
    "        old_time = new_time"
   ]
  },
  {
   "cell_type": "markdown",
   "metadata": {},
   "source": []
  }
 ],
 "metadata": {
  "kernelspec": {
   "display_name": "Python 3.9.7 ('uf3')",
   "language": "python",
   "name": "python3"
  },
  "language_info": {
   "codemirror_mode": {
    "name": "ipython",
    "version": 3
   },
   "file_extension": ".py",
   "mimetype": "text/x-python",
   "name": "python",
   "nbconvert_exporter": "python",
   "pygments_lexer": "ipython3",
   "version": "3.9.7"
  },
  "vscode": {
   "interpreter": {
    "hash": "ca6e4c1237d2523077850c33bb85c07df22e41d5dc1f9dffe27e02189376af2b"
   }
  }
 },
 "nbformat": 4,
 "nbformat_minor": 4
}
