{
 "cells": [
  {
   "cell_type": "code",
   "execution_count": 23,
   "metadata": {},
   "outputs": [],
   "source": [
    "import numpy as onp\n",
    "\n",
    "from jax.config import config ; config.update('jax_enable_x64', True)\n",
    "import jax.numpy as jnp\n",
    "from jax import random\n",
    "from jax import jit\n",
    "from jax import lax\n",
    "\n",
    "import time\n",
    "\n",
    "from jax_md import space\n",
    "from jax_md import smap\n",
    "from jax_md import energy\n",
    "from jax_md import quantity\n",
    "from jax_md import simulate\n",
    "from jax_md import partition\n",
    "\n",
    "import matplotlib\n",
    "import matplotlib.pyplot as plt\n",
    "\n",
    "def format_plot(x, y):  \n",
    "  plt.xlabel(x, fontsize=20)\n",
    "  plt.ylabel(y, fontsize=20)\n",
    "  \n",
    "def finalize_plot(shape=(1, 1)):\n",
    "  plt.gcf().set_size_inches(\n",
    "    shape[0] * 1.5 * plt.gcf().get_size_inches()[1], \n",
    "    shape[1] * 1.5 * plt.gcf().get_size_inches()[1])\n",
    "  plt.tight_layout()"
   ]
  },
  {
   "cell_type": "code",
   "execution_count": 3,
   "metadata": {},
   "outputs": [
    {
     "name": "stderr",
     "output_type": "stream",
     "text": [
      "WARNING:absl:No GPU/TPU found, falling back to CPU. (Set TF_CPP_MIN_LOG_LEVEL=0 and rerun for more info.)\n"
     ]
    }
   ],
   "source": [
    "from uf3.representation import bspline\n",
    "from uf3.data import composition\n",
    "from uf3.regression import least_squares\n",
    "\n",
    "element_list = ['W']\n",
    "degree = 2\n",
    "\n",
    "chemical_system = composition.ChemicalSystem(element_list=element_list,\n",
    "                                             degree=degree)\n",
    "\n",
    "r_min_map = {('W', 'W'): 1.5,\n",
    "            }\n",
    "r_max_map = {('W', 'W'): 5.5,\n",
    "            }\n",
    "resolution_map = {('W', 'W'): 25,\n",
    "                 }\n",
    "trailing_trim = 3\n",
    "\n",
    "bspline_config = bspline.BSplineBasis(chemical_system,\n",
    "                                      r_min_map=r_min_map,\n",
    "                                      r_max_map=r_max_map,\n",
    "                                      resolution_map=resolution_map,\n",
    "                                      trailing_trim=trailing_trim)\n",
    "\n",
    "model = least_squares.WeightedLinearModel(bspline_config)\n",
    "\n",
    "model.load(filename=\"../../tungsten_extxyz/model_pair.json\")\n",
    "\n",
    "coefficients = jnp.asarray(model.coefficients[1:])\n",
    "knots = jnp.asarray(model.bspline_config.knots_map[('W','W')])"
   ]
  },
  {
   "cell_type": "code",
   "execution_count": 50,
   "metadata": {},
   "outputs": [],
   "source": [
    "Nx = particles_per_side = 10\n",
    "spacing = jnp.float32(2.0)\n",
    "side_length = Nx * spacing\n",
    "\n",
    "R = onp.stack([onp.array(r) for r in onp.ndindex(Nx, Nx, Nx)]) * spacing\n",
    "R = jnp.array(R, jnp.float64)"
   ]
  },
  {
   "cell_type": "code",
   "execution_count": 51,
   "metadata": {},
   "outputs": [
    {
     "name": "stdout",
     "output_type": "stream",
     "text": [
      "Number of atoms: 1000\n",
      "Box should be larger than 11 for JAX-MD, is: 20.0\n"
     ]
    }
   ],
   "source": [
    "print(f\"Number of atoms: {R.shape[0]}\")\n",
    "print(f\"Box should be larger than 11 for JAX-MD, is: {side_length}\")"
   ]
  },
  {
   "cell_type": "code",
   "execution_count": 24,
   "metadata": {},
   "outputs": [
    {
     "data": {
      "image/png": "[encoded data removed]",
      "text/plain": [
       "<Figure size 864x864 with 1 Axes>"
      ]
     },
     "metadata": {
      "needs_background": "light"
     },
     "output_type": "display_data"
    }
   ],
   "source": [
    "ms = 10\n",
    "R_plt = onp.array(R)\n",
    "\n",
    "plt.plot(R_plt[:, 0], R_plt[:, 1], 'o', markersize=ms * 0.5)\n",
    "\n",
    "plt.xlim([0, jnp.max(R[:, 0])])\n",
    "plt.ylim([0, jnp.max(R[:, 1])])\n",
    "\n",
    "plt.axis('off')\n",
    "\n",
    "finalize_plot((2, 2))"
   ]
  },
  {
   "cell_type": "code",
   "execution_count": 25,
   "metadata": {},
   "outputs": [],
   "source": [
    "displacement, shift = space.periodic(side_length)\n",
    "\n",
    "format = partition.Dense\n",
    "\n",
    "neighbor_fn, energy_fn = energy.lennard_jones_neighbor_list(displacement, \n",
    "                                                            side_length,\n",
    "                                                            format=format)\n",
    "energy_fn = jit(energy_fn)\n",
    "\n",
    "exact_energy_fn = jit(energy.lennard_jones_pair(displacement))"
   ]
  },
  {
   "cell_type": "code",
   "execution_count": 52,
   "metadata": {},
   "outputs": [],
   "source": [
    "from uf3.jax.potentialsOLD import uf2_neighbor, uf2_pair\n",
    "\n",
    "displacement, shift = space.periodic(side_length)\n",
    "\n",
    "format = partition.Dense\n",
    "\n",
    "neighbor_fn, energy_fn = uf2_neighbor(displacement, side_length, coefficients=coefficients, knots=knots, cutoff=5.5)\n",
    "energy_fn = jit(energy_fn)\n",
    "\n",
    "exact_energy_fn = jit(uf2_pair(displacement, knots=knots, coefficients=coefficients))"
   ]
  },
  {
   "cell_type": "code",
   "execution_count": 53,
   "metadata": {},
   "outputs": [],
   "source": [
    "nbrs = neighbor_fn.allocate(R)"
   ]
  },
  {
   "cell_type": "code",
   "execution_count": 54,
   "metadata": {},
   "outputs": [
    {
     "name": "stdout",
     "output_type": "stream",
     "text": [
      "E = 2488.0661064484925\n",
      "E_ex = 2488.066106448494\n"
     ]
    }
   ],
   "source": [
    "# Run once so that we avoid the jit compilation time.\n",
    "print('E = {}'.format(energy_fn(R, neighbor=nbrs)))\n",
    "print('E_ex = {}'.format(exact_energy_fn(R)))"
   ]
  },
  {
   "cell_type": "code",
   "execution_count": 29,
   "metadata": {},
   "outputs": [
    {
     "name": "stdout",
     "output_type": "stream",
     "text": [
      "624 µs ± 7.49 µs per loop (mean ± std. dev. of 7 runs, 1,000 loops each)\n"
     ]
    }
   ],
   "source": [
    "%%timeit\n",
    "energy_fn(R, neighbor=nbrs).block_until_ready()"
   ]
  },
  {
   "cell_type": "code",
   "execution_count": 30,
   "metadata": {},
   "outputs": [
    {
     "name": "stdout",
     "output_type": "stream",
     "text": [
      "1.87 ms ± 13.9 µs per loop (mean ± std. dev. of 7 runs, 1,000 loops each)\n"
     ]
    }
   ],
   "source": [
    "%%timeit\n",
    "exact_energy_fn(R).block_until_ready()"
   ]
  },
  {
   "cell_type": "code",
   "execution_count": 55,
   "metadata": {},
   "outputs": [
    {
     "name": "stdout",
     "output_type": "stream",
     "text": [
      "Step\tKE\tPE\tTotal Energy\ttime/step\n",
      "----------------------------------------\n"
     ]
    },
    {
     "name": "stderr",
     "output_type": "stream",
     "text": [
      "/opt/anaconda/envs/uf3/lib/python3.9/site-packages/jax/_src/ops/scatter.py:87: FutureWarning: scatter inputs have incompatible types: cannot safely cast value from dtype=int64 to dtype=int32. In future JAX releases this will result in an error.\n",
      "  warnings.warn(\"scatter inputs have incompatible types: cannot safely cast \"\n"
     ]
    },
    {
     "name": "stdout",
     "output_type": "stream",
     "text": [
      "16\t1.86\t2487.76\t2489.62\t\t38.42ms\n",
      "32\t30.08\t2459.54\t2489.62\t\t31.21ms\n",
      "48\t303.83\t2185.78\t2489.62\t\t29.97ms\n",
      "Neighbor list overflowed, reallocating.\n"
     ]
    },
    {
     "name": "stderr",
     "output_type": "stream",
     "text": [
      "/opt/anaconda/envs/uf3/lib/python3.9/site-packages/jax/_src/ops/scatter.py:87: FutureWarning: scatter inputs have incompatible types: cannot safely cast value from dtype=int64 to dtype=int32. In future JAX releases this will result in an error.\n",
      "  warnings.warn(\"scatter inputs have incompatible types: cannot safely cast \"\n"
     ]
    },
    {
     "name": "stdout",
     "output_type": "stream",
     "text": [
      "64\t351.56\t2131.63\t2483.19\t\t56.01ms\n",
      "80\t320.68\t2149.65\t2470.33\t\t41.02ms\n",
      "96\t324.12\t2133.35\t2457.47\t\t39.51ms\n",
      "112\t345.02\t2093.15\t2438.18\t\t39.87ms\n",
      "128\t347.59\t2058.43\t2406.03\t\t39.64ms\n",
      "144\t366.92\t2019.81\t2386.73\t\t39.59ms\n",
      "160\t377.21\t1990.23\t2367.43\t\t39.80ms\n"
     ]
    }
   ],
   "source": [
    "displacement, shift = space.periodic(side_length)\n",
    "\n",
    "init_fn, apply_fn = simulate.nve(energy_fn, shift, 1e-3)\n",
    "state = init_fn(random.PRNGKey(0), R, kT=1e-3, neighbor=nbrs)\n",
    "\n",
    "\n",
    "def body_fn(i, state):\n",
    "    state, nbrs = state\n",
    "    nbrs = nbrs.update(state.position)\n",
    "    state = apply_fn(state, neighbor=nbrs)\n",
    "    return state, nbrs\n",
    "\n",
    "\n",
    "print('Step\\tKE\\tPE\\tTotal Energy\\ttime/step')\n",
    "print('----------------------------------------')\n",
    "PE = []\n",
    "KE = []\n",
    "print_every = 4\n",
    "step = 0\n",
    "old_time = time.time_ns()\n",
    "while step < 40:\n",
    "    new_state, nbrs = lax.fori_loop(0, 100, body_fn, (state, nbrs))\n",
    "    if nbrs.did_buffer_overflow:\n",
    "        print(\"Neighbor list overflowed, reallocating.\")\n",
    "        nbrs = neighbor_fn.allocate(state.position)\n",
    "    else:\n",
    "        state = new_state\n",
    "        step += 1\n",
    "\n",
    "    if step % print_every == 0 and step > 0:\n",
    "        new_time = time.time_ns()\n",
    "        PE += [energy_fn(state.position, nbrs)]\n",
    "        KE += [quantity.kinetic_energy(state.velocity)]\n",
    "        print(\n",
    "            \"{}\\t{:.2f}\\t{:.2f}\\t{:.2f}\\t\\t{:.2f}ms\".format(\n",
    "                step * print_every,\n",
    "                KE[-1],\n",
    "                PE[-1],\n",
    "                KE[-1] + PE[-1],\n",
    "                (new_time - old_time) / print_every / 100.0 / 1000000.0,\n",
    "            )\n",
    "        )\n",
    "        old_time = new_time\n",
    "\n"
   ]
  },
  {
   "cell_type": "code",
   "execution_count": 43,
   "metadata": {},
   "outputs": [
    {
     "data": {
      "image/png": "[encoded data removed]",
      "text/plain": [
       "<Figure size 864x864 with 1 Axes>"
      ]
     },
     "metadata": {
      "needs_background": "light"
     },
     "output_type": "display_data"
    }
   ],
   "source": [
    "ms = 10\n",
    "R_plt = onp.array(state.position)\n",
    "\n",
    "plt.plot(R_plt[:, 0], R_plt[:, 1], 'o', markersize=ms * 0.5)\n",
    "\n",
    "plt.xlim([0, jnp.max(R[:, 0])])\n",
    "plt.ylim([0, jnp.max(R[:, 1])])\n",
    "\n",
    "plt.axis('off')\n",
    "\n",
    "finalize_plot((2, 2))"
   ]
  },
  {
   "cell_type": "code",
   "execution_count": null,
   "metadata": {},
   "outputs": [],
   "source": []
  }
 ],
 "metadata": {
  "kernelspec": {
   "display_name": "Python 3.9.7 ('uf3')",
   "language": "python",
   "name": "python3"
  },
  "language_info": {
   "codemirror_mode": {
    "name": "ipython",
    "version": 3
   },
   "file_extension": ".py",
   "mimetype": "text/x-python",
   "name": "python",
   "nbconvert_exporter": "python",
   "pygments_lexer": "ipython3",
   "version": "3.9.7"
  },
  "orig_nbformat": 4,
  "vscode": {
   "interpreter": {
    "hash": "ca6e4c1237d2523077850c33bb85c07df22e41d5dc1f9dffe27e02189376af2b"
   }
  }
 },
 "nbformat": 4,
 "nbformat_minor": 2
}
