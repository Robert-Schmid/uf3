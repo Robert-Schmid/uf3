{
 "cells": [
  {
   "cell_type": "code",
   "execution_count": 1,
   "metadata": {},
   "outputs": [],
   "source": [
    "import numpy as onp\n",
    "\n",
    "from jax.config import config ; config.update('jax_enable_x64', True)\n",
    "# config.update('jax_disable_jit', True)\n",
    "\n",
    "import jax.numpy as jnp\n",
    "from jax import random\n",
    "from jax import jit, grad, xla_computation\n",
    "from jax import lax\n",
    "\n",
    "import time\n",
    "\n",
    "from jax_md import space\n",
    "from jax_md import smap\n",
    "from jax_md import energy\n",
    "from jax_md import quantity\n",
    "from jax_md import simulate\n",
    "from jax_md import partition\n",
    "\n",
    "import matplotlib\n",
    "import matplotlib.pyplot as plt\n",
    "\n",
    "import ase\n",
    "\n",
    "import jax.profiler\n"
   ]
  },
  {
   "cell_type": "markdown",
   "metadata": {},
   "source": [
    "## System"
   ]
  },
  {
   "cell_type": "code",
   "execution_count": 2,
   "metadata": {},
   "outputs": [],
   "source": [
    "from uf3.representation import bspline\n",
    "from uf3.data import composition\n",
    "from uf3.regression import least_squares\n",
    "\n",
    "element_list = ['W']\n",
    "degree = 2\n",
    "\n",
    "chemical_system = composition.ChemicalSystem(element_list=element_list,\n",
    "                                             degree=degree)\n",
    "\n",
    "r_min_map = {('W', 'W'): 1.5,\n",
    "            }\n",
    "r_max_map = {('W', 'W'): 5.5,\n",
    "            }\n",
    "resolution_map = {('W', 'W'): 25,\n",
    "                 }\n",
    "trailing_trim = 3\n",
    "\n",
    "bspline_config = bspline.BSplineBasis(chemical_system,\n",
    "                                      r_min_map=r_min_map,\n",
    "                                      r_max_map=r_max_map,\n",
    "                                      resolution_map=resolution_map,\n",
    "                                      trailing_trim=trailing_trim)\n",
    "\n",
    "model_2_body = least_squares.WeightedLinearModel(bspline_config)\n",
    "\n",
    "model_2_body.load(filename=\"../../tungsten_extxyz/model_pair.json\")"
   ]
  },
  {
   "cell_type": "code",
   "execution_count": 3,
   "metadata": {},
   "outputs": [],
   "source": [
    "from uf3.forcefield.calculator import *\n",
    "\n",
    "element_list = ['W']\n",
    "degree = 3\n",
    "\n",
    "chemical_system = composition.ChemicalSystem(element_list=element_list,\n",
    "                                             degree=degree)\n",
    "\n",
    "r_min_map = {(\"W\", \"W\"): 1.5,\n",
    "             (\"W\", \"W\", \"W\"): [1.5, 1.5, 1.5],\n",
    "            }\n",
    "r_max_map = {(\"W\", \"W\"): 5.5,\n",
    "             (\"W\", \"W\", \"W\"): [3.5, 3.5, 7.0],\n",
    "            }\n",
    "resolution_map = {(\"W\", \"W\"): 25,\n",
    "                  (\"W\", \"W\", \"W\"): [5, 5, 10],\n",
    "                 }\n",
    "trailing_trim = 3\n",
    "\n",
    "bspline_config = bspline.BSplineBasis(chemical_system,\n",
    "                                      r_min_map=r_min_map,\n",
    "                                      r_max_map=r_max_map,\n",
    "                                      resolution_map=resolution_map,\n",
    "                                      trailing_trim=trailing_trim)\n",
    "\n",
    "model_3_body = least_squares.WeightedLinearModel(bspline_config)\n",
    "\n",
    "model_3_body.load(filename=\"../../tungsten_extxyz/model_uf23.json\")"
   ]
  },
  {
   "cell_type": "code",
   "execution_count": 4,
   "metadata": {},
   "outputs": [],
   "source": [
    "Nx = particles_per_side = 10\n",
    "# Nx = particles_per_side = 50\n",
    "\n",
    "spacing = np.float32(2.0)\n",
    "side_length = Nx * spacing\n",
    "\n",
    "R = onp.stack([np.array(r) for r in np.ndindex(Nx, Nx, Nx)]) * spacing\n",
    "R = np.array(R, np.float64)"
   ]
  },
  {
   "cell_type": "code",
   "execution_count": 5,
   "metadata": {},
   "outputs": [
    {
     "name": "stdout",
     "output_type": "stream",
     "text": [
      "Number of atoms: 1000\n",
      "Box should be larger than 11 for JAX-MD, is: 20.0\n"
     ]
    }
   ],
   "source": [
    "print(f\"Number of atoms: {R.shape[0]}\")\n",
    "print(f\"Box should be larger than 11 for JAX-MD, is: {side_length}\")"
   ]
  },
  {
   "cell_type": "code",
   "execution_count": 6,
   "metadata": {},
   "outputs": [
    {
     "ename": "ValueError",
     "evalue": "Array \"positions\" has wrong length: 1000 != 13824.",
     "output_type": "error",
     "traceback": [
      "\u001b[0;31m---------------------------------------------------------------------------\u001b[0m",
      "\u001b[0;31mValueError\u001b[0m                                Traceback (most recent call last)",
      "Input \u001b[0;32mIn [6]\u001b[0m, in \u001b[0;36m<cell line: 3>\u001b[0;34m()\u001b[0m\n\u001b[1;32m      1\u001b[0m pos \u001b[38;5;241m=\u001b[39m R\n\u001b[1;32m      2\u001b[0m c \u001b[38;5;241m=\u001b[39m onp\u001b[38;5;241m.\u001b[39midentity(\u001b[38;5;241m3\u001b[39m) \u001b[38;5;241m*\u001b[39m side_length\n\u001b[0;32m----> 3\u001b[0m \u001b[43mase\u001b[49m\u001b[38;5;241;43m.\u001b[39;49m\u001b[43mAtoms\u001b[49m\u001b[43m(\u001b[49m\u001b[38;5;124;43m'\u001b[39;49m\u001b[38;5;124;43mW13824\u001b[39;49m\u001b[38;5;124;43m'\u001b[39;49m\u001b[43m,\u001b[49m\u001b[43m \u001b[49m\u001b[43mpositions\u001b[49m\u001b[38;5;241;43m=\u001b[39;49m\u001b[43mpos\u001b[49m\u001b[43m,\u001b[49m\u001b[43m \u001b[49m\u001b[43mcell\u001b[49m\u001b[38;5;241;43m=\u001b[39;49m\u001b[43mc\u001b[49m\u001b[43m,\u001b[49m\u001b[43m \u001b[49m\u001b[43mpbc\u001b[49m\u001b[38;5;241;43m=\u001b[39;49m\u001b[43m[\u001b[49m\u001b[38;5;28;43;01mTrue\u001b[39;49;00m\u001b[43m,\u001b[49m\u001b[38;5;28;43;01mTrue\u001b[39;49;00m\u001b[43m,\u001b[49m\u001b[38;5;28;43;01mTrue\u001b[39;49;00m\u001b[43m]\u001b[49m\u001b[43m)\u001b[49m\n",
      "File \u001b[0;32m/pfs/data5/home/kn/kn_kn/kn_pop247912/uf3_env/lib64/python3.8/site-packages/ase/atoms.py:231\u001b[0m, in \u001b[0;36mAtoms.__init__\u001b[0;34m(self, symbols, positions, numbers, tags, momenta, masses, magmoms, charges, scaled_positions, cell, pbc, celldisp, constraint, calculator, info, velocities)\u001b[0m\n\u001b[1;32m    228\u001b[0m     \u001b[38;5;28;01mif\u001b[39;00m scaled_positions \u001b[38;5;129;01mis\u001b[39;00m \u001b[38;5;129;01mnot\u001b[39;00m \u001b[38;5;28;01mNone\u001b[39;00m:\n\u001b[1;32m    229\u001b[0m         \u001b[38;5;28;01mraise\u001b[39;00m \u001b[38;5;167;01mTypeError\u001b[39;00m(\n\u001b[1;32m    230\u001b[0m             \u001b[38;5;124m'\u001b[39m\u001b[38;5;124mUse only one of \u001b[39m\u001b[38;5;124m\"\u001b[39m\u001b[38;5;124msymbols\u001b[39m\u001b[38;5;124m\"\u001b[39m\u001b[38;5;124m and \u001b[39m\u001b[38;5;124m\"\u001b[39m\u001b[38;5;124mnumbers\u001b[39m\u001b[38;5;124m\"\u001b[39m\u001b[38;5;124m.\u001b[39m\u001b[38;5;124m'\u001b[39m)\n\u001b[0;32m--> 231\u001b[0m \u001b[38;5;28;43mself\u001b[39;49m\u001b[38;5;241;43m.\u001b[39;49m\u001b[43mnew_array\u001b[49m\u001b[43m(\u001b[49m\u001b[38;5;124;43m'\u001b[39;49m\u001b[38;5;124;43mpositions\u001b[39;49m\u001b[38;5;124;43m'\u001b[39;49m\u001b[43m,\u001b[49m\u001b[43m \u001b[49m\u001b[43mpositions\u001b[49m\u001b[43m,\u001b[49m\u001b[43m \u001b[49m\u001b[38;5;28;43mfloat\u001b[39;49m\u001b[43m,\u001b[49m\u001b[43m \u001b[49m\u001b[43m(\u001b[49m\u001b[38;5;241;43m3\u001b[39;49m\u001b[43m,\u001b[49m\u001b[43m)\u001b[49m\u001b[43m)\u001b[49m\n\u001b[1;32m    233\u001b[0m \u001b[38;5;28mself\u001b[39m\u001b[38;5;241m.\u001b[39mset_constraint(constraint)\n\u001b[1;32m    234\u001b[0m \u001b[38;5;28mself\u001b[39m\u001b[38;5;241m.\u001b[39mset_tags(default(tags, \u001b[38;5;241m0\u001b[39m))\n",
      "File \u001b[0;32m/pfs/data5/home/kn/kn_kn/kn_pop247912/uf3_env/lib64/python3.8/site-packages/ase/atoms.py:470\u001b[0m, in \u001b[0;36mAtoms.new_array\u001b[0;34m(self, name, a, dtype, shape)\u001b[0m\n\u001b[1;32m    468\u001b[0m \u001b[38;5;28;01mfor\u001b[39;00m b \u001b[38;5;129;01min\u001b[39;00m \u001b[38;5;28mself\u001b[39m\u001b[38;5;241m.\u001b[39marrays\u001b[38;5;241m.\u001b[39mvalues():\n\u001b[1;32m    469\u001b[0m     \u001b[38;5;28;01mif\u001b[39;00m \u001b[38;5;28mlen\u001b[39m(a) \u001b[38;5;241m!=\u001b[39m \u001b[38;5;28mlen\u001b[39m(b):\n\u001b[0;32m--> 470\u001b[0m         \u001b[38;5;28;01mraise\u001b[39;00m \u001b[38;5;167;01mValueError\u001b[39;00m(\u001b[38;5;124m'\u001b[39m\u001b[38;5;124mArray \u001b[39m\u001b[38;5;124m\"\u001b[39m\u001b[38;5;132;01m%s\u001b[39;00m\u001b[38;5;124m\"\u001b[39m\u001b[38;5;124m has wrong length: \u001b[39m\u001b[38;5;132;01m%d\u001b[39;00m\u001b[38;5;124m != \u001b[39m\u001b[38;5;132;01m%d\u001b[39;00m\u001b[38;5;124m.\u001b[39m\u001b[38;5;124m'\u001b[39m \u001b[38;5;241m%\u001b[39m\n\u001b[1;32m    471\u001b[0m                          (name, \u001b[38;5;28mlen\u001b[39m(a), \u001b[38;5;28mlen\u001b[39m(b)))\n\u001b[1;32m    472\u001b[0m     \u001b[38;5;28;01mbreak\u001b[39;00m\n\u001b[1;32m    474\u001b[0m \u001b[38;5;28;01mif\u001b[39;00m shape \u001b[38;5;129;01mis\u001b[39;00m \u001b[38;5;129;01mnot\u001b[39;00m \u001b[38;5;28;01mNone\u001b[39;00m \u001b[38;5;129;01mand\u001b[39;00m a\u001b[38;5;241m.\u001b[39mshape[\u001b[38;5;241m1\u001b[39m:] \u001b[38;5;241m!=\u001b[39m shape:\n",
      "\u001b[0;31mValueError\u001b[0m: Array \"positions\" has wrong length: 1000 != 13824."
     ]
    }
   ],
   "source": [
    "pos = R\n",
    "c = onp.identity(3) * side_length\n",
    "ase.Atoms('W13824', positions=pos, cell=c, pbc=[True,True,True])\n",
    "# ase.Atoms('W125000', positions=pos, cell=c, pbc=[True,True,True])"
   ]
  },
  {
   "cell_type": "code",
   "execution_count": 6,
   "metadata": {},
   "outputs": [],
   "source": [
    "displacement, shift = space.periodic(side_length)\n",
    "format = partition.Dense\n",
    "R = jnp.asarray(R)"
   ]
  },
  {
   "cell_type": "code",
   "execution_count": 7,
   "metadata": {},
   "outputs": [],
   "source": [
    "calc = UFCalculator(model_3_body)\n",
    "\n",
    "ndspline2 = calc.pair_potentials[('W','W')]\n",
    "ndspline3 = calc.trio_potentials[('W','W','W')]\n",
    "\n",
    "coefficients2 = jnp.asarray(ndspline2.coefficients)\n",
    "coefficients2 = coefficients2[:,0]\n",
    "\n",
    "knots2 = ndspline2.knots\n",
    "knots2 = [jnp.asarray(i) for i in knots2]\n",
    "\n",
    "coefficients3 = jnp.asarray(ndspline3.coefficients)\n",
    "coefficients3 = coefficients3[:,:,:,0]\n",
    "\n",
    "knots3 = ndspline3.knots\n",
    "knots3 = [jnp.asarray(i) for i in knots3]"
   ]
  },
  {
   "cell_type": "markdown",
   "metadata": {
    "jp-MarkdownHeadingCollapsed": true,
    "tags": []
   },
   "source": [
    "## Lennard Jones"
   ]
  },
  {
   "cell_type": "code",
   "execution_count": 9,
   "metadata": {},
   "outputs": [],
   "source": [
    "from jax_md.energy import lennard_jones_neighbor_list\n",
    "from jax_md import partition"
   ]
  },
  {
   "cell_type": "code",
   "execution_count": 10,
   "metadata": {},
   "outputs": [],
   "source": [
    "neighbor_fn, energy_fn = lennard_jones_neighbor_list(displacement, side_length, r_cutoff=5.5, format=partition.Dense)"
   ]
  },
  {
   "cell_type": "code",
   "execution_count": 11,
   "metadata": {},
   "outputs": [],
   "source": [
    "nbrs = neighbor_fn.allocate(R)\n",
    "energy_fn = jit(energy_fn, backend='gpu')"
   ]
  },
  {
   "cell_type": "code",
   "execution_count": 12,
   "metadata": {},
   "outputs": [
    {
     "data": {
      "text/plain": [
       "(125000, 115)"
      ]
     },
     "execution_count": 12,
     "metadata": {},
     "output_type": "execute_result"
    }
   ],
   "source": [
    "nbrs.idx.shape"
   ]
  },
  {
   "cell_type": "code",
   "execution_count": 20,
   "metadata": {},
   "outputs": [
    {
     "name": "stdout",
     "output_type": "stream",
     "text": [
      "-239.80404308865104\n"
     ]
    }
   ],
   "source": [
    "print(energy_fn(R, nbrs))"
   ]
  },
  {
   "cell_type": "code",
   "execution_count": 21,
   "metadata": {},
   "outputs": [
    {
     "name": "stdout",
     "output_type": "stream",
     "text": [
      "Step\tKE\tPE\tTotal Energy\ttime/step\n",
      "----------------------------------------\n",
      "16\t220.31\t-30008.80\t-29788.48\t\t25.29ms\n",
      "32\t364.11\t-30152.59\t-29788.48\t\t22.64ms\n",
      "Neighbor list overflowed, reallocating.\n",
      "48\t823.34\t-30611.82\t-29788.48\t\t34.18ms\n",
      "64\t2417.24\t-32205.72\t-29788.48\t\t27.95ms\n",
      "80\t9413.04\t-39201.53\t-29788.49\t\t26.43ms\n",
      "96\t28060.07\t-57848.68\t-29788.61\t\t26.63ms\n",
      "112\t47036.03\t-76824.78\t-29788.75\t\t26.72ms\n",
      "128\t59273.28\t-89062.02\t-29788.74\t\t26.93ms\n",
      "144\t69008.78\t-98797.53\t-29788.75\t\t26.91ms\n",
      "160\t78446.54\t-108235.31\t-29788.76\t\t27.09ms\n"
     ]
    }
   ],
   "source": [
    "displacement, shift = space.periodic(side_length)\n",
    "\n",
    "init_fn, apply_fn = simulate.nve(energy_fn, shift, 1e-3)\n",
    "state = init_fn(random.PRNGKey(0), R, kT=1e-3, neighbor=nbrs)\n",
    "\n",
    "\n",
    "def body_fn(i, state):\n",
    "    state, nbrs = state\n",
    "    nbrs = nbrs.update(state.position)\n",
    "    state = apply_fn(state, neighbor=nbrs)\n",
    "    return state, nbrs\n",
    "\n",
    "\n",
    "print('Step\\tKE\\tPE\\tTotal Energy\\ttime/step')\n",
    "print('----------------------------------------')\n",
    "PE = []\n",
    "KE = []\n",
    "print_every = 4\n",
    "step = 0\n",
    "old_time = time.time_ns()\n",
    "while step < 40:\n",
    "    new_state, nbrs = lax.fori_loop(0, 100, body_fn, (state, nbrs))\n",
    "    if nbrs.did_buffer_overflow:\n",
    "        print(\"Neighbor list overflowed, reallocating.\")\n",
    "        nbrs = neighbor_fn.allocate(state.position)\n",
    "    else:\n",
    "        state = new_state\n",
    "        step += 1\n",
    "\n",
    "    if step % print_every == 0 and step > 0:\n",
    "        new_time = time.time_ns()\n",
    "        PE += [energy_fn(state.position, nbrs)]\n",
    "        KE += [quantity.kinetic_energy(state.velocity)]\n",
    "        print(\n",
    "            \"{}\\t{:.2f}\\t{:.2f}\\t{:.2f}\\t\\t{:.2f}ms\".format(\n",
    "                step * print_every,\n",
    "                KE[-1],\n",
    "                PE[-1],\n",
    "                KE[-1] + PE[-1],\n",
    "                (new_time - old_time) / print_every / 100.0 / 1000000.0,\n",
    "            )\n",
    "        )\n",
    "        old_time = new_time"
   ]
  },
  {
   "cell_type": "markdown",
   "metadata": {
    "jp-MarkdownHeadingCollapsed": true,
    "tags": []
   },
   "source": [
    "## Stillinger-Weber"
   ]
  },
  {
   "cell_type": "code",
   "execution_count": 14,
   "metadata": {},
   "outputs": [],
   "source": [
    "from jax_md.energy import stillinger_weber_neighbor_list, _sw_angle_interaction\n",
    "from jax_md import partition"
   ]
  },
  {
   "cell_type": "code",
   "execution_count": 10,
   "metadata": {},
   "outputs": [],
   "source": [
    "neighbor_fn, energy_fn =stillinger_weber_neighbor_list(displacement, side_length, cutoff=5.5)"
   ]
  },
  {
   "cell_type": "code",
   "execution_count": 11,
   "metadata": {},
   "outputs": [],
   "source": [
    "nbrs = neighbor_fn.allocate(R)\n",
    "energy_fn = jit(energy_fn)"
   ]
  },
  {
   "cell_type": "code",
   "execution_count": 12,
   "metadata": {},
   "outputs": [
    {
     "data": {
      "text/plain": [
       "(1000, 115)"
      ]
     },
     "execution_count": 12,
     "metadata": {},
     "output_type": "execute_result"
    }
   ],
   "source": [
    "nbrs.idx.shape"
   ]
  },
  {
   "cell_type": "code",
   "execution_count": 13,
   "metadata": {},
   "outputs": [
    {
     "name": "stdout",
     "output_type": "stream",
     "text": [
      "1569003.1157833629\n"
     ]
    }
   ],
   "source": [
    "print(energy_fn(R, nbrs))"
   ]
  },
  {
   "cell_type": "code",
   "execution_count": 18,
   "metadata": {},
   "outputs": [],
   "source": [
    "from jax import vmap\n",
    "from functools import partial\n",
    "sigma: float = 2.0951\n",
    "gamma: float = 1.2\n",
    "cutoff: float = 3.77118\n",
    "three_body_fn = partial(_sw_angle_interaction, gamma, sigma, cutoff)\n",
    "three_body_fn = vmap(vmap(vmap(three_body_fn, (0, None)), (None, 0)))"
   ]
  },
  {
   "cell_type": "code",
   "execution_count": 19,
   "metadata": {},
   "outputs": [],
   "source": [
    "dR = space.map_product(displacement)(R, R)"
   ]
  },
  {
   "cell_type": "code",
   "execution_count": 20,
   "metadata": {},
   "outputs": [],
   "source": [
    "c = xla_computation(three_body_fn)(dR,dR)"
   ]
  },
  {
   "cell_type": "code",
   "execution_count": null,
   "metadata": {},
   "outputs": [],
   "source": [
    "print(c.as_hlo_text())"
   ]
  },
  {
   "cell_type": "code",
   "execution_count": null,
   "metadata": {},
   "outputs": [],
   "source": []
  },
  {
   "cell_type": "code",
   "execution_count": 21,
   "metadata": {},
   "outputs": [
    {
     "name": "stdout",
     "output_type": "stream",
     "text": [
      "Step\tKE\tPE\tTotal Energy\ttime/step\n",
      "----------------------------------------\n",
      "16\t220.31\t-30008.80\t-29788.48\t\t25.29ms\n",
      "32\t364.11\t-30152.59\t-29788.48\t\t22.64ms\n",
      "Neighbor list overflowed, reallocating.\n",
      "48\t823.34\t-30611.82\t-29788.48\t\t34.18ms\n",
      "64\t2417.24\t-32205.72\t-29788.48\t\t27.95ms\n",
      "80\t9413.04\t-39201.53\t-29788.49\t\t26.43ms\n",
      "96\t28060.07\t-57848.68\t-29788.61\t\t26.63ms\n",
      "112\t47036.03\t-76824.78\t-29788.75\t\t26.72ms\n",
      "128\t59273.28\t-89062.02\t-29788.74\t\t26.93ms\n",
      "144\t69008.78\t-98797.53\t-29788.75\t\t26.91ms\n",
      "160\t78446.54\t-108235.31\t-29788.76\t\t27.09ms\n"
     ]
    }
   ],
   "source": [
    "displacement, shift = space.periodic(side_length)\n",
    "\n",
    "init_fn, apply_fn = simulate.nve(energy_fn, shift, 1e-3)\n",
    "state = init_fn(random.PRNGKey(0), R, kT=1e-3, neighbor=nbrs)\n",
    "\n",
    "\n",
    "def body_fn(i, state):\n",
    "    state, nbrs = state\n",
    "    nbrs = nbrs.update(state.position)\n",
    "    state = apply_fn(state, neighbor=nbrs)\n",
    "    return state, nbrs\n",
    "\n",
    "\n",
    "print('Step\\tKE\\tPE\\tTotal Energy\\ttime/step')\n",
    "print('----------------------------------------')\n",
    "PE = []\n",
    "KE = []\n",
    "print_every = 4\n",
    "step = 0\n",
    "old_time = time.time_ns()\n",
    "while step < 40:\n",
    "    new_state, nbrs = lax.fori_loop(0, 100, body_fn, (state, nbrs))\n",
    "    if nbrs.did_buffer_overflow:\n",
    "        print(\"Neighbor list overflowed, reallocating.\")\n",
    "        nbrs = neighbor_fn.allocate(state.position)\n",
    "    else:\n",
    "        state = new_state\n",
    "        step += 1\n",
    "\n",
    "    if step % print_every == 0 and step > 0:\n",
    "        new_time = time.time_ns()\n",
    "        PE += [energy_fn(state.position, nbrs)]\n",
    "        KE += [quantity.kinetic_energy(state.velocity)]\n",
    "        print(\n",
    "            \"{}\\t{:.2f}\\t{:.2f}\\t{:.2f}\\t\\t{:.2f}ms\".format(\n",
    "                step * print_every,\n",
    "                KE[-1],\n",
    "                PE[-1],\n",
    "                KE[-1] + PE[-1],\n",
    "                (new_time - old_time) / print_every / 100.0 / 1000000.0,\n",
    "            )\n",
    "        )\n",
    "        old_time = new_time"
   ]
  },
  {
   "cell_type": "markdown",
   "metadata": {},
   "source": [
    "## UF potentials"
   ]
  },
  {
   "cell_type": "code",
   "execution_count": 8,
   "metadata": {
    "tags": []
   },
   "outputs": [],
   "source": [
    "from uf3.jax.potentials import uf3_neighbor"
   ]
  },
  {
   "cell_type": "code",
   "execution_count": 9,
   "metadata": {
    "tags": []
   },
   "outputs": [],
   "source": [
    "c = [coefficients2, coefficients3]\n",
    "k = [knots2, knots3]"
   ]
  },
  {
   "cell_type": "code",
   "execution_count": 10,
   "metadata": {},
   "outputs": [],
   "source": [
    "neighbor_fn, energy_fn = uf3_neighbor(displacement, side_length, coefficients=c, knots=k, cutoff=5.5)"
   ]
  },
  {
   "cell_type": "code",
   "execution_count": 11,
   "metadata": {},
   "outputs": [],
   "source": [
    "nbrs = neighbor_fn.allocate(R)\n",
    "energy_fn = jit(energy_fn)"
   ]
  },
  {
   "cell_type": "code",
   "execution_count": 12,
   "metadata": {},
   "outputs": [],
   "source": [
    "# jax.profiler.save_device_memory_profile(\"potential1.prof\")"
   ]
  },
  {
   "cell_type": "code",
   "execution_count": 13,
   "metadata": {},
   "outputs": [
    {
     "name": "stdout",
     "output_type": "stream",
     "text": [
      "26811.792926319944\n"
     ]
    }
   ],
   "source": [
    "# Run once for jit\n",
    "print(energy_fn(R, nbrs))\n",
    "# print(grad(energy_fn)(R, nbrs))"
   ]
  },
  {
   "cell_type": "code",
   "execution_count": 14,
   "metadata": {},
   "outputs": [
    {
     "data": {
      "text/plain": [
       "(1000, 115)"
      ]
     },
     "execution_count": 14,
     "metadata": {},
     "output_type": "execute_result"
    }
   ],
   "source": [
    "nbrs.idx.shape"
   ]
  },
  {
   "cell_type": "code",
   "execution_count": 15,
   "metadata": {},
   "outputs": [
    {
     "name": "stdout",
     "output_type": "stream",
     "text": [
      "[[ 2.01390987e-13  9.00043928e-14 -2.52263488e-13]\n",
      " [ 2.54130050e-13  1.89709359e-13  2.07750483e-13]\n",
      " [ 2.13162821e-14  1.35003120e-13 -6.77027878e-14]\n",
      " ...\n",
      " [-2.20268248e-13 -1.40925466e-13  6.86881108e-14]\n",
      " [ 5.56603375e-14 -9.92608773e-14  3.31609740e-14]\n",
      " [-1.15983747e-13  1.35003120e-13 -1.13901943e-13]]\n"
     ]
    }
   ],
   "source": [
    "print(grad(energy_fn)(R, nbrs))\n",
    "# For #R 13824 with 115 nbrs \n",
    "# 54 GB with checkpoint\n",
    "# 329 GB without checkpoint\n",
    "\n",
    "# without checkpoint max 1000 R with 115 nbrs at 268ms\n",
    "# with checkpoint max 3375 R with 115 nbrs at 1.58s\n"
   ]
  },
  {
   "cell_type": "code",
   "execution_count": 16,
   "metadata": {},
   "outputs": [
    {
     "name": "stdout",
     "output_type": "stream",
     "text": [
      "1.58 s ± 366 µs per loop (mean ± std. dev. of 7 runs, 1 loop each)\n"
     ]
    }
   ],
   "source": [
    "%%timeit\n",
    "grad(energy_fn)(R, nbrs).block_until_ready()\n",
    "# for #R 1000 and 115 nbrs\n",
    "# without checkpoint 268ms\n",
    "# with checkpoint 397ms 7 runs 1 loop"
   ]
  },
  {
   "cell_type": "code",
   "execution_count": 22,
   "metadata": {},
   "outputs": [],
   "source": [
    "from uf3.jax.potentials import uf3_mapped"
   ]
  },
  {
   "cell_type": "code",
   "execution_count": 23,
   "metadata": {},
   "outputs": [],
   "source": [
    "f = uf3_mapped(knots3)\n",
    "c = xla_computation(f)(dR,dR,coefficients=coefficients3)"
   ]
  },
  {
   "cell_type": "code",
   "execution_count": null,
   "metadata": {},
   "outputs": [],
   "source": [
    "print(c.as_hlo_text())"
   ]
  },
  {
   "cell_type": "code",
   "execution_count": null,
   "metadata": {},
   "outputs": [],
   "source": []
  },
  {
   "cell_type": "code",
   "execution_count": null,
   "metadata": {},
   "outputs": [],
   "source": []
  },
  {
   "cell_type": "code",
   "execution_count": 16,
   "metadata": {},
   "outputs": [
    {
     "name": "stdout",
     "output_type": "stream",
     "text": [
      "Step\tKE\tPE\tTotal Energy\ttime/step\n",
      "----------------------------------------\n",
      "Neighbor list overflowed, reallocating.\n",
      "16\t97844.10\t-32208.65\t65635.45\t\t447.78ms\n",
      "Neighbor list overflowed, reallocating.\n",
      "32\t350249.14\t14721.93\t364971.07\t\t561.76ms\n",
      "48\t615169.38\t30518.33\t645687.71\t\t589.56ms\n",
      "64\t892525.49\t33819.02\t926344.51\t\t585.80ms\n",
      "80\t1165043.09\t39274.53\t1204317.63\t\t585.81ms\n",
      "96\t1419552.27\t38744.08\t1458296.35\t\t585.85ms\n",
      "112\t1657270.45\t45162.44\t1702432.90\t\t585.87ms\n",
      "128\t1874076.56\t35335.55\t1909412.11\t\t585.92ms\n",
      "Neighbor list overflowed, reallocating.\n",
      "144\t2127293.70\t43320.50\t2170614.20\t\t747.10ms\n",
      "160\t2332224.48\t46032.59\t2378257.07\t\t578.13ms\n"
     ]
    }
   ],
   "source": [
    "displacement, shift = space.periodic(side_length)\n",
    "\n",
    "init_fn, apply_fn = simulate.nve(energy_fn, shift, 1e-3)\n",
    "state = init_fn(random.PRNGKey(0), R, kT=1e-3, neighbor=nbrs)\n",
    "\n",
    "\n",
    "def body_fn(i, state):\n",
    "    state, nbrs = state\n",
    "    nbrs = nbrs.update(state.position)\n",
    "    state = apply_fn(state, neighbor=nbrs)\n",
    "    return state, nbrs\n",
    "\n",
    "\n",
    "print('Step\\tKE\\tPE\\tTotal Energy\\ttime/step')\n",
    "print('----------------------------------------')\n",
    "PE = []\n",
    "KE = []\n",
    "print_every = 4\n",
    "step = 0\n",
    "old_time = time.time_ns()\n",
    "while step < 40:\n",
    "    new_state, nbrs = lax.fori_loop(0, 100, body_fn, (state, nbrs))\n",
    "    if nbrs.did_buffer_overflow:\n",
    "        print(\"Neighbor list overflowed, reallocating.\")\n",
    "        nbrs = neighbor_fn.allocate(state.position)\n",
    "    else:\n",
    "        state = new_state\n",
    "        step += 1\n",
    "\n",
    "    if step % print_every == 0 and step > 0:\n",
    "        new_time = time.time_ns()\n",
    "        PE += [energy_fn(state.position, nbrs)]\n",
    "        KE += [quantity.kinetic_energy(state.velocity)]\n",
    "        print(\n",
    "            \"{}\\t{:.2f}\\t{:.2f}\\t{:.2f}\\t\\t{:.2f}ms\".format(\n",
    "                step * print_every,\n",
    "                KE[-1],\n",
    "                PE[-1],\n",
    "                KE[-1] + PE[-1],\n",
    "                (new_time - old_time) / print_every / 100.0 / 1000000.0,\n",
    "            )\n",
    "        )\n",
    "        old_time = new_time"
   ]
  },
  {
   "cell_type": "markdown",
   "metadata": {},
   "source": []
  }
 ],
 "metadata": {
  "kernelspec": {
   "display_name": "Python 3.9.7 ('uf3')",
   "language": "python",
   "name": "python3"
  },
  "language_info": {
   "codemirror_mode": {
    "name": "ipython",
    "version": 3
   },
   "file_extension": ".py",
   "mimetype": "text/x-python",
   "name": "python",
   "nbconvert_exporter": "python",
   "pygments_lexer": "ipython3",
   "version": "3.9.7"
  },
  "vscode": {
   "interpreter": {
    "hash": "ca6e4c1237d2523077850c33bb85c07df22e41d5dc1f9dffe27e02189376af2b"
   }
  }
 },
 "nbformat": 4,
 "nbformat_minor": 4
}
