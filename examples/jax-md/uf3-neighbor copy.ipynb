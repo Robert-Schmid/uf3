{
 "cells": [
  {
   "cell_type": "code",
   "execution_count": 24,
   "metadata": {},
   "outputs": [],
   "source": [
    "import numpy as onp\n",
    "\n",
    "import jax.numpy as jnp\n",
    "from jax import random\n",
    "from jax import jit, grad, vmap, value_and_grad\n",
    "from jax import lax\n",
    "from jax import ops\n",
    "\n",
    "from jax.config import config\n",
    "config.update(\"jax_enable_x64\", True)\n",
    "\n",
    "from jax_md import space, smap, energy, minimize, quantity, simulate, partition, util\n",
    "NeighborListFormat = partition.NeighborListFormat\n",
    "\n",
    "from functools import partial\n",
    "import time\n",
    "from typing import List, Dict, Tuple, Callable, Optional\n",
    "\n",
    "f32 = jnp.float32\n",
    "f64 = jnp.float64\n",
    "Array = jnp.ndarray\n",
    "\n",
    "import matplotlib\n",
    "import matplotlib.pyplot as plt\n",
    "plt.rcParams.update({'font.size': 16})\n",
    "\n",
    "def format_plot(x, y):  \n",
    "  plt.grid(True)\n",
    "  plt.xlabel(x, fontsize=20)\n",
    "  plt.ylabel(y, fontsize=20)\n",
    "  \n",
    "def finalize_plot(shape=(1, 0.7)):\n",
    "  plt.gcf().set_size_inches(\n",
    "    shape[0] * 1.5 * plt.gcf().get_size_inches()[1], \n",
    "    shape[1] * 1.5 * plt.gcf().get_size_inches()[1])\n",
    "  plt.tight_layout()\n",
    "\n",
    "def calculate_bond_data(displacement_or_metric, R, dr_cutoff, species=None):\n",
    "  if( not(species is None)):\n",
    "    assert(False)\n",
    "    \n",
    "  metric = space.map_product(space.canonicalize_displacement_or_metric(displacement))\n",
    "  dr = metric(R,R)\n",
    "\n",
    "  dr_include = jnp.triu(jnp.where(dr<dr_cutoff, 1, 0)) - jnp.eye(R.shape[0],dtype=jnp.int32)\n",
    "  index_list=jnp.dstack(jnp.meshgrid(jnp.arange(N), jnp.arange(N), indexing='ij'))\n",
    "\n",
    "  i_s = jnp.where(dr_include==1, index_list[:,:,0], -1).flatten()\n",
    "  j_s = jnp.where(dr_include==1, index_list[:,:,1], -1).flatten()\n",
    "  ij_s = jnp.transpose(jnp.array([i_s,j_s]))\n",
    "\n",
    "  bonds = ij_s[(ij_s!=jnp.array([-1,-1]))[:,1]]\n",
    "  lengths = dr.flatten()[(ij_s!=jnp.array([-1,-1]))[:,1]]\n",
    "\n",
    "  return bonds, lengths\n",
    "\n",
    "def plot_system(R,box_size,species=None,ms=20):\n",
    "  R_plt = onp.array(R)\n",
    "\n",
    "  if(species is None):\n",
    "    plt.plot(R_plt[:, 0], R_plt[:, 1], 'o', markersize=ms)\n",
    "  else:\n",
    "    for ii in range(jnp.amax(species)+1):\n",
    "      Rtemp = R_plt[species==ii]\n",
    "      plt.plot(Rtemp[:, 0], Rtemp[:, 1], 'o', markersize=ms)\n",
    "\n",
    "  plt.xlim([0, box_size])\n",
    "  plt.ylim([0, box_size])\n",
    "  plt.xticks([], [])\n",
    "  plt.yticks([], [])\n",
    "\n",
    "  finalize_plot((1,1))\n",
    "  \n",
    "key = random.PRNGKey(0)"
   ]
  },
  {
   "cell_type": "code",
   "execution_count": 25,
   "metadata": {},
   "outputs": [],
   "source": [
    "from uf3.forcefield.calculator import *\n",
    "from uf3.representation import bspline\n",
    "from uf3.data import composition\n",
    "from uf3.regression import least_squares\n",
    "\n",
    "element_list = ['W']\n",
    "degree = 3\n",
    "\n",
    "chemical_system = composition.ChemicalSystem(element_list=element_list,\n",
    "                                             degree=degree)\n",
    "\n",
    "r_min_map = {(\"W\", \"W\"): 1.5,\n",
    "             (\"W\", \"W\", \"W\"): [1.5, 1.5, 1.5],\n",
    "            }\n",
    "r_max_map = {(\"W\", \"W\"): 5.5,\n",
    "             (\"W\", \"W\", \"W\"): [3.5, 3.5, 7.0],\n",
    "            }\n",
    "resolution_map = {(\"W\", \"W\"): 25,\n",
    "                  (\"W\", \"W\", \"W\"): [5, 5, 10],\n",
    "                 }\n",
    "trailing_trim = 3\n",
    "\n",
    "bspline_config = bspline.BSplineBasis(chemical_system,\n",
    "                                      r_min_map=r_min_map,\n",
    "                                      r_max_map=r_max_map,\n",
    "                                      resolution_map=resolution_map,\n",
    "                                      trailing_trim=trailing_trim)\n",
    "\n",
    "model = least_squares.WeightedLinearModel(bspline_config)\n",
    "\n",
    "model.load(filename=\"../tungsten_extxyz/model_uf23.json\")\n",
    "\n",
    "calc = UFCalculator(model)\n",
    "\n",
    "ndspline2 = calc.pair_potentials[('W','W')]\n",
    "ndspline3 = calc.trio_potentials[('W','W','W')]"
   ]
  },
  {
   "cell_type": "code",
   "execution_count": 26,
   "metadata": {},
   "outputs": [
    {
     "name": "stdout",
     "output_type": "stream",
     "text": [
      "TFRT_CPU_0\n"
     ]
    }
   ],
   "source": [
    "print(jnp.ones(3).device_buffer.device()) "
   ]
  },
  {
   "cell_type": "code",
   "execution_count": 27,
   "metadata": {},
   "outputs": [
    {
     "name": "stdout",
     "output_type": "stream",
     "text": [
      "(28,)\n",
      "(32,)\n"
     ]
    }
   ],
   "source": [
    "coefficients2 = jnp.asarray(ndspline2.coefficients)\n",
    "coefficients2 = coefficients2[:,0]\n",
    "\n",
    "knots2 = ndspline2.knots\n",
    "knots2 = knots2[0]\n",
    "\n",
    "print(coefficients2.shape)\n",
    "\n",
    "print(knots2.shape)"
   ]
  },
  {
   "cell_type": "code",
   "execution_count": 28,
   "metadata": {},
   "outputs": [
    {
     "name": "stdout",
     "output_type": "stream",
     "text": [
      "(8, 8, 13)\n",
      "[DeviceArray([1.5, 1.5, 1.5, 1.5, 1.9, 2.3, 2.7, 3.1, 3.5, 3.5, 3.5, 3.5],            dtype=float64), DeviceArray([1.5, 1.5, 1.5, 1.5, 1.9, 2.3, 2.7, 3.1, 3.5, 3.5, 3.5, 3.5],            dtype=float64), DeviceArray([1.5 , 1.5 , 1.5 , 1.5 , 2.05, 2.6 , 3.15, 3.7 , 4.25, 4.8 ,\n",
      "             5.35, 5.9 , 6.45, 7.  , 7.  , 7.  , 7.  ], dtype=float64)]\n"
     ]
    }
   ],
   "source": [
    "coefficients3 = jnp.asarray(ndspline3.coefficients)\n",
    "coefficients3 = coefficients3[:,:,:,0]\n",
    "\n",
    "knots3 = ndspline3.knots\n",
    "knots3 = [jnp.asarray(i) for i in knots3]\n",
    "\n",
    "print(coefficients3.shape)\n",
    "\n",
    "print(knots3)"
   ]
  },
  {
   "cell_type": "markdown",
   "metadata": {},
   "source": [
    "## Building neighbor list and data"
   ]
  },
  {
   "cell_type": "code",
   "execution_count": 29,
   "metadata": {},
   "outputs": [
    {
     "data": {
      "image/png": "[encoded data removed]",
      "text/plain": [
       "<Figure size 432x432 with 1 Axes>"
      ]
     },
     "metadata": {},
     "output_type": "display_data"
    }
   ],
   "source": [
    "N = 200\n",
    "dimension = 3\n",
    "box_size = 12.0\n",
    "\n",
    "key, split = random.split(key)\n",
    "R = random.uniform(split, (N,dimension), minval=0.0, maxval=box_size, dtype=f64) \n",
    "\n",
    "plot_system(R,box_size)"
   ]
  },
  {
   "cell_type": "code",
   "execution_count": 30,
   "metadata": {},
   "outputs": [],
   "source": [
    "box = jnp.eye(dimension) * box_size\n",
    "displacement, shift = space.periodic_general(box, fractional_coordinates=False)"
   ]
  },
  {
   "cell_type": "code",
   "execution_count": 31,
   "metadata": {},
   "outputs": [
    {
     "data": {
      "text/plain": [
       "DeviceArray(1, dtype=int16)"
      ]
     },
     "execution_count": 31,
     "metadata": {},
     "output_type": "execute_result"
    }
   ],
   "source": [
    "species = onp.concatenate([onp.zeros(N//2), onp.ones(N-(N//2))])\n",
    "rng = onp.random.default_rng()\n",
    "rng.shuffle(species)\n",
    "species = jnp.asarray(species, dtype=jnp.int16)\n",
    "# print(species)\n",
    "jnp.max(species)"
   ]
  },
  {
   "cell_type": "markdown",
   "metadata": {},
   "source": [
    "## Potential"
   ]
  },
  {
   "cell_type": "code",
   "execution_count": 45,
   "metadata": {},
   "outputs": [],
   "source": [
    "from jax_md.energy import stillinger_weber_neighbor_list"
   ]
  },
  {
   "cell_type": "code",
   "execution_count": 49,
   "metadata": {},
   "outputs": [],
   "source": [
    "nfsw, efsw = stillinger_weber_neighbor_list(displacement, box_size, cutoff=5.5)\n",
    "nbrssw = nfsw.allocate(R)\n",
    "efsw = jit(efsw)"
   ]
  },
  {
   "cell_type": "code",
   "execution_count": 50,
   "metadata": {},
   "outputs": [
    {
     "data": {
      "text/plain": [
       "DeviceArray(430400.56033274, dtype=float64)"
      ]
     },
     "execution_count": 50,
     "metadata": {},
     "output_type": "execute_result"
    }
   ],
   "source": [
    "efsw(R, nbrssw)"
   ]
  },
  {
   "cell_type": "code",
   "execution_count": 32,
   "metadata": {},
   "outputs": [
    {
     "name": "stderr",
     "output_type": "stream",
     "text": [
      "/opt/anaconda/envs/uf3/lib/python3.9/site-packages/jax/_src/ops/scatter.py:87: FutureWarning: scatter inputs have incompatible types: cannot safely cast value from dtype=int64 to dtype=int32. In future JAX releases this will result in an error.\n",
      "  warnings.warn(\"scatter inputs have incompatible types: cannot safely cast \"\n"
     ]
    }
   ],
   "source": [
    "from uf3.jax.potentialsOLD import uf3_pair, uf3_neighbor, uf2_neighbor\n",
    "\n",
    "nf3, ef3 = uf3_neighbor(displacement,box_size ,knots=[knots2, knots3])\n",
    "nbrs3 = nf3.allocate(R)\n",
    "\n",
    "ef3 = jit(ef3)"
   ]
  },
  {
   "cell_type": "code",
   "execution_count": 33,
   "metadata": {},
   "outputs": [
    {
     "name": "stdout",
     "output_type": "stream",
     "text": [
      "11674.077401136561\n"
     ]
    }
   ],
   "source": [
    "print(ef3(R, neighbor=nbrs3, coefficients=[coefficients2, coefficients3]))"
   ]
  },
  {
   "cell_type": "code",
   "execution_count": 34,
   "metadata": {},
   "outputs": [],
   "source": [
    "coeff_dict = {}\n",
    "coeff_dict[(0,0)] = coefficients2\n",
    "coeff_dict[(0,1)] = coefficients2\n",
    "coeff_dict[(1,1)] = coefficients2\n",
    "\n",
    "knot_dict = {}\n",
    "knot_dict[(0,0)] = knots2\n",
    "knot_dict[(0,1)] = knots2\n",
    "knot_dict[(1,1)] = knots2\n",
    "\n",
    "c3 = {}\n",
    "c3[(0,0,0)] = coefficients3\n",
    "c3[(0,0,1)] = coefficients3\n",
    "c3[(0,1,1)] = coefficients3\n",
    "c3[(1,0,0)] = coefficients3\n",
    "c3[(1,0,1)] = coefficients3\n",
    "c3[(1,1,1)] = coefficients3\n",
    "\n",
    "k3 = {}\n",
    "k3[(0,0,0)] = knots3\n",
    "k3[(0,0,1)] = knots3\n",
    "k3[(0,1,1)] = knots3\n",
    "k3[(1,0,0)] = knots3\n",
    "k3[(1,0,1)] = knots3\n",
    "k3[(1,1,1)] = knots3"
   ]
  },
  {
   "cell_type": "code",
   "execution_count": 35,
   "metadata": {},
   "outputs": [],
   "source": [
    "nf3s, ef3s = uf3_neighbor(displacement, box_size, species=species, knots=[knot_dict, k3])\n",
    "nbrs3s = nf3s.allocate(R)\n",
    "ef3s = jit(ef3s)"
   ]
  },
  {
   "cell_type": "code",
   "execution_count": 36,
   "metadata": {},
   "outputs": [
    {
     "name": "stdout",
     "output_type": "stream",
     "text": [
      "11674.077401136561\n"
     ]
    }
   ],
   "source": [
    "print(ef3s(R, neighbor=nbrs3s, coefficients=[coeff_dict, c3]))"
   ]
  },
  {
   "cell_type": "code",
   "execution_count": 37,
   "metadata": {},
   "outputs": [
    {
     "name": "stderr",
     "output_type": "stream",
     "text": [
      "/opt/anaconda/envs/uf3/lib/python3.9/site-packages/jax/_src/ops/scatter.py:87: FutureWarning: scatter inputs have incompatible types: cannot safely cast value from dtype=int64 to dtype=int32. In future JAX releases this will result in an error.\n",
      "  warnings.warn(\"scatter inputs have incompatible types: cannot safely cast \"\n"
     ]
    }
   ],
   "source": [
    "nf2s, ef2s = uf2_neighbor(displacement, box_size, species=species, knots=knot_dict)\n",
    "nbrs2s = nf2s.allocate(R)\n",
    "ef2s = jit(ef2s)"
   ]
  },
  {
   "cell_type": "code",
   "execution_count": 38,
   "metadata": {},
   "outputs": [
    {
     "name": "stdout",
     "output_type": "stream",
     "text": [
      "2265.697114062089\n"
     ]
    }
   ],
   "source": [
    "print(ef2s(R, neighbor=nbrs2s, coefficients=coeff_dict))"
   ]
  },
  {
   "cell_type": "code",
   "execution_count": 39,
   "metadata": {},
   "outputs": [
    {
     "name": "stderr",
     "output_type": "stream",
     "text": [
      "/opt/anaconda/envs/uf3/lib/python3.9/site-packages/jax/_src/ops/scatter.py:87: FutureWarning: scatter inputs have incompatible types: cannot safely cast value from dtype=int64 to dtype=int32. In future JAX releases this will result in an error.\n",
      "  warnings.warn(\"scatter inputs have incompatible types: cannot safely cast \"\n"
     ]
    }
   ],
   "source": [
    "nf2, ef2 = uf2_neighbor(displacement, box_size, knots=knots2)\n",
    "nbrs2 = nf2.allocate(R)\n",
    "ef2 = jit(ef2)"
   ]
  },
  {
   "cell_type": "code",
   "execution_count": 40,
   "metadata": {},
   "outputs": [
    {
     "name": "stdout",
     "output_type": "stream",
     "text": [
      "2265.697114062089\n"
     ]
    }
   ],
   "source": [
    "print(ef2(R, neighbor=nbrs2, coefficients=coefficients2))"
   ]
  },
  {
   "cell_type": "code",
   "execution_count": 51,
   "metadata": {},
   "outputs": [
    {
     "name": "stdout",
     "output_type": "stream",
     "text": [
      "55.5 ms ± 311 µs per loop (mean ± std. dev. of 7 runs, 10 loops each)\n"
     ]
    }
   ],
   "source": [
    "%%timeit\n",
    "efsw(R, nbrssw)"
   ]
  },
  {
   "cell_type": "code",
   "execution_count": 41,
   "metadata": {},
   "outputs": [
    {
     "name": "stdout",
     "output_type": "stream",
     "text": [
      "6.35 ms ± 53 µs per loop (mean ± std. dev. of 7 runs, 100 loops each)\n"
     ]
    }
   ],
   "source": [
    "%%timeit\n",
    "ef2(R, neighbor=nbrs2, coefficients=coefficients2).block_until_ready()"
   ]
  },
  {
   "cell_type": "code",
   "execution_count": 42,
   "metadata": {},
   "outputs": [
    {
     "name": "stdout",
     "output_type": "stream",
     "text": [
      "9.86 ms ± 84.4 µs per loop (mean ± std. dev. of 7 runs, 100 loops each)\n"
     ]
    }
   ],
   "source": [
    "%%timeit\n",
    "ef2s(R, neighbor=nbrs2s, coefficients=coeff_dict).block_until_ready()"
   ]
  },
  {
   "cell_type": "code",
   "execution_count": 43,
   "metadata": {},
   "outputs": [
    {
     "name": "stdout",
     "output_type": "stream",
     "text": [
      "2.02 s ± 12 ms per loop (mean ± std. dev. of 7 runs, 1 loop each)\n"
     ]
    }
   ],
   "source": [
    "%%timeit\n",
    "ef3(R, neighbor=nbrs3, coefficients=[coefficients2, coefficients3]).block_until_ready()"
   ]
  },
  {
   "cell_type": "code",
   "execution_count": 44,
   "metadata": {},
   "outputs": [
    {
     "name": "stdout",
     "output_type": "stream",
     "text": [
      "4.65 s ± 26.2 ms per loop (mean ± std. dev. of 7 runs, 1 loop each)\n"
     ]
    }
   ],
   "source": [
    "%%timeit\n",
    "ef3s(R, neighbor=nbrs3s, coefficients=[coeff_dict, c3]).block_until_ready()"
   ]
  },
  {
   "cell_type": "code",
   "execution_count": null,
   "metadata": {},
   "outputs": [],
   "source": []
  }
 ],
 "metadata": {
  "interpreter": {
   "hash": "ca6e4c1237d2523077850c33bb85c07df22e41d5dc1f9dffe27e02189376af2b"
  },
  "kernelspec": {
   "display_name": "Python 3.9.7 ('uf3')",
   "language": "python",
   "name": "python3"
  },
  "language_info": {
   "codemirror_mode": {
    "name": "ipython",
    "version": 3
   },
   "file_extension": ".py",
   "mimetype": "text/x-python",
   "name": "python",
   "nbconvert_exporter": "python",
   "pygments_lexer": "ipython3",
   "version": "3.9.7"
  },
  "orig_nbformat": 4
 },
 "nbformat": 4,
 "nbformat_minor": 2
}
