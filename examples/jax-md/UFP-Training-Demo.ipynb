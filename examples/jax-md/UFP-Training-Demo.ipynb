{
  "cells": [
    {
      "cell_type": "markdown",
      "metadata": {
        "id": "RfQmTOxhCr3s"
      },
      "source": [
        "# UFP Demo with JAX-MD"
      ]
    },
    {
      "cell_type": "markdown",
      "metadata": {
        "id": "H0Rgn9vXCr3w"
      },
      "source": [
        "[![Open In Colab](https://colab.research.google.com/assets/colab-badge.svg)](https://colab.research.google.com/github/Robert-Schmid/uf3/blob/jax/examples/jax-md/jax-md-ufp-demo.ipynb)"
      ]
    },
    {
      "cell_type": "code",
      "execution_count": 1,
      "metadata": {
        "cellView": "form",
        "id": "QXfQ_IblCv7b"
      },
      "outputs": [],
      "source": [
        "#@title install UF3\n",
        "# !git clone -b jax https://github.com/Robert-Schmid/uf3.git\n",
        "# %cd /content/uf3\n",
        "# !pip install -r requirements.txt\n",
        "# !pip install -e .\n",
        "# %cd /content/uf3/examples/jax-md\n",
        "\n",
        "# !pip install -q git+https://www.github.com/google/jax-md"
      ]
    },
    {
      "cell_type": "code",
      "execution_count": 2,
      "metadata": {
        "cellView": "form",
        "colab": {
          "base_uri": "https://localhost:8080/"
        },
        "id": "IyZNaNNcCyXw",
        "outputId": "369e4863-1e7b-41f5-f36b-87d9674b6449"
      },
      "outputs": [
        {
          "name": "stderr",
          "output_type": "stream",
          "text": [
            "<frozen importlib._bootstrap>:228: RuntimeWarning: scipy._lib.messagestream.MessageStream size changed, may indicate binary incompatibility. Expected 56 from C header, got 64 from PyObject\n",
            "WARNING:absl:No GPU/TPU found, falling back to CPU. (Set TF_CPP_MIN_LOG_LEVEL=0 and rerun for more info.)\n"
          ]
        }
      ],
      "source": [
        "#@title JAX-MD Imports & Utils from the Cutom Potentials notebook from git:google/jax-md\n",
        "\n",
        "import numpy as onp\n",
        "\n",
        "import jax.numpy as jnp\n",
        "from jax import random\n",
        "from jax import jit, grad, vmap, value_and_grad\n",
        "from jax import lax\n",
        "from jax import ops\n",
        "\n",
        "from jax.config import config\n",
        "config.update(\"jax_enable_x64\", True)\n",
        "\n",
        "from jax_md import space, smap, energy, minimize, quantity, simulate, partition, util\n",
        "\n",
        "from functools import partial\n",
        "import time\n",
        "from typing import List\n",
        "\n",
        "f32 = jnp.float32\n",
        "f64 = jnp.float64\n",
        "Array = jnp.ndarray\n",
        "\n",
        "import matplotlib\n",
        "import matplotlib.pyplot as plt\n",
        "plt.rcParams.update({'font.size': 16})\n",
        "\n",
        "def format_plot(x, y):  \n",
        "  plt.grid(True)\n",
        "  plt.xlabel(x, fontsize=20)\n",
        "  plt.ylabel(y, fontsize=20)\n",
        "  \n",
        "def finalize_plot(shape=(1, 0.7)):\n",
        "  plt.gcf().set_size_inches(\n",
        "    shape[0] * 1.5 * plt.gcf().get_size_inches()[1], \n",
        "    shape[1] * 1.5 * plt.gcf().get_size_inches()[1])\n",
        "  plt.tight_layout()\n",
        "\n",
        "def plot_system(R,box_size,species=None,ms=20):\n",
        "  R_plt = onp.array(R)\n",
        "\n",
        "  if(species is None):\n",
        "    plt.plot(R_plt[:, 0], R_plt[:, 1], 'o', markersize=ms)\n",
        "  else:\n",
        "    for ii in range(jnp.amax(species)+1):\n",
        "      Rtemp = R_plt[species==ii]\n",
        "      plt.plot(Rtemp[:, 0], Rtemp[:, 1], 'o', markersize=ms)\n",
        "\n",
        "  plt.xlim([0, box_size])\n",
        "  plt.ylim([0, box_size])\n",
        "  plt.xticks([], [])\n",
        "  plt.yticks([], [])\n",
        "\n",
        "  finalize_plot((1,1))\n",
        "  \n",
        "key = random.PRNGKey(0)"
      ]
    },
    {
      "cell_type": "markdown",
      "metadata": {
        "id": "wF7jniVFFG8p"
      },
      "source": [
        "## Importing potentials\n",
        "\n",
        "We import the parameters from the 2-body ufp potentials trained on tungsten data in the pair_potential_demo notebook from the examples."
      ]
    },
    {
      "cell_type": "code",
      "execution_count": 3,
      "metadata": {
        "id": "BnR92R99DLY8"
      },
      "outputs": [],
      "source": [
        "from uf3.representation import bspline\n",
        "from uf3.data import composition\n",
        "from uf3.regression import least_squares\n",
        "\n",
        "element_list = ['W']\n",
        "degree = 2\n",
        "\n",
        "chemical_system = composition.ChemicalSystem(element_list=element_list,\n",
        "                                             degree=degree)\n",
        "\n",
        "r_min_map = {('W', 'W'): 1.5,\n",
        "            }\n",
        "r_max_map = {('W', 'W'): 5.5,\n",
        "            }\n",
        "resolution_map = {('W', 'W'): 25,\n",
        "                 }\n",
        "trailing_trim = 3\n",
        "\n",
        "bspline_config = bspline.BSplineBasis(chemical_system,\n",
        "                                      r_min_map=r_min_map,\n",
        "                                      r_max_map=r_max_map,\n",
        "                                      resolution_map=resolution_map,\n",
        "                                      trailing_trim=trailing_trim)\n",
        "\n",
        "model = least_squares.WeightedLinearModel(bspline_config)\n",
        "\n",
        "model.load(filename=\"../tungsten_extxyz/model_pair.json\")"
      ]
    },
    {
      "cell_type": "code",
      "execution_count": 4,
      "metadata": {
        "colab": {
          "base_uri": "https://localhost:8080/"
        },
        "id": "6HgDBq1RFjTt",
        "outputId": "c2cefe2b-4dac-4d18-988e-635e1e9b0f8d"
      },
      "outputs": [
        {
          "name": "stdout",
          "output_type": "stream",
          "text": [
            "[ 6.43001157e+00  5.97354258e+00  5.06058796e+00  3.69113106e+00\n",
            "  1.65205855e+00  9.23859147e-01  2.81258202e-01 -5.36413561e-03\n",
            " -1.65669972e-01 -2.39954884e-01 -2.77954263e-01 -2.80998799e-01\n",
            " -2.49653066e-01 -1.77409590e-01 -1.00099852e-01 -6.82599769e-02\n",
            " -2.00034440e-02 -3.28071234e-02 -3.43219435e-02 -3.43618259e-02\n",
            " -2.88400639e-02 -2.12175439e-02 -6.90983500e-04 -9.25139031e-03\n",
            " -8.08694792e-03  0.00000000e+00  0.00000000e+00  0.00000000e+00]\n",
            "[DeviceArray([1.5 , 1.5 , 1.5 , 1.5 , 1.66, 1.82, 1.98, 2.14, 2.3 , 2.46,\n",
            "             2.62, 2.78, 2.94, 3.1 , 3.26, 3.42, 3.58, 3.74, 3.9 , 4.06,\n",
            "             4.22, 4.38, 4.54, 4.7 , 4.86, 5.02, 5.18, 5.34, 5.5 , 5.5 ,\n",
            "             5.5 , 5.5 ], dtype=float64)]\n"
          ]
        }
      ],
      "source": [
        "coefficients = jnp.asarray(model.coefficients[1:])\n",
        "knots = [jnp.asarray(model.bspline_config.knots_map[('W','W')])]\n",
        "\n",
        "print(coefficients)\n",
        "print(knots)"
      ]
    },
    {
      "cell_type": "code",
      "execution_count": 5,
      "metadata": {
        "colab": {
          "base_uri": "https://localhost:8080/",
          "height": 500
        },
        "id": "J1PsbMXHFmNx",
        "outputId": "1241fca3-07ed-4c1a-c43f-9cd79245118c"
      },
      "outputs": [
        {
          "data": {
            "image/png": "[encoded data removed]",
            "text/plain": [
              "<Figure size 432x302.4 with 1 Axes>"
            ]
          },
          "metadata": {
            "needs_background": "light"
          },
          "output_type": "display_data"
        }
      ],
      "source": [
        "from uf3.jax.potentials import uf2_interaction\n",
        "\n",
        "drs = jnp.arange(1.5,5.5,0.01)\n",
        "f = partial(uf2_interaction(knots), coefficients=coefficients)\n",
        "U = vmap(f)(drs)\n",
        "plt.plot(drs,U)\n",
        "format_plot(r'$r$', r'$V(r)$')\n",
        "finalize_plot()"
      ]
    },
    {
      "cell_type": "markdown",
      "metadata": {
        "id": "lizYC8rAIcKL"
      },
      "source": [
        "## Using the potential\n",
        "\n",
        "### Creating a system"
      ]
    },
    {
      "cell_type": "code",
      "execution_count": 6,
      "metadata": {
        "colab": {
          "base_uri": "https://localhost:8080/",
          "height": 716
        },
        "id": "tUY56KYcFqrf",
        "outputId": "db9abcb6-e702-4fff-c245-2e86d02117a1"
      },
      "outputs": [
        {
          "data": {
            "image/png": "[encoded data removed]",
            "text/plain": [
              "<Figure size 432x432 with 1 Axes>"
            ]
          },
          "metadata": {},
          "output_type": "display_data"
        }
      ],
      "source": [
        "N = 500\n",
        "dimension = 3\n",
        "box_size = 12.0\n",
        "\n",
        "key, split = random.split(key)\n",
        "R = random.uniform(split, (N,dimension), minval=0.0, maxval=box_size, dtype=f64) \n",
        "\n",
        "plot_system(R,box_size)"
      ]
    },
    {
      "cell_type": "code",
      "execution_count": 7,
      "metadata": {
        "id": "TgShvHcuFrQb"
      },
      "outputs": [],
      "source": [
        "box = jnp.eye(dimension) * box_size\n",
        "displacement, shift = space.periodic_general(box, fractional_coordinates=False)"
      ]
    },
    {
      "cell_type": "markdown",
      "metadata": {
        "id": "cNnckD7EI-CN"
      },
      "source": [
        "### Calculating forces, energies and stress"
      ]
    },
    {
      "cell_type": "code",
      "execution_count": 8,
      "metadata": {
        "colab": {
          "base_uri": "https://localhost:8080/"
        },
        "id": "lsSBtkTSFuDK",
        "outputId": "fe27d12a-c8a2-49c9-e765-9a0df61ef621"
      },
      "outputs": [
        {
          "name": "stdout",
          "output_type": "stream",
          "text": [
            "8066.2015972928375\n",
            "[[ 15.29246937 -21.96925017 -47.47790003]\n",
            " [  8.78558524  26.88078789  39.43310416]\n",
            " [ 27.65639121 -43.59842966 -10.28381398]\n",
            " [ 48.83810166  15.77194653  30.69280333]\n",
            " [  3.76158447 -11.05976267  33.83882648]]\n"
          ]
        }
      ],
      "source": [
        "from uf3.jax.potentials import uf2_pair\n",
        "from uf3.jax.physical import stress_fn\n",
        "\n",
        "# Create a function to calculate the total energy with specified parameters\n",
        "energy_fn = uf2_pair(displacement, knots, coefficients=[coefficients])\n",
        "\n",
        "# Use this to calculate the total energy\n",
        "print(energy_fn(R))\n",
        "\n",
        "# Use grad to calculate the net force\n",
        "force = -grad(energy_fn)(R)\n",
        "print(force[:5])"
      ]
    },
    {
      "cell_type": "code",
      "execution_count": 9,
      "metadata": {
        "colab": {
          "base_uri": "https://localhost:8080/"
        },
        "id": "hWFywVoFFxRn",
        "outputId": "017829b4-67c5-49ad-d4e3-cd45cd855548"
      },
      "outputs": [
        {
          "name": "stdout",
          "output_type": "stream",
          "text": [
            "[[-12.03743611   0.10508514  -0.03138277]\n",
            " [  0.10508514 -12.20308648   0.21933457]\n",
            " [ -0.03138277   0.21933457 -12.63328056]]\n"
          ]
        }
      ],
      "source": [
        "stress_f = stress_fn(energy_fn, box)\n",
        "stress = stress_f(R)\n",
        "print(stress)"
      ]
    },
    {
      "cell_type": "markdown",
      "metadata": {
        "id": "F1sEFzI2JFis"
      },
      "source": [
        "### More derivatives\n",
        "\n",
        "Derivatives with repect to the coefficients for optimization."
      ]
    },
    {
      "cell_type": "code",
      "execution_count": 10,
      "metadata": {
        "colab": {
          "base_uri": "https://localhost:8080/"
        },
        "id": "0wY8eFtCJOam",
        "outputId": "59fad7a0-ff15-4db7-c86a-3b33630ec806"
      },
      "outputs": [
        {
          "name": "stdout",
          "output_type": "stream",
          "text": [
            "8066.2015972928375\n",
            "[ 160.37334717  368.12070065  632.08003294  980.45964619 1139.72850551\n",
            " 1316.3392145  1508.24849647 1723.00390321 2070.73198955 2334.69283493\n",
            " 2578.98097283 2848.28391755 3100.96909546 3409.89792928 3738.23876044\n",
            " 4017.95388362 4416.05098406 4795.10437873 5169.66063236 5588.45449047\n",
            " 5797.7578996  6181.16415163 6703.32228449 7237.47285135 7734.06589475\n",
            " 6145.31269448 4279.46787558 2184.06263221]\n"
          ]
        }
      ],
      "source": [
        "ener = lambda c: energy_fn(R, coefficients=[c])\n",
        "print(ener(coefficients))\n",
        "\n",
        "print(grad(ener)(coefficients))"
      ]
    },
    {
      "cell_type": "markdown",
      "metadata": {
        "id": "9H4ukMQWJZr4"
      },
      "source": [
        "## Simple gradient descent with AD\n",
        "\n",
        "Let's have a look at the lennard-jones potential defined in the JAX-MD package. Can we easily replicate this with our 2-body ufp potential?"
      ]
    },
    {
      "cell_type": "code",
      "execution_count": 11,
      "metadata": {
        "colab": {
          "base_uri": "https://localhost:8080/",
          "height": 500
        },
        "id": "6tnnLXMnF0Zr",
        "outputId": "57bd6b15-26db-4c7c-dff2-5ad412c25dcc"
      },
      "outputs": [
        {
          "data": {
            "image/png": "[encoded data removed]",
            "text/plain": [
              "<Figure size 432x302.4 with 1 Axes>"
            ]
          },
          "metadata": {
            "needs_background": "light"
          },
          "output_type": "display_data"
        }
      ],
      "source": [
        "from jax_md.energy import lennard_jones, lennard_jones_pair\n",
        "\n",
        "drs = jnp.arange(1.5,6.0,0.01)\n",
        "U = lennard_jones(drs, sigma=1.6, epsilon=0.1)\n",
        "plt.plot(drs,U)\n",
        "format_plot(r'$r$', r'$V(r)$')\n",
        "finalize_plot()"
      ]
    },
    {
      "cell_type": "markdown",
      "metadata": {
        "id": "_oL-US2CJiUu"
      },
      "source": [
        "We use the mean squared error as a simple loss function."
      ]
    },
    {
      "cell_type": "code",
      "execution_count": 12,
      "metadata": {},
      "outputs": [],
      "source": [
        "drs = jnp.arange(1.5,6.0,0.01)\n",
        "\n",
        "uf2_fn = uf2_interaction(knots)\n",
        "\n",
        "uf2 = lambda drs, co: vmap(partial(uf2_fn, coefficients=co))(drs)\n",
        "uf2_d = lambda drs, co: vmap(grad(partial(uf2_fn, coefficients=co)))(drs)\n",
        "lj = lambda drs: lennard_jones(drs, sigma=1.6, epsilon=0.1)\n",
        "\n",
        "def error_E(coefficients, drs):\n",
        "    return jnp.power(jnp.sum((lj(drs) - uf2(drs, coefficients)) ** 2), 1/2) / len(drs)\n",
        "\n",
        "def error_F(coefficients, drs):\n",
        "    return jnp.power(jnp.sum((vmap(grad(lj))(drs) - uf2_d(drs, coefficients)) ** 2), 1/2) / len(drs)"
      ]
    },
    {
      "cell_type": "code",
      "execution_count": 13,
      "metadata": {},
      "outputs": [
        {
          "data": {
            "text/plain": [
              "DeviceArray([-2.21157979e-03, -6.50549074e-04,  1.97007321e-03,\n",
              "              3.94738869e-03,  3.48373553e-03,  2.55616899e-03,\n",
              "              1.79336063e-03,  1.25033737e-03,  8.78211861e-04,\n",
              "              6.24596099e-04,  4.50558108e-04,  3.29709967e-04,\n",
              "              2.44645288e-04,  1.83924655e-04,  1.39983206e-04,\n",
              "              1.07764838e-04,  8.38477108e-05,  6.58854372e-05,\n",
              "              5.22478841e-05,  4.17880222e-05,  3.36888406e-05,\n",
              "              2.73615968e-05,  2.23773463e-05,  1.84203046e-05,\n",
              "              1.52557019e-05,  9.86129634e-06,  5.87999374e-06,\n",
              "              2.41942215e-06], dtype=float64)"
            ]
          },
          "execution_count": 13,
          "metadata": {},
          "output_type": "execute_result"
        }
      ],
      "source": [
        "c = jnp.zeros_like(coefficients)\n",
        "\n",
        "grad(error_E)(c, drs)"
      ]
    },
    {
      "cell_type": "code",
      "execution_count": 14,
      "metadata": {},
      "outputs": [
        {
          "name": "stdout",
          "output_type": "stream",
          "text": [
            "Energy Error after 0 iterations: 0.0017599852240830298\n",
            "Force Error after 0 iterations:  0.022636380612821805\n",
            "Energy Error after 10 iterations: 0.0013171096153614084\n",
            "Force Error after 10 iterations:  0.020352420324010093\n",
            "Energy Error after 20 iterations: 0.0009855544714351275\n",
            "Force Error after 20 iterations:  0.017979915590632636\n",
            "Energy Error after 30 iterations: 0.0007537195535970287\n",
            "Force Error after 30 iterations:  0.01556638935714798\n",
            "Energy Error after 40 iterations: 0.0005779410944777154\n",
            "Force Error after 40 iterations:  0.013139827332851104\n",
            "Energy Error after 50 iterations: 0.00042578819234292617\n",
            "Force Error after 50 iterations:  0.010666317972319381\n",
            "Energy Error after 60 iterations: 0.0002873437946132685\n",
            "Force Error after 60 iterations:  0.00808616615658807\n",
            "Energy Error after 70 iterations: 0.00016300107763916256\n",
            "Force Error after 70 iterations:  0.005362312014570317\n",
            "Energy Error after 80 iterations: 5.8556852928237925e-05\n",
            "Force Error after 80 iterations:  0.0025518313755008236\n",
            "Energy Error after 90 iterations: 8.516488960114406e-06\n",
            "Force Error after 90 iterations:  0.0006792493410726857\n"
          ]
        },
        {
          "data": {
            "image/png": "[encoded data removed]",
            "text/plain": [
              "<Figure size 432x302.4 with 1 Axes>"
            ]
          },
          "metadata": {
            "needs_background": "light"
          },
          "output_type": "display_data"
        }
      ],
      "source": [
        "drs = jnp.arange(1.5,6.0,0.01)\n",
        "\n",
        "c = jnp.zeros_like(coefficients)\n",
        "\n",
        "loss = jit(grad(error_E))\n",
        "error = jit(error_E)\n",
        "uf2 = jit(uf2)\n",
        "\n",
        "for i in range(100):\n",
        "    dc = loss(c, drs)\n",
        "    c -= dc\n",
        "\n",
        "    if i % 10 == 0:\n",
        "        print(f\"Energy Error after {i} iterations: {error(c, drs)}\")\n",
        "        print(f\"Force Error after {i} iterations:  {error_F(c, drs)}\")\n",
        "        U = uf2(drs, c)\n",
        "        plt.plot(drs,U)\n",
        "\n",
        "format_plot(r'$r$', r'$V(r)$')\n",
        "finalize_plot()"
      ]
    },
    {
      "cell_type": "code",
      "execution_count": 15,
      "metadata": {},
      "outputs": [
        {
          "name": "stdout",
          "output_type": "stream",
          "text": [
            "Total error on the energies within the knot range: 0.005412076997695881\n"
          ]
        },
        {
          "data": {
            "image/png": "[encoded data removed]",
            "text/plain": [
              "<Figure size 432x302.4 with 1 Axes>"
            ]
          },
          "metadata": {
            "needs_background": "light"
          },
          "output_type": "display_data"
        }
      ],
      "source": [
        "drs = jnp.arange(1.4,5.5,0.01)\n",
        "\n",
        "print(f\"Total error on the energies within the knot range: {error(c, drs)}\")\n",
        "\n",
        "U = uf2(drs, c)\n",
        "plt.plot(drs,U)\n",
        "U = lennard_jones(drs, sigma=1.6, epsilon=0.1)\n",
        "plt.plot(drs,U)\n",
        "format_plot(r'$r$', r'$V(r)$')\n",
        "finalize_plot()"
      ]
    },
    {
      "cell_type": "markdown",
      "metadata": {},
      "source": [
        "### Data efficiency"
      ]
    },
    {
      "cell_type": "code",
      "execution_count": 16,
      "metadata": {},
      "outputs": [],
      "source": [
        "loss = jit(grad(error))\n",
        "error = jit(error)\n",
        "error_F = jit(error_F)\n",
        "\n",
        "def error_after_training(training_set, iterations, reference):\n",
        "  c = jnp.zeros_like(coefficients)\n",
        "  E_error = []\n",
        "  F_error = []\n",
        "  for data in training_set:\n",
        "    for i in range(iterations):\n",
        "      dc = loss(c, data)\n",
        "      c -= dc\n",
        "    E_error.append(error(c, reference))\n",
        "    F_error.append(error_F(c, reference))\n",
        "  return (E_error, F_error)"
      ]
    },
    {
      "cell_type": "code",
      "execution_count": 17,
      "metadata": {},
      "outputs": [
        {
          "name": "stdout",
          "output_type": "stream",
          "text": [
            "[2.76703336 2.83125571 3.0644382  4.20501868 4.68946183]\n"
          ]
        }
      ],
      "source": [
        "training_sets = []\n",
        "X = [1,5,10,20,50,100,250,500,1000,5000]\n",
        "\n",
        "rng = onp.random.default_rng(12345)\n",
        "\n",
        "for i in X:\n",
        "  tmp = jnp.asarray(rng.uniform(1.5,5.5,i))\n",
        "  training_sets.append(jnp.sort(tmp))\n",
        "\n",
        "print(training_sets[1])"
      ]
    },
    {
      "cell_type": "code",
      "execution_count": 18,
      "metadata": {},
      "outputs": [
        {
          "data": {
            "image/png": "[encoded data removed]",
            "text/plain": [
              "<Figure size 432x302.4 with 1 Axes>"
            ]
          },
          "metadata": {
            "needs_background": "light"
          },
          "output_type": "display_data"
        }
      ],
      "source": [
        "fine_sampling = jnp.arange(1.5,5.5,0.001) # 4000 data points with uniform spacing\n",
        "reference = fine_sampling\n",
        "# reference = training_sets[-1]\n",
        "n_steps = 500 # number of steps in the gradient descent\n",
        "\n",
        "Ee, Fe = error_after_training(training_sets, n_steps, reference)\n",
        "plt.loglog(X,Ee, label=\"Energy Error\")\n",
        "plt.loglog(X,Fe, label=\"Force Error\")\n",
        "format_plot(\"# of samples\", \"MSE\")\n",
        "plt.legend()\n",
        "finalize_plot()\n",
        "# plt.savefig('sample_size.png')"
      ]
    },
    {
      "cell_type": "markdown",
      "metadata": {},
      "source": [
        "## Realistic reference Energies"
      ]
    },
    {
      "cell_type": "code",
      "execution_count": 19,
      "metadata": {},
      "outputs": [],
      "source": [
        "from uf3.jax.training import regularizer"
      ]
    },
    {
      "cell_type": "code",
      "execution_count": 20,
      "metadata": {
        "id": "bnUz-IbWGFwG"
      },
      "outputs": [],
      "source": [
        "# k = jnp.arange(1.5,6.0,0.5)\n",
        "\n",
        "k = knots[0]\n",
        "\n",
        "drs = jnp.arange(1.5,6.0,0.01)\n",
        "uf2_fn = uf2_interaction(knots)\n",
        "\n",
        "uf2 = lambda drs, co: vmap(partial(uf2_fn, coefficients=co))(drs)\n",
        "uf2_d = lambda drs, co: vmap(grad(partial(uf2_fn, coefficients=co)))(drs)\n",
        "lj = lambda drs: lennard_jones(drs, sigma=1.6, epsilon=0.1)\n",
        "\n",
        "def error(coefficients, drs, lam=0.0, kappa=0.5):\n",
        "    tE = jnp.sum(lj(drs))\n",
        "    tF = vmap(grad(lj))(drs)\n",
        "    E = jnp.sum(uf2(drs, coefficients))\n",
        "    F = uf2_d(drs, coefficients)\n",
        "\n",
        "    n_atoms = len(tF)\n",
        "\n",
        "    e_loss =  jnp.sum((tE - E) ** 2) #/ (n_atoms)# * jnp.var(tE))\n",
        "    f_loss =  jnp.sum((tF - F) ** 2) / (n_atoms * jnp.var(tF))\n",
        "    reg = lam * regularizer(coefficients)\n",
        "    return kappa * e_loss + (1-kappa) * f_loss + reg\n"
      ]
    },
    {
      "cell_type": "markdown",
      "metadata": {
        "id": "5a4U_9sgQ7kt"
      },
      "source": [
        "Taking derivatives with respect to the coefficients."
      ]
    },
    {
      "cell_type": "code",
      "execution_count": 21,
      "metadata": {
        "colab": {
          "base_uri": "https://localhost:8080/"
        },
        "id": "0p85kI6uGNMD",
        "outputId": "9cc6488f-ee9c-4f5c-eb33-aa57015030c5"
      },
      "outputs": [
        {
          "data": {
            "text/plain": [
              "DeviceArray([22.21790208, 47.41505605, 69.22588193, 91.31673212,\n",
              "             90.93821891, 90.86971563, 90.86614458, 90.87373237,\n",
              "             90.88108024, 90.88642256, 90.89001778, 90.89238367,\n",
              "             90.89393775, 90.89496579, 90.89565335, 90.89611904,\n",
              "             90.89643864, 90.89666086, 90.89681734, 90.89692888,\n",
              "             90.89700931, 90.89706795, 90.89711114, 90.89714326,\n",
              "             90.89716738, 68.17288671, 45.35980603, 19.97229602],            dtype=float64)"
            ]
          },
          "execution_count": 21,
          "metadata": {},
          "output_type": "execute_result"
        }
      ],
      "source": [
        "c = jnp.zeros_like(coefficients)\n",
        "\n",
        "grad(error)(c, drs, lam=0.005, kappa=0.5)"
      ]
    },
    {
      "cell_type": "markdown",
      "metadata": {
        "id": "8G0Ij6TFRB-j"
      },
      "source": [
        "A simple gradient descent loop without regularization.\n",
        "This is enough for our simple demonstartion, but can produce 'wobbly' results on some problems."
      ]
    },
    {
      "cell_type": "code",
      "execution_count": 22,
      "metadata": {},
      "outputs": [
        {
          "name": "stdout",
          "output_type": "stream",
          "text": [
            "Loss error after 10 iterations: 0.026434403261520557\n",
            "Loss error after 15 iterations: 0.023646077003841654\n",
            "Loss error after 35 iterations: 0.017258400546799814\n",
            "Loss error after 50 iterations: 0.014724105090107204\n"
          ]
        },
        {
          "data": {
            "image/png": "[encoded data removed]",
            "text/plain": [
              "<Figure size 432x302.4 with 1 Axes>"
            ]
          },
          "metadata": {
            "needs_background": "light"
          },
          "output_type": "display_data"
        }
      ],
      "source": [
        "drs = jnp.concatenate([jnp.arange(4.0,4.5,0.02), jnp.arange(4.0,4.5,0.02), jnp.arange(4.0,4.5,0.02), jnp.arange(1.5,2.5,0.2)])\n",
        "ref = jnp.arange(1.5,6.0,0.01)\n",
        "# drs = jnp.arange(1.5,6.0,0.1)\n",
        "\n",
        "c = jnp.zeros_like(coefficients)\n",
        "# rng = onp.random.default_rng(123)\n",
        "# c = jnp.asarray(rng.uniform(-1.0, 1.0, coefficients.shape))\n",
        "loss = jit(grad(error))\n",
        "error = jit(error)\n",
        "uf2 = jit(uf2)\n",
        "regularize = 0.05\n",
        "k=0.05\n",
        "\n",
        "err = error(c, drs, lam=regularize, kappa=k)\n",
        "last = 0\n",
        "step = 10\n",
        "\n",
        "iterations = 50\n",
        "\n",
        "for i in range(1,iterations+1):\n",
        "    dc = loss(c, drs, lam=regularize, kappa=k)\n",
        "    c -= dc * 0.01\n",
        "\n",
        "    if i % step == 0 or i == iterations:\n",
        "        new_err = error(c, drs, lam=regularize, kappa=k)\n",
        "        # only print the current funciton if the error reduced by more than 20%\n",
        "        # increase step size before next error computation\n",
        "        if abs(err - new_err) / err > 0.2 or i == iterations or True:\n",
        "            err = new_err\n",
        "            step = step + (i - last)/2\n",
        "            last = i\n",
        "            print(f\"Loss error after {i} iterations: {err}\")\n",
        "            # print(f\"Test error after {i} iterations: {error(c, ref, kappa=1.0)}\")\n",
        "            U = uf2(ref, c)\n",
        "            plt.plot(ref,U)\n",
        "\n",
        "format_plot(r'$r$', r'$V(r)$')\n",
        "finalize_plot()\n",
        "\n",
        "# plt.savefig('data_imbalance.png')\n",
        "# plt.savefig('random_start_params.png')"
      ]
    },
    {
      "cell_type": "markdown",
      "metadata": {
        "id": "d-3MyObmRcGw"
      },
      "source": [
        "We are quite close to the lennard-jones potential within the knot range (1.5 to 5.5). But the current ufp JAX implementation returns to zero outside the knot range."
      ]
    },
    {
      "cell_type": "code",
      "execution_count": 23,
      "metadata": {
        "colab": {
          "base_uri": "https://localhost:8080/",
          "height": 518
        },
        "id": "pjPAxqr1GUpl",
        "outputId": "e56d679f-4907-478c-9133-e170dff32f83"
      },
      "outputs": [
        {
          "name": "stdout",
          "output_type": "stream",
          "text": [
            "Total error on the energies within the knot range: 3.1041961198738157\n",
            "Total error on the energies on the training data: 0.0025349100356040584\n"
          ]
        },
        {
          "data": {
            "image/png": "[encoded data removed]",
            "text/plain": [
              "<Figure size 432x302.4 with 1 Axes>"
            ]
          },
          "metadata": {
            "needs_background": "light"
          },
          "output_type": "display_data"
        }
      ],
      "source": [
        "ref = jnp.arange(1.4,5.5,0.01)\n",
        "\n",
        "print(f\"Total error on the energies within the knot range: {error(c, ref)}\")\n",
        "print(f\"Total error on the energies on the training data: {error(c, drs)}\")\n",
        "\n",
        "U = uf2(ref, c)\n",
        "plt.plot(ref,U)\n",
        "U = lennard_jones(ref, sigma=1.6, epsilon=0.1)\n",
        "plt.plot(ref,U)\n",
        "plt.scatter(drs,jnp.zeros_like(drs), marker=\"x\", color=\"green\")\n",
        "format_plot(r'$r$', r'$V(r)$')\n",
        "finalize_plot()\n",
        "# plt.savefig('reference_data.png')"
      ]
    },
    {
      "cell_type": "markdown",
      "metadata": {
        "id": "YLF60hOkKvq2"
      },
      "source": [
        "### Data efficiency"
      ]
    },
    {
      "cell_type": "code",
      "execution_count": 24,
      "metadata": {
        "id": "kpA90QffEvHv"
      },
      "outputs": [],
      "source": [
        "loss = jit(grad(error))\n",
        "error = jit(error)\n",
        "\n",
        "def iteration_test(training_set, iterations, reference, start):\n",
        "  out = []\n",
        "  # for iter in iterations:\n",
        "  c = jnp.asarray(start.copy())\n",
        "  for i in range(iterations[-1]+1):\n",
        "    dc = loss(c, training_set, lam=0.05, kappa=0.5)\n",
        "    c -= dc * 0.01\n",
        "    if i in iterations:\n",
        "      out.append(error(c, reference, lam=0.05, kappa=0.5))\n",
        "  return out"
      ]
    },
    {
      "cell_type": "code",
      "execution_count": 25,
      "metadata": {
        "colab": {
          "base_uri": "https://localhost:8080/"
        },
        "id": "sI-EiVcmFK6t",
        "outputId": "51be6dfe-939f-460c-b02e-119c7c9e167c"
      },
      "outputs": [],
      "source": [
        "iterations = list(range(50,5001,50))"
      ]
    },
    {
      "cell_type": "code",
      "execution_count": 26,
      "metadata": {
        "colab": {
          "base_uri": "https://localhost:8080/",
          "height": 500
        },
        "id": "e7UXoZ3wGSjV",
        "outputId": "35819c03-d6ca-4d7c-c87a-729eead016c6"
      },
      "outputs": [
        {
          "data": {
            "image/png": "[encoded data removed]",
            "text/plain": [
              "<Figure size 432x302.4 with 1 Axes>"
            ]
          },
          "metadata": {
            "needs_background": "light"
          },
          "output_type": "display_data"
        }
      ],
      "source": [
        "fine_sampling = jnp.arange(1.5,5.5,0.01)\n",
        "reference = fine_sampling\n",
        "\n",
        "drs = jnp.arange(1.5,6.0,0.1)\n",
        "\n",
        "rng = onp.random.default_rng(123)\n",
        "start_random = rng.uniform(-1.0, 1.0, coefficients.shape)\n",
        "start_zero = onp.zeros_like(coefficients)\n",
        "\n",
        "U1 = iteration_test(drs, iterations, reference, start_random)\n",
        "U2 = iteration_test(drs, iterations, reference, start_zero)\n",
        "plt.plot(iterations, U1, label=\"Random\")\n",
        "plt.plot(iterations, U2, label=\"Zeros\")\n",
        "plt.yscale('log')\n",
        "plt.legend()\n",
        "format_plot(\"# of iterations\", \"MSE\")\n",
        "finalize_plot()\n",
        "# plt.savefig('loss_decay.png')"
      ]
    },
    {
      "cell_type": "code",
      "execution_count": null,
      "metadata": {},
      "outputs": [],
      "source": []
    }
  ],
  "metadata": {
    "accelerator": "GPU",
    "colab": {
      "name": "jax-md-ufp-demo.ipynb",
      "provenance": [],
      "toc_visible": true
    },
    "interpreter": {
      "hash": "ca6e4c1237d2523077850c33bb85c07df22e41d5dc1f9dffe27e02189376af2b"
    },
    "kernelspec": {
      "display_name": "Python 3.9.7 ('uf3')",
      "language": "python",
      "name": "python3"
    },
    "language_info": {
      "codemirror_mode": {
        "name": "ipython",
        "version": 3
      },
      "file_extension": ".py",
      "mimetype": "text/x-python",
      "name": "python",
      "nbconvert_exporter": "python",
      "pygments_lexer": "ipython3",
      "version": "3.9.7"
    },
    "orig_nbformat": 4
  },
  "nbformat": 4,
  "nbformat_minor": 0
}
