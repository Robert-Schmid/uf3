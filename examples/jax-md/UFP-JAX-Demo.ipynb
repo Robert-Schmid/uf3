{
 "cells": [
  {
   "cell_type": "code",
   "execution_count": 1,
   "metadata": {},
   "outputs": [
    {
     "name": "stderr",
     "output_type": "stream",
     "text": [
      "<frozen importlib._bootstrap>:228: RuntimeWarning: scipy._lib.messagestream.MessageStream size changed, may indicate binary incompatibility. Expected 56 from C header, got 64 from PyObject\n",
      "WARNING:absl:No GPU/TPU found, falling back to CPU. (Set TF_CPP_MIN_LOG_LEVEL=0 and rerun for more info.)\n"
     ]
    }
   ],
   "source": [
    "import numpy as onp\n",
    "\n",
    "from uf3.jax.physical import stress_neighborlist_fn, stress_neighborlist_featurization_fn, stress_fn\n",
    "\n",
    "import jax.numpy as jnp\n",
    "from jax import random\n",
    "from jax import jit, grad, vmap, value_and_grad, hessian\n",
    "from jax import lax\n",
    "\n",
    "from uf3.forcefield.calculator import *\n",
    "from uf3.representation import bspline\n",
    "from uf3.data import composition\n",
    "from uf3.regression import least_squares\n",
    "\n",
    "from uf3.jax.potentials import uf3_pair, uf2_pair, uf3_neighbor\n",
    "\n",
    "from jax.config import config\n",
    "config.update(\"jax_enable_x64\", True)\n",
    "\n",
    "from jax_md import space, smap, energy, minimize, partition, util\n",
    "\n",
    "f32 = jnp.float32\n",
    "f64 = jnp.float64\n",
    "Array = jnp.ndarray\n",
    "\n",
    "import matplotlib\n",
    "import matplotlib.pyplot as plt\n",
    "plt.rcParams.update({'font.size': 16})\n",
    "\n",
    "def format_plot(x, y):  \n",
    "  plt.grid(True)\n",
    "  plt.xlabel(x, fontsize=20)\n",
    "  plt.ylabel(y, fontsize=20)\n",
    "  \n",
    "def finalize_plot(shape=(1, 0.7)):\n",
    "  plt.gcf().set_size_inches(\n",
    "    shape[0] * 1.5 * plt.gcf().get_size_inches()[1], \n",
    "    shape[1] * 1.5 * plt.gcf().get_size_inches()[1])\n",
    "  plt.tight_layout()\n",
    "\n",
    "def plot_system(R,box_size,species=None,ms=20):\n",
    "  R_plt = onp.array(R)\n",
    "\n",
    "  if(species is None):\n",
    "    plt.plot(R_plt[:, 0], R_plt[:, 1], 'o', markersize=ms)\n",
    "  else:\n",
    "    for ii in range(jnp.amax(species)+1):\n",
    "      Rtemp = R_plt[species==ii]\n",
    "      plt.plot(Rtemp[:, 0], Rtemp[:, 1], 'o', markersize=ms)\n",
    "\n",
    "  plt.xlim([0, box_size])\n",
    "  plt.ylim([0, box_size])\n",
    "  plt.xticks([], [])\n",
    "  plt.yticks([], [])\n",
    "\n",
    "  finalize_plot((1,1))\n",
    "  \n",
    "key = random.PRNGKey(0)"
   ]
  },
  {
   "cell_type": "markdown",
   "metadata": {},
   "source": [
    "## Loading potential from file"
   ]
  },
  {
   "cell_type": "code",
   "execution_count": 2,
   "metadata": {},
   "outputs": [],
   "source": [
    "element_list = ['W']\n",
    "degree = 2\n",
    "\n",
    "chemical_system = composition.ChemicalSystem(element_list=element_list,\n",
    "                                             degree=degree)\n",
    "\n",
    "r_min_map = {('W', 'W'): 1.5,\n",
    "            }\n",
    "r_max_map = {('W', 'W'): 5.5,\n",
    "            }\n",
    "resolution_map = {('W', 'W'): 25,\n",
    "                 }\n",
    "trailing_trim = 3\n",
    "\n",
    "bspline_config = bspline.BSplineBasis(chemical_system,\n",
    "                                      r_min_map=r_min_map,\n",
    "                                      r_max_map=r_max_map,\n",
    "                                      resolution_map=resolution_map,\n",
    "                                      trailing_trim=trailing_trim)\n",
    "\n",
    "model = least_squares.WeightedLinearModel(bspline_config)\n",
    "\n",
    "model.load(filename=\"../tungsten_extxyz/model_pair.json\")\n",
    "calc2 = UFCalculator(model)\n",
    "\n",
    "ndspline2 = calc2.pair_potentials[('W','W')]\n",
    "c1 = jnp.asarray(calc2.coefficients[0])\n",
    "c2 = jnp.asarray(ndspline2.coefficients)\n",
    "c2 = c2[:,0]\n",
    "\n",
    "coefficients_pair = [c1, c2]"
   ]
  },
  {
   "cell_type": "code",
   "execution_count": 3,
   "metadata": {},
   "outputs": [],
   "source": [
    "element_list = ['W']\n",
    "degree = 3\n",
    "\n",
    "chemical_system = composition.ChemicalSystem(element_list=element_list,\n",
    "                                             degree=degree)\n",
    "\n",
    "r_min_map = {(\"W\", \"W\"): 1.5,\n",
    "             (\"W\", \"W\", \"W\"): [1.5, 1.5, 1.5],\n",
    "            }\n",
    "r_max_map = {(\"W\", \"W\"): 5.5,\n",
    "             (\"W\", \"W\", \"W\"): [3.5, 3.5, 7.0],\n",
    "            }\n",
    "resolution_map = {(\"W\", \"W\"): 25,\n",
    "                  (\"W\", \"W\", \"W\"): [5, 5, 10],\n",
    "                 }\n",
    "trailing_trim = 3\n",
    "\n",
    "bspline_config = bspline.BSplineBasis(chemical_system,\n",
    "                                      r_min_map=r_min_map,\n",
    "                                      r_max_map=r_max_map,\n",
    "                                      resolution_map=resolution_map,\n",
    "                                      trailing_trim=trailing_trim)\n",
    "\n",
    "model = least_squares.WeightedLinearModel(bspline_config)\n",
    "\n",
    "model.load(filename=\"../tungsten_extxyz/model_uf23.json\")\n",
    "\n",
    "calc3 = UFCalculator(model)\n",
    "\n",
    "ndspline2 = calc3.pair_potentials[('W','W')]\n",
    "ndspline3 = calc3.trio_potentials[('W','W','W')]\n",
    "coefficients1 = jnp.asarray(calc3.coefficients[0])\n",
    "coefficients2 = jnp.asarray(ndspline2.coefficients[:,0])\n",
    "\n",
    "knots2 = [jnp.asarray(ndspline2.knots[0])]\n",
    "\n",
    "coefficients3 = jnp.asarray(ndspline3.coefficients[:,:,:,0])\n",
    "\n",
    "knots3 = ndspline3.knots\n",
    "knots3 = [jnp.asarray(i) for i in knots3]\n",
    "\n",
    "coefficients_uf23 = [coefficients1, coefficients2, coefficients3]\n",
    "knots = [knots2, knots3]"
   ]
  },
  {
   "cell_type": "markdown",
   "metadata": {},
   "source": [
    "## Building neighbor list and data"
   ]
  },
  {
   "cell_type": "code",
   "execution_count": 4,
   "metadata": {},
   "outputs": [
    {
     "data": {
      "image/png": "[encoded data removed]",
      "text/plain": [
       "<Figure size 432x432 with 1 Axes>"
      ]
     },
     "metadata": {},
     "output_type": "display_data"
    }
   ],
   "source": [
    "N = 50\n",
    "dimension = 3\n",
    "box_size = 12.0\n",
    "\n",
    "key, split = random.split(key)\n",
    "R = random.uniform(split, (N,dimension), minval=0.0, maxval=box_size, dtype=f64) \n",
    "\n",
    "plot_system(R,box_size)"
   ]
  },
  {
   "cell_type": "code",
   "execution_count": 5,
   "metadata": {},
   "outputs": [],
   "source": [
    "box = jnp.eye(dimension) * box_size\n",
    "displacement, shift = space.periodic_general(box, fractional_coordinates=False)"
   ]
  },
  {
   "cell_type": "code",
   "execution_count": 6,
   "metadata": {},
   "outputs": [
    {
     "data": {
      "text/plain": [
       "DeviceArray(1, dtype=int16)"
      ]
     },
     "execution_count": 6,
     "metadata": {},
     "output_type": "execute_result"
    }
   ],
   "source": [
    "species = onp.concatenate([onp.zeros(N//2), onp.ones(N-(N//2))])\n",
    "rng = onp.random.default_rng()\n",
    "rng.shuffle(species)\n",
    "species = jnp.asarray(species, dtype=jnp.int16)\n",
    "# print(species)\n",
    "jnp.max(species)"
   ]
  },
  {
   "cell_type": "markdown",
   "metadata": {},
   "source": [
    "### Original ASE implementation"
   ]
  },
  {
   "cell_type": "code",
   "execution_count": 7,
   "metadata": {},
   "outputs": [],
   "source": [
    "pos = np.array(R, np.float64)\n",
    "c = onp.identity(3) * box_size\n",
    "atoms = ase.Atoms('W'+str(len(pos)), positions=pos, cell=c, pbc=[True,True,True])"
   ]
  },
  {
   "cell_type": "code",
   "execution_count": 8,
   "metadata": {},
   "outputs": [
    {
     "name": "stdout",
     "output_type": "stream",
     "text": [
      "15.986876951821294\n",
      "-352.0040041042677\n",
      "[[  1.2768243    1.70313186   0.23887351]\n",
      " [-10.44758428  -8.33767557   3.39379   ]\n",
      " [  2.60586324   4.97259042   3.89204412]\n",
      " [ -0.55074664   0.26743873   0.09513955]\n",
      " [ -2.53307871   2.15982274   2.61948677]]\n",
      "[[-0.0311782   0.00348695  0.01053065]\n",
      " [ 0.00348695 -0.0967095   0.00455333]\n",
      " [ 0.01053065  0.00455333 -0.05696973]]\n"
     ]
    }
   ],
   "source": [
    "atoms.set_calculator(calc2)\n",
    "print(atoms.get_potential_energy(force_consistent=True))\n",
    "print(atoms.get_potential_energy(force_consistent=False))\n",
    "print(atoms.get_forces()[:5])\n",
    "print(atoms.get_stress(voigt=False))"
   ]
  },
  {
   "cell_type": "code",
   "execution_count": 9,
   "metadata": {},
   "outputs": [
    {
     "name": "stdout",
     "output_type": "stream",
     "text": [
      "-75.28736789560735\n",
      "-420.7503645165807\n",
      "[[-2.52646570e+01 -4.87098596e+01  3.50859164e+01]\n",
      " [-1.86978778e+02 -2.43239380e+02  5.51235884e+01]\n",
      " [ 1.04581521e+01  4.97714918e+00  3.46721515e+01]\n",
      " [-9.12927994e-01 -5.94236186e-02 -1.49492501e-01]\n",
      " [ 9.69840669e+01  6.55970930e+01  3.09038253e+01]]\n",
      "[[ 0.2863429   0.19869209  0.17628195]\n",
      " [ 0.19869209  0.27075495 -0.25227657]\n",
      " [ 0.17628195 -0.25227657  0.20163524]]\n"
     ]
    }
   ],
   "source": [
    "atoms.set_calculator(calc3)\n",
    "print(atoms.get_potential_energy(force_consistent=True))\n",
    "print(atoms.get_potential_energy(force_consistent=False))\n",
    "print(atoms.get_forces()[:5])\n",
    "print(atoms.get_stress(voigt=False))"
   ]
  },
  {
   "cell_type": "markdown",
   "metadata": {},
   "source": [
    "## Potential"
   ]
  },
  {
   "cell_type": "markdown",
   "metadata": {},
   "source": [
    "### Lennard-Jones"
   ]
  },
  {
   "cell_type": "code",
   "execution_count": 10,
   "metadata": {},
   "outputs": [
    {
     "name": "stderr",
     "output_type": "stream",
     "text": [
      "/opt/anaconda/envs/uf3/lib/python3.9/site-packages/jax/_src/ops/scatter.py:87: FutureWarning: scatter inputs have incompatible types: cannot safely cast value from dtype=int64 to dtype=int32. In future JAX releases this will result in an error.\n",
      "  warnings.warn(\"scatter inputs have incompatible types: cannot safely cast \"\n"
     ]
    }
   ],
   "source": [
    "from jax_md.energy import lennard_jones_neighbor_list\n",
    "\n",
    "nflj, eflj = lennard_jones_neighbor_list(displacement, box_size, r_cutoff=5.5)\n",
    "nbrslj = nflj.allocate(R)\n",
    "eflj = jit(eflj)"
   ]
  },
  {
   "cell_type": "code",
   "execution_count": 11,
   "metadata": {},
   "outputs": [
    {
     "data": {
      "text/plain": [
       "DeviceArray(2.6251813e+08, dtype=float64)"
      ]
     },
     "execution_count": 11,
     "metadata": {},
     "output_type": "execute_result"
    }
   ],
   "source": [
    "eflj(R, nbrslj)"
   ]
  },
  {
   "cell_type": "markdown",
   "metadata": {},
   "source": [
    "### Stillinger Weber"
   ]
  },
  {
   "cell_type": "code",
   "execution_count": 12,
   "metadata": {},
   "outputs": [],
   "source": [
    "from jax_md.energy import stillinger_weber_neighbor_list\n",
    "nfsw, efsw = stillinger_weber_neighbor_list(displacement, box_size, cutoff=5.5)\n",
    "nbrssw = nfsw.allocate(R)\n",
    "efsw = jit(efsw)"
   ]
  },
  {
   "cell_type": "code",
   "execution_count": 13,
   "metadata": {},
   "outputs": [
    {
     "data": {
      "text/plain": [
       "DeviceArray(52377.53372771, dtype=float64)"
      ]
     },
     "execution_count": 13,
     "metadata": {},
     "output_type": "execute_result"
    }
   ],
   "source": [
    "efsw(R, nbrssw)"
   ]
  },
  {
   "cell_type": "markdown",
   "metadata": {},
   "source": [
    "### UF 2-body potential"
   ]
  },
  {
   "cell_type": "code",
   "execution_count": 14,
   "metadata": {},
   "outputs": [
    {
     "data": {
      "text/plain": [
       "DeviceArray(-352.0040041, dtype=float64)"
      ]
     },
     "execution_count": 14,
     "metadata": {},
     "output_type": "execute_result"
    }
   ],
   "source": [
    "pair2 = uf2_pair(displacement, knots[0], coefficients=coefficients_pair)\n",
    "\n",
    "pair2 = jit(pair2)\n",
    "pair2(R)"
   ]
  },
  {
   "cell_type": "code",
   "execution_count": 15,
   "metadata": {},
   "outputs": [
    {
     "name": "stderr",
     "output_type": "stream",
     "text": [
      "/opt/anaconda/envs/uf3/lib/python3.9/site-packages/jax/_src/ops/scatter.py:87: FutureWarning: scatter inputs have incompatible types: cannot safely cast value from dtype=int64 to dtype=int32. In future JAX releases this will result in an error.\n",
      "  warnings.warn(\"scatter inputs have incompatible types: cannot safely cast \"\n"
     ]
    },
    {
     "name": "stdout",
     "output_type": "stream",
     "text": [
      "15.986876951821273\n",
      "-352.0040041042677\n"
     ]
    }
   ],
   "source": [
    "nf2, ef2 = uf3_neighbor(displacement, box_size, knots=knots[:-1], coefficients=coefficients_pair)\n",
    "nbrs2 = nf2.allocate(R)\n",
    "ef2 = jit(ef2)\n",
    "print(ef2(R, nbrs2, coefficients=coefficients_pair[1:]))\n",
    "print(ef2(R, nbrs2))"
   ]
  },
  {
   "cell_type": "code",
   "execution_count": 16,
   "metadata": {},
   "outputs": [
    {
     "data": {
      "text/plain": [
       "(50, 3)"
      ]
     },
     "execution_count": 16,
     "metadata": {},
     "output_type": "execute_result"
    }
   ],
   "source": [
    "grad(ef2)(R, nbrs2).shape"
   ]
  },
  {
   "cell_type": "code",
   "execution_count": 17,
   "metadata": {},
   "outputs": [
    {
     "data": {
      "text/plain": [
       "DeviceArray([[-0.03294612, -0.00098631,  0.00763032],\n",
       "             [-0.00098631, -0.09284145,  0.00803835],\n",
       "             [ 0.00763032,  0.00803835, -0.05203945]], dtype=float64)"
      ]
     },
     "execution_count": 17,
     "metadata": {},
     "output_type": "execute_result"
    }
   ],
   "source": [
    "box = jnp.eye(dimension) * box_size\n",
    "stress_ufp2 = stress_neighborlist_fn(ef2, box)\n",
    "stress_ufp2(R, nbrs2)"
   ]
  },
  {
   "cell_type": "code",
   "execution_count": 18,
   "metadata": {},
   "outputs": [
    {
     "data": {
      "text/plain": [
       "(50, 3, 50, 3)"
      ]
     },
     "execution_count": 18,
     "metadata": {},
     "output_type": "execute_result"
    }
   ],
   "source": [
    "hessian(ef2)(R, nbrs2).shape"
   ]
  },
  {
   "cell_type": "markdown",
   "metadata": {},
   "source": [
    "### UF3 3-body potential"
   ]
  },
  {
   "cell_type": "code",
   "execution_count": 19,
   "metadata": {},
   "outputs": [
    {
     "data": {
      "text/plain": [
       "DeviceArray(-420.75036452, dtype=float64)"
      ]
     },
     "execution_count": 19,
     "metadata": {},
     "output_type": "execute_result"
    }
   ],
   "source": [
    "pair3 = uf3_pair(displacement, knots, coefficients=coefficients_uf23)\n",
    "\n",
    "pair3 = jit(pair3)\n",
    "pair3(R)"
   ]
  },
  {
   "cell_type": "code",
   "execution_count": 20,
   "metadata": {},
   "outputs": [
    {
     "name": "stdout",
     "output_type": "stream",
     "text": [
      "-75.28736789560716\n",
      "-420.7503645165805\n"
     ]
    }
   ],
   "source": [
    "nf3, ef3 = uf3_neighbor(displacement,box_size ,knots=knots, coefficients=coefficients_uf23[1:])\n",
    "nbrs3 = nf3.allocate(R)\n",
    "\n",
    "ef3 = jit(ef3)\n",
    "\n",
    "print(ef3(R, neighbor=nbrs3, coefficients=coefficients_uf23[1:]))\n",
    "print(ef3(R, neighbor=nbrs3, coefficients=coefficients_uf23))"
   ]
  },
  {
   "cell_type": "markdown",
   "metadata": {},
   "source": [
    "### Dictionaies for UF potentials with species."
   ]
  },
  {
   "cell_type": "code",
   "execution_count": 21,
   "metadata": {},
   "outputs": [],
   "source": [
    "coeff_dict = {}\n",
    "coeff_dict[(0,0)] = coefficients2\n",
    "coeff_dict[(0,1)] = coefficients2\n",
    "coeff_dict[(1,1)] = coefficients2\n",
    "\n",
    "knot_dict = {}\n",
    "knot_dict[(0,0)] = knots[0]\n",
    "knot_dict[(0,1)] = knots[0]\n",
    "knot_dict[(1,1)] = knots[0]\n",
    "\n",
    "c3 = {}\n",
    "c3[(0,0,0)] = coefficients3\n",
    "c3[(0,0,1)] = coefficients3\n",
    "c3[(0,1,1)] = coefficients3\n",
    "c3[(1,0,0)] = coefficients3\n",
    "c3[(1,0,1)] = coefficients3\n",
    "c3[(1,1,1)] = coefficients3\n",
    "\n",
    "k3 = {}\n",
    "k3[(0,0,0)] = knots[1]\n",
    "k3[(0,0,1)] = knots[1]\n",
    "k3[(0,1,1)] = knots[1]\n",
    "k3[(1,0,0)] = knots[1]\n",
    "k3[(1,0,1)] = knots[1]\n",
    "k3[(1,1,1)] = knots[1]"
   ]
  },
  {
   "cell_type": "markdown",
   "metadata": {},
   "source": [
    "### UF 3-body potential with species"
   ]
  },
  {
   "cell_type": "code",
   "execution_count": 22,
   "metadata": {},
   "outputs": [],
   "source": [
    "nf3s, ef3s = uf3_neighbor(displacement, box_size, species=species, knots=[knot_dict, k3], coefficients=[jnp.asarray([coefficients1]), coeff_dict, c3])\n",
    "nbrs3s = nf3s.allocate(R)\n",
    "ef3s = jit(ef3s)"
   ]
  },
  {
   "cell_type": "code",
   "execution_count": 23,
   "metadata": {},
   "outputs": [
    {
     "name": "stdout",
     "output_type": "stream",
     "text": [
      "-420.7503645165807\n"
     ]
    }
   ],
   "source": [
    "print(ef3s(R, neighbor=nbrs3s, coefficients=[jnp.asarray([coefficients1]), coeff_dict, c3]))"
   ]
  },
  {
   "cell_type": "markdown",
   "metadata": {},
   "source": [
    "### UF 2-body potential with species"
   ]
  },
  {
   "cell_type": "code",
   "execution_count": 24,
   "metadata": {},
   "outputs": [
    {
     "name": "stderr",
     "output_type": "stream",
     "text": [
      "/opt/anaconda/envs/uf3/lib/python3.9/site-packages/jax/_src/ops/scatter.py:87: FutureWarning: scatter inputs have incompatible types: cannot safely cast value from dtype=int64 to dtype=int32. In future JAX releases this will result in an error.\n",
      "  warnings.warn(\"scatter inputs have incompatible types: cannot safely cast \"\n"
     ]
    }
   ],
   "source": [
    "nf2s, ef2s = uf3_neighbor(displacement, box_size, species=species, knots=[knot_dict], coefficients=[coeff_dict])\n",
    "nbrs2s = nf2s.allocate(R)\n",
    "ef2s = jit(ef2s)"
   ]
  },
  {
   "cell_type": "code",
   "execution_count": 25,
   "metadata": {},
   "outputs": [
    {
     "name": "stdout",
     "output_type": "stream",
     "text": [
      "114.27526073760461\n"
     ]
    }
   ],
   "source": [
    "print(ef2s(R, neighbor=nbrs2s, coefficients=[coeff_dict]))"
   ]
  },
  {
   "cell_type": "markdown",
   "metadata": {},
   "source": [
    "### UF 2-body potential with featurization"
   ]
  },
  {
   "cell_type": "code",
   "execution_count": 35,
   "metadata": {},
   "outputs": [],
   "source": [
    "nf2f, ef2f = uf3_neighbor(displacement, box_size, knots=knots[:-1], coefficients=coefficients_pair, featurization=True, force_features=False)\n",
    "nbrs2f = nf2f.allocate(R)\n",
    "ef2f = jit(ef2f)"
   ]
  },
  {
   "cell_type": "code",
   "execution_count": 36,
   "metadata": {},
   "outputs": [
    {
     "data": {
      "text/plain": [
       "(50, 28)"
      ]
     },
     "execution_count": 36,
     "metadata": {},
     "output_type": "execute_result"
    }
   ],
   "source": [
    "ef2f(R, nbrs2f).shape"
   ]
  },
  {
   "cell_type": "code",
   "execution_count": 38,
   "metadata": {},
   "outputs": [
    {
     "data": {
      "text/plain": [
       "DeviceArray(15.98687695, dtype=float64)"
      ]
     },
     "execution_count": 38,
     "metadata": {},
     "output_type": "execute_result"
    }
   ],
   "source": [
    "jnp.sum(ef2f(R, nbrs2f))"
   ]
  },
  {
   "cell_type": "code",
   "execution_count": 39,
   "metadata": {},
   "outputs": [],
   "source": [
    "box = jnp.eye(dimension) * box_size"
   ]
  },
  {
   "cell_type": "code",
   "execution_count": 40,
   "metadata": {},
   "outputs": [],
   "source": [
    "stress_ufp2f = stress_neighborlist_featurization_fn(ef2f, box)"
   ]
  },
  {
   "cell_type": "code",
   "execution_count": 47,
   "metadata": {},
   "outputs": [
    {
     "name": "stdout",
     "output_type": "stream",
     "text": [
      "(50, 28, 3, 3)\n",
      "(28, 3, 3)\n",
      "[[-0.03294612 -0.00098631  0.00763032]\n",
      " [-0.00098631 -0.09284145  0.00803835]\n",
      " [ 0.00763032  0.00803835 -0.05203945]]\n"
     ]
    }
   ],
   "source": [
    "s = stress_ufp2f(R, nbrs2f)\n",
    "print(s.shape) # per atom per coefficient stress tensor\n",
    "print(jnp.sum(s,0).shape) # per coefficient stress tensor\n",
    "print(jnp.sum(s,[0,1])) # original system stress"
   ]
  },
  {
   "cell_type": "markdown",
   "metadata": {},
   "source": [
    "### UF 3-body potential with featurization"
   ]
  },
  {
   "cell_type": "code",
   "execution_count": 32,
   "metadata": {},
   "outputs": [],
   "source": [
    "nf3f, ef3f = uf3_neighbor(displacement,box_size ,knots=[knots2, knots3], featurization=True, force_features=False)\n",
    "nbrs3f = nf3f.allocate(R[:50])\n",
    "\n",
    "ef3f = jit(ef3f)"
   ]
  },
  {
   "cell_type": "code",
   "execution_count": 33,
   "metadata": {},
   "outputs": [
    {
     "name": "stdout",
     "output_type": "stream",
     "text": [
      "(50, 28)\n",
      "(50, 832)\n"
     ]
    }
   ],
   "source": [
    "a, b = ef3f(R[:50], neighbor=nbrs3f, coefficients=[coefficients2, coefficients3])\n",
    "print(a.shape)\n",
    "print(b.shape)"
   ]
  },
  {
   "cell_type": "code",
   "execution_count": 34,
   "metadata": {},
   "outputs": [
    {
     "data": {
      "text/plain": [
       "DeviceArray(-264.84999653, dtype=float64)"
      ]
     },
     "execution_count": 34,
     "metadata": {},
     "output_type": "execute_result"
    }
   ],
   "source": [
    "jnp.sum(b) + jnp.sum(a)"
   ]
  },
  {
   "cell_type": "markdown",
   "metadata": {
    "jp-MarkdownHeadingCollapsed": true,
    "tags": []
   },
   "source": [
    "## Benchmarks"
   ]
  },
  {
   "cell_type": "code",
   "execution_count": 35,
   "metadata": {},
   "outputs": [],
   "source": [
    "key, split = random.split(key)\n",
    "R = random.uniform(split, (N,dimension), minval=0.0, maxval=box_size, dtype=f64)\n",
    "key, split = random.split(key)\n",
    "Rc = random.uniform(split, (N,dimension), minval=0.0, maxval=box_size, dtype=f64)\n",
    "pos = np.array(R, np.float64)\n",
    "c = onp.identity(3) * box_size\n",
    "atoms = ase.Atoms('W'+str(len(pos)), positions=pos, cell=c, pbc=[True,True,True])"
   ]
  },
  {
   "cell_type": "code",
   "execution_count": 36,
   "metadata": {},
   "outputs": [],
   "source": [
    "nbrslj = nflj.allocate(R)\n",
    "nbrssw = nfsw.allocate(R)\n",
    "nbrs2 = nf2.allocate(R)\n",
    "nbrs2s = nf2s.allocate(R)\n",
    "nbrs3 = nf3.allocate(R)\n",
    "nbrs3s = nf3s.allocate(R)\n",
    "\n",
    "nbrsljc = nflj.allocate(Rc)\n",
    "nbrsswc = nfsw.allocate(Rc)\n",
    "nbrs2c = nf2.allocate(Rc)\n",
    "nbrs2sc = nf2s.allocate(Rc)\n",
    "nbrs3c = nf3.allocate(Rc)\n",
    "nbrs3sc = nf3s.allocate(Rc)"
   ]
  },
  {
   "cell_type": "code",
   "execution_count": 37,
   "metadata": {},
   "outputs": [],
   "source": [
    "e = [0.0] * 10 # energy benchmarks\n",
    "f = [0.0] * 10 # forces benchmarks\n",
    "s = [0.0] * 10 # stress benchmarks\n",
    "h = [0.0] * 10 # hessian benchmarks"
   ]
  },
  {
   "cell_type": "code",
   "execution_count": 38,
   "metadata": {},
   "outputs": [
    {
     "name": "stdout",
     "output_type": "stream",
     "text": [
      "59.7 µs ± 19.6 µs per loop (mean ± std. dev. of 7 runs, 1 loop each)\n",
      "103 µs ± 16.3 µs per loop (mean ± std. dev. of 7 runs, 1 loop each)\n",
      "331 µs ± 31.9 µs per loop (mean ± std. dev. of 7 runs, 1 loop each)\n",
      "175 µs ± 25.8 µs per loop (mean ± std. dev. of 7 runs, 1 loop each)\n"
     ]
    }
   ],
   "source": [
    "# Lennard-Jones\n",
    "e[0] = %timeit -o eflj(R, nbrslj).block_until_ready()\n",
    "flj = jit(grad(eflj))\n",
    "flj(Rc, nbrsljc)\n",
    "f[0] = %timeit -o flj(R, nbrslj).block_until_ready()\n",
    "stress_lj = jit(stress_neighborlist_fn(eflj, box))\n",
    "stress_lj(Rc, nbrs2c)\n",
    "s[0] = %timeit -o stress_lj(R, nbrs2).block_until_ready()\n",
    "fn = jit(hessian(eflj))\n",
    "fn(Rc, nbrsljc)\n",
    "h[0] = %timeit -o fn(R, nbrslj).block_until_ready()"
   ]
  },
  {
   "cell_type": "code",
   "execution_count": 39,
   "metadata": {},
   "outputs": [
    {
     "name": "stdout",
     "output_type": "stream",
     "text": [
      "2.02 ms ± 18.2 µs per loop (mean ± std. dev. of 7 runs, 100 loops each)\n",
      "6.27 ms ± 14.6 µs per loop (mean ± std. dev. of 7 runs, 100 loops each)\n",
      "24.9 ms ± 126 µs per loop (mean ± std. dev. of 7 runs, 10 loops each)\n"
     ]
    }
   ],
   "source": [
    "# UFP ASE 2-body\n",
    "atoms.set_calculator(calc2)\n",
    "e[1] = %timeit -o atoms.get_potential_energy(force_consistent=True)\n",
    "# e[1] = %timeit -o atoms.get_potential_energy(force_consistent=False)\n",
    "f[1] = %timeit -o atoms.get_forces()\n",
    "s[1] = %timeit -o atoms.get_stress(voigt=False)\n",
    "h[1] = onp.nan"
   ]
  },
  {
   "cell_type": "code",
   "execution_count": 40,
   "metadata": {},
   "outputs": [
    {
     "name": "stdout",
     "output_type": "stream",
     "text": [
      "282 µs ± 1.61 µs per loop (mean ± std. dev. of 7 runs, 1,000 loops each)\n",
      "260 µs ± 3.71 µs per loop (mean ± std. dev. of 7 runs, 1,000 loops each)\n",
      "487 µs ± 3.89 µs per loop (mean ± std. dev. of 7 runs, 1,000 loops each)\n",
      "1.01 ms ± 3.22 µs per loop (mean ± std. dev. of 7 runs, 1,000 loops each)\n"
     ]
    }
   ],
   "source": [
    "# UFP 2\n",
    "e[2] = %timeit -o pair2(R).block_until_ready()\n",
    "fp2 = jit(grad(pair2))\n",
    "fp2(Rc)\n",
    "f[2] = %timeit -o fp2(R).block_until_ready()\n",
    "stress_uf2 = jit(stress_fn(pair2, box))\n",
    "stress_uf2(Rc)\n",
    "s[2] = %timeit -o stress_uf2(R).block_until_ready()\n",
    "fn = jit(hessian(pair2))\n",
    "fn(Rc)\n",
    "h[2] = %timeit -o fn(R).block_until_ready()"
   ]
  },
  {
   "cell_type": "code",
   "execution_count": 41,
   "metadata": {},
   "outputs": [
    {
     "name": "stdout",
     "output_type": "stream",
     "text": [
      "304 µs ± 86.8 µs per loop (mean ± std. dev. of 7 runs, 1 loop each)\n",
      "236 µs ± 88.5 µs per loop (mean ± std. dev. of 7 runs, 1 loop each)\n",
      "459 µs ± 75 µs per loop (mean ± std. dev. of 7 runs, 1 loop each)\n",
      "1.03 ms ± 71.2 µs per loop (mean ± std. dev. of 7 runs, 1 loop each)\n"
     ]
    }
   ],
   "source": [
    "# UFP 2 neighbor-list\n",
    "e[3] = %timeit -o ef2(R, nbrs2).block_until_ready()\n",
    "f2 = jit(grad(ef2))\n",
    "f2(Rc, nbrs2c)\n",
    "f[3] = %timeit -o f2(R, nbrs2).block_until_ready()\n",
    "stress_2 = jit(stress_neighborlist_fn(ef2, box))\n",
    "stress_2(Rc, nbrs2c)\n",
    "s[3] = %timeit -o stress_2(R, nbrs2).block_until_ready()\n",
    "fn = jit(hessian(ef2))\n",
    "fn(Rc, nbrs2c)\n",
    "h[3] = %timeit -o fn(R, nbrs2).block_until_ready()"
   ]
  },
  {
   "cell_type": "code",
   "execution_count": 42,
   "metadata": {},
   "outputs": [
    {
     "name": "stdout",
     "output_type": "stream",
     "text": [
      "233 µs ± 51.3 µs per loop (mean ± std. dev. of 7 runs, 1 loop each)\n",
      "339 µs ± 105 µs per loop (mean ± std. dev. of 7 runs, 1 loop each)\n",
      "592 µs ± 146 µs per loop (mean ± std. dev. of 7 runs, 1 loop each)\n",
      "1.5 ms ± 92.5 µs per loop (mean ± std. dev. of 7 runs, 1 loop each)\n"
     ]
    }
   ],
   "source": [
    "# UFP 2 multicomponent\n",
    "e[4] = %timeit -o ef2s(R, nbrs2s).block_until_ready()\n",
    "f2s = jit(grad(ef2s))\n",
    "f2s(Rc, nbrs2sc)\n",
    "f[4] = %timeit -o f2s(R, nbrs2s).block_until_ready()\n",
    "stress_2s = jit(stress_neighborlist_fn(ef2s, box))\n",
    "stress_2s(Rc, nbrs2sc)\n",
    "s[4] = %timeit -o stress_2s(R, nbrs2s).block_until_ready()\n",
    "fn = jit(hessian(ef2s))\n",
    "fn(Rc, nbrs2sc)\n",
    "h[4] = %timeit -o fn(R, nbrs2s).block_until_ready()"
   ]
  },
  {
   "cell_type": "code",
   "execution_count": 43,
   "metadata": {},
   "outputs": [
    {
     "name": "stdout",
     "output_type": "stream",
     "text": [
      "142 µs ± 6 µs per loop (mean ± std. dev. of 7 runs, 1 loop each)\n",
      "217 µs ± 25.6 µs per loop (mean ± std. dev. of 7 runs, 1 loop each)\n",
      "458 µs ± 70.8 µs per loop (mean ± std. dev. of 7 runs, 1 loop each)\n",
      "6.75 ms ± 97.7 µs per loop (mean ± std. dev. of 7 runs, 1 loop each)\n"
     ]
    }
   ],
   "source": [
    "# Stillinger-Weber\n",
    "e[5] = %timeit -o efsw(R, nbrssw).block_until_ready()\n",
    "fsw = jit(grad(efsw))\n",
    "fsw(Rc, nbrsswc)\n",
    "f[5] = %timeit -o fsw(R, nbrssw).block_until_ready()\n",
    "stress_sw = jit(stress_neighborlist_fn(efsw, box))\n",
    "stress_sw(Rc, nbrsswc)\n",
    "s[5] = %timeit -o stress_sw(R, nbrssw).block_until_ready()\n",
    "fn = jit(hessian(efsw))\n",
    "fn(Rc, nbrsswc)\n",
    "h[5] = %timeit -o fn(R, nbrssw).block_until_ready()"
   ]
  },
  {
   "cell_type": "code",
   "execution_count": 44,
   "metadata": {},
   "outputs": [
    {
     "name": "stdout",
     "output_type": "stream",
     "text": [
      "23.7 ms ± 89.8 µs per loop (mean ± std. dev. of 7 runs, 10 loops each)\n",
      "167 ms ± 739 µs per loop (mean ± std. dev. of 7 runs, 10 loops each)\n",
      "286 ms ± 2.21 ms per loop (mean ± std. dev. of 7 runs, 1 loop each)\n"
     ]
    }
   ],
   "source": [
    "# UFP ASE 3-body\n",
    "atoms.set_calculator(calc3)\n",
    "e[6] = %timeit -o atoms.get_potential_energy(force_consistent=True)\n",
    "# e[6] = %timeit -o atoms.get_potential_energy(force_consistent=False)\n",
    "f[6] = %timeit -o atoms.get_forces()\n",
    "s[6] = %timeit -o atoms.get_stress(voigt=False)\n",
    "h[6] = onp.nan"
   ]
  },
  {
   "cell_type": "code",
   "execution_count": 45,
   "metadata": {},
   "outputs": [
    {
     "name": "stdout",
     "output_type": "stream",
     "text": [
      "811 µs ± 1.5 µs per loop (mean ± std. dev. of 7 runs, 1,000 loops each)\n",
      "2.79 ms ± 38.2 µs per loop (mean ± std. dev. of 7 runs, 100 loops each)\n",
      "2.99 ms ± 8.88 µs per loop (mean ± std. dev. of 7 runs, 100 loops each)\n",
      "894 ms ± 1.52 ms per loop (mean ± std. dev. of 7 runs, 1 loop each)\n"
     ]
    }
   ],
   "source": [
    "# UFP 3\n",
    "e[7] = %timeit -o pair3(R).block_until_ready()\n",
    "fp3 = jit(grad(pair3))\n",
    "fp3(Rc)\n",
    "f[7] = %timeit -o fp3(R).block_until_ready()\n",
    "stress_uf3 = jit(stress_fn(pair3, box))\n",
    "stress_uf3(Rc)\n",
    "s[7] = %timeit -o stress_uf3(R).block_until_ready()\n",
    "fn = jit(hessian(pair3))\n",
    "fn(Rc)\n",
    "h[7] = %timeit -o fn(R).block_until_ready()\n",
    "# h[7] = onp.nan"
   ]
  },
  {
   "cell_type": "code",
   "execution_count": 46,
   "metadata": {},
   "outputs": [
    {
     "name": "stdout",
     "output_type": "stream",
     "text": [
      "808 µs ± 102 µs per loop (mean ± std. dev. of 7 runs, 1 loop each)\n",
      "2.3 ms ± 141 µs per loop (mean ± std. dev. of 7 runs, 1 loop each)\n",
      "2.58 ms ± 115 µs per loop (mean ± std. dev. of 7 runs, 1 loop each)\n",
      "778 ms ± 1.05 ms per loop (mean ± std. dev. of 7 runs, 1 loop each)\n"
     ]
    }
   ],
   "source": [
    "# UFP 3 neighbor-list\n",
    "e[8] = %timeit -o ef3(R, nbrs3).block_until_ready()\n",
    "f3 = jit(grad(ef3))\n",
    "f3(Rc, nbrs3c)\n",
    "f[8] = %timeit -o f3(R, nbrs3).block_until_ready()\n",
    "stress_3 = jit(stress_neighborlist_fn(ef3, box))\n",
    "stress_3(Rc, nbrs3c)\n",
    "s[8] = %timeit -o stress_3(R, nbrs3).block_until_ready()\n",
    "fn = jit(hessian(ef3))\n",
    "fn(Rc, nbrs3c)\n",
    "h[8] = %timeit -o fn(R, nbrs3).block_until_ready()\n",
    "# h[8] = onp.nan"
   ]
  },
  {
   "cell_type": "code",
   "execution_count": 47,
   "metadata": {},
   "outputs": [
    {
     "name": "stdout",
     "output_type": "stream",
     "text": [
      "832 µs ± 386 µs per loop (mean ± std. dev. of 7 runs, 1 loop each)\n",
      "8.14 ms ± 585 µs per loop (mean ± std. dev. of 7 runs, 1 loop each)\n",
      "8.46 ms ± 644 µs per loop (mean ± std. dev. of 7 runs, 1 loop each)\n",
      "2.53 s ± 3.27 ms per loop (mean ± std. dev. of 7 runs, 1 loop each)\n"
     ]
    }
   ],
   "source": [
    "# UFP 3 multicomponent\n",
    "e[9] = %timeit -o ef3s(R, nbrs3s).block_until_ready()\n",
    "f3s = jit(grad(ef3s))\n",
    "f3s(Rc, nbrs3sc)\n",
    "f[9] = %timeit -o f3s(R, nbrs3s).block_until_ready()\n",
    "stress_3s = jit(stress_neighborlist_fn(ef3s, box))\n",
    "stress_3s(Rc, nbrs3sc)\n",
    "s[9] = %timeit -o stress_3s(R, nbrs3s).block_until_ready()\n",
    "fn = jit(hessian(ef3s))\n",
    "fn(Rc, nbrs3sc)\n",
    "h[9] = %timeit -o fn(R, nbrs3s).block_until_ready()\n",
    "# h[9] = onp.nan"
   ]
  },
  {
   "cell_type": "markdown",
   "metadata": {
    "tags": []
   },
   "source": [
    "## Benchmark Results"
   ]
  },
  {
   "cell_type": "code",
   "execution_count": 83,
   "metadata": {},
   "outputs": [
    {
     "data": {
      "image/png": "[encoded data removed]",
      "text/plain": [
       "<Figure size 1080x432 with 2 Axes>"
      ]
     },
     "metadata": {
      "needs_background": "light"
     },
     "output_type": "display_data"
    }
   ],
   "source": [
    "labels = [\n",
    "    \"L-J\",\n",
    "    \"UFP2-ASE\",\n",
    "    \"UFP2\",\n",
    "    \"UFP2-N\",\n",
    "    \"UFP2-MC\",\n",
    "    \"S-W\",\n",
    "    \"UFP3-ASE\",\n",
    "    \"UFP3\",\n",
    "    \"UFP3-N\",\n",
    "    \"UFP3-MC\",\n",
    "]\n",
    "do = lambda x: x if x == 0.0 or (type(x) == float and onp.isnan(x)) else x.average * 1e3\n",
    "energies = [do(E) for E in e]\n",
    "forces = [do(F) for F in f]\n",
    "stress = [do(S) for S in s]\n",
    "hessians = [do(H) for H in h]\n",
    "\n",
    "x = onp.arange(len(labels[:]))  # the label locations\n",
    "width = 0.35 /2 # the width of the bars\n",
    "\n",
    "fig, (ax1, ax2) = plt.subplots(2, 1, figsize=(15, 6), sharex=True)\n",
    "fig.subplots_adjust(hspace=5e-10)\n",
    "\n",
    "rects1 = ax1.bar(x - width *3/ 2, energies[:], width, label=\"Energy\")\n",
    "rects2 = ax1.bar(x- width /2, forces[:], width, label=\"Forces\")\n",
    "rects3 = ax1.bar(x + width / 2, stress[:], width, label=\"Stress\")\n",
    "rects4 = ax1.bar(x + width * 3 / 2, hessians[:], width, label=\"Hessian\")\n",
    "\n",
    "# Add some text for labels, title and custom x-axis tick labels, etc.\n",
    "ax1.set_ylabel(\"Time [ms]\")\n",
    "ax1.set_xticks(x, labels[:])\n",
    "ax1.legend()\n",
    "\n",
    "ax1.bar_label(rects1, padding=3, fmt=\"%.2f\", rotation='vertical')\n",
    "ax1.bar_label(rects2, padding=3, fmt=\"%.2f\", rotation='vertical')\n",
    "ax1.bar_label(rects3, padding=3, fmt=\"%.2f\", rotation='vertical')\n",
    "ax1.bar_label(rects4, padding=3, fmt=\"%.2f\", rotation='vertical')\n",
    "\n",
    "rects1 = ax2.bar(x - width *3/2, energies[:], width, label=\"Energy\")\n",
    "rects2 = ax2.bar(x - width /2, forces[:], width, label=\"Forces\")\n",
    "rects3 = ax2.bar(x + width / 2, stress[:], width, label=\"Stress\")\n",
    "rects4 = ax2.bar(x + width * 3 / 2, hessians[:], width, label=\"Hessian\")\n",
    "\n",
    "# Add some text for labels, title and custom x-axis tick labels, etc.\n",
    "# ax2.set_ylabel(\"Time [ms]\")\n",
    "ax2.set_xticks(x, labels[:])\n",
    "# ax2.legend()\n",
    "\n",
    "ax2.bar_label(rects1, padding=3, fmt=\"%.2f\", rotation='vertical')\n",
    "ax2.bar_label(rects2, padding=3, fmt=\"%.2f\", rotation='vertical')\n",
    "ax2.bar_label(rects3, padding=3, fmt=\"%.2f\", rotation='vertical')\n",
    "ax2.bar_label(rects4, padding=3, fmt=\"%.2f\", rotation='vertical')\n",
    "\n",
    "ax1.spines.bottom.set_visible(False)\n",
    "ax2.spines.top.set_visible(False)\n",
    "ax1.xaxis.tick_top()\n",
    "ax1.tick_params(labeltop=False)  # don't put tick labels at the top\n",
    "ax2.xaxis.tick_bottom()\n",
    "\n",
    "d = .5  # proportion of vertical to horizontal extent of the slanted line\n",
    "kwargs = dict(marker=[(-1, -d), (1, d)], markersize=12,\n",
    "              linestyle=\"none\", color='k', mec='k', mew=1, clip_on=False)\n",
    "ax1.plot([0, 1], [0, 0], transform=ax1.transAxes, **kwargs)\n",
    "ax2.plot([0, 1], [1, 1], transform=ax2.transAxes, **kwargs)\n",
    "\n",
    "ax1.set_ylim(20, 60000)\n",
    "ax1.set_yscale('log')\n",
    "ax2.set_ylim(0, 10)\n",
    "\n",
    "fig.tight_layout()\n",
    "\n",
    "plt.show()\n",
    "\n",
    "fig.savefig('potentials-benchmark.png', dpi=fig.dpi)\n"
   ]
  },
  {
   "cell_type": "code",
   "execution_count": 49,
   "metadata": {},
   "outputs": [
    {
     "data": {
      "image/png": "[encoded data removed]",
      "text/plain": [
       "<Figure size 864x360 with 1 Axes>"
      ]
     },
     "metadata": {
      "needs_background": "light"
     },
     "output_type": "display_data"
    }
   ],
   "source": [
    "labels = [\n",
    "    \"L-J\",\n",
    "    \"UFP2-ASE\",\n",
    "    \"UFP2\",\n",
    "    \"UFP2-N\",\n",
    "    \"UFP2-MC\",\n",
    "    \"S-W\",\n",
    "    \"UFP3-ASE\",\n",
    "    \"UFP3\",\n",
    "    \"UFP3-N\",\n",
    "    \"UFP3-MC\",\n",
    "]\n",
    "do = lambda x: x if x == 0.0 or (type(x) == float and onp.isnan(x)) else x.average * 1e3\n",
    "hessians = [do(H) for H in h]\n",
    "\n",
    "x = onp.arange(len(labels[:]))  # the label locations\n",
    "width = 0.35  # the width of the bars\n",
    "\n",
    "fig, ax1 = plt.subplots(figsize=(12, 5))\n",
    "rects4 = ax1.barh(x, hessians[:][::-1], width, label=\"Hessian\")\n",
    "\n",
    "# Add some text for labels, title and custom x-axis tick labels, etc.\n",
    "ax1.set_xlabel(\"Time [ms]\")\n",
    "ax1.set_xscale('log')\n",
    "ax1.set_yticks(x, labels[:][::-1])\n",
    "ax1.set_xbound(upper=7000)\n",
    "ax1.legend()\n",
    "\n",
    "# ax1.bar_label(rects1, padding=3, fmt=\"%.2f\", rotation='vertical')\n",
    "# ax1.bar_label(rects2, padding=3, fmt=\"%.2f\", rotation='vertical')\n",
    "# ax1.bar_label(rects3, padding=3, fmt=\"%.2f\", rotation='vertical')\n",
    "ax1.bar_label(rects4, padding=3, fmt=\"%.2f\")\n",
    "\n",
    "fig.tight_layout()\n",
    "\n",
    "plt.show()\n",
    "\n",
    "fig.savefig('potentials-benchmark-hessian.png', dpi=fig.dpi)\n"
   ]
  },
  {
   "cell_type": "markdown",
   "metadata": {},
   "source": [
    "## Scaling Benchmark"
   ]
  },
  {
   "cell_type": "code",
   "execution_count": 36,
   "metadata": {},
   "outputs": [
    {
     "name": "stdout",
     "output_type": "stream",
     "text": [
      "For 50 atoms:\n",
      "99.3 µs ± 27.7 µs per loop (mean ± std. dev. of 7 runs, 1 loop each)\n",
      "176 µs ± 225 ns per loop (mean ± std. dev. of 7 runs, 10,000 loops each)\n",
      "174 µs ± 487 ns per loop (mean ± std. dev. of 7 runs, 10,000 loops each)\n",
      "2.21 ms ± 38.8 µs per loop (mean ± std. dev. of 7 runs, 100 loops each)\n",
      "For 100 atoms:\n",
      "92.2 µs ± 20.9 µs per loop (mean ± std. dev. of 7 runs, 1 loop each)\n",
      "377 µs ± 29.7 µs per loop (mean ± std. dev. of 7 runs, 1 loop each)\n",
      "224 µs ± 37.3 µs per loop (mean ± std. dev. of 7 runs, 1 loop each)\n",
      "8.83 ms ± 33.2 µs per loop (mean ± std. dev. of 7 runs, 1 loop each)\n",
      "For 150 atoms:\n",
      "103 µs ± 15.4 µs per loop (mean ± std. dev. of 7 runs, 1 loop each)\n",
      "848 µs ± 31.7 µs per loop (mean ± std. dev. of 7 runs, 1 loop each)\n",
      "216 µs ± 30.3 µs per loop (mean ± std. dev. of 7 runs, 1 loop each)\n",
      "33.3 ms ± 87.3 µs per loop (mean ± std. dev. of 7 runs, 1 loop each)\n",
      "For 200 atoms:\n",
      "119 µs ± 6.44 µs per loop (mean ± std. dev. of 7 runs, 1 loop each)\n",
      "1.61 ms ± 33.5 µs per loop (mean ± std. dev. of 7 runs, 1 loop each)\n",
      "273 µs ± 42 µs per loop (mean ± std. dev. of 7 runs, 1 loop each)\n",
      "91 ms ± 1.57 ms per loop (mean ± std. dev. of 7 runs, 1 loop each)\n",
      "For 250 atoms:\n",
      "125 µs ± 4.65 µs per loop (mean ± std. dev. of 7 runs, 1 loop each)\n",
      "3.04 ms ± 89.4 µs per loop (mean ± std. dev. of 7 runs, 1 loop each)\n",
      "323 µs ± 52.7 µs per loop (mean ± std. dev. of 7 runs, 1 loop each)\n",
      "171 ms ± 183 µs per loop (mean ± std. dev. of 7 runs, 1 loop each)\n",
      "For 300 atoms:\n",
      "154 µs ± 16.3 µs per loop (mean ± std. dev. of 7 runs, 1 loop each)\n",
      "4.74 ms ± 46.6 µs per loop (mean ± std. dev. of 7 runs, 1 loop each)\n",
      "405 µs ± 48 µs per loop (mean ± std. dev. of 7 runs, 1 loop each)\n",
      "305 ms ± 155 µs per loop (mean ± std. dev. of 7 runs, 1 loop each)\n",
      "For 350 atoms:\n",
      "167 µs ± 17 µs per loop (mean ± std. dev. of 7 runs, 1 loop each)\n",
      "7.16 ms ± 65.1 µs per loop (mean ± std. dev. of 7 runs, 1 loop each)\n",
      "481 µs ± 66 µs per loop (mean ± std. dev. of 7 runs, 1 loop each)\n",
      "629 ms ± 199 µs per loop (mean ± std. dev. of 7 runs, 1 loop each)\n",
      "For 400 atoms:\n",
      "183 µs ± 17.8 µs per loop (mean ± std. dev. of 7 runs, 1 loop each)\n",
      "10.9 ms ± 19.7 µs per loop (mean ± std. dev. of 7 runs, 1 loop each)\n",
      "573 µs ± 66.2 µs per loop (mean ± std. dev. of 7 runs, 1 loop each)\n",
      "898 ms ± 166 µs per loop (mean ± std. dev. of 7 runs, 1 loop each)\n",
      "For 450 atoms:\n",
      "208 µs ± 20.6 µs per loop (mean ± std. dev. of 7 runs, 1 loop each)\n",
      "15.7 ms ± 23 µs per loop (mean ± std. dev. of 7 runs, 1 loop each)\n",
      "706 µs ± 63.2 µs per loop (mean ± std. dev. of 7 runs, 1 loop each)\n",
      "1.27 s ± 234 µs per loop (mean ± std. dev. of 7 runs, 1 loop each)\n",
      "For 500 atoms:\n",
      "228 µs ± 16.8 µs per loop (mean ± std. dev. of 7 runs, 1 loop each)\n",
      "19.2 ms ± 43.8 µs per loop (mean ± std. dev. of 7 runs, 1 loop each)\n",
      "862 µs ± 59.4 µs per loop (mean ± std. dev. of 7 runs, 1 loop each)\n",
      "1.8 s ± 348 µs per loop (mean ± std. dev. of 7 runs, 1 loop each)\n"
     ]
    }
   ],
   "source": [
    "box_size = 20.0\n",
    "\n",
    "f_lj = []\n",
    "f_sw = []\n",
    "f_uf2 = []\n",
    "f_uf3 = []\n",
    "\n",
    "for N in range(50,501,50):\n",
    "    print(f\"For {N} atoms:\")\n",
    "    key, split = random.split(key)\n",
    "    R = random.uniform(split, (N,dimension), minval=0.0, maxval=box_size, dtype=f64)\n",
    "    key, split = random.split(key)\n",
    "    Rc = random.uniform(split, (N,dimension), minval=0.0, maxval=box_size, dtype=f64)\n",
    "    \n",
    "    nbrslj = nflj.allocate(R)\n",
    "    nbrssw = nfsw.allocate(R)\n",
    "    nbrs2 = nf2.allocate(R)\n",
    "    nbrs3 = nf3.allocate(R)\n",
    "\n",
    "    nbrsljc = nflj.allocate(Rc)\n",
    "    nbrsswc = nfsw.allocate(Rc)\n",
    "    nbrs2c = nf2.allocate(Rc)\n",
    "    nbrs3c = nf3.allocate(Rc)\n",
    "    \n",
    "    flj = jit(grad(eflj))\n",
    "    flj(Rc, nbrsljc)\n",
    "    tmp = %timeit -o flj(R, nbrslj).block_until_ready()\n",
    "    f_lj.append(tmp)\n",
    "    \n",
    "    fsw = jit(grad(efsw))\n",
    "    fsw(Rc, nbrsswc)\n",
    "    tmp = %timeit -o fsw(R, nbrssw).block_until_ready()\n",
    "    f_sw.append(tmp)\n",
    "    \n",
    "    f2 = jit(grad(ef2))\n",
    "    f2(Rc, nbrs2c)\n",
    "    tmp = %timeit -o f2(R, nbrs2).block_until_ready()\n",
    "    f_uf2.append(tmp)\n",
    "    \n",
    "    f3 = jit(grad(ef3))\n",
    "    f3(Rc, nbrs3c)\n",
    "    tmp = %timeit -o f3(R, nbrs3).block_until_ready()\n",
    "    f_uf3.append(tmp)"
   ]
  },
  {
   "cell_type": "code",
   "execution_count": 45,
   "metadata": {},
   "outputs": [
    {
     "data": {
      "image/png": "[encoded data removed]",
      "text/plain": [
       "<Figure size 792x288 with 1 Axes>"
      ]
     },
     "metadata": {
      "needs_background": "light"
     },
     "output_type": "display_data"
    }
   ],
   "source": [
    "fig, ax = plt.subplots(figsize=(11,4))\n",
    "\n",
    "x = list(range(50,501,50))\n",
    "do = lambda x: x if x == 0.0 or (type(x) == float and onp.isnan(x)) else x.average * 1e3\n",
    "\n",
    "y = [do(f) for f in f_lj]\n",
    "ax.plot(x, y, label='Lennard-Jones')\n",
    "\n",
    "y = [do(f) for f in f_sw]\n",
    "ax.plot(x, y, label='Stillinger-Weber')\n",
    "\n",
    "y = [do(f) for f in f_uf2]\n",
    "ax.plot(x, y, label='UFP 2-body')\n",
    "\n",
    "y = [do(f) for f in f_uf3]\n",
    "ax.plot(x, y, label='UFP 3-body')\n",
    "# ax.set_xscale('log')\n",
    "ax.set_xlabel(\"# of atoms\")\n",
    "# ax.set_yscale('log')\n",
    "ax.set_ylabel(\"Time [ms]\")\n",
    "ax.legend()\n",
    "        \n",
    "plt.show()\n",
    "fig.tight_layout()\n",
    "fig.savefig('potential-force-scaling-benchmark.png', dpi=fig.dpi)"
   ]
  },
  {
   "cell_type": "code",
   "execution_count": null,
   "metadata": {},
   "outputs": [],
   "source": []
  }
 ],
 "metadata": {
  "kernelspec": {
   "display_name": "Python 3.9.7 ('uf3')",
   "language": "python",
   "name": "python3"
  },
  "language_info": {
   "codemirror_mode": {
    "name": "ipython",
    "version": 3
   },
   "file_extension": ".py",
   "mimetype": "text/x-python",
   "name": "python",
   "nbconvert_exporter": "python",
   "pygments_lexer": "ipython3",
   "version": "3.9.7"
  },
  "vscode": {
   "interpreter": {
    "hash": "ca6e4c1237d2523077850c33bb85c07df22e41d5dc1f9dffe27e02189376af2b"
   }
  }
 },
 "nbformat": 4,
 "nbformat_minor": 4
}
