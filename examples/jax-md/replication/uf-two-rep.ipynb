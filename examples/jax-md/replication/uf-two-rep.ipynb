{
 "cells": [
  {
   "cell_type": "code",
   "execution_count": 2,
   "metadata": {},
   "outputs": [
    {
     "name": "stderr",
     "output_type": "stream",
     "text": [
      "<frozen importlib._bootstrap>:228: RuntimeWarning: scipy._lib.messagestream.MessageStream size changed, may indicate binary incompatibility. Expected 56 from C header, got 64 from PyObject\n",
      "WARNING:absl:No GPU/TPU found, falling back to CPU. (Set TF_CPP_MIN_LOG_LEVEL=0 and rerun for more info.)\n"
     ]
    }
   ],
   "source": [
    "import numpy as onp\n",
    "\n",
    "from uf3.data import composition\n",
    "from uf3.representation import bspline\n",
    "from uf3.regression import least_squares\n",
    "from uf3.forcefield import calculator\n",
    "\n",
    "from uf3.jax.potentials import uf3_neighbor\n",
    "from uf3.util.jax_utils import from_ase_calculator\n",
    "\n",
    "import ase\n",
    "\n",
    "import jax.numpy as jnp\n",
    "from jax import random\n",
    "from jax import jit, grad, vmap, value_and_grad\n",
    "from jax import lax\n",
    "from jax import ops\n",
    "\n",
    "from jax.config import config\n",
    "config.update(\"jax_enable_x64\", True)\n",
    "\n",
    "from jax_md import space, smap, energy, minimize, quantity, simulate, partition, util\n",
    "\n",
    "from functools import partial\n",
    "import time\n",
    "from typing import List\n",
    "\n",
    "f32 = jnp.float32\n",
    "f64 = jnp.float64\n",
    "Array = jnp.ndarray\n",
    "\n",
    "import matplotlib\n",
    "import matplotlib.pyplot as plt\n",
    "plt.rcParams.update({'font.size': 16})\n",
    "\n",
    "def format_plot(x, y):  \n",
    "  plt.grid(True)\n",
    "  plt.xlabel(x, fontsize=20)\n",
    "  plt.ylabel(y, fontsize=20)\n",
    "  \n",
    "def finalize_plot(shape=(1, 0.7)):\n",
    "  plt.gcf().set_size_inches(\n",
    "    shape[0] * 1.5 * plt.gcf().get_size_inches()[1], \n",
    "    shape[1] * 1.5 * plt.gcf().get_size_inches()[1])\n",
    "  plt.tight_layout()\n",
    "\n",
    "def plot_system(R,box_size,species=None,ms=20):\n",
    "  R_plt = onp.array(R)\n",
    "\n",
    "  if(species is None):\n",
    "    plt.plot(R_plt[:, 0], R_plt[:, 1], 'o', markersize=ms)\n",
    "  else:\n",
    "    for ii in range(jnp.amax(species)+1):\n",
    "      Rtemp = R_plt[species==ii]\n",
    "      plt.plot(Rtemp[:, 0], Rtemp[:, 1], 'o', markersize=ms)\n",
    "\n",
    "  plt.xlim([0, box_size])\n",
    "  plt.ylim([0, box_size])\n",
    "  plt.xticks([], [])\n",
    "  plt.yticks([], [])\n",
    "\n",
    "  finalize_plot((1,1))\n",
    "\n",
    "  \n",
    "key = random.PRNGKey(0)"
   ]
  },
  {
   "cell_type": "markdown",
   "metadata": {},
   "source": [
    "# Replicating an UF3 2-body potential\n",
    "\n",
    "## Defining the system"
   ]
  },
  {
   "cell_type": "code",
   "execution_count": 3,
   "metadata": {},
   "outputs": [
    {
     "data": {
      "image/png": "[encoded data removed]",
      "text/plain": [
       "<Figure size 432x432 with 1 Axes>"
      ]
     },
     "metadata": {},
     "output_type": "display_data"
    }
   ],
   "source": [
    "N = 20\n",
    "dimension = 3\n",
    "box_size = 12.0\n",
    "\n",
    "key, split = random.split(key)\n",
    "R = random.uniform(split, (N,dimension), minval=0.0, maxval=box_size, dtype=f64) \n",
    "\n",
    "plot_system(R,box_size)"
   ]
  },
  {
   "cell_type": "code",
   "execution_count": 4,
   "metadata": {},
   "outputs": [],
   "source": [
    "box = jnp.eye(dimension) * box_size\n",
    "displacement, shift = space.periodic_general(box, fractional_coordinates=False)"
   ]
  },
  {
   "cell_type": "markdown",
   "metadata": {},
   "source": [
    "## UF2"
   ]
  },
  {
   "cell_type": "code",
   "execution_count": 5,
   "metadata": {},
   "outputs": [],
   "source": [
    "# ASE UF2 potential - one element\n",
    "element_list = ['W']\n",
    "degree = 2\n",
    "chemical_system = composition.ChemicalSystem(element_list=element_list,\n",
    "                                             degree=degree)\n",
    "r_min_map = {('W', 'W'): 1.5,\n",
    "            }\n",
    "r_max_map = {('W', 'W'): 5.5,\n",
    "            }\n",
    "resolution_map = {('W', 'W'): 25,\n",
    "                 }\n",
    "trailing_trim = 3\n",
    "bspline_config = bspline.BSplineBasis(chemical_system,\n",
    "                                      r_min_map=r_min_map,\n",
    "                                      r_max_map=r_max_map,\n",
    "                                      resolution_map=resolution_map,\n",
    "                                      trailing_trim=trailing_trim)\n",
    "model = least_squares.WeightedLinearModel(bspline_config)\n",
    "\n",
    "model.load(filename=\"../../tungsten_extxyz/model_pair.json\")\n",
    "ASE_uf2_tungsten = calculator.UFCalculator(model)"
   ]
  },
  {
   "cell_type": "code",
   "execution_count": 6,
   "metadata": {},
   "outputs": [],
   "source": [
    "jax_uf2_params = from_ase_calculator(ASE_uf2_tungsten)"
   ]
  },
  {
   "cell_type": "code",
   "execution_count": 9,
   "metadata": {},
   "outputs": [],
   "source": [
    "from uf3.jax.potentials import uf3_neighbor"
   ]
  },
  {
   "cell_type": "code",
   "execution_count": 29,
   "metadata": {},
   "outputs": [],
   "source": [
    "knots = [jnp.pad(jnp.linspace(1.0,5.5,25),(3,3),\"edge\")]\n",
    "coefficients = [1.0, jnp.zeros(len(knots[0])-4)]"
   ]
  },
  {
   "cell_type": "code",
   "execution_count": 12,
   "metadata": {},
   "outputs": [
    {
     "data": {
      "text/plain": [
       "[DeviceArray([1.    , 1.    , 1.    , 1.    , 1.1875, 1.375 , 1.5625,\n",
       "              1.75  , 1.9375, 2.125 , 2.3125, 2.5   , 2.6875, 2.875 ,\n",
       "              3.0625, 3.25  , 3.4375, 3.625 , 3.8125, 4.    , 4.1875,\n",
       "              4.375 , 4.5625, 4.75  , 4.9375, 5.125 , 5.3125, 5.5   ,\n",
       "              5.5   , 5.5   , 5.5   ], dtype=float64)]"
      ]
     },
     "execution_count": 12,
     "metadata": {},
     "output_type": "execute_result"
    }
   ],
   "source": [
    "knots"
   ]
  },
  {
   "cell_type": "code",
   "execution_count": 30,
   "metadata": {},
   "outputs": [],
   "source": [
    "uf2_nf, uf2_energy = uf3_neighbor(displacement, box, knots=[knots], coefficients=coefficients, cutoff=5.5)"
   ]
  },
  {
   "cell_type": "code",
   "execution_count": 31,
   "metadata": {},
   "outputs": [],
   "source": [
    "nbrs_uf2 = uf2_nf.allocate(R, extra_capacity=10)"
   ]
  },
  {
   "cell_type": "code",
   "execution_count": 32,
   "metadata": {},
   "outputs": [
    {
     "data": {
      "text/plain": [
       "DeviceArray(20., dtype=float64)"
      ]
     },
     "execution_count": 32,
     "metadata": {},
     "output_type": "execute_result"
    }
   ],
   "source": [
    "uf2_energy = jit(uf2_energy)\n",
    "uf2_energy(R, nbrs_uf2)"
   ]
  },
  {
   "cell_type": "markdown",
   "metadata": {},
   "source": [
    "## Loss function"
   ]
  },
  {
   "cell_type": "code",
   "execution_count": 33,
   "metadata": {},
   "outputs": [],
   "source": [
    "from uf3.jax.physical import stress_neighborlist_fn\n",
    "from uf3.regression.regularize import get_regularizer_matrix"
   ]
  },
  {
   "cell_type": "code",
   "execution_count": 34,
   "metadata": {},
   "outputs": [],
   "source": [
    "def train_energy_fn(R, energy_fn, neighborlist_fn):\n",
    "    nbrs = neighborlist_fn.allocate(R, extra_capacity=15)\n",
    "    @jit\n",
    "    def fn(params, R):\n",
    "        _neighbor = neighborlist_fn.update(R, nbrs)\n",
    "        return energy_fn(R, _neighbor, coefficients=params)\n",
    "\n",
    "    return fn\n",
    "\n",
    "\n",
    "def train_stress_fn(R, energy_fn, neighborlist_fn):\n",
    "    nbrs = neighborlist_fn.allocate(R, extra_capacity=10)\n",
    "    stress = stress_neighborlist_fn(energy_fn, box)\n",
    "    @jit\n",
    "    def fn(params, R):\n",
    "        _neighbor = neighborlist_fn.update(R, nbrs)\n",
    "        return stress(R, _neighbor, coefficients=params)\n",
    "\n",
    "    return fn\n",
    "\n",
    "train_energy_uf2 = train_energy_fn(R, uf2_energy, uf2_nf)\n",
    "train_stress_uf2 = train_stress_fn(R, uf2_energy, uf2_nf)\n",
    "\n",
    "# Vectorize over states, not parameters.\n",
    "vectorized_energy_uf2 = vmap(train_energy_uf2, (None, 0))\n",
    "\n",
    "grad_uf2 = grad(train_energy_uf2, argnums=1)\n",
    "force_uf2 = lambda params, R, **kwargs: -grad_uf2(params, R)\n",
    "vectorized_force_uf2 = vmap(force_uf2, (None, 0))\n",
    "\n",
    "vectorized_stress_uf2 = vmap(train_stress_uf2, (None, 0))\n"
   ]
  },
  {
   "cell_type": "code",
   "execution_count": 35,
   "metadata": {},
   "outputs": [],
   "source": [
    "def regularize(coefficients, ridge=0.0, curvature=1.0):\n",
    "    return jnp.sum(\n",
    "        jnp.einsum(\n",
    "            \"ij,j->i\",\n",
    "            get_regularizer_matrix(len(coefficients), ridge=ridge, curvature=curvature),\n",
    "            coefficients,\n",
    "        )\n",
    "        ** 2\n",
    "    )\n",
    "\n"
   ]
  },
  {
   "cell_type": "code",
   "execution_count": 36,
   "metadata": {},
   "outputs": [
    {
     "data": {
      "text/plain": [
       "array([[ 2., -1.,  0.,  0.,  0.],\n",
       "       [-1.,  3., -1.,  0.,  0.],\n",
       "       [ 0., -1.,  3., -1.,  0.],\n",
       "       [ 0.,  0., -1.,  3., -1.],\n",
       "       [ 0.,  0.,  0., -1.,  2.]])"
      ]
     },
     "execution_count": 36,
     "metadata": {},
     "output_type": "execute_result"
    }
   ],
   "source": [
    "get_regularizer_matrix(5, ridge=1, curvature=1)"
   ]
  },
  {
   "cell_type": "code",
   "execution_count": 37,
   "metadata": {},
   "outputs": [],
   "source": [
    "@jit\n",
    "def energy_loss(params, R, energy_targets):\n",
    "    return jnp.mean((vectorized_energy_uf2(params, R) - energy_targets) ** 2)\n",
    "\n",
    "\n",
    "@jit\n",
    "def force_loss(params, R, force_targets):\n",
    "    dforces = vectorized_force_uf2(params, R) - force_targets\n",
    "    return jnp.mean(jnp.sum(dforces ** 2, axis=(1, 2)))\n",
    "\n",
    "\n",
    "@jit\n",
    "def stress_loss(params, R, stress_targets):\n",
    "    dstress = vectorized_stress_uf2(params, R) - stress_targets\n",
    "    return jnp.mean(jnp.sum(dstress ** 2, axis=(1, 2)))\n",
    "\n",
    "\n",
    "@jit\n",
    "def loss(params, R, targets, weights):\n",
    "    return (\n",
    "        weights[0] * energy_loss(params, R, targets[0])\n",
    "        + weights[1] * force_loss(params, R, targets[1])\n",
    "        + weights[2] * stress_loss(params, R, targets[2])\n",
    "        + weights[3] * regularize(params[1])\n",
    "    )\n",
    "\n",
    "\n",
    "@jit\n",
    "def ufp_loss(params, R, targets, kappa=0.5, lam=1.0):\n",
    "    E = targets[0]\n",
    "    F = targets[1]\n",
    "    # sigE = jnp.sum((E - E.mean())**2)\n",
    "    # sigF = jnp.sum((F - F.mean())**2)\n",
    "    wE = kappa #/ sigE\n",
    "    wF = (1-kappa) #/ sigF\n",
    "    return (\n",
    "        wE * energy_loss(params, R, targets[0])\n",
    "        + wF * force_loss(params, R, targets[1])\n",
    "        + lam * regularize(params)\n",
    "    )"
   ]
  },
  {
   "cell_type": "code",
   "execution_count": 38,
   "metadata": {},
   "outputs": [],
   "source": [
    "params =  [1.0, jnp.zeros(len(knots[0])-4)]"
   ]
  },
  {
   "cell_type": "code",
   "execution_count": 39,
   "metadata": {},
   "outputs": [
    {
     "ename": "NameError",
     "evalue": "name 'train_positions' is not defined",
     "output_type": "error",
     "traceback": [
      "\u001b[0;31m---------------------------------------------------------------------------\u001b[0m",
      "\u001b[0;31mNameError\u001b[0m                                 Traceback (most recent call last)",
      "\u001b[1;32m/home/robert/repositories/github.com/Robert-Schmid/uf3/examples/jax-md/replication/lennard-jones.ipynb Cell 25\u001b[0m in \u001b[0;36m<module>\u001b[0;34m\u001b[0m\n\u001b[0;32m----> <a href='vscode-notebook-cell://ssh-remote%2B7b22686f73744e616d65223a224d616e6a61726f227d/home/robert/repositories/github.com/Robert-Schmid/uf3/examples/jax-md/replication/lennard-jones.ipynb#ch0000023vscode-remote?line=0'>1</a>\u001b[0m vectorized_energy_uf2(params, train_positions[:\u001b[39m1\u001b[39m])\n",
      "\u001b[0;31mNameError\u001b[0m: name 'train_positions' is not defined"
     ]
    }
   ],
   "source": [
    "vectorized_energy_uf2(params, train_positions[:1])"
   ]
  },
  {
   "cell_type": "code",
   "execution_count": 68,
   "metadata": {},
   "outputs": [
    {
     "data": {
      "text/plain": [
       "DeviceArray(-0.44975701, dtype=float64)"
      ]
     },
     "execution_count": 68,
     "metadata": {},
     "output_type": "execute_result"
    }
   ],
   "source": [
    "reference_energy1[0]"
   ]
  },
  {
   "cell_type": "code",
   "execution_count": 70,
   "metadata": {},
   "outputs": [
    {
     "name": "stderr",
     "output_type": "stream",
     "text": [
      "/opt/anaconda/envs/uf3/lib/python3.9/site-packages/jax/_src/ops/scatter.py:87: FutureWarning: scatter inputs have incompatible types: cannot safely cast value from dtype=int64 to dtype=int32. In future JAX releases this will result in an error.\n",
      "  warnings.warn(\"scatter inputs have incompatible types: cannot safely cast \"\n"
     ]
    },
    {
     "data": {
      "text/plain": [
       "DeviceArray(0.20228137, dtype=float64)"
      ]
     },
     "execution_count": 70,
     "metadata": {},
     "output_type": "execute_result"
    }
   ],
   "source": [
    "energy_loss(params, train_positions[:1], reference_energy1[:1])"
   ]
  },
  {
   "cell_type": "code",
   "execution_count": 71,
   "metadata": {},
   "outputs": [
    {
     "name": "stderr",
     "output_type": "stream",
     "text": [
      "/opt/anaconda/envs/uf3/lib/python3.9/site-packages/jax/_src/ops/scatter.py:87: FutureWarning: scatter inputs have incompatible types: cannot safely cast value from dtype=int64 to dtype=int32. In future JAX releases this will result in an error.\n",
      "  warnings.warn(\"scatter inputs have incompatible types: cannot safely cast \"\n"
     ]
    },
    {
     "data": {
      "text/plain": [
       "DeviceArray(0.30950768, dtype=float64)"
      ]
     },
     "execution_count": 71,
     "metadata": {},
     "output_type": "execute_result"
    }
   ],
   "source": [
    "force_loss(params, train_positions[:1], reference_forces[:1])"
   ]
  },
  {
   "cell_type": "code",
   "execution_count": 73,
   "metadata": {},
   "outputs": [
    {
     "name": "stderr",
     "output_type": "stream",
     "text": [
      "/opt/anaconda/envs/uf3/lib/python3.9/site-packages/jax/_src/ops/scatter.py:87: FutureWarning: scatter inputs have incompatible types: cannot safely cast value from dtype=int64 to dtype=int32. In future JAX releases this will result in an error.\n",
      "  warnings.warn(\"scatter inputs have incompatible types: cannot safely cast \"\n",
      "/opt/anaconda/envs/uf3/lib/python3.9/site-packages/jax/_src/ops/scatter.py:87: FutureWarning: scatter inputs have incompatible types: cannot safely cast value from dtype=int64 to dtype=int32. In future JAX releases this will result in an error.\n",
      "  warnings.warn(\"scatter inputs have incompatible types: cannot safely cast \"\n"
     ]
    },
    {
     "data": {
      "text/plain": [
       "DeviceArray(0.25589452, dtype=float64)"
      ]
     },
     "execution_count": 73,
     "metadata": {},
     "output_type": "execute_result"
    }
   ],
   "source": [
    "ufp_loss(params, train_positions[:1], (reference_energy1[:1],reference_forces[:1]))"
   ]
  },
  {
   "cell_type": "markdown",
   "metadata": {},
   "source": [
    "## Generating reference data with Lennard-Jones"
   ]
  },
  {
   "cell_type": "code",
   "execution_count": 49,
   "metadata": {},
   "outputs": [],
   "source": [
    "from scipy.spatial.distance import cdist\n",
    "positions = []\n",
    "\n",
    "N = 20\n",
    "dimension = 3\n",
    "box_size = 12.0\n",
    "\n",
    "n = 4000\n",
    "\n",
    "\n",
    "while True:\n",
    "    key, split = random.split(key)\n",
    "    R_i = random.uniform(split, (N,dimension), minval=0.0, maxval=box_size, dtype=f64)\n",
    "    d = cdist(R_i,R_i)\n",
    "    minimum = min(d[d!=0.0])\n",
    "    \n",
    "    if minimum < 1.5:\n",
    "        continue\n",
    "    positions.append(R_i)\n",
    "    if len(positions) >= n:\n",
    "        break\n",
    "\n",
    "data = jnp.stack(positions)\n"
   ]
  },
  {
   "cell_type": "code",
   "execution_count": 50,
   "metadata": {},
   "outputs": [
    {
     "data": {
      "text/plain": [
       "1.954390196650431"
      ]
     },
     "execution_count": 50,
     "metadata": {},
     "output_type": "execute_result"
    }
   ],
   "source": [
    "test = data[0]\n",
    "d = cdist(test,test)\n",
    "min(d[d!=0.0])"
   ]
  },
  {
   "cell_type": "code",
   "execution_count": 51,
   "metadata": {},
   "outputs": [
    {
     "data": {
      "text/plain": [
       "(4000, 20, 3)"
      ]
     },
     "execution_count": 51,
     "metadata": {},
     "output_type": "execute_result"
    }
   ],
   "source": [
    "data.shape # 15 trajectories with 50 positions in 3-D"
   ]
  },
  {
   "cell_type": "code",
   "execution_count": 62,
   "metadata": {},
   "outputs": [],
   "source": [
    "@jit\n",
    "def reference_energy(R):\n",
    "    _nbrs = lj_nf.update(R, nbrs_lj)\n",
    "    return lj_energy(R, _nbrs)\n",
    "\n",
    "stress_lj = stress_neighborlist_fn(lj_energy, box)\n",
    "\n",
    "@jit\n",
    "def reference_stress(R):\n",
    "    _nbrs = lj_nf.update(R, nbrs_lj)\n",
    "    return stress_lj(R, _nbrs)\n",
    "    \n",
    "\n",
    "# Vectorize over states, not parameters.\n",
    "vectorized_energy_lj = vmap(reference_energy)\n",
    "\n",
    "grad_lj = grad(reference_energy)\n",
    "force_lj = lambda R, **kwargs: -grad_lj(R)\n",
    "vectorized_force_lj = vmap(force_lj)\n",
    "\n",
    "vectorized_stress_lj = vmap(reference_stress)"
   ]
  },
  {
   "cell_type": "code",
   "execution_count": 59,
   "metadata": {},
   "outputs": [
    {
     "data": {
      "text/plain": [
       "(20, 20)"
      ]
     },
     "execution_count": 59,
     "metadata": {},
     "output_type": "execute_result"
    }
   ],
   "source": [
    "nbrs_lj.idx.shape"
   ]
  },
  {
   "cell_type": "code",
   "execution_count": 61,
   "metadata": {},
   "outputs": [
    {
     "name": "stderr",
     "output_type": "stream",
     "text": [
      "/opt/anaconda/envs/uf3/lib/python3.9/site-packages/jax/_src/ops/scatter.py:87: FutureWarning: scatter inputs have incompatible types: cannot safely cast value from dtype=int64 to dtype=int32. In future JAX releases this will result in an error.\n",
      "  warnings.warn(\"scatter inputs have incompatible types: cannot safely cast \"\n"
     ]
    },
    {
     "ename": "TypeError",
     "evalue": "true_fun and false_fun output must have identical types, got\nNeighborList(idx='DIFFERENT ShapedArray(int32[20,19]) vs. ShapedArray(int32[20,20])', reference_position='ShapedArray(float64[20,3])', did_buffer_overflow='ShapedArray(bool[])', cell_list_capacity=None, max_occupancy=20, format=<NeighborListFormat.Dense: 0>, update_fn=<function neighbor_list.<locals>.neighbor_list_fn at 0x7fdad1d8ff70>).",
     "output_type": "error",
     "traceback": [
      "\u001b[0;31m---------------------------------------------------------------------------\u001b[0m",
      "\u001b[0;31mTypeError\u001b[0m                                 Traceback (most recent call last)",
      "\u001b[1;32m/home/robert/repositories/github.com/Robert-Schmid/uf3/examples/jax-md/replication/lennard-jones.ipynb Cell 37\u001b[0m in \u001b[0;36m<module>\u001b[0;34m\u001b[0m\n\u001b[0;32m----> <a href='vscode-notebook-cell://ssh-remote%2B7b22686f73744e616d65223a224d616e6a61726f227d/home/robert/repositories/github.com/Robert-Schmid/uf3/examples/jax-md/replication/lennard-jones.ipynb#ch0000033vscode-remote?line=0'>1</a>\u001b[0m reference_energy1 \u001b[39m=\u001b[39m vectorized_energy_lj(data)\n\u001b[1;32m      <a href='vscode-notebook-cell://ssh-remote%2B7b22686f73744e616d65223a224d616e6a61726f227d/home/robert/repositories/github.com/Robert-Schmid/uf3/examples/jax-md/replication/lennard-jones.ipynb#ch0000033vscode-remote?line=1'>2</a>\u001b[0m reference_energy1\u001b[39m.\u001b[39mshape\n",
      "    \u001b[0;31m[... skipping hidden 20 frame]\u001b[0m\n",
      "\u001b[1;32m/home/robert/repositories/github.com/Robert-Schmid/uf3/examples/jax-md/replication/lennard-jones.ipynb Cell 37\u001b[0m in \u001b[0;36mreference_energy\u001b[0;34m(R)\u001b[0m\n\u001b[1;32m      <a href='vscode-notebook-cell://ssh-remote%2B7b22686f73744e616d65223a224d616e6a61726f227d/home/robert/repositories/github.com/Robert-Schmid/uf3/examples/jax-md/replication/lennard-jones.ipynb#ch0000033vscode-remote?line=0'>1</a>\u001b[0m \u001b[39m@jit\u001b[39m\n\u001b[1;32m      <a href='vscode-notebook-cell://ssh-remote%2B7b22686f73744e616d65223a224d616e6a61726f227d/home/robert/repositories/github.com/Robert-Schmid/uf3/examples/jax-md/replication/lennard-jones.ipynb#ch0000033vscode-remote?line=1'>2</a>\u001b[0m \u001b[39mdef\u001b[39;00m \u001b[39mreference_energy\u001b[39m(R):\n\u001b[0;32m----> <a href='vscode-notebook-cell://ssh-remote%2B7b22686f73744e616d65223a224d616e6a61726f227d/home/robert/repositories/github.com/Robert-Schmid/uf3/examples/jax-md/replication/lennard-jones.ipynb#ch0000033vscode-remote?line=2'>3</a>\u001b[0m     _nbrs \u001b[39m=\u001b[39m lj_nf\u001b[39m.\u001b[39;49mupdate(R, nbrs_lj, extra_capacity\u001b[39m=\u001b[39;49m\u001b[39m10\u001b[39;49m)\n\u001b[1;32m      <a href='vscode-notebook-cell://ssh-remote%2B7b22686f73744e616d65223a224d616e6a61726f227d/home/robert/repositories/github.com/Robert-Schmid/uf3/examples/jax-md/replication/lennard-jones.ipynb#ch0000033vscode-remote?line=3'>4</a>\u001b[0m     \u001b[39mreturn\u001b[39;00m lj_energy(R, _nbrs)\n",
      "File \u001b[0;32m/opt/anaconda/envs/uf3/lib/python3.9/site-packages/jax_md/partition.py:792\u001b[0m, in \u001b[0;36mneighbor_list.<locals>.update_fn\u001b[0;34m(position, neighbors, **kwargs)\u001b[0m\n\u001b[1;32m    790\u001b[0m \u001b[39mdef\u001b[39;00m \u001b[39mupdate_fn\u001b[39m(position: Array, neighbors: NeighborList, \u001b[39m*\u001b[39m\u001b[39m*\u001b[39mkwargs\n\u001b[1;32m    791\u001b[0m               ) \u001b[39m-\u001b[39m\u001b[39m>\u001b[39m NeighborList:\n\u001b[0;32m--> 792\u001b[0m   \u001b[39mreturn\u001b[39;00m neighbor_list_fn(position, neighbors, \u001b[39m*\u001b[39;49m\u001b[39m*\u001b[39;49mkwargs)\n",
      "File \u001b[0;32m/opt/anaconda/envs/uf3/lib/python3.9/site-packages/jax_md/partition.py:781\u001b[0m, in \u001b[0;36mneighbor_list.<locals>.neighbor_list_fn\u001b[0;34m(position, neighbors, extra_capacity, **kwargs)\u001b[0m\n\u001b[1;32m    779\u001b[0m d \u001b[39m=\u001b[39m partial(metric_sq, \u001b[39m*\u001b[39m\u001b[39m*\u001b[39mkwargs)\n\u001b[1;32m    780\u001b[0m d \u001b[39m=\u001b[39m vmap(d)\n\u001b[0;32m--> 781\u001b[0m \u001b[39mreturn\u001b[39;00m lax\u001b[39m.\u001b[39;49mcond(\n\u001b[1;32m    782\u001b[0m     jnp\u001b[39m.\u001b[39;49many(d(position, nbrs\u001b[39m.\u001b[39;49mreference_position) \u001b[39m>\u001b[39;49m threshold_sq),\n\u001b[1;32m    783\u001b[0m     (position, nbrs\u001b[39m.\u001b[39;49mdid_buffer_overflow), neighbor_fn,\n\u001b[1;32m    784\u001b[0m     nbrs, \u001b[39mlambda\u001b[39;49;00m x: x)\n",
      "    \u001b[0;31m[... skipping hidden 4 frame]\u001b[0m\n",
      "File \u001b[0;32m/opt/anaconda/envs/uf3/lib/python3.9/site-packages/jax/_src/lax/control_flow/common.py:105\u001b[0m, in \u001b[0;36m_check_tree_and_avals\u001b[0;34m(what, tree1, avals1, tree2, avals2)\u001b[0m\n\u001b[1;32m    102\u001b[0m \u001b[39mif\u001b[39;00m \u001b[39mnot\u001b[39;00m \u001b[39mall\u001b[39m(\u001b[39mmap\u001b[39m(core\u001b[39m.\u001b[39mtypematch, avals1, avals2)):\n\u001b[1;32m    103\u001b[0m   diff \u001b[39m=\u001b[39m tree_map(_show_diff, tree_unflatten(tree1, avals1),\n\u001b[1;32m    104\u001b[0m                   tree_unflatten(tree2, avals2))\n\u001b[0;32m--> 105\u001b[0m   \u001b[39mraise\u001b[39;00m \u001b[39mTypeError\u001b[39;00m(\u001b[39mf\u001b[39m\u001b[39m\"\u001b[39m\u001b[39m{\u001b[39;00mwhat\u001b[39m}\u001b[39;00m\u001b[39m must have identical types, got\u001b[39m\u001b[39m\\n\u001b[39;00m\u001b[39m{\u001b[39;00mdiff\u001b[39m}\u001b[39;00m\u001b[39m.\u001b[39m\u001b[39m\"\u001b[39m)\n",
      "\u001b[0;31mTypeError\u001b[0m: true_fun and false_fun output must have identical types, got\nNeighborList(idx='DIFFERENT ShapedArray(int32[20,19]) vs. ShapedArray(int32[20,20])', reference_position='ShapedArray(float64[20,3])', did_buffer_overflow='ShapedArray(bool[])', cell_list_capacity=None, max_occupancy=20, format=<NeighborListFormat.Dense: 0>, update_fn=<function neighbor_list.<locals>.neighbor_list_fn at 0x7fdad1d8ff70>)."
     ]
    }
   ],
   "source": [
    "reference_energy1 = vectorized_energy_lj(data)\n",
    "reference_energy1.shape"
   ]
  },
  {
   "cell_type": "code",
   "execution_count": 45,
   "metadata": {},
   "outputs": [
    {
     "name": "stderr",
     "output_type": "stream",
     "text": [
      "/opt/anaconda/envs/uf3/lib/python3.9/site-packages/jax/_src/ops/scatter.py:87: FutureWarning: scatter inputs have incompatible types: cannot safely cast value from dtype=int64 to dtype=int32. In future JAX releases this will result in an error.\n",
      "  warnings.warn(\"scatter inputs have incompatible types: cannot safely cast \"\n"
     ]
    },
    {
     "ename": "TypeError",
     "evalue": "true_fun and false_fun output must have identical types, got\nNeighborList(idx='DIFFERENT ShapedArray(int32[20,19]) vs. ShapedArray(int32[20,20])', reference_position='ShapedArray(float64[20,3])', did_buffer_overflow='ShapedArray(bool[])', cell_list_capacity=None, max_occupancy=20, format=<NeighborListFormat.Dense: 0>, update_fn=<function neighbor_list.<locals>.neighbor_list_fn at 0x7fdac3eda820>).",
     "output_type": "error",
     "traceback": [
      "\u001b[0;31m---------------------------------------------------------------------------\u001b[0m",
      "\u001b[0;31mTypeError\u001b[0m                                 Traceback (most recent call last)",
      "\u001b[1;32m/home/robert/repositories/github.com/Robert-Schmid/uf3/examples/jax-md/replication/lennard-jones.ipynb Cell 36\u001b[0m in \u001b[0;36m<module>\u001b[0;34m\u001b[0m\n\u001b[0;32m----> <a href='vscode-notebook-cell://ssh-remote%2B7b22686f73744e616d65223a224d616e6a61726f227d/home/robert/repositories/github.com/Robert-Schmid/uf3/examples/jax-md/replication/lennard-jones.ipynb#ch0000034vscode-remote?line=0'>1</a>\u001b[0m reference_forces \u001b[39m=\u001b[39m vectorized_force_lj(data)\n\u001b[1;32m      <a href='vscode-notebook-cell://ssh-remote%2B7b22686f73744e616d65223a224d616e6a61726f227d/home/robert/repositories/github.com/Robert-Schmid/uf3/examples/jax-md/replication/lennard-jones.ipynb#ch0000034vscode-remote?line=1'>2</a>\u001b[0m reference_forces\u001b[39m.\u001b[39mshape\n",
      "    \u001b[0;31m[... skipping hidden 3 frame]\u001b[0m\n",
      "\u001b[1;32m/home/robert/repositories/github.com/Robert-Schmid/uf3/examples/jax-md/replication/lennard-jones.ipynb Cell 36\u001b[0m in \u001b[0;36m<lambda>\u001b[0;34m(R, **kwargs)\u001b[0m\n\u001b[1;32m     <a href='vscode-notebook-cell://ssh-remote%2B7b22686f73744e616d65223a224d616e6a61726f227d/home/robert/repositories/github.com/Robert-Schmid/uf3/examples/jax-md/replication/lennard-jones.ipynb#ch0000034vscode-remote?line=13'>14</a>\u001b[0m vectorized_energy_lj \u001b[39m=\u001b[39m vmap(reference_energy)\n\u001b[1;32m     <a href='vscode-notebook-cell://ssh-remote%2B7b22686f73744e616d65223a224d616e6a61726f227d/home/robert/repositories/github.com/Robert-Schmid/uf3/examples/jax-md/replication/lennard-jones.ipynb#ch0000034vscode-remote?line=15'>16</a>\u001b[0m grad_lj \u001b[39m=\u001b[39m grad(reference_energy)\n\u001b[0;32m---> <a href='vscode-notebook-cell://ssh-remote%2B7b22686f73744e616d65223a224d616e6a61726f227d/home/robert/repositories/github.com/Robert-Schmid/uf3/examples/jax-md/replication/lennard-jones.ipynb#ch0000034vscode-remote?line=16'>17</a>\u001b[0m force_lj \u001b[39m=\u001b[39m \u001b[39mlambda\u001b[39;00m R, \u001b[39m*\u001b[39m\u001b[39m*\u001b[39mkwargs: \u001b[39m-\u001b[39mgrad_lj(R)\n\u001b[1;32m     <a href='vscode-notebook-cell://ssh-remote%2B7b22686f73744e616d65223a224d616e6a61726f227d/home/robert/repositories/github.com/Robert-Schmid/uf3/examples/jax-md/replication/lennard-jones.ipynb#ch0000034vscode-remote?line=17'>18</a>\u001b[0m vectorized_force_lj \u001b[39m=\u001b[39m vmap(force_lj)\n\u001b[1;32m     <a href='vscode-notebook-cell://ssh-remote%2B7b22686f73744e616d65223a224d616e6a61726f227d/home/robert/repositories/github.com/Robert-Schmid/uf3/examples/jax-md/replication/lennard-jones.ipynb#ch0000034vscode-remote?line=19'>20</a>\u001b[0m vectorized_stress_lj \u001b[39m=\u001b[39m vmap(reference_stress)\n",
      "    \u001b[0;31m[... skipping hidden 33 frame]\u001b[0m\n",
      "\u001b[1;32m/home/robert/repositories/github.com/Robert-Schmid/uf3/examples/jax-md/replication/lennard-jones.ipynb Cell 36\u001b[0m in \u001b[0;36mreference_energy\u001b[0;34m(R)\u001b[0m\n\u001b[1;32m      <a href='vscode-notebook-cell://ssh-remote%2B7b22686f73744e616d65223a224d616e6a61726f227d/home/robert/repositories/github.com/Robert-Schmid/uf3/examples/jax-md/replication/lennard-jones.ipynb#ch0000034vscode-remote?line=0'>1</a>\u001b[0m \u001b[39m@jit\u001b[39m\n\u001b[1;32m      <a href='vscode-notebook-cell://ssh-remote%2B7b22686f73744e616d65223a224d616e6a61726f227d/home/robert/repositories/github.com/Robert-Schmid/uf3/examples/jax-md/replication/lennard-jones.ipynb#ch0000034vscode-remote?line=1'>2</a>\u001b[0m \u001b[39mdef\u001b[39;00m \u001b[39mreference_energy\u001b[39m(R):\n\u001b[0;32m----> <a href='vscode-notebook-cell://ssh-remote%2B7b22686f73744e616d65223a224d616e6a61726f227d/home/robert/repositories/github.com/Robert-Schmid/uf3/examples/jax-md/replication/lennard-jones.ipynb#ch0000034vscode-remote?line=2'>3</a>\u001b[0m     _nbrs \u001b[39m=\u001b[39m lj_nf\u001b[39m.\u001b[39;49mupdate(R, nbrs_lj)\n\u001b[1;32m      <a href='vscode-notebook-cell://ssh-remote%2B7b22686f73744e616d65223a224d616e6a61726f227d/home/robert/repositories/github.com/Robert-Schmid/uf3/examples/jax-md/replication/lennard-jones.ipynb#ch0000034vscode-remote?line=3'>4</a>\u001b[0m     \u001b[39mreturn\u001b[39;00m lj_energy(R, _nbrs)\n",
      "File \u001b[0;32m/opt/anaconda/envs/uf3/lib/python3.9/site-packages/jax_md/partition.py:792\u001b[0m, in \u001b[0;36mneighbor_list.<locals>.update_fn\u001b[0;34m(position, neighbors, **kwargs)\u001b[0m\n\u001b[1;32m    790\u001b[0m \u001b[39mdef\u001b[39;00m \u001b[39mupdate_fn\u001b[39m(position: Array, neighbors: NeighborList, \u001b[39m*\u001b[39m\u001b[39m*\u001b[39mkwargs\n\u001b[1;32m    791\u001b[0m               ) \u001b[39m-\u001b[39m\u001b[39m>\u001b[39m NeighborList:\n\u001b[0;32m--> 792\u001b[0m   \u001b[39mreturn\u001b[39;00m neighbor_list_fn(position, neighbors, \u001b[39m*\u001b[39;49m\u001b[39m*\u001b[39;49mkwargs)\n",
      "File \u001b[0;32m/opt/anaconda/envs/uf3/lib/python3.9/site-packages/jax_md/partition.py:781\u001b[0m, in \u001b[0;36mneighbor_list.<locals>.neighbor_list_fn\u001b[0;34m(position, neighbors, extra_capacity, **kwargs)\u001b[0m\n\u001b[1;32m    779\u001b[0m d \u001b[39m=\u001b[39m partial(metric_sq, \u001b[39m*\u001b[39m\u001b[39m*\u001b[39mkwargs)\n\u001b[1;32m    780\u001b[0m d \u001b[39m=\u001b[39m vmap(d)\n\u001b[0;32m--> 781\u001b[0m \u001b[39mreturn\u001b[39;00m lax\u001b[39m.\u001b[39;49mcond(\n\u001b[1;32m    782\u001b[0m     jnp\u001b[39m.\u001b[39;49many(d(position, nbrs\u001b[39m.\u001b[39;49mreference_position) \u001b[39m>\u001b[39;49m threshold_sq),\n\u001b[1;32m    783\u001b[0m     (position, nbrs\u001b[39m.\u001b[39;49mdid_buffer_overflow), neighbor_fn,\n\u001b[1;32m    784\u001b[0m     nbrs, \u001b[39mlambda\u001b[39;49;00m x: x)\n",
      "    \u001b[0;31m[... skipping hidden 4 frame]\u001b[0m\n",
      "File \u001b[0;32m/opt/anaconda/envs/uf3/lib/python3.9/site-packages/jax/_src/lax/control_flow/common.py:105\u001b[0m, in \u001b[0;36m_check_tree_and_avals\u001b[0;34m(what, tree1, avals1, tree2, avals2)\u001b[0m\n\u001b[1;32m    102\u001b[0m \u001b[39mif\u001b[39;00m \u001b[39mnot\u001b[39;00m \u001b[39mall\u001b[39m(\u001b[39mmap\u001b[39m(core\u001b[39m.\u001b[39mtypematch, avals1, avals2)):\n\u001b[1;32m    103\u001b[0m   diff \u001b[39m=\u001b[39m tree_map(_show_diff, tree_unflatten(tree1, avals1),\n\u001b[1;32m    104\u001b[0m                   tree_unflatten(tree2, avals2))\n\u001b[0;32m--> 105\u001b[0m   \u001b[39mraise\u001b[39;00m \u001b[39mTypeError\u001b[39;00m(\u001b[39mf\u001b[39m\u001b[39m\"\u001b[39m\u001b[39m{\u001b[39;00mwhat\u001b[39m}\u001b[39;00m\u001b[39m must have identical types, got\u001b[39m\u001b[39m\\n\u001b[39;00m\u001b[39m{\u001b[39;00mdiff\u001b[39m}\u001b[39;00m\u001b[39m.\u001b[39m\u001b[39m\"\u001b[39m)\n",
      "\u001b[0;31mTypeError\u001b[0m: true_fun and false_fun output must have identical types, got\nNeighborList(idx='DIFFERENT ShapedArray(int32[20,19]) vs. ShapedArray(int32[20,20])', reference_position='ShapedArray(float64[20,3])', did_buffer_overflow='ShapedArray(bool[])', cell_list_capacity=None, max_occupancy=20, format=<NeighborListFormat.Dense: 0>, update_fn=<function neighbor_list.<locals>.neighbor_list_fn at 0x7fdac3eda820>)."
     ]
    }
   ],
   "source": [
    "reference_forces = vectorized_force_lj(data)\n",
    "reference_forces.shape"
   ]
  },
  {
   "cell_type": "code",
   "execution_count": 80,
   "metadata": {},
   "outputs": [
    {
     "name": "stderr",
     "output_type": "stream",
     "text": [
      "/opt/anaconda/envs/uf3/lib/python3.9/site-packages/jax/_src/ops/scatter.py:87: FutureWarning: scatter inputs have incompatible types: cannot safely cast value from dtype=int64 to dtype=int32. In future JAX releases this will result in an error.\n",
      "  warnings.warn(\"scatter inputs have incompatible types: cannot safely cast \"\n"
     ]
    },
    {
     "data": {
      "text/plain": [
       "(4000, 3, 3)"
      ]
     },
     "execution_count": 80,
     "metadata": {},
     "output_type": "execute_result"
    }
   ],
   "source": [
    "reference_stress = vectorized_stress_lj(data)\n",
    "reference_stress.shape"
   ]
  },
  {
   "cell_type": "code",
   "execution_count": 81,
   "metadata": {},
   "outputs": [],
   "source": [
    "mid = int(n / 2)\n",
    "\n",
    "train_positions = data[:mid]\n",
    "train_energies = reference_energy1[:mid]\n",
    "train_forces = reference_forces[:mid]\n",
    "train_stresses = reference_stress[:mid]\n",
    "\n",
    "test_positions = data[mid:]\n",
    "test_energies = reference_energy1[mid:]\n",
    "test_forces = reference_forces[mid:]\n",
    "test_stresses = reference_stress[mid:]"
   ]
  },
  {
   "cell_type": "markdown",
   "metadata": {},
   "source": [
    "## Training"
   ]
  },
  {
   "cell_type": "code",
   "execution_count": 82,
   "metadata": {},
   "outputs": [],
   "source": [
    "import optax"
   ]
  },
  {
   "cell_type": "code",
   "execution_count": 120,
   "metadata": {},
   "outputs": [],
   "source": [
    "# opt = optax.chain(optax.clip_by_global_norm(1.0),\n",
    "#                   optax.adam(1e-1))\n",
    "opt = optax.sgd(1e-2,0.5)\n",
    "\n",
    "def loss_fn(params, R, labels):\n",
    "    # return energy_loss(params, R, labels[0])\n",
    "    return ufp_loss(params, R, labels)\n",
    "\n",
    "@jit\n",
    "def update_step(params, opt_state, R, labels):\n",
    "  updates, opt_state = opt.update(grad(loss_fn)(params, R, labels),\n",
    "                                  opt_state)\n",
    "  return optax.apply_updates(params, updates), opt_state\n",
    "\n",
    "@jit\n",
    "def update_epoch(params_and_opt_state, batches):\n",
    "  def inner_update(params_and_opt_state, batch):\n",
    "    params, opt_state = params_and_opt_state\n",
    "    b_xs, b_labels = batch\n",
    "\n",
    "    return update_step(params, opt_state, b_xs, b_labels), 0\n",
    "  return lax.scan(inner_update, params_and_opt_state, batches)[0]"
   ]
  },
  {
   "cell_type": "code",
   "execution_count": 111,
   "metadata": {},
   "outputs": [],
   "source": [
    "dataset_size = train_positions.shape[0]\n",
    "batch_size = 2000\n",
    "\n",
    "lookup = onp.arange(dataset_size)\n",
    "onp.random.shuffle(lookup)\n",
    "\n",
    "@jit\n",
    "def make_batches(lookup):\n",
    "  batch_Rs = []\n",
    "  batch_Es = []\n",
    "  batch_Fs = []\n",
    "\n",
    "  for i in range(0, len(lookup), batch_size):\n",
    "    if i + batch_size > len(lookup):\n",
    "      break\n",
    "\n",
    "    idx = lookup[i:i + batch_size]\n",
    "\n",
    "    batch_Rs += [train_positions[idx]]\n",
    "    batch_Es += [train_energies[idx]]\n",
    "    batch_Fs += [train_forces[idx]]\n",
    "\n",
    "  return jnp.stack(batch_Rs), jnp.stack(batch_Es), jnp.stack(batch_Fs)\n",
    "\n",
    "batch_Rs, batch_Es, batch_Fs = make_batches(lookup)"
   ]
  },
  {
   "cell_type": "code",
   "execution_count": 123,
   "metadata": {},
   "outputs": [
    {
     "name": "stdout",
     "output_type": "stream",
     "text": [
      "0: train = 2614590.80490461\n",
      "1: train = 2614590.583366059\n",
      "2: train = 2614590.256397461\n",
      "3: train = 2614589.8833390097\n",
      "4: train = 2614589.493966221\n",
      "5: train = 2614589.102952203\n",
      "6: train = 2614588.7173626875\n",
      "7: train = 2614588.3404705506\n",
      "8: train = 2614587.973671719\n",
      "9: train = 2614587.6174443453\n",
      "10: train = 2614587.2718247697\n",
      "11: train = 2614586.9366430696\n",
      "12: train = 2614586.6116382405\n",
      "13: train = 2614586.2965140343\n",
      "14: train = 2614585.9909653654\n",
      "15: train = 2614585.694690328\n",
      "16: train = 2614585.4073953326\n",
      "17: train = 2614585.1287969504\n",
      "18: train = 2614584.858622242\n",
      "19: train = 2614584.5966084786\n",
      "20: train = 2614584.342502613\n",
      "21: train = 2614584.096060692\n",
      "22: train = 2614583.857047327\n",
      "23: train = 2614583.62523517\n",
      "24: train = 2614583.400404485\n",
      "25: train = 2614583.182342755\n",
      "26: train = 2614582.9708443293\n",
      "27: train = 2614582.765710129\n",
      "28: train = 2614582.5667473497\n",
      "29: train = 2614582.373769233\n",
      "30: train = 2614582.186594832\n",
      "31: train = 2614582.0050487816\n",
      "32: train = 2614581.828961124\n",
      "33: train = 2614581.658167107\n",
      "34: train = 2614581.49250702\n",
      "35: train = 2614581.3318260205\n",
      "36: train = 2614581.175973981\n",
      "37: train = 2614581.0248053265\n",
      "38: train = 2614580.878178914\n",
      "39: train = 2614580.7359578693\n"
     ]
    }
   ],
   "source": [
    "train_epochs = 40\n",
    "\n",
    "# params = jnp.zeros_like(coefficients)\n",
    "\n",
    "opt_state = opt.init(params)\n",
    "\n",
    "train_energy_error = []\n",
    "test_energy_error = []\n",
    "\n",
    "for iteration in range(train_epochs):\n",
    "    train_energy_error += [\n",
    "        float(jnp.sqrt(loss_fn(params, batch_Rs[0], (batch_Es[0], batch_Fs[0]))))\n",
    "    ]\n",
    "    test_energy_error += [\n",
    "        float(jnp.sqrt(loss_fn(params, test_positions, (test_energies, test_forces))))\n",
    "    ]\n",
    "\n",
    "    print(f\"{iteration}: train = {train_energy_error[-1]}\")\n",
    "    # print(f\"{iteration}: test  = {test_energy_error[-1]}\")\n",
    "\n",
    "\n",
    "    params, opt_state = update_epoch(\n",
    "        (params, opt_state), (batch_Rs, (batch_Es, batch_Fs))\n",
    "    )\n",
    "\n",
    "    onp.random.shuffle(lookup)\n",
    "    batch_Rs, batch_Es, batch_Fs = make_batches(lookup)\n",
    "\n"
   ]
  },
  {
   "cell_type": "code",
   "execution_count": 87,
   "metadata": {},
   "outputs": [
    {
     "name": "stderr",
     "output_type": "stream",
     "text": [
      "/opt/anaconda/envs/uf3/lib/python3.9/site-packages/jax/_src/ops/scatter.py:87: FutureWarning: scatter inputs have incompatible types: cannot safely cast value from dtype=int64 to dtype=int32. In future JAX releases this will result in an error.\n",
      "  warnings.warn(\"scatter inputs have incompatible types: cannot safely cast \"\n",
      "/opt/anaconda/envs/uf3/lib/python3.9/site-packages/jax/_src/ops/scatter.py:87: FutureWarning: scatter inputs have incompatible types: cannot safely cast value from dtype=int64 to dtype=int32. In future JAX releases this will result in an error.\n",
      "  warnings.warn(\"scatter inputs have incompatible types: cannot safely cast \"\n"
     ]
    },
    {
     "data": {
      "text/plain": [
       "DeviceArray([-3.61052319e-01,  1.28619109e+00, -7.85651326e-01,\n",
       "             -1.71919386e+00,  1.61659818e+01,  3.43139008e-01,\n",
       "             -2.72049580e+01,  3.20830244e+00,  1.18995742e+01,\n",
       "              3.05333163e+00, -1.03311496e+01, -2.94528793e+00,\n",
       "              9.02150453e+00, -6.20142668e-01, -1.05992066e-01,\n",
       "              5.45120868e-02,  6.09939009e-07, -1.02613742e-07,\n",
       "             -5.10201016e-13,  5.13084094e-14,  0.00000000e+00,\n",
       "              0.00000000e+00,  0.00000000e+00,  0.00000000e+00,\n",
       "              0.00000000e+00,  0.00000000e+00,  0.00000000e+00],            dtype=float64)"
      ]
     },
     "execution_count": 87,
     "metadata": {},
     "output_type": "execute_result"
    }
   ],
   "source": [
    "grad(loss_fn)(params, train_positions[:1], (reference_energy1[:1],reference_forces[:1]))"
   ]
  },
  {
   "cell_type": "code",
   "execution_count": 89,
   "metadata": {},
   "outputs": [
    {
     "data": {
      "text/plain": [
       "DeviceArray(12.28186798, dtype=float64)"
      ]
     },
     "execution_count": 89,
     "metadata": {},
     "output_type": "execute_result"
    }
   ],
   "source": [
    "loss_fn(params, train_positions[:1], (reference_energy1[:1],reference_forces[:1]))"
   ]
  },
  {
   "cell_type": "code",
   "execution_count": 91,
   "metadata": {},
   "outputs": [
    {
     "data": {
      "text/plain": [
       "DeviceArray([ 3.61052319e-07, -1.28619109e-06,  7.85651326e-07,\n",
       "              1.71919386e-06, -1.61659818e-05, -3.43139008e-07,\n",
       "              2.72049580e-05, -3.20830244e-06, -1.18995742e-05,\n",
       "             -3.05333163e-06,  1.03311496e-05,  2.94528793e-06,\n",
       "             -9.02150453e-06,  6.20142668e-07,  1.05992066e-07,\n",
       "             -5.45120868e-08, -6.09939009e-13,  1.02613742e-13,\n",
       "              5.10201016e-19, -5.13084094e-20, -0.00000000e+00,\n",
       "             -0.00000000e+00, -0.00000000e+00, -0.00000000e+00,\n",
       "             -0.00000000e+00, -0.00000000e+00, -0.00000000e+00],            dtype=float64)"
      ]
     },
     "execution_count": 91,
     "metadata": {},
     "output_type": "execute_result"
    }
   ],
   "source": [
    "ini = opt.init(params)\n",
    "a, _ = opt.update(grad(loss_fn)(params, train_positions[:1], (reference_energy1[:1],reference_forces[:1])), ini)\n",
    "a"
   ]
  },
  {
   "cell_type": "code",
   "execution_count": 92,
   "metadata": {},
   "outputs": [
    {
     "data": {
      "text/plain": [
       "DeviceArray([ 1.54431825e-03, -2.99097580e-03, -1.92587724e-01,\n",
       "             -1.04676539e-01,  3.30486300e-01,  1.82965442e-01,\n",
       "             -2.39098399e-01,  7.21131171e-02,  6.42573186e-01,\n",
       "              1.17630620e-01, -4.06251242e-01, -2.49490729e-01,\n",
       "              5.60301639e-02,  2.72567502e-02,  9.97399826e-08,\n",
       "             -5.13076348e-08, -1.52483689e-13,  2.56542047e-14,\n",
       "              0.00000000e+00,  0.00000000e+00,  0.00000000e+00,\n",
       "              0.00000000e+00,  0.00000000e+00,  0.00000000e+00,\n",
       "              0.00000000e+00,  0.00000000e+00,  0.00000000e+00],            dtype=float64)"
      ]
     },
     "execution_count": 92,
     "metadata": {},
     "output_type": "execute_result"
    }
   ],
   "source": [
    "params"
   ]
  },
  {
   "cell_type": "code",
   "execution_count": 93,
   "metadata": {},
   "outputs": [
    {
     "data": {
      "text/plain": [
       "DeviceArray([1.    , 1.    , 1.    , 1.    , 1.1875, 1.375 , 1.5625,\n",
       "             1.75  , 1.9375, 2.125 , 2.3125, 2.5   , 2.6875, 2.875 ,\n",
       "             3.0625, 3.25  , 3.4375, 3.625 , 3.8125, 4.    , 4.1875,\n",
       "             4.375 , 4.5625, 4.75  , 4.9375, 5.125 , 5.3125, 5.5   ,\n",
       "             5.5   , 5.5   , 5.5   ], dtype=float64)"
      ]
     },
     "execution_count": 93,
     "metadata": {},
     "output_type": "execute_result"
    }
   ],
   "source": [
    "knots"
   ]
  },
  {
   "cell_type": "code",
   "execution_count": 124,
   "metadata": {},
   "outputs": [
    {
     "data": {
      "image/png": "[encoded data removed]",
      "text/plain": [
       "<Figure size 432x302.4 with 1 Axes>"
      ]
     },
     "metadata": {
      "needs_background": "light"
     },
     "output_type": "display_data"
    }
   ],
   "source": [
    "from uf3.jax.potentials import uf2_interaction\n",
    "\n",
    "drs = jnp.arange(1.5,5.5,0.01)\n",
    "U = uf2_interaction(drs, coefficients=params, knots=knots)\n",
    "plt.plot(drs,U)\n",
    "format_plot(r'$r$', r'$V(r)$')\n",
    "finalize_plot()"
   ]
  },
  {
   "cell_type": "code",
   "execution_count": 95,
   "metadata": {},
   "outputs": [
    {
     "data": {
      "image/png": "[encoded data removed]",
      "text/plain": [
       "<Figure size 432x302.4 with 1 Axes>"
      ]
     },
     "metadata": {
      "needs_background": "light"
     },
     "output_type": "display_data"
    }
   ],
   "source": [
    "from jax_md.energy import lennard_jones\n",
    "\n",
    "drs = jnp.arange(1.5,6.0,0.01)\n",
    "U = lennard_jones(drs, sigma=1.6, epsilon=0.1)\n",
    "plt.plot(drs,U)\n",
    "format_plot(r'$r$', r'$V(r)$')\n",
    "finalize_plot()"
   ]
  },
  {
   "cell_type": "code",
   "execution_count": null,
   "metadata": {},
   "outputs": [],
   "source": []
  }
 ],
 "metadata": {
  "kernelspec": {
   "display_name": "Python 3.9.7 ('uf3')",
   "language": "python",
   "name": "python3"
  },
  "language_info": {
   "codemirror_mode": {
    "name": "ipython",
    "version": 3
   },
   "file_extension": ".py",
   "mimetype": "text/x-python",
   "name": "python",
   "nbconvert_exporter": "python",
   "pygments_lexer": "ipython3",
   "version": "3.9.7"
  },
  "orig_nbformat": 4,
  "vscode": {
   "interpreter": {
    "hash": "ca6e4c1237d2523077850c33bb85c07df22e41d5dc1f9dffe27e02189376af2b"
   }
  }
 },
 "nbformat": 4,
 "nbformat_minor": 2
}
