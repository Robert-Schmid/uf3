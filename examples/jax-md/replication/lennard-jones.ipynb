{
 "cells": [
  {
   "cell_type": "code",
   "execution_count": 1,
   "metadata": {},
   "outputs": [
    {
     "name": "stderr",
     "output_type": "stream",
     "text": [
      "<frozen importlib._bootstrap>:228: RuntimeWarning: scipy._lib.messagestream.MessageStream size changed, may indicate binary incompatibility. Expected 56 from C header, got 64 from PyObject\n",
      "WARNING:absl:No GPU/TPU found, falling back to CPU. (Set TF_CPP_MIN_LOG_LEVEL=0 and rerun for more info.)\n"
     ]
    }
   ],
   "source": [
    "import numpy as onp\n",
    "\n",
    "import jax.numpy as jnp\n",
    "from jax import random\n",
    "from jax import jit, grad, vmap, value_and_grad\n",
    "from jax import lax\n",
    "from jax import ops\n",
    "\n",
    "from jax.config import config\n",
    "config.update(\"jax_enable_x64\", True)\n",
    "\n",
    "from jax_md import space, smap, energy, minimize, quantity, simulate, partition, util\n",
    "\n",
    "from functools import partial\n",
    "import time\n",
    "from typing import List\n",
    "\n",
    "f32 = jnp.float32\n",
    "f64 = jnp.float64\n",
    "Array = jnp.ndarray\n",
    "\n",
    "import matplotlib\n",
    "import matplotlib.pyplot as plt\n",
    "plt.rcParams.update({'font.size': 16})\n",
    "\n",
    "def format_plot(x, y):  \n",
    "  plt.grid(True)\n",
    "  plt.xlabel(x, fontsize=20)\n",
    "  plt.ylabel(y, fontsize=20)\n",
    "  \n",
    "def finalize_plot(shape=(1, 0.7)):\n",
    "  plt.gcf().set_size_inches(\n",
    "    shape[0] * 1.5 * plt.gcf().get_size_inches()[1], \n",
    "    shape[1] * 1.5 * plt.gcf().get_size_inches()[1])\n",
    "  plt.tight_layout()\n",
    "\n",
    "def plot_system(R,box_size,species=None,ms=20):\n",
    "  R_plt = onp.array(R)\n",
    "\n",
    "  if(species is None):\n",
    "    plt.plot(R_plt[:, 0], R_plt[:, 1], 'o', markersize=ms)\n",
    "  else:\n",
    "    for ii in range(jnp.amax(species)+1):\n",
    "      Rtemp = R_plt[species==ii]\n",
    "      plt.plot(Rtemp[:, 0], Rtemp[:, 1], 'o', markersize=ms)\n",
    "\n",
    "  plt.xlim([0, box_size])\n",
    "  plt.ylim([0, box_size])\n",
    "  plt.xticks([], [])\n",
    "  plt.yticks([], [])\n",
    "\n",
    "  finalize_plot((1,1))\n",
    "\n",
    "  \n",
    "key = random.PRNGKey(0)\n",
    "\n",
    "# There is currently an integer cast in the jax md neighbor-list function\n",
    "# that causes a warning.\n",
    "import warnings\n",
    "warnings.filterwarnings(\"ignore\", category=FutureWarning)"
   ]
  },
  {
   "cell_type": "markdown",
   "metadata": {},
   "source": [
    "# Replicating Lennard-Jones potential with UF2\n",
    "\n",
    "## Defining the system"
   ]
  },
  {
   "cell_type": "code",
   "execution_count": 2,
   "metadata": {},
   "outputs": [
    {
     "data": {
      "image/png": "[encoded data removed]",
      "text/plain": [
       "<Figure size 432x432 with 1 Axes>"
      ]
     },
     "metadata": {},
     "output_type": "display_data"
    }
   ],
   "source": [
    "N = 50\n",
    "dimension = 3\n",
    "box_size = 12.0\n",
    "\n",
    "key, split = random.split(key)\n",
    "R = random.uniform(split, (N,dimension), minval=0.0, maxval=box_size, dtype=f64) \n",
    "\n",
    "\n",
    "plot_system(R,box_size)"
   ]
  },
  {
   "cell_type": "code",
   "execution_count": 3,
   "metadata": {},
   "outputs": [],
   "source": [
    "box = jnp.eye(dimension) * box_size\n",
    "displacement, shift = space.periodic_general(box, fractional_coordinates=False)"
   ]
  },
  {
   "cell_type": "code",
   "execution_count": 5,
   "metadata": {},
   "outputs": [],
   "source": [
    "from scipy.spatial.distance import cdist\n",
    "positions = []\n",
    "\n",
    "N = 50\n",
    "dimension = 3\n",
    "box_size = 12.0\n",
    "\n",
    "n = 50\n",
    "\n",
    "\n",
    "while True:\n",
    "    key, split = random.split(key)\n",
    "    R_i = random.uniform(split, (N,dimension), minval=0.0, maxval=box_size, dtype=f64)\n",
    "    d = cdist(R_i,R_i)\n",
    "    minimum = min(d[d!=0.0])\n",
    "    \n",
    "    if minimum < 1.5:\n",
    "        continue\n",
    "    positions.append(R_i)\n",
    "    if len(positions) >= n:\n",
    "        break\n",
    "\n",
    "Rs = jnp.stack(positions)"
   ]
  },
  {
   "cell_type": "code",
   "execution_count": 6,
   "metadata": {},
   "outputs": [
    {
     "data": {
      "text/plain": [
       "(50, 50, 3)"
      ]
     },
     "execution_count": 6,
     "metadata": {},
     "output_type": "execute_result"
    }
   ],
   "source": [
    "Rs.shape"
   ]
  },
  {
   "cell_type": "code",
   "execution_count": 7,
   "metadata": {},
   "outputs": [
    {
     "data": {
      "image/png": "[encoded data removed]",
      "text/plain": [
       "<Figure size 432x432 with 1 Axes>"
      ]
     },
     "metadata": {},
     "output_type": "display_data"
    }
   ],
   "source": [
    "plot_system(Rs[0],box_size)"
   ]
  },
  {
   "cell_type": "markdown",
   "metadata": {},
   "source": [
    "## Lennard-Jones"
   ]
  },
  {
   "cell_type": "code",
   "execution_count": 8,
   "metadata": {},
   "outputs": [],
   "source": [
    "from jax_md.energy import lennard_jones_neighbor_list"
   ]
  },
  {
   "cell_type": "code",
   "execution_count": 9,
   "metadata": {},
   "outputs": [],
   "source": [
    "lj_nf, lj_energy = lennard_jones_neighbor_list(displacement, box, sigma=1.6, epsilon=0.1, r_cutoff=5.5)"
   ]
  },
  {
   "cell_type": "code",
   "execution_count": 10,
   "metadata": {},
   "outputs": [
    {
     "name": "stderr",
     "output_type": "stream",
     "text": [
      "/opt/anaconda/envs/uf3/lib/python3.9/site-packages/jax/_src/ops/scatter.py:87: FutureWarning: scatter inputs have incompatible types: cannot safely cast value from dtype=int64 to dtype=int32. In future JAX releases this will result in an error.\n",
      "  warnings.warn(\"scatter inputs have incompatible types: cannot safely cast \"\n"
     ]
    }
   ],
   "source": [
    "nbrs_lj = lj_nf.allocate(R)"
   ]
  },
  {
   "cell_type": "code",
   "execution_count": 11,
   "metadata": {},
   "outputs": [
    {
     "data": {
      "text/plain": [
       "(2, 1523)"
      ]
     },
     "execution_count": 11,
     "metadata": {},
     "output_type": "execute_result"
    }
   ],
   "source": [
    "nbrs_lj.idx.shape"
   ]
  },
  {
   "cell_type": "code",
   "execution_count": 12,
   "metadata": {},
   "outputs": [
    {
     "data": {
      "text/plain": [
       "DeviceArray(7.39008878e+09, dtype=float64)"
      ]
     },
     "execution_count": 12,
     "metadata": {},
     "output_type": "execute_result"
    }
   ],
   "source": [
    "lj_energy(R, nbrs_lj)"
   ]
  },
  {
   "cell_type": "code",
   "execution_count": 13,
   "metadata": {},
   "outputs": [
    {
     "data": {
      "text/plain": [
       "DeviceArray([[-2.83653725e-02, -4.32992993e-02, -1.60750992e-03],\n",
       "             [-9.38252246e+00,  5.46323684e+00,  4.14829746e+00],\n",
       "             [-2.85209072e-01,  2.31037810e+00,  2.06541900e+01],\n",
       "             [ 2.36696876e+01, -4.68510379e+00,  4.67605659e+00],\n",
       "             [ 1.14429592e+04,  4.36799810e+03, -8.94516343e+03]],            dtype=float64)"
      ]
     },
     "execution_count": 13,
     "metadata": {},
     "output_type": "execute_result"
    }
   ],
   "source": [
    "- grad(lj_energy)(R, nbrs_lj)[:5,:]"
   ]
  },
  {
   "cell_type": "markdown",
   "metadata": {},
   "source": [
    "## UF2"
   ]
  },
  {
   "cell_type": "code",
   "execution_count": 14,
   "metadata": {},
   "outputs": [],
   "source": [
    "from uf3.jax.potentials import uf3_neighbor"
   ]
  },
  {
   "cell_type": "code",
   "execution_count": 15,
   "metadata": {},
   "outputs": [],
   "source": [
    "knots = [jnp.asarray([1.5 , 1.5 , 1.5 , 1.5 , 1.66, 1.82, 1.98, 2.14, 2.3 , 2.46, 2.62, 2.78, 2.94, 3.1 , 3.26, 3.42, 3.58, 3.74, 3.9 , 4.06, 4.22, 4.38, 4.54, 4.7 , 4.86, 5.02, 5.18, 5.34, 5.5 , 5.5 , 5.5 , 5.5 ])]"
   ]
  },
  {
   "cell_type": "code",
   "execution_count": 16,
   "metadata": {},
   "outputs": [],
   "source": [
    "# knots = [jnp.pad(jnp.linspace(1.0,5.5,25),(3,3),\"edge\")]\n",
    "coefficients = [jnp.zeros(len(knots[0])-4)]"
   ]
  },
  {
   "cell_type": "code",
   "execution_count": 17,
   "metadata": {},
   "outputs": [
    {
     "data": {
      "text/plain": [
       "[DeviceArray([1.5 , 1.5 , 1.5 , 1.5 , 1.66, 1.82, 1.98, 2.14, 2.3 , 2.46,\n",
       "              2.62, 2.78, 2.94, 3.1 , 3.26, 3.42, 3.58, 3.74, 3.9 , 4.06,\n",
       "              4.22, 4.38, 4.54, 4.7 , 4.86, 5.02, 5.18, 5.34, 5.5 , 5.5 ,\n",
       "              5.5 , 5.5 ], dtype=float64)]"
      ]
     },
     "execution_count": 17,
     "metadata": {},
     "output_type": "execute_result"
    }
   ],
   "source": [
    "knots"
   ]
  },
  {
   "cell_type": "code",
   "execution_count": 18,
   "metadata": {},
   "outputs": [],
   "source": [
    "uf2_nf, uf2_energy = uf3_neighbor(displacement, box, knots=[knots], coefficients=coefficients, cutoff=5.5)"
   ]
  },
  {
   "cell_type": "code",
   "execution_count": 19,
   "metadata": {},
   "outputs": [
    {
     "name": "stderr",
     "output_type": "stream",
     "text": [
      "/opt/anaconda/envs/uf3/lib/python3.9/site-packages/jax/_src/ops/scatter.py:87: FutureWarning: scatter inputs have incompatible types: cannot safely cast value from dtype=int64 to dtype=int32. In future JAX releases this will result in an error.\n",
      "  warnings.warn(\"scatter inputs have incompatible types: cannot safely cast \"\n"
     ]
    }
   ],
   "source": [
    "nbrs_uf2 = uf2_nf.allocate(R, extra_capacity=10)"
   ]
  },
  {
   "cell_type": "code",
   "execution_count": 20,
   "metadata": {},
   "outputs": [
    {
     "data": {
      "text/plain": [
       "DeviceArray(0., dtype=float64)"
      ]
     },
     "execution_count": 20,
     "metadata": {},
     "output_type": "execute_result"
    }
   ],
   "source": [
    "uf2_energy = jit(uf2_energy)\n",
    "uf2_energy(R, nbrs_uf2)"
   ]
  },
  {
   "cell_type": "markdown",
   "metadata": {},
   "source": [
    "## Loss function"
   ]
  },
  {
   "cell_type": "code",
   "execution_count": 21,
   "metadata": {},
   "outputs": [],
   "source": [
    "from uf3.jax.physical import stress_neighborlist_fn\n",
    "from uf3.regression.regularize import get_regularizer_matrix"
   ]
  },
  {
   "cell_type": "code",
   "execution_count": 22,
   "metadata": {},
   "outputs": [],
   "source": [
    "def ufp_reference(R, energy_fn, neighborlist_fn, box):\n",
    "    nbrs = neighborlist_fn.allocate(R)\n",
    "    stress = stress_neighborlist_fn(energy_fn, box)\n",
    "    def reference(R, params):\n",
    "        _neighbor = neighborlist_fn.update(R, nbrs)\n",
    "        E = energy_fn(R, _neighbor, coefficients=params)\n",
    "        F = - grad(energy_fn)(R, _neighbor, coefficients=params)\n",
    "        S = stress(R, _neighbor, coefficients=params)\n",
    "        return (E,F,S)\n",
    "\n",
    "    return vmap(reference, (0, None))\n",
    "\n",
    "def lj_reference(R, energy_fn, neighborlist_fn, box):\n",
    "    nbrs = neighborlist_fn.allocate(R)\n",
    "    stress = stress_neighborlist_fn(energy_fn, box)\n",
    "    def reference(R):\n",
    "        _neighbor = neighborlist_fn.update(R, nbrs)\n",
    "        E = energy_fn(R, _neighbor) * 2\n",
    "        F = - grad(energy_fn)(R, _neighbor) * 2\n",
    "        S = stress(R, _neighbor) * 2\n",
    "        return (E,F,S)\n",
    "\n",
    "    return vmap(reference)\n",
    "\n",
    "def regularize(coefficients, ridge=1.0, curvature=1.0):\n",
    "    return jnp.sum(\n",
    "        jnp.einsum(\n",
    "            \"ij,j->i\",\n",
    "            get_regularizer_matrix(len(coefficients), ridge=ridge, curvature=curvature),\n",
    "            coefficients,\n",
    "        )\n",
    "        ** 2\n",
    "    )\n",
    "\n",
    "def ufp_loss(params, R, targets, weights, reference_fn):\n",
    "    tE, tF, tS = targets\n",
    "    E, F, S = reference_fn(R, params)\n",
    "\n",
    "    n_systems = len(tE)\n",
    "    n_atoms = len(tF[0])\n",
    "    \n",
    "    E_loss = jnp.sum((tE - E)**2) / (n_systems * jnp.var(tE))\n",
    "    F_loss = jnp.sum((tF - F)**2) / (n_systems * n_atoms * jnp.var(tF))\n",
    "    S_loss = jnp.sum((tS - S)**2) / jnp.var(tS)#(len(tS) * jnp.var(tS))\n",
    "    reg = regularize(params[0])\n",
    "\n",
    "    return weights[0] * E_loss + weights[1] * F_loss + weights[2] * S_loss + weights[3] * reg\n",
    "\n"
   ]
  },
  {
   "cell_type": "code",
   "execution_count": 23,
   "metadata": {},
   "outputs": [
    {
     "name": "stderr",
     "output_type": "stream",
     "text": [
      "/opt/anaconda/envs/uf3/lib/python3.9/site-packages/jax/_src/ops/scatter.py:87: FutureWarning: scatter inputs have incompatible types: cannot safely cast value from dtype=int64 to dtype=int32. In future JAX releases this will result in an error.\n",
      "  warnings.warn(\"scatter inputs have incompatible types: cannot safely cast \"\n"
     ]
    }
   ],
   "source": [
    "lj_rf = lj_reference(R, lj_energy, lj_nf, box)\n",
    "targets = lj_rf(Rs)"
   ]
  },
  {
   "cell_type": "code",
   "execution_count": 24,
   "metadata": {},
   "outputs": [
    {
     "name": "stderr",
     "output_type": "stream",
     "text": [
      "/opt/anaconda/envs/uf3/lib/python3.9/site-packages/jax/_src/ops/scatter.py:87: FutureWarning: scatter inputs have incompatible types: cannot safely cast value from dtype=int64 to dtype=int32. In future JAX releases this will result in an error.\n",
      "  warnings.warn(\"scatter inputs have incompatible types: cannot safely cast \"\n"
     ]
    }
   ],
   "source": [
    "uf2_ref = ufp_reference(R, uf2_energy, uf2_nf, box)\n",
    "loss = grad(ufp_loss)(coefficients, Rs, targets, [.5,0.5,0.0,0.05], uf2_ref)"
   ]
  },
  {
   "cell_type": "code",
   "execution_count": 25,
   "metadata": {},
   "outputs": [
    {
     "data": {
      "text/plain": [
       "(50,)"
      ]
     },
     "execution_count": 25,
     "metadata": {},
     "output_type": "execute_result"
    }
   ],
   "source": [
    "targets[0].shape"
   ]
  },
  {
   "cell_type": "markdown",
   "metadata": {},
   "source": [
    "## Training"
   ]
  },
  {
   "cell_type": "code",
   "execution_count": 28,
   "metadata": {},
   "outputs": [],
   "source": [
    "from uf3.jax.potentials import uf2_interaction\n",
    "\n",
    "uf2_fn = uf2_interaction(knots)\n",
    "uf2 = lambda drs, co: vmap(partial(uf2_fn, coefficients=co))(drs)"
   ]
  },
  {
   "cell_type": "code",
   "execution_count": 62,
   "metadata": {},
   "outputs": [
    {
     "name": "stdout",
     "output_type": "stream",
     "text": [
      "Error after 0 iterations: 2.606430531419427\n",
      "Error after 100 iterations: nan\n",
      "Error after 200 iterations: nan\n"
     ]
    },
    {
     "data": {
      "image/png": "[encoded data removed]",
      "text/plain": [
       "<Figure size 432x302.4 with 1 Axes>"
      ]
     },
     "metadata": {
      "needs_background": "light"
     },
     "output_type": "display_data"
    }
   ],
   "source": [
    "params =  [jnp.zeros(len(knots[0])-4)]\n",
    "rate = 1e3\n",
    "hyperparameters = [0.2,0.8,0.0,0.05]\n",
    "\n",
    "@jit\n",
    "def loss_fn(params, R, labels):\n",
    "    return ufp_loss(params, R, labels, hyperparameters, uf2_ref)\n",
    "\n",
    "for i in range(201):\n",
    "    # params, opt_state = update_step(params, opt_state, Rs, targets)\n",
    "    delta = grad(loss_fn)(params, Rs, targets)\n",
    "    params[0] -= delta[0] * rate\n",
    "\n",
    "    if i % 100 == 0:\n",
    "        error = ufp_loss(params, Rs, targets, hyperparameters, uf2_ref)\n",
    "        print(f\"Error after {i} iterations: {error}\")\n",
    "\n",
    "        ref = jnp.arange(1.5,6.0,0.01)\n",
    "        U = uf2(ref, params[0])\n",
    "        plt.plot(ref,U)\n",
    "\n",
    "format_plot(r'$r$', r'$V(r)$')\n",
    "finalize_plot()\n",
    "# plt.savefig('system_balanced_centric.png')"
   ]
  },
  {
   "cell_type": "code",
   "execution_count": 63,
   "metadata": {},
   "outputs": [
    {
     "data": {
      "text/plain": [
       "[DeviceArray([nan, nan, nan, nan, nan, nan, nan, nan, nan, nan, nan, nan,\n",
       "              nan, nan, nan, nan, nan, nan, nan, nan, nan, nan, nan, nan,\n",
       "              nan, nan, nan, nan], dtype=float64)]"
      ]
     },
     "execution_count": 63,
     "metadata": {},
     "output_type": "execute_result"
    }
   ],
   "source": [
    "grad(loss_fn)(params, Rs, targets)"
   ]
  },
  {
   "cell_type": "code",
   "execution_count": 48,
   "metadata": {},
   "outputs": [],
   "source": [
    "A = [0,0,0]\n",
    "A[0] = params[0]"
   ]
  },
  {
   "cell_type": "code",
   "execution_count": 53,
   "metadata": {},
   "outputs": [],
   "source": [
    "A[1] = params[0]"
   ]
  },
  {
   "cell_type": "code",
   "execution_count": 56,
   "metadata": {},
   "outputs": [],
   "source": [
    "A[2] = params[0]"
   ]
  },
  {
   "cell_type": "code",
   "execution_count": 73,
   "metadata": {},
   "outputs": [
    {
     "data": {
      "image/png": "[encoded data removed]",
      "text/plain": [
       "<Figure size 576x403.2 with 1 Axes>"
      ]
     },
     "metadata": {
      "needs_background": "light"
     },
     "output_type": "display_data"
    }
   ],
   "source": [
    "def Norm(data):\n",
    "    return (data - onp.min(data)) / (onp.max(data) - onp.min(data))\n",
    "\n",
    "\n",
    "drs = jnp.arange(1.5,5.5,0.01)\n",
    "U1 = uf2(drs, A[0])\n",
    "U2 = uf2(drs, A[1])\n",
    "U3 = uf2(drs, A[2])\n",
    "plt.plot(drs, Norm(U1), label=\"Energy\")\n",
    "plt.plot(drs,Norm(U2), label=\"Balanced\")\n",
    "plt.plot(drs,Norm(U3), label=\"Forces\")\n",
    "format_plot(r'$r$', r'$V(r)$')\n",
    "plt.legend()\n",
    "plt.tick_params(\n",
    "    axis='y',          # changes apply to the x-axis\n",
    "    which='both',      # both major and minor ticks are affected\n",
    "    left=False,      # ticks along the bottom edge are off\n",
    "    # top=False,         # ticks along the top edge are off\n",
    "    labelleft=False)\n",
    "shape=(1, 0.7)\n",
    "plt.gcf().set_size_inches(\n",
    "    shape[0] * 2. * plt.gcf().get_size_inches()[1], \n",
    "    shape[1] * 2. * plt.gcf().get_size_inches()[1])\n",
    "plt.tight_layout()\n",
    "plt.savefig('system_gd_result.png')"
   ]
  },
  {
   "cell_type": "code",
   "execution_count": 32,
   "metadata": {},
   "outputs": [
    {
     "data": {
      "image/png": "[encoded data removed]",
      "text/plain": [
       "<Figure size 432x302.4 with 1 Axes>"
      ]
     },
     "metadata": {
      "needs_background": "light"
     },
     "output_type": "display_data"
    }
   ],
   "source": [
    "from jax_md.energy import lennard_jones\n",
    "\n",
    "drs = jnp.arange(1.5,6.0,0.01)\n",
    "U = lennard_jones(drs, sigma=1.6, epsilon=0.1)\n",
    "plt.plot(drs,U)\n",
    "format_plot(r'$r$', r'$V(r)$')\n",
    "finalize_plot()"
   ]
  },
  {
   "cell_type": "code",
   "execution_count": null,
   "metadata": {},
   "outputs": [],
   "source": []
  }
 ],
 "metadata": {
  "kernelspec": {
   "display_name": "Python 3.9.7 ('uf3')",
   "language": "python",
   "name": "python3"
  },
  "language_info": {
   "codemirror_mode": {
    "name": "ipython",
    "version": 3
   },
   "file_extension": ".py",
   "mimetype": "text/x-python",
   "name": "python",
   "nbconvert_exporter": "python",
   "pygments_lexer": "ipython3",
   "version": "3.9.7"
  },
  "orig_nbformat": 4,
  "vscode": {
   "interpreter": {
    "hash": "ca6e4c1237d2523077850c33bb85c07df22e41d5dc1f9dffe27e02189376af2b"
   }
  }
 },
 "nbformat": 4,
 "nbformat_minor": 2
}
