{
 "cells": [
  {
   "cell_type": "markdown",
   "metadata": {},
   "source": [
    "# Demo for 3-Body potentials in JAX-MD"
   ]
  },
  {
   "cell_type": "code",
   "execution_count": 1,
   "metadata": {},
   "outputs": [
    {
     "name": "stderr",
     "output_type": "stream",
     "text": [
      "<frozen importlib._bootstrap>:228: RuntimeWarning: scipy._lib.messagestream.MessageStream size changed, may indicate binary incompatibility. Expected 56 from C header, got 64 from PyObject\n",
      "2022-06-17 12:11:30.367932: E external/org_tensorflow/tensorflow/stream_executor/cuda/cuda_driver.cc:271] failed call to cuInit: CUDA_ERROR_UNKNOWN: unknown error\n",
      "WARNING:absl:No GPU/TPU found, falling back to CPU. (Set TF_CPP_MIN_LOG_LEVEL=0 and rerun for more info.)\n"
     ]
    }
   ],
   "source": [
    "import numpy as onp\n",
    "\n",
    "import jax.numpy as jnp\n",
    "from jax import random\n",
    "from jax import jit, grad, vmap, value_and_grad\n",
    "from jax import lax\n",
    "from jax import ops\n",
    "\n",
    "from jax.config import config\n",
    "config.update(\"jax_enable_x64\", True)\n",
    "\n",
    "from jax_md import space, smap, energy, minimize, quantity, simulate, partition, util\n",
    "\n",
    "from functools import partial\n",
    "import time\n",
    "from typing import List\n",
    "\n",
    "f32 = jnp.float32\n",
    "f64 = jnp.float64\n",
    "Array = jnp.ndarray\n",
    "\n",
    "import matplotlib\n",
    "import matplotlib.pyplot as plt\n",
    "plt.rcParams.update({'font.size': 16})\n",
    "\n",
    "def format_plot(x, y):  \n",
    "  plt.grid(True)\n",
    "  plt.xlabel(x, fontsize=20)\n",
    "  plt.ylabel(y, fontsize=20)\n",
    "  \n",
    "def finalize_plot(shape=(1, 0.7)):\n",
    "  plt.gcf().set_size_inches(\n",
    "    shape[0] * 1.5 * plt.gcf().get_size_inches()[1], \n",
    "    shape[1] * 1.5 * plt.gcf().get_size_inches()[1])\n",
    "  plt.tight_layout()\n",
    "\n",
    "def plot_system(R,box_size,species=None,ms=20):\n",
    "  R_plt = onp.array(R)\n",
    "\n",
    "  if(species is None):\n",
    "    plt.plot(R_plt[:, 0], R_plt[:, 1], 'o', markersize=ms)\n",
    "  else:\n",
    "    for ii in range(jnp.amax(species)+1):\n",
    "      Rtemp = R_plt[species==ii]\n",
    "      plt.plot(Rtemp[:, 0], Rtemp[:, 1], 'o', markersize=ms)\n",
    "\n",
    "  plt.xlim([0, box_size])\n",
    "  plt.ylim([0, box_size])\n",
    "  plt.xticks([], [])\n",
    "  plt.yticks([], [])\n",
    "\n",
    "  finalize_plot((1,1))\n",
    "  \n",
    "key = random.PRNGKey(0)"
   ]
  },
  {
   "cell_type": "code",
   "execution_count": 2,
   "metadata": {},
   "outputs": [],
   "source": [
    "from uf3.forcefield.calculator import *\n",
    "from uf3.representation import bspline\n",
    "from uf3.data import composition\n",
    "from uf3.regression import least_squares\n",
    "\n",
    "element_list = ['W']\n",
    "degree = 3\n",
    "\n",
    "chemical_system = composition.ChemicalSystem(element_list=element_list,\n",
    "                                             degree=degree)\n",
    "\n",
    "r_min_map = {(\"W\", \"W\"): 1.5,\n",
    "             (\"W\", \"W\", \"W\"): [1.5, 1.5, 1.5],\n",
    "            }\n",
    "r_max_map = {(\"W\", \"W\"): 5.5,\n",
    "             (\"W\", \"W\", \"W\"): [3.5, 3.5, 7.0],\n",
    "            }\n",
    "resolution_map = {(\"W\", \"W\"): 25,\n",
    "                  (\"W\", \"W\", \"W\"): [5, 5, 10],\n",
    "                 }\n",
    "trailing_trim = 3\n",
    "\n",
    "bspline_config = bspline.BSplineBasis(chemical_system,\n",
    "                                      r_min_map=r_min_map,\n",
    "                                      r_max_map=r_max_map,\n",
    "                                      resolution_map=resolution_map,\n",
    "                                      trailing_trim=trailing_trim)\n",
    "\n",
    "model = least_squares.WeightedLinearModel(bspline_config)\n",
    "\n",
    "model.load(filename=\"../tungsten_extxyz/model_uf23.json\")\n",
    "\n",
    "calc = UFCalculator(model)\n",
    "\n",
    "ndspline2 = calc.pair_potentials[('W','W')]\n",
    "ndspline3 = calc.trio_potentials[('W','W','W')]"
   ]
  },
  {
   "cell_type": "code",
   "execution_count": 4,
   "metadata": {},
   "outputs": [
    {
     "name": "stdout",
     "output_type": "stream",
     "text": [
      "(28,)\n",
      "[1.5  1.5  1.5  1.5  1.66 1.82 1.98 2.14 2.3  2.46 2.62 2.78 2.94 3.1\n",
      " 3.26 3.42 3.58 3.74 3.9  4.06 4.22 4.38 4.54 4.7  4.86 5.02 5.18 5.34\n",
      " 5.5  5.5  5.5  5.5 ]\n"
     ]
    }
   ],
   "source": [
    "coefficients2 = jnp.asarray(ndspline2.coefficients)\n",
    "coefficients2 = coefficients2[:,0]\n",
    "\n",
    "knots2 = ndspline2.knots\n",
    "knots2 = knots2[0]\n",
    "\n",
    "print(coefficients2.shape)\n",
    "\n",
    "print(knots2)"
   ]
  },
  {
   "cell_type": "code",
   "execution_count": 3,
   "metadata": {},
   "outputs": [
    {
     "name": "stdout",
     "output_type": "stream",
     "text": [
      "(8, 8, 13)\n",
      "[DeviceArray([1.5, 1.5, 1.5, 1.5, 1.9, 2.3, 2.7, 3.1, 3.5, 3.5, 3.5, 3.5],            dtype=float64), DeviceArray([1.5, 1.5, 1.5, 1.5, 1.9, 2.3, 2.7, 3.1, 3.5, 3.5, 3.5, 3.5],            dtype=float64), DeviceArray([1.5 , 1.5 , 1.5 , 1.5 , 2.05, 2.6 , 3.15, 3.7 , 4.25, 4.8 ,\n",
      "             5.35, 5.9 , 6.45, 7.  , 7.  , 7.  , 7.  ], dtype=float64)]\n"
     ]
    }
   ],
   "source": [
    "coefficients3 = jnp.asarray(ndspline3.coefficients)\n",
    "coefficients3 = coefficients3[:,:,:,0]\n",
    "\n",
    "knots3 = ndspline3.knots\n",
    "knots3 = [jnp.asarray(i) for i in knots3]\n",
    "\n",
    "print(coefficients3.shape)\n",
    "\n",
    "print(knots3)"
   ]
  },
  {
   "cell_type": "code",
   "execution_count": 5,
   "metadata": {},
   "outputs": [
    {
     "data": {
      "image/png": "[encoded data removed]",
      "text/plain": [
       "<Figure size 432x432 with 1 Axes>"
      ]
     },
     "metadata": {},
     "output_type": "display_data"
    }
   ],
   "source": [
    "N = 500\n",
    "dimension = 3\n",
    "box_size = 12.0\n",
    "\n",
    "key, split = random.split(key)\n",
    "R = random.uniform(split, (N,dimension), minval=0.0, maxval=box_size, dtype=f64) \n",
    "\n",
    "plot_system(R,box_size)"
   ]
  },
  {
   "cell_type": "code",
   "execution_count": 6,
   "metadata": {},
   "outputs": [],
   "source": [
    "box = jnp.eye(dimension) * box_size\n",
    "displacement, shift = space.periodic_general(box, fractional_coordinates=False)"
   ]
  },
  {
   "cell_type": "code",
   "execution_count": 7,
   "metadata": {},
   "outputs": [
    {
     "name": "stdout",
     "output_type": "stream",
     "text": [
      "300248526157.9771\n"
     ]
    }
   ],
   "source": [
    "neighbour_fn, compute_fn = energy.lennard_jones_neighbor_list(displacement, box_size)\n",
    "nbrs = neighbour_fn.allocate(R)\n",
    "print(compute_fn(R, nbrs))"
   ]
  },
  {
   "cell_type": "code",
   "execution_count": 8,
   "metadata": {},
   "outputs": [
    {
     "name": "stdout",
     "output_type": "stream",
     "text": [
      "1590483.1270676518\n"
     ]
    }
   ],
   "source": [
    "neighbour_fn, compute_fn = energy.stillinger_weber_neighbor_list(displacement, box_size)\n",
    "nbrs = neighbour_fn.allocate(R)\n",
    "print(compute_fn(R, nbrs))"
   ]
  },
  {
   "cell_type": "markdown",
   "metadata": {},
   "source": [
    "## 3-body ufp Potential"
   ]
  },
  {
   "cell_type": "code",
   "execution_count": 9,
   "metadata": {},
   "outputs": [],
   "source": [
    "from uf3.jax.potentials import uf3_interaction, uf3_mapped"
   ]
  },
  {
   "cell_type": "code",
   "execution_count": 10,
   "metadata": {},
   "outputs": [],
   "source": [
    "\n",
    "uf3 = partial(uf3_interaction, coefficients=coefficients3, knots=knots3)\n",
    "uf3m = partial(uf3_mapped, coefficients=coefficients3, knots=knots3)"
   ]
  },
  {
   "cell_type": "code",
   "execution_count": 11,
   "metadata": {},
   "outputs": [],
   "source": [
    "dR12 = jnp.asarray([[2.0,0.0,0.0],[0.0,2.5,0.0]])\n",
    "dR13 = jnp.asarray([[0.0,2.5,0.0],[2.0,0.0,0.0]])"
   ]
  },
  {
   "cell_type": "code",
   "execution_count": 12,
   "metadata": {},
   "outputs": [],
   "source": [
    "import jax_md.space\n",
    "\n",
    "k = 3\n",
    "cutoff = knots3[0][-k-1]\n",
    "\n",
    "angular_cutoff = cutoff * 2\n",
    "\n",
    "dR23 = dR13 - dR12\n",
    "dr12 = space.distance(dR12)\n",
    "dr13 = space.distance(dR13)\n",
    "dr23 = space.distance(dR23)\n",
    "dr12 = jnp.where(dr12 < cutoff, dr12, 0)\n",
    "dr13 = jnp.where(dr13 < cutoff, dr13, 0)\n",
    "dr23 = jnp.where(dr23 < angular_cutoff, dr23, 0)"
   ]
  },
  {
   "cell_type": "code",
   "execution_count": 13,
   "metadata": {},
   "outputs": [
    {
     "name": "stdout",
     "output_type": "stream",
     "text": [
      "[3.20156212 3.20156212]\n"
     ]
    }
   ],
   "source": [
    "print(dr23)"
   ]
  },
  {
   "cell_type": "code",
   "execution_count": 14,
   "metadata": {},
   "outputs": [],
   "source": [
    "import uf3.jax.jax_splines as jsp\n",
    "k = 3\n",
    "spline1 = jit(vmap(partial(jsp.deBoor_factor_unsafe, k, knots3[0])))\n",
    "spline2 = jit(vmap(partial(jsp.deBoor_factor_unsafe, k, knots3[1])))\n",
    "spline3 = jit(vmap(partial(jsp.deBoor_factor_unsafe, k, knots3[2])))"
   ]
  },
  {
   "cell_type": "code",
   "execution_count": 15,
   "metadata": {},
   "outputs": [
    {
     "name": "stdout",
     "output_type": "stream",
     "text": [
      "(2, 8)\n"
     ]
    }
   ],
   "source": [
    "print(spline1(dr12).shape)"
   ]
  },
  {
   "cell_type": "code",
   "execution_count": 16,
   "metadata": {},
   "outputs": [
    {
     "data": {
      "text/plain": [
       "DeviceArray([0.03746806, 0.03746806], dtype=float64)"
      ]
     },
     "execution_count": 16,
     "metadata": {},
     "output_type": "execute_result"
    }
   ],
   "source": [
    "jnp.einsum(coefficients3, [1,2,3], spline1(dr12), [4,1], spline2(dr13), [4,2], spline3(dr23), [4,3],[4])"
   ]
  },
  {
   "cell_type": "code",
   "execution_count": 17,
   "metadata": {},
   "outputs": [
    {
     "data": {
      "text/plain": [
       "DeviceArray([0.03746806, 0.03746806], dtype=float64)"
      ]
     },
     "execution_count": 17,
     "metadata": {},
     "output_type": "execute_result"
    }
   ],
   "source": [
    "uf3(dR12[0],dR13[0])\n",
    "test = vmap(uf3)\n",
    "test(dR12, dR13)"
   ]
  },
  {
   "cell_type": "code",
   "execution_count": 18,
   "metadata": {},
   "outputs": [
    {
     "data": {
      "text/plain": [
       "DeviceArray([[11.07303225,  7.30698128,  6.30687587],\n",
       "             [ 2.71739632,  7.13126088, 10.53086086],\n",
       "             [ 5.13914779,  0.4230908 ,  5.88431467],\n",
       "             [ 3.16696723, 10.81587555,  6.7190383 ],\n",
       "             [ 8.32987093,  4.79927217, 10.27326279]], dtype=float64)"
      ]
     },
     "execution_count": 18,
     "metadata": {},
     "output_type": "execute_result"
    }
   ],
   "source": [
    "R[:5]"
   ]
  },
  {
   "cell_type": "code",
   "execution_count": 26,
   "metadata": {},
   "outputs": [
    {
     "name": "stderr",
     "output_type": "stream",
     "text": [
      "2022-06-03 14:45:53.553843: W external/org_tensorflow/tensorflow/core/common_runtime/bfc_allocator.cc:462] Allocator (GPU_0_bfc) ran out of memory trying to allocate 2.79GiB (rounded to 3000000000)requested by op \n",
      "2022-06-03 14:45:53.553990: W external/org_tensorflow/tensorflow/core/common_runtime/bfc_allocator.cc:474] *___________________________________________________________________________________________________\n",
      "2022-06-03 14:45:53.554067: E external/org_tensorflow/tensorflow/compiler/xla/pjrt/pjrt_stream_executor_client.cc:2086] Execution of replica 0 failed: RESOURCE_EXHAUSTED: Out of memory while trying to allocate 3000000000 bytes.\n",
      "BufferAssignment OOM Debugging.\n",
      "BufferAssignment stats:\n",
      "             parameter allocation:   11.44MiB\n",
      "              constant allocation:         0B\n",
      "        maybe_live_out allocation:    2.79GiB\n",
      "     preallocated temp allocation:         0B\n",
      "                 total allocation:    2.80GiB\n",
      "              total fragmentation:         0B (0.00%)\n",
      "Peak buffers:\n",
      "\tBuffer 1:\n",
      "\t\tSize: 2.79GiB\n",
      "\t\tOperator: op_type=\"sub\" op_name=\"jit(vmap(vmap(vmap(<lambda>))))/sub\" source_file=\"/home/robert/repositories/github.com/Robert-Schmid/uf3/uf3/jax/potentials.py\" source_line=188\n",
      "\t\tXLA Label: fusion\n",
      "\t\tShape: f64[500,500,500,3]\n",
      "\t\t==========================\n",
      "\n",
      "\tBuffer 2:\n",
      "\t\tSize: 5.72MiB\n",
      "\t\tEntry Parameter Subshape: f64[500,500,3]\n",
      "\t\t==========================\n",
      "\n",
      "\tBuffer 3:\n",
      "\t\tSize: 5.72MiB\n",
      "\t\tEntry Parameter Subshape: f64[500,500,3]\n",
      "\t\t==========================\n",
      "\n",
      "\n"
     ]
    },
    {
     "ename": "RuntimeError",
     "evalue": "RESOURCE_EXHAUSTED: Out of memory while trying to allocate 3000000000 bytes.\nBufferAssignment OOM Debugging.\nBufferAssignment stats:\n             parameter allocation:   11.44MiB\n              constant allocation:         0B\n        maybe_live_out allocation:    2.79GiB\n     preallocated temp allocation:         0B\n                 total allocation:    2.80GiB\n              total fragmentation:         0B (0.00%)\nPeak buffers:\n\tBuffer 1:\n\t\tSize: 2.79GiB\n\t\tOperator: op_type=\"sub\" op_name=\"jit(vmap(vmap(vmap(<lambda>))))/sub\" source_file=\"/home/robert/repositories/github.com/Robert-Schmid/uf3/uf3/jax/potentials.py\" source_line=188\n\t\tXLA Label: fusion\n\t\tShape: f64[500,500,500,3]\n\t\t==========================\n\n\tBuffer 2:\n\t\tSize: 5.72MiB\n\t\tEntry Parameter Subshape: f64[500,500,3]\n\t\t==========================\n\n\tBuffer 3:\n\t\tSize: 5.72MiB\n\t\tEntry Parameter Subshape: f64[500,500,3]\n\t\t==========================\n\n",
     "output_type": "error",
     "traceback": [
      "\u001b[0;31m---------------------------------------------------------------------------\u001b[0m",
      "\u001b[0;31mRuntimeError\u001b[0m                              Traceback (most recent call last)",
      "\u001b[1;32m/home/robert/repositories/github.com/Robert-Schmid/uf3/examples/jax-md/jax-md_3-Body.ipynb Cell 21'\u001b[0m in \u001b[0;36m<module>\u001b[0;34m\u001b[0m\n\u001b[1;32m      <a href='vscode-notebook-cell:/home/robert/repositories/github.com/Robert-Schmid/uf3/examples/jax-md/jax-md_3-Body.ipynb#ch0000029?line=1'>2</a>\u001b[0m \u001b[39m# print(dR[0])\u001b[39;00m\n\u001b[1;32m      <a href='vscode-notebook-cell:/home/robert/repositories/github.com/Robert-Schmid/uf3/examples/jax-md/jax-md_3-Body.ipynb#ch0000029?line=3'>4</a>\u001b[0m test \u001b[39m=\u001b[39m vmap(vmap(vmap(uf3, (\u001b[39m0\u001b[39m,\u001b[39mNone\u001b[39;00m)),(\u001b[39mNone\u001b[39;00m, \u001b[39m0\u001b[39m)))\n\u001b[0;32m----> <a href='vscode-notebook-cell:/home/robert/repositories/github.com/Robert-Schmid/uf3/examples/jax-md/jax-md_3-Body.ipynb#ch0000029?line=5'>6</a>\u001b[0m jnp\u001b[39m.\u001b[39msum(test(dR,dR))\n",
      "    \u001b[0;31m[... skipping hidden 9 frame]\u001b[0m\n",
      "File \u001b[0;32m~/repositories/github.com/Robert-Schmid/uf3/uf3/jax/potentials.py:188\u001b[0m, in \u001b[0;36muf3_interaction\u001b[0;34m(dR12, dR13, coefficients, knots, cutoff)\u001b[0m\n\u001b[1;32m    <a href='file:///home/robert/repositories/github.com/Robert-Schmid/uf3/uf3/jax/potentials.py?line=184'>185</a>\u001b[0m min3 \u001b[39m=\u001b[39m knots[\u001b[39m2\u001b[39m][k]\n\u001b[1;32m    <a href='file:///home/robert/repositories/github.com/Robert-Schmid/uf3/uf3/jax/potentials.py?line=186'>187</a>\u001b[0m dR23 \u001b[39m=\u001b[39m dR13 \u001b[39m-\u001b[39m dR12\n\u001b[0;32m--> <a href='file:///home/robert/repositories/github.com/Robert-Schmid/uf3/uf3/jax/potentials.py?line=187'>188</a>\u001b[0m dr12 \u001b[39m=\u001b[39m space\u001b[39m.\u001b[39mdistance(dR12)\n\u001b[1;32m    <a href='file:///home/robert/repositories/github.com/Robert-Schmid/uf3/uf3/jax/potentials.py?line=188'>189</a>\u001b[0m dr13 \u001b[39m=\u001b[39m space\u001b[39m.\u001b[39mdistance(dR13)\n\u001b[1;32m    <a href='file:///home/robert/repositories/github.com/Robert-Schmid/uf3/uf3/jax/potentials.py?line=189'>190</a>\u001b[0m dr23 \u001b[39m=\u001b[39m space\u001b[39m.\u001b[39mdistance(dR23)\n",
      "    \u001b[0;31m[... skipping hidden 1 frame]\u001b[0m\n",
      "File \u001b[0;32m/opt/anaconda/envs/uf3/lib/python3.9/site-packages/jax/_src/numpy/lax_numpy.py:6668\u001b[0m, in \u001b[0;36m_defer_to_unrecognized_arg.<locals>.deferring_binary_op\u001b[0;34m(self, other)\u001b[0m\n\u001b[1;32m   <a href='file:///opt/anaconda/envs/uf3/lib/python3.9/site-packages/jax/_src/numpy/lax_numpy.py?line=6665'>6666</a>\u001b[0m \u001b[39mif\u001b[39;00m \u001b[39mnot\u001b[39;00m \u001b[39misinstance\u001b[39m(other, _accepted_binop_types):\n\u001b[1;32m   <a href='file:///opt/anaconda/envs/uf3/lib/python3.9/site-packages/jax/_src/numpy/lax_numpy.py?line=6666'>6667</a>\u001b[0m   \u001b[39mreturn\u001b[39;00m \u001b[39mNotImplemented\u001b[39m\n\u001b[0;32m-> <a href='file:///opt/anaconda/envs/uf3/lib/python3.9/site-packages/jax/_src/numpy/lax_numpy.py?line=6667'>6668</a>\u001b[0m \u001b[39mreturn\u001b[39;00m binary_op(\u001b[39mself\u001b[39;49m, other)\n",
      "    \u001b[0;31m[... skipping hidden 19 frame]\u001b[0m\n",
      "File \u001b[0;32m/opt/anaconda/envs/uf3/lib/python3.9/site-packages/jax/_src/dispatch.py:436\u001b[0m, in \u001b[0;36m_execute_compiled\u001b[0;34m(name, compiled, output_buffer_counts, result_handlers, kept_var_idx, *args)\u001b[0m\n\u001b[1;32m    <a href='file:///opt/anaconda/envs/uf3/lib/python3.9/site-packages/jax/_src/dispatch.py?line=432'>433</a>\u001b[0m device, \u001b[39m=\u001b[39m compiled\u001b[39m.\u001b[39mlocal_devices()\n\u001b[1;32m    <a href='file:///opt/anaconda/envs/uf3/lib/python3.9/site-packages/jax/_src/dispatch.py?line=433'>434</a>\u001b[0m input_bufs \u001b[39m=\u001b[39m util\u001b[39m.\u001b[39mflatten(\n\u001b[1;32m    <a href='file:///opt/anaconda/envs/uf3/lib/python3.9/site-packages/jax/_src/dispatch.py?line=434'>435</a>\u001b[0m     device_put(x, device) \u001b[39mfor\u001b[39;00m i, x \u001b[39min\u001b[39;00m \u001b[39menumerate\u001b[39m(args) \u001b[39mif\u001b[39;00m i \u001b[39min\u001b[39;00m kept_var_idx)\n\u001b[0;32m--> <a href='file:///opt/anaconda/envs/uf3/lib/python3.9/site-packages/jax/_src/dispatch.py?line=435'>436</a>\u001b[0m out_bufs \u001b[39m=\u001b[39m compiled\u001b[39m.\u001b[39;49mexecute(input_bufs)\n\u001b[1;32m    <a href='file:///opt/anaconda/envs/uf3/lib/python3.9/site-packages/jax/_src/dispatch.py?line=436'>437</a>\u001b[0m check_special(name, out_bufs)\n\u001b[1;32m    <a href='file:///opt/anaconda/envs/uf3/lib/python3.9/site-packages/jax/_src/dispatch.py?line=437'>438</a>\u001b[0m \u001b[39mif\u001b[39;00m output_buffer_counts \u001b[39mis\u001b[39;00m \u001b[39mNone\u001b[39;00m:\n",
      "\u001b[0;31mRuntimeError\u001b[0m: RESOURCE_EXHAUSTED: Out of memory while trying to allocate 3000000000 bytes.\nBufferAssignment OOM Debugging.\nBufferAssignment stats:\n             parameter allocation:   11.44MiB\n              constant allocation:         0B\n        maybe_live_out allocation:    2.79GiB\n     preallocated temp allocation:         0B\n                 total allocation:    2.80GiB\n              total fragmentation:         0B (0.00%)\nPeak buffers:\n\tBuffer 1:\n\t\tSize: 2.79GiB\n\t\tOperator: op_type=\"sub\" op_name=\"jit(vmap(vmap(vmap(<lambda>))))/sub\" source_file=\"/home/robert/repositories/github.com/Robert-Schmid/uf3/uf3/jax/potentials.py\" source_line=188\n\t\tXLA Label: fusion\n\t\tShape: f64[500,500,500,3]\n\t\t==========================\n\n\tBuffer 2:\n\t\tSize: 5.72MiB\n\t\tEntry Parameter Subshape: f64[500,500,3]\n\t\t==========================\n\n\tBuffer 3:\n\t\tSize: 5.72MiB\n\t\tEntry Parameter Subshape: f64[500,500,3]\n\t\t==========================\n\n"
     ]
    }
   ],
   "source": [
    "dR = space.map_product(displacement)(R,R)\n",
    "# print(dR[0])\n",
    "\n",
    "test = vmap(vmap(vmap(uf3, (0,None)),(None, 0)))\n",
    "\n",
    "jnp.sum(test(dR,dR))"
   ]
  },
  {
   "cell_type": "code",
   "execution_count": 25,
   "metadata": {},
   "outputs": [
    {
     "data": {
      "text/plain": [
       "DeviceArray(0.56005353, dtype=float64)"
      ]
     },
     "execution_count": 25,
     "metadata": {},
     "output_type": "execute_result"
    }
   ],
   "source": [
    "jnp.sum(test(dR / 2.0,dR / 2.0))"
   ]
  },
  {
   "cell_type": "code",
   "execution_count": 21,
   "metadata": {},
   "outputs": [],
   "source": [
    "d = displacement\n",
    "dR = space.map_product(d)(R, R)"
   ]
  },
  {
   "cell_type": "code",
   "execution_count": 22,
   "metadata": {},
   "outputs": [
    {
     "data": {
      "text/plain": [
       "(500, 500)"
      ]
     },
     "execution_count": 22,
     "metadata": {},
     "output_type": "execute_result"
    }
   ],
   "source": [
    "space.distance(dR).shape"
   ]
  },
  {
   "cell_type": "code",
   "execution_count": 49,
   "metadata": {},
   "outputs": [],
   "source": [
    "def uf3_mapped(dR12, dR13, coefficients=None, knots=None):\n",
    "    fn = partial(uf3_interaction,coefficients=coefficients, knots=knots)\n",
    "    return vmap(vmap(fn, (0, None)), (None, 0))(dR12, dR13)\n",
    "\n",
    "uf3_co = lambda c: uf3_mapped(dR,dR,coefficients=c, knots=knots3)\n",
    "\n",
    "gamma = 1.2\n",
    "sigma = 2.0951\n",
    "cutoff = 3.77118\n",
    "three_body_fn = partial(energy._sw_angle_interaction, gamma, sigma, cutoff)\n",
    "three_body_fn = vmap(vmap(vmap(three_body_fn, (0, None)), (None, 0)))\n",
    "sw = three_body_fn(dR,dR)"
   ]
  },
  {
   "cell_type": "code",
   "execution_count": 54,
   "metadata": {},
   "outputs": [
    {
     "data": {
      "text/plain": [
       "3375000"
      ]
     },
     "execution_count": 54,
     "metadata": {},
     "output_type": "execute_result"
    }
   ],
   "source": [
    "sw.size"
   ]
  },
  {
   "cell_type": "code",
   "execution_count": 36,
   "metadata": {},
   "outputs": [
    {
     "data": {
      "text/plain": [
       "DeviceArray([1.26810841e+02, 1.93819270e+02, 2.64316239e+02,\n",
       "             4.83067776e+02, 4.36063027e+02, 8.01238060e+01,\n",
       "             3.82680522e-01, 1.19977661e-11, 0.00000000e+00,\n",
       "             0.00000000e+00, 0.00000000e+00, 0.00000000e+00,\n",
       "             0.00000000e+00], dtype=float64)"
      ]
     },
     "execution_count": 36,
     "metadata": {},
     "output_type": "execute_result"
    }
   ],
   "source": [
    "grad(uf3_co)(coefficients3)[0,0]"
   ]
  },
  {
   "cell_type": "code",
   "execution_count": 55,
   "metadata": {},
   "outputs": [],
   "source": [
    "def loss(coefficients):\n",
    "    return util.high_precision_sum( (sw - uf3_co(coefficients)) ** 2 / sw.size )"
   ]
  },
  {
   "cell_type": "code",
   "execution_count": 56,
   "metadata": {},
   "outputs": [
    {
     "data": {
      "text/plain": [
       "DeviceArray(175.31473834, dtype=float64)"
      ]
     },
     "execution_count": 56,
     "metadata": {},
     "output_type": "execute_result"
    }
   ],
   "source": [
    "loss(coefficients3)"
   ]
  },
  {
   "cell_type": "code",
   "execution_count": 57,
   "metadata": {},
   "outputs": [
    {
     "name": "stdout",
     "output_type": "stream",
     "text": [
      "9.892412537145563e-05\n",
      "9.832708505606649e-05\n",
      "9.775766192719095e-05\n",
      "9.721456118953537e-05\n",
      "9.6696549322158e-05\n",
      "9.620245115752307e-05\n",
      "9.573114710061123e-05\n",
      "9.528157048133955e-05\n",
      "9.485270503387057e-05\n",
      "9.444358249669808e-05\n",
      "9.40532803276967e-05\n",
      "9.36809195285988e-05\n",
      "9.332566257363451e-05\n",
      "9.298671143732015e-05\n",
      "9.266330571662754e-05\n",
      "9.235472084299307e-05\n",
      "9.20602663798464e-05\n",
      "9.177928440154806e-05\n",
      "9.151114794982185e-05\n",
      "9.12552595639577e-05\n",
      "9.101104988124162e-05\n",
      "9.077797630423791e-05\n",
      "9.055552173171381e-05\n",
      "9.034319335015064e-05\n",
      "9.014052148293257e-05\n",
      "8.994705849444548e-05\n",
      "8.976237774645017e-05\n",
      "8.958607260422366e-05\n",
      "8.941775549008053e-05\n",
      "8.925705698200245e-05\n",
      "8.910362495521444e-05\n",
      "8.895712376464855e-05\n",
      "8.881723346633624e-05\n",
      "8.868364907586522e-05\n",
      "8.855607986212411e-05\n",
      "8.843424867464746e-05\n",
      "8.83178913029506e-05\n",
      "8.820675586632537e-05\n",
      "8.810060223263794e-05\n",
      "8.79992014647419e-05\n",
      "8.790233529318677e-05\n",
      "8.780979561396403e-05\n",
      "8.772138401009377e-05\n",
      "8.76369112959146e-05\n",
      "8.755619708298955e-05\n",
      "8.747906936659845e-05\n",
      "8.740536413183191e-05\n",
      "8.733492497835281e-05\n",
      "8.726760276293276e-05\n",
      "8.720325525891811e-05\n",
      "8.714174683181565e-05\n",
      "8.708294813023104e-05\n",
      "8.702673579142794e-05\n",
      "8.697299216081066e-05\n",
      "8.692160502466763e-05\n",
      "8.687246735554422e-05\n",
      "8.682547706964323e-05\n",
      "8.678053679568115e-05\n",
      "8.673755365465463e-05\n",
      "8.669643904999871e-05\n",
      "8.665710846764275e-05\n",
      "8.661948128549305e-05\n",
      "8.658348059189421e-05\n",
      "8.654903301264378e-05\n",
      "8.651606854615303e-05\n",
      "8.648452040636677e-05\n",
      "8.64543248730754e-05\n",
      "8.642542114926721e-05\n",
      "8.63977512251877e-05\n",
      "8.637125974878753e-05\n",
      "8.634589390225673e-05\n",
      "8.632160328435646e-05\n",
      "8.629833979827402e-05\n",
      "8.627605754473943e-05\n",
      "8.62547127201544e-05\n",
      "8.6234263519497e-05\n",
      "8.621467004377579e-05\n",
      "8.619589421181852e-05\n",
      "8.617789967619011e-05\n",
      "8.616065174304545e-05\n",
      "8.614411729573105e-05\n",
      "8.612826472195773e-05\n",
      "8.611306384437732e-05\n",
      "8.609848585440123e-05\n",
      "8.608450324910933e-05\n",
      "8.607108977110274e-05\n",
      "8.605822035116113e-05\n",
      "8.604587105357486e-05\n",
      "8.603401902402278e-05\n",
      "8.60226424398788e-05\n",
      "8.60117204628306e-05\n",
      "8.600123319370364e-05\n",
      "8.599116162938559e-05\n",
      "8.598148762175298e-05\n",
      "8.597219383850605e-05\n",
      "8.596326372582146e-05\n",
      "8.595468147273933e-05\n",
      "8.594643197720105e-05\n",
      "8.593850081366173e-05\n",
      "8.593087420220388e-05\n"
     ]
    }
   ],
   "source": [
    "c = jnp.zeros_like(coefficients3)\n",
    "loss_fn = jit(grad(loss))\n",
    "lossJ = jit(loss)\n",
    "\n",
    "for i in range(100):\n",
    "    dc = loss_fn(c)\n",
    "    c -= dc\n",
    "\n",
    "    # if i % 10 == 0:\n",
    "    print(lossJ(c))"
   ]
  },
  {
   "cell_type": "code",
   "execution_count": 58,
   "metadata": {},
   "outputs": [
    {
     "data": {
      "text/plain": [
       "DeviceArray(0.00015426, dtype=float64)"
      ]
     },
     "execution_count": 58,
     "metadata": {},
     "output_type": "execute_result"
    }
   ],
   "source": [
    "c[0,0,0]"
   ]
  },
  {
   "cell_type": "code",
   "execution_count": null,
   "metadata": {},
   "outputs": [],
   "source": []
  }
 ],
 "metadata": {
  "interpreter": {
   "hash": "ca6e4c1237d2523077850c33bb85c07df22e41d5dc1f9dffe27e02189376af2b"
  },
  "kernelspec": {
   "display_name": "Python 3.9.7 ('uf3')",
   "language": "python",
   "name": "python3"
  },
  "language_info": {
   "codemirror_mode": {
    "name": "ipython",
    "version": 3
   },
   "file_extension": ".py",
   "mimetype": "text/x-python",
   "name": "python",
   "nbconvert_exporter": "python",
   "pygments_lexer": "ipython3",
   "version": "3.9.7"
  },
  "orig_nbformat": 4
 },
 "nbformat": 4,
 "nbformat_minor": 2
}
