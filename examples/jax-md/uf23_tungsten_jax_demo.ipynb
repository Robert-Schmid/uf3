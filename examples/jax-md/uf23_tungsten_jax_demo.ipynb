{
 "cells": [
  {
   "cell_type": "code",
   "execution_count": 1,
   "metadata": {
    "ExecuteTime": {
     "end_time": "2021-09-27T14:59:21.445819Z",
     "start_time": "2021-09-27T14:59:21.434186Z"
    },
    "pycharm": {
     "name": "#%%\n"
    }
   },
   "outputs": [],
   "source": [
    "import os\n",
    "from concurrent.futures import ProcessPoolExecutor"
   ]
  },
  {
   "cell_type": "code",
   "execution_count": 2,
   "metadata": {
    "ExecuteTime": {
     "end_time": "2021-09-27T14:59:21.820112Z",
     "start_time": "2021-09-27T14:59:21.447766Z"
    },
    "pycharm": {
     "name": "#%%\n"
    }
   },
   "outputs": [],
   "source": [
    "import numpy as np\n",
    "import matplotlib.pyplot as plt"
   ]
  },
  {
   "cell_type": "code",
   "execution_count": 3,
   "metadata": {
    "ExecuteTime": {
     "end_time": "2021-09-27T14:59:23.154227Z",
     "start_time": "2021-09-27T14:59:21.821572Z"
    },
    "pycharm": {
     "name": "#%%\n"
    }
   },
   "outputs": [
    {
     "name": "stderr",
     "output_type": "stream",
     "text": [
      "<frozen importlib._bootstrap>:228: RuntimeWarning: scipy._lib.messagestream.MessageStream size changed, may indicate binary incompatibility. Expected 56 from C header, got 64 from PyObject\n"
     ]
    }
   ],
   "source": [
    "from uf3.data import io\n",
    "from uf3.data import geometry\n",
    "from uf3.data import composition\n",
    "from uf3.representation import bspline\n",
    "from uf3.representation import process\n",
    "from uf3.regression import least_squares\n",
    "from uf3.forcefield import calculator\n",
    "from uf3.forcefield import lammps\n",
    "from uf3.util import parallel\n",
    "from uf3.util import plotting"
   ]
  },
  {
   "cell_type": "markdown",
   "metadata": {},
   "source": [
    "# $\\text{UF}_{2,3}$ Demo: Elemental tungsten"
   ]
  },
  {
   "cell_type": "markdown",
   "metadata": {},
   "source": [
    "**Data split**\n",
    "- Training set: 1939 configurations (stratified 20% of the dataset)\n",
    "\n",
    "- Holdout: 7754 configurations (remaining 80%)"
   ]
  },
  {
   "cell_type": "markdown",
   "metadata": {},
   "source": [
    "**Inputs**\n",
    "- ```w-14.xyz``` (30 mb)\n",
    "- ```training_idx.txt``` (10 kb, included for reproducibility purposes)"
   ]
  },
  {
   "cell_type": "markdown",
   "metadata": {},
   "source": [
    "**Outputs**\n",
    "- ```df_features_uf23.h5``` (650 mb)\n",
    "- ```model_uf23.json``` (3 kb)"
   ]
  },
  {
   "cell_type": "code",
   "execution_count": 4,
   "metadata": {
    "ExecuteTime": {
     "end_time": "2021-09-27T14:59:23.168020Z",
     "start_time": "2021-09-27T14:59:23.156491Z"
    }
   },
   "outputs": [
    {
     "data": {
      "text/html": [
       "<style>\n",
       "  table {margin-left: 0 !important;}\n",
       "</style>\n"
      ],
      "text/plain": [
       "<IPython.core.display.HTML object>"
      ]
     },
     "metadata": {},
     "output_type": "display_data"
    }
   ],
   "source": [
    "%%html\n",
    "<style>\n",
    "  table {margin-left: 0 !important;}\n",
    "</style>"
   ]
  },
  {
   "cell_type": "markdown",
   "metadata": {
    "ExecuteTime": {
     "end_time": "2021-09-27T14:23:57.821312Z",
     "start_time": "2021-09-27T14:23:57.818248Z"
    }
   },
   "source": [
    " Step         | Estimated Time \n",
    ":-------------|:--------------\n",
    "Preprocessing | 10 seconds\n",
    "Featurization | 2.5 core-hours (parallelizable)\n",
    "Training      | 4 seconds\n",
    "Prediction    | 3 seconds\n",
    "Plotting      | 10 seconds"
   ]
  },
  {
   "cell_type": "markdown",
   "metadata": {
    "pycharm": {
     "name": "#%% md\n"
    }
   },
   "source": [
    "# User Parameters\n",
    "\n",
    "```element_list (list)```: list of element symbols\n",
    "\n",
    "```degree (int)```: truncation of many-body expansion. A value of 3 yields a two-and-three-body potential."
   ]
  },
  {
   "cell_type": "code",
   "execution_count": 5,
   "metadata": {
    "ExecuteTime": {
     "end_time": "2021-09-27T14:59:23.173322Z",
     "start_time": "2021-09-27T14:59:23.170210Z"
    },
    "pycharm": {
     "name": "#%%\n"
    }
   },
   "outputs": [],
   "source": [
    "element_list = ['W']\n",
    "degree = 3"
   ]
  },
  {
   "cell_type": "markdown",
   "metadata": {},
   "source": [
    "Initialize the ```ChemicalSystem``` and inspect interactions.\n",
    "\n",
    "Elements involved in each interactions are sorted by electronegativity."
   ]
  },
  {
   "cell_type": "code",
   "execution_count": 6,
   "metadata": {
    "ExecuteTime": {
     "end_time": "2021-09-27T14:59:23.180454Z",
     "start_time": "2021-09-27T14:59:23.175122Z"
    }
   },
   "outputs": [
    {
     "name": "stdout",
     "output_type": "stream",
     "text": [
      "Pairs: [('W', 'W')]\n"
     ]
    }
   ],
   "source": [
    "chemical_system = composition.ChemicalSystem(element_list=element_list,\n",
    "                                             degree=degree)\n",
    "print(\"Pairs:\", chemical_system.interactions_map[2])"
   ]
  },
  {
   "cell_type": "code",
   "execution_count": 7,
   "metadata": {
    "ExecuteTime": {
     "end_time": "2021-09-27T14:59:23.187068Z",
     "start_time": "2021-09-27T14:59:23.182377Z"
    }
   },
   "outputs": [
    {
     "name": "stdout",
     "output_type": "stream",
     "text": [
      "Trios: [('W', 'W', 'W')]\n"
     ]
    }
   ],
   "source": [
    "print(\"Trios:\", chemical_system.interactions_map[3])"
   ]
  },
  {
   "cell_type": "markdown",
   "metadata": {},
   "source": [
    "```r_min_map (dict)```: map of minimum pair distance per interaction (angstroms). \n",
    "    If unspecified, defaults to 1.0 for all interactions.\n",
    "    \n",
    "```r_max_map (dict)```: map of maximum pair distance per interaction (angstroms). \n",
    "    If unspecified, defaults to 6.0 angstroms for all interactions, which probably encompasses at least 2nd-nearest neighbors.\n",
    "    \n",
    "```resolution_map (dict)```: map of resolution (number of knot intervals) per interaction. \n",
    "    For the cubic basis, the number of basis functions equals three more than the number of knot intervals.\n",
    "    This is, in turn, negated by ```trailing_trim```.\n",
    "    If unspecified, defaults to 20 for all two-body interactions and 5 for three-body interactions.\n",
    "    \n",
    "```trailing_trim (int)```: number of trailing basis functions to trim, defaults to 3.\n",
    " - ```= 0```: hard cutoff at ```r_max```\n",
    " - ```= 1```: function goes to zero at ```r_max```\n",
    " - ```= 2```: first derivative goes to zero at ```r_max```\n",
    " - ```= 3```: second derivative goes to zero at ```r_max```"
   ]
  },
  {
   "cell_type": "markdown",
   "metadata": {},
   "source": [
    "**Note: the demo's resolution and cutoffs (3.5-3.5-7.0Å, 5-5-10) are small to reduce runtime and filesize.**\n",
    "\n",
    "**Results in the manuscript use (4.25-4.25-8.5Å, 10-10-20), requiring about 4 core-hours and 6 gb.**"
   ]
  },
  {
   "cell_type": "code",
   "execution_count": 8,
   "metadata": {
    "ExecuteTime": {
     "end_time": "2021-09-27T14:59:23.195726Z",
     "start_time": "2021-09-27T14:59:23.189091Z"
    },
    "pycharm": {
     "name": "#%%\n"
    }
   },
   "outputs": [],
   "source": [
    "r_min_map = {(\"W\", \"W\"): 1.5,\n",
    "             (\"W\", \"W\", \"W\"): [1.5, 1.5, 1.5],\n",
    "            }\n",
    "r_max_map = {(\"W\", \"W\"): 5.5,\n",
    "             (\"W\", \"W\", \"W\"): [3.5, 3.5, 7.0],\n",
    "            }\n",
    "resolution_map = {(\"W\", \"W\"): 25,\n",
    "                  (\"W\", \"W\", \"W\"): [5, 5, 10],\n",
    "                 }\n",
    "trailing_trim = 3"
   ]
  },
  {
   "cell_type": "markdown",
   "metadata": {},
   "source": [
    "# Initialize basis"
   ]
  },
  {
   "cell_type": "code",
   "execution_count": 12,
   "metadata": {
    "ExecuteTime": {
     "end_time": "2021-09-27T14:59:23.221609Z",
     "start_time": "2021-09-27T14:59:23.213603Z"
    }
   },
   "outputs": [],
   "source": [
    "bspline_config = bspline.BSplineBasis(chemical_system,\n",
    "                                      r_min_map=r_min_map,\n",
    "                                      r_max_map=r_max_map,\n",
    "                                      resolution_map=resolution_map,\n",
    "                                      trailing_trim=trailing_trim)"
   ]
  },
  {
   "cell_type": "markdown",
   "metadata": {},
   "source": [
    "```bspline_config.get_interaction_partitions()``` yields the number of coefficients for each n-body interaction (one-body terms, two-body terms, three-body terms, ...) as well as the starting index in the coefficient vector for each interaction."
   ]
  },
  {
   "cell_type": "code",
   "execution_count": 13,
   "metadata": {
    "ExecuteTime": {
     "end_time": "2021-09-27T14:59:23.227089Z",
     "start_time": "2021-09-27T14:59:23.223287Z"
    }
   },
   "outputs": [
    {
     "data": {
      "text/plain": [
       "{'W': 1, ('W', 'W'): 28, ('W', 'W', 'W'): 144}"
      ]
     },
     "execution_count": 13,
     "metadata": {},
     "output_type": "execute_result"
    }
   ],
   "source": [
    "bspline_config.get_interaction_partitions()[0]"
   ]
  },
  {
   "cell_type": "code",
   "execution_count": 14,
   "metadata": {
    "ExecuteTime": {
     "end_time": "2021-09-27T14:59:23.231982Z",
     "start_time": "2021-09-27T14:59:23.228290Z"
    }
   },
   "outputs": [
    {
     "data": {
      "text/plain": [
       "{'W': 0, ('W', 'W'): 1, ('W', 'W', 'W'): 29}"
      ]
     },
     "execution_count": 14,
     "metadata": {},
     "output_type": "execute_result"
    }
   ],
   "source": [
    "bspline_config.get_interaction_partitions()[1]"
   ]
  },
  {
   "cell_type": "markdown",
   "metadata": {},
   "source": [
    "# Import potential\n",
    "\n",
    "Start from here if you want to skip the long training part."
   ]
  },
  {
   "cell_type": "code",
   "execution_count": 17,
   "metadata": {},
   "outputs": [],
   "source": [
    "model = least_squares.WeightedLinearModel(bspline_config)\n",
    "\n",
    "model.load(filename=\"../tungsten_extxyz/model_uf23.json\")\n",
    "\n",
    "calc = calculator.UFCalculator(model)"
   ]
  },
  {
   "cell_type": "code",
   "execution_count": 1,
   "metadata": {
    "ExecuteTime": {
     "end_time": "2021-09-27T14:59:55.470729Z",
     "start_time": "2021-09-27T14:59:54.819820Z"
    },
    "pycharm": {
     "name": "#%%\n"
    }
   },
   "outputs": [],
   "source": [
    "# geom = df_data.iloc[3000]['geometry'].copy()  # 12-atom cell Create my own cell"
   ]
  },
  {
   "cell_type": "markdown",
   "metadata": {},
   "source": [
    "# Build a JAX MD potential"
   ]
  },
  {
   "cell_type": "code",
   "execution_count": 33,
   "metadata": {},
   "outputs": [],
   "source": [
    "import jax.numpy as jnp\n",
    "from jax import jit, grad, vmap, value_and_grad\n",
    "\n",
    "from jax.config import config\n",
    "config.update(\"jax_enable_x64\", True)\n",
    "\n",
    "from jax_md import space, smap, energy, minimize, quantity, simulate, partition, util\n",
    "\n",
    "from uf3.util import jax_utils\n",
    "from uf3.jax.potentials import uf3_pair, uf3_neighbor"
   ]
  },
  {
   "cell_type": "code",
   "execution_count": 20,
   "metadata": {},
   "outputs": [],
   "source": [
    "ndspline2 = calc.pair_potentials[('W','W')]\n",
    "ndspline3 = calc.trio_potentials[('W','W','W')]"
   ]
  },
  {
   "cell_type": "code",
   "execution_count": 21,
   "metadata": {},
   "outputs": [
    {
     "name": "stderr",
     "output_type": "stream",
     "text": [
      "WARNING:absl:No GPU/TPU found, falling back to CPU. (Set TF_CPP_MIN_LOG_LEVEL=0 and rerun for more info.)\n"
     ]
    },
    {
     "name": "stdout",
     "output_type": "stream",
     "text": [
      "(28,)\n",
      "[1.5  1.5  1.5  1.5  1.66 1.82 1.98 2.14 2.3  2.46 2.62 2.78 2.94 3.1\n",
      " 3.26 3.42 3.58 3.74 3.9  4.06 4.22 4.38 4.54 4.7  4.86 5.02 5.18 5.34\n",
      " 5.5  5.5  5.5  5.5 ]\n"
     ]
    }
   ],
   "source": [
    "coefficients2 = jnp.asarray(ndspline2.coefficients)\n",
    "coefficients2 = coefficients2[:,0]\n",
    "\n",
    "knots2 = ndspline2.knots\n",
    "knots2 = knots2[0]\n",
    "\n",
    "print(coefficients2.shape)\n",
    "\n",
    "print(knots2)"
   ]
  },
  {
   "cell_type": "code",
   "execution_count": 22,
   "metadata": {},
   "outputs": [
    {
     "name": "stdout",
     "output_type": "stream",
     "text": [
      "(8, 8, 13)\n",
      "[DeviceArray([1.5, 1.5, 1.5, 1.5, 1.9, 2.3, 2.7, 3.1, 3.5, 3.5, 3.5, 3.5],            dtype=float64), DeviceArray([1.5, 1.5, 1.5, 1.5, 1.9, 2.3, 2.7, 3.1, 3.5, 3.5, 3.5, 3.5],            dtype=float64), DeviceArray([1.5 , 1.5 , 1.5 , 1.5 , 2.05, 2.6 , 3.15, 3.7 , 4.25, 4.8 ,\n",
      "             5.35, 5.9 , 6.45, 7.  , 7.  , 7.  , 7.  ], dtype=float64)]\n"
     ]
    }
   ],
   "source": [
    "coefficients3 = jnp.asarray(ndspline3.coefficients)\n",
    "coefficients3 = coefficients3[:,:,:,0]\n",
    "\n",
    "knots3 = ndspline3.knots\n",
    "knots3 = [jnp.asarray(i) for i in knots3]\n",
    "\n",
    "print(coefficients3.shape)\n",
    "\n",
    "print(knots3)"
   ]
  },
  {
   "cell_type": "markdown",
   "metadata": {},
   "source": [
    "JAX MD requires the cell to be at least twice as long as the longest potential cutoff in each dimension (at least currently).\n",
    "We thus build an artificially larger cell. The resulting energy of the system is scaled by the same factor as the number of atoms in the system, but the stress and forces remain the same."
   ]
  },
  {
   "cell_type": "code",
   "execution_count": 23,
   "metadata": {},
   "outputs": [],
   "source": [
    "longest_range = max(knots2[-1], knots3[0][-1])\n",
    "new_geom = jax_utils.scale_atoms(geom, longest_range)"
   ]
  },
  {
   "cell_type": "code",
   "execution_count": 25,
   "metadata": {},
   "outputs": [
    {
     "name": "stdout",
     "output_type": "stream",
     "text": [
      "Energy: -1511.356168483806\n",
      "Stresses (numerical): [-0.27284373 -0.21269526 -0.19587426  0.00673861 -0.03251023 -0.06668803]\n",
      "Forces:\n",
      " [[ 0.9247198   7.1954469  -0.51517995]\n",
      " [-3.09391715  0.34519563  0.45007935]\n",
      " [ 3.60074214  1.16019415  0.47379295]\n",
      " [ 4.3535802  -4.65271381  0.62942499]\n",
      " [-1.80424397 -2.67622904 -1.71355421]\n",
      " [-1.70798109  3.64077167  1.33918404]\n",
      " [-2.27916515 -3.19984066  1.08843362]\n",
      " [ 2.23753848  1.25635827 -1.37486839]\n",
      " [ 1.95888195 -0.86112301 -0.01602678]\n",
      " [-1.66730536 -6.8770263   0.13213979]\n",
      " [-4.3160293   3.18834981 -0.11026939]\n",
      " [ 1.79317945  1.48061639 -0.38315601]\n",
      " [ 0.9247198   7.1954469  -0.51517995]]\n",
      "Max force: 7.1954469006795785\n"
     ]
    }
   ],
   "source": [
    "new_geom.set_calculator(calc)\n",
    "print(\"Energy:\", new_geom.get_potential_energy())\n",
    "print(\"Stresses (numerical):\", new_geom.get_stress())\n",
    "forces = new_geom.get_forces()\n",
    "print(\"Forces:\\n\", forces[:13])\n",
    "print(\"Max force:\", np.max(np.abs(forces)))"
   ]
  },
  {
   "cell_type": "code",
   "execution_count": 30,
   "metadata": {},
   "outputs": [],
   "source": [
    "box = jnp.asarray(new_geom.cell)\n",
    "displacement, shift = space.periodic_general(box, fractional_coordinates=False)\n",
    "\n",
    "R = jnp.asarray(new_geom.positions)\n",
    "\n",
    "nf, ef = uf3_neighbor(displacement, box, cutoff=5.5, knots2=knots2, knots3=knots3)"
   ]
  },
  {
   "cell_type": "code",
   "execution_count": 31,
   "metadata": {},
   "outputs": [],
   "source": [
    "nbrs = nf.allocate(R)"
   ]
  },
  {
   "cell_type": "code",
   "execution_count": 32,
   "metadata": {},
   "outputs": [
    {
     "name": "stdout",
     "output_type": "stream",
     "text": [
      "-55.683579202529835\n"
     ]
    },
    {
     "data": {
      "text/plain": [
       "DeviceArray(-237.23930415, dtype=float64)"
      ]
     },
     "execution_count": 32,
     "metadata": {},
     "output_type": "execute_result"
    }
   ],
   "source": [
    "ef(R, neighbor=nbrs, coefficients2=coefficients2, coefficients3=coefficients3)"
   ]
  },
  {
   "cell_type": "code",
   "execution_count": null,
   "metadata": {},
   "outputs": [],
   "source": []
  }
 ],
 "metadata": {
  "kernelspec": {
   "display_name": "Python 3.9.7 ('uf3')",
   "language": "python",
   "name": "python3"
  },
  "language_info": {
   "codemirror_mode": {
    "name": "ipython",
    "version": 3
   },
   "file_extension": ".py",
   "mimetype": "text/x-python",
   "name": "python",
   "nbconvert_exporter": "python",
   "pygments_lexer": "ipython3",
   "version": "3.9.7"
  },
  "toc": {
   "base_numbering": 1,
   "nav_menu": {},
   "number_sections": true,
   "sideBar": true,
   "skip_h1_title": false,
   "title_cell": "Table of Contents",
   "title_sidebar": "Contents",
   "toc_cell": false,
   "toc_position": {},
   "toc_section_display": true,
   "toc_window_display": false
  },
  "vscode": {
   "interpreter": {
    "hash": "ca6e4c1237d2523077850c33bb85c07df22e41d5dc1f9dffe27e02189376af2b"
   }
  }
 },
 "nbformat": 4,
 "nbformat_minor": 1
}
